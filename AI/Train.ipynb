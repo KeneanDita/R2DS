{
 "cells": [
  {
   "cell_type": "code",
   "execution_count": 6,
   "id": "3ad7322e-c322-4db4-9c50-d7c2641f0a59",
   "metadata": {},
   "outputs": [],
   "source": [
    "import pandas as pd\n",
    "import matplotlib.pyplot as plt\n",
    "import seaborn as sns"
   ]
  },
  {
   "cell_type": "code",
   "execution_count": 12,
   "id": "0bdf8821-d26c-4979-9423-6c2154c803f6",
   "metadata": {},
   "outputs": [
    {
     "name": "stdout",
     "output_type": "stream",
     "text": [
      "Data shape:  (282451, 9)\n"
     ]
    }
   ],
   "source": [
    "data = pd.read_csv('train.csv')\n",
    "print('Data shape: ', data.shape)"
   ]
  },
  {
   "cell_type": "code",
   "execution_count": 13,
   "id": "145ca261-66c8-4b45-9108-6b35a09fc241",
   "metadata": {},
   "outputs": [
    {
     "data": {
      "application/vnd.dataresource+json": {
       "data": [
        {
         "CPI": 282451,
         "Dept": 282451,
         "Fuel_Price": 282451,
         "Size": 282451,
         "Store": 282451,
         "Temperature": 282451,
         "Unemployment": 282451,
         "Weekly_Sales": 282451,
         "index": "count"
        },
        {
         "CPI": 171.2078023695,
         "Dept": 44.2861381266,
         "Fuel_Price": 3.360299744,
         "Size": 136730.0732197797,
         "Store": 22.1931662483,
         "Temperature": 60.1136399234,
         "Unemployment": 7.9680980205,
         "Weekly_Sales": 15983.4296920528,
         "index": "mean"
        },
        {
         "CPI": 39.1608081857,
         "Dept": 30.5036409794,
         "Fuel_Price": 0.4586023387,
         "Size": 61002.3193625977,
         "Store": 12.7821377028,
         "Temperature": 18.4464852808,
         "Unemployment": 1.8680695216,
         "Weekly_Sales": 22661.092493599,
         "index": "std"
        },
        {
         "CPI": 126.064,
         "Dept": 1,
         "Fuel_Price": 2.472,
         "Size": 34875,
         "Store": 1,
         "Temperature": -2.06,
         "Unemployment": 3.879,
         "Weekly_Sales": -4988.94,
         "index": "min"
        },
        {
         "CPI": 132.0226667,
         "Dept": 18,
         "Fuel_Price": 2.932,
         "Size": 93638,
         "Store": 11,
         "Temperature": 46.78,
         "Unemployment": 6.891,
         "Weekly_Sales": 2079.33,
         "index": "25%"
        },
        {
         "CPI": 182.3509895,
         "Dept": 38,
         "Fuel_Price": 3.452,
         "Size": 140167,
         "Store": 22,
         "Temperature": 62.15,
         "Unemployment": 7.866,
         "Weekly_Sales": 7616.55,
         "index": "50%"
        },
        {
         "CPI": 212.464799,
         "Dept": 74,
         "Fuel_Price": 3.737,
         "Size": 202505,
         "Store": 33,
         "Temperature": 74.29,
         "Unemployment": 8.572,
         "Weekly_Sales": 20245.745,
         "index": "75%"
        },
        {
         "CPI": 227.2328068,
         "Dept": 99,
         "Fuel_Price": 4.468,
         "Size": 219622,
         "Store": 45,
         "Temperature": 100.14,
         "Unemployment": 14.313,
         "Weekly_Sales": 693099.36,
         "index": "max"
        }
       ],
       "schema": {
        "fields": [
         {
          "name": "index",
          "type": "string"
         },
         {
          "name": "Store",
          "type": "number"
         },
         {
          "name": "Dept",
          "type": "number"
         },
         {
          "name": "Weekly_Sales",
          "type": "number"
         },
         {
          "name": "Temperature",
          "type": "number"
         },
         {
          "name": "Fuel_Price",
          "type": "number"
         },
         {
          "name": "CPI",
          "type": "number"
         },
         {
          "name": "Unemployment",
          "type": "number"
         },
         {
          "name": "Size",
          "type": "number"
         }
        ],
        "pandas_version": "1.4.0",
        "primaryKey": [
         "index"
        ]
       }
      },
      "text/html": [
       "<div>\n",
       "<style scoped>\n",
       "    .dataframe tbody tr th:only-of-type {\n",
       "        vertical-align: middle;\n",
       "    }\n",
       "\n",
       "    .dataframe tbody tr th {\n",
       "        vertical-align: top;\n",
       "    }\n",
       "\n",
       "    .dataframe thead th {\n",
       "        text-align: right;\n",
       "    }\n",
       "</style>\n",
       "<table border=\"1\" class=\"dataframe\">\n",
       "  <thead>\n",
       "    <tr style=\"text-align: right;\">\n",
       "      <th></th>\n",
       "      <th>Store</th>\n",
       "      <th>Dept</th>\n",
       "      <th>Weekly_Sales</th>\n",
       "      <th>Temperature</th>\n",
       "      <th>Fuel_Price</th>\n",
       "      <th>CPI</th>\n",
       "      <th>Unemployment</th>\n",
       "      <th>Size</th>\n",
       "    </tr>\n",
       "  </thead>\n",
       "  <tbody>\n",
       "    <tr>\n",
       "      <th>count</th>\n",
       "      <td>282451.000000</td>\n",
       "      <td>282451.000000</td>\n",
       "      <td>282451.000000</td>\n",
       "      <td>282451.000000</td>\n",
       "      <td>282451.000000</td>\n",
       "      <td>282451.000000</td>\n",
       "      <td>282451.000000</td>\n",
       "      <td>282451.000000</td>\n",
       "    </tr>\n",
       "    <tr>\n",
       "      <th>mean</th>\n",
       "      <td>22.193166</td>\n",
       "      <td>44.286138</td>\n",
       "      <td>15983.429692</td>\n",
       "      <td>60.113640</td>\n",
       "      <td>3.360300</td>\n",
       "      <td>171.207802</td>\n",
       "      <td>7.968098</td>\n",
       "      <td>136730.073220</td>\n",
       "    </tr>\n",
       "    <tr>\n",
       "      <th>std</th>\n",
       "      <td>12.782138</td>\n",
       "      <td>30.503641</td>\n",
       "      <td>22661.092494</td>\n",
       "      <td>18.446485</td>\n",
       "      <td>0.458602</td>\n",
       "      <td>39.160808</td>\n",
       "      <td>1.868070</td>\n",
       "      <td>61002.319363</td>\n",
       "    </tr>\n",
       "    <tr>\n",
       "      <th>min</th>\n",
       "      <td>1.000000</td>\n",
       "      <td>1.000000</td>\n",
       "      <td>-4988.940000</td>\n",
       "      <td>-2.060000</td>\n",
       "      <td>2.472000</td>\n",
       "      <td>126.064000</td>\n",
       "      <td>3.879000</td>\n",
       "      <td>34875.000000</td>\n",
       "    </tr>\n",
       "    <tr>\n",
       "      <th>25%</th>\n",
       "      <td>11.000000</td>\n",
       "      <td>18.000000</td>\n",
       "      <td>2079.330000</td>\n",
       "      <td>46.780000</td>\n",
       "      <td>2.932000</td>\n",
       "      <td>132.022667</td>\n",
       "      <td>6.891000</td>\n",
       "      <td>93638.000000</td>\n",
       "    </tr>\n",
       "    <tr>\n",
       "      <th>50%</th>\n",
       "      <td>22.000000</td>\n",
       "      <td>38.000000</td>\n",
       "      <td>7616.550000</td>\n",
       "      <td>62.150000</td>\n",
       "      <td>3.452000</td>\n",
       "      <td>182.350989</td>\n",
       "      <td>7.866000</td>\n",
       "      <td>140167.000000</td>\n",
       "    </tr>\n",
       "    <tr>\n",
       "      <th>75%</th>\n",
       "      <td>33.000000</td>\n",
       "      <td>74.000000</td>\n",
       "      <td>20245.745000</td>\n",
       "      <td>74.290000</td>\n",
       "      <td>3.737000</td>\n",
       "      <td>212.464799</td>\n",
       "      <td>8.572000</td>\n",
       "      <td>202505.000000</td>\n",
       "    </tr>\n",
       "    <tr>\n",
       "      <th>max</th>\n",
       "      <td>45.000000</td>\n",
       "      <td>99.000000</td>\n",
       "      <td>693099.360000</td>\n",
       "      <td>100.140000</td>\n",
       "      <td>4.468000</td>\n",
       "      <td>227.232807</td>\n",
       "      <td>14.313000</td>\n",
       "      <td>219622.000000</td>\n",
       "    </tr>\n",
       "  </tbody>\n",
       "</table>\n",
       "</div>"
      ],
      "text/plain": [
       "               Store           Dept   Weekly_Sales    Temperature  \\\n",
       "count  282451.000000  282451.000000  282451.000000  282451.000000   \n",
       "mean       22.193166      44.286138   15983.429692      60.113640   \n",
       "std        12.782138      30.503641   22661.092494      18.446485   \n",
       "min         1.000000       1.000000   -4988.940000      -2.060000   \n",
       "25%        11.000000      18.000000    2079.330000      46.780000   \n",
       "50%        22.000000      38.000000    7616.550000      62.150000   \n",
       "75%        33.000000      74.000000   20245.745000      74.290000   \n",
       "max        45.000000      99.000000  693099.360000     100.140000   \n",
       "\n",
       "          Fuel_Price            CPI   Unemployment           Size  \n",
       "count  282451.000000  282451.000000  282451.000000  282451.000000  \n",
       "mean        3.360300     171.207802       7.968098  136730.073220  \n",
       "std         0.458602      39.160808       1.868070   61002.319363  \n",
       "min         2.472000     126.064000       3.879000   34875.000000  \n",
       "25%         2.932000     132.022667       6.891000   93638.000000  \n",
       "50%         3.452000     182.350989       7.866000  140167.000000  \n",
       "75%         3.737000     212.464799       8.572000  202505.000000  \n",
       "max         4.468000     227.232807      14.313000  219622.000000  "
      ]
     },
     "execution_count": 13,
     "metadata": {},
     "output_type": "execute_result"
    }
   ],
   "source": [
    "data.describe()"
   ]
  },
  {
   "cell_type": "code",
   "execution_count": 14,
   "id": "cf8ba356-e0dc-4fed-9e5b-62c5ab15a1f3",
   "metadata": {},
   "outputs": [
    {
     "data": {
      "application/vnd.dataresource+json": {
       "data": [
        {
         "index": "Store",
         "values": 0
        },
        {
         "index": "Dept",
         "values": 0
        },
        {
         "index": "Weekly_Sales",
         "values": 0
        },
        {
         "index": "IsHoliday",
         "values": 0
        },
        {
         "index": "Temperature",
         "values": 0
        },
        {
         "index": "Fuel_Price",
         "values": 0
        },
        {
         "index": "CPI",
         "values": 0
        },
        {
         "index": "Unemployment",
         "values": 0
        },
        {
         "index": "Size",
         "values": 0
        }
       ],
       "schema": {
        "fields": [
         {
          "name": "index",
          "type": "string"
         },
         {
          "name": "values",
          "type": "integer"
         }
        ],
        "pandas_version": "1.4.0",
        "primaryKey": [
         "index"
        ]
       }
      },
      "text/plain": [
       "Store           0\n",
       "Dept            0\n",
       "Weekly_Sales    0\n",
       "IsHoliday       0\n",
       "Temperature     0\n",
       "Fuel_Price      0\n",
       "CPI             0\n",
       "Unemployment    0\n",
       "Size            0\n",
       "dtype: int64"
      ]
     },
     "execution_count": 14,
     "metadata": {},
     "output_type": "execute_result"
    }
   ],
   "source": [
    "data.isnull().sum()"
   ]
  },
  {
   "cell_type": "code",
   "execution_count": null,
   "id": "be460d64-e3b5-47a1-993b-0833b3b39cbf",
   "metadata": {},
   "outputs": [],
   "source": []
  }
 ],
 "metadata": {
  "kernelspec": {
   "display_name": "Python 3 (ipykernel)",
   "language": "python",
   "name": "python3"
  },
  "language_info": {
   "codemirror_mode": {
    "name": "ipython",
    "version": 3
   },
   "file_extension": ".py",
   "mimetype": "text/x-python",
   "name": "python",
   "nbconvert_exporter": "python",
   "pygments_lexer": "ipython3",
   "version": "3.12.7"
  }
 },
 "nbformat": 4,
 "nbformat_minor": 5
}
