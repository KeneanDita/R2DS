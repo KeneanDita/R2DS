{
 "cells": [
  {
   "cell_type": "code",
   "execution_count": 1,
   "id": "b63c1728-854c-400d-b4ca-94fc3950b56d",
   "metadata": {},
   "outputs": [
    {
     "data": {
      "application/vnd.dataresource+json": {
       "data": [
        {
         "Availability": "Full-time",
         "Certifications": "TESOL",
         "Courses_Taught": 48,
         "Education_Level": "Masters",
         "Is_Research_Active": false,
         "Language": "French",
         "Primary_Subject": "Biology",
         "Secondary_Subject": "Biology",
         "Student_Rating": 4.42,
         "Teacher_ID": "T001",
         "Teaching_Style": "Hybrid",
         "Years_of_Experience": 22,
         "index": 0
        },
        {
         "Availability": "Full-time",
         "Certifications": "PGCE",
         "Courses_Taught": 17,
         "Education_Level": "Masters",
         "Is_Research_Active": true,
         "Language": "French",
         "Primary_Subject": "Mathematics",
         "Secondary_Subject": "History",
         "Student_Rating": 4.39,
         "Teacher_ID": "T002",
         "Teaching_Style": "Hybrid",
         "Years_of_Experience": 15,
         "index": 1
        },
        {
         "Availability": "Visiting",
         "Certifications": "PGCE",
         "Courses_Taught": 36,
         "Education_Level": "PhD",
         "Is_Research_Active": false,
         "Language": "German",
         "Primary_Subject": "Geography",
         "Secondary_Subject": "English",
         "Student_Rating": 4.65,
         "Teacher_ID": "T003",
         "Teaching_Style": "Lecture-based",
         "Years_of_Experience": 1,
         "index": 2
        },
        {
         "Availability": "Part-time",
         "Certifications": "PGCE",
         "Courses_Taught": 37,
         "Education_Level": "Bachelors",
         "Is_Research_Active": true,
         "Language": "English",
         "Primary_Subject": "Computer Science",
         "Secondary_Subject": "Computer Science",
         "Student_Rating": 3.37,
         "Teacher_ID": "T004",
         "Teaching_Style": "Interactive",
         "Years_of_Experience": 3,
         "index": 3
        },
        {
         "Availability": "Part-time",
         "Certifications": "M.Ed",
         "Courses_Taught": 49,
         "Education_Level": "PhD",
         "Is_Research_Active": true,
         "Language": "English",
         "Primary_Subject": "Philosophy",
         "Secondary_Subject": "History",
         "Student_Rating": 4.44,
         "Teacher_ID": "T005",
         "Teaching_Style": "Project-based",
         "Years_of_Experience": 2,
         "index": 4
        }
       ],
       "schema": {
        "fields": [
         {
          "name": "index",
          "type": "integer"
         },
         {
          "name": "Teacher_ID",
          "type": "string"
         },
         {
          "name": "Primary_Subject",
          "type": "string"
         },
         {
          "name": "Secondary_Subject",
          "type": "string"
         },
         {
          "name": "Education_Level",
          "type": "string"
         },
         {
          "name": "Years_of_Experience",
          "type": "integer"
         },
         {
          "name": "Teaching_Style",
          "type": "string"
         },
         {
          "name": "Certifications",
          "type": "string"
         },
         {
          "name": "Availability",
          "type": "string"
         },
         {
          "name": "Language",
          "type": "string"
         },
         {
          "name": "Student_Rating",
          "type": "number"
         },
         {
          "name": "Courses_Taught",
          "type": "integer"
         },
         {
          "name": "Is_Research_Active",
          "type": "boolean"
         }
        ],
        "pandas_version": "1.4.0",
        "primaryKey": [
         "index"
        ]
       }
      },
      "text/html": [
       "<div>\n",
       "<style scoped>\n",
       "    .dataframe tbody tr th:only-of-type {\n",
       "        vertical-align: middle;\n",
       "    }\n",
       "\n",
       "    .dataframe tbody tr th {\n",
       "        vertical-align: top;\n",
       "    }\n",
       "\n",
       "    .dataframe thead th {\n",
       "        text-align: right;\n",
       "    }\n",
       "</style>\n",
       "<table border=\"1\" class=\"dataframe\">\n",
       "  <thead>\n",
       "    <tr style=\"text-align: right;\">\n",
       "      <th></th>\n",
       "      <th>Teacher_ID</th>\n",
       "      <th>Primary_Subject</th>\n",
       "      <th>Secondary_Subject</th>\n",
       "      <th>Education_Level</th>\n",
       "      <th>Years_of_Experience</th>\n",
       "      <th>Teaching_Style</th>\n",
       "      <th>Certifications</th>\n",
       "      <th>Availability</th>\n",
       "      <th>Language</th>\n",
       "      <th>Student_Rating</th>\n",
       "      <th>Courses_Taught</th>\n",
       "      <th>Is_Research_Active</th>\n",
       "    </tr>\n",
       "  </thead>\n",
       "  <tbody>\n",
       "    <tr>\n",
       "      <th>0</th>\n",
       "      <td>T001</td>\n",
       "      <td>Biology</td>\n",
       "      <td>Biology</td>\n",
       "      <td>Masters</td>\n",
       "      <td>22</td>\n",
       "      <td>Hybrid</td>\n",
       "      <td>TESOL</td>\n",
       "      <td>Full-time</td>\n",
       "      <td>French</td>\n",
       "      <td>4.42</td>\n",
       "      <td>48</td>\n",
       "      <td>False</td>\n",
       "    </tr>\n",
       "    <tr>\n",
       "      <th>1</th>\n",
       "      <td>T002</td>\n",
       "      <td>Mathematics</td>\n",
       "      <td>History</td>\n",
       "      <td>Masters</td>\n",
       "      <td>15</td>\n",
       "      <td>Hybrid</td>\n",
       "      <td>PGCE</td>\n",
       "      <td>Full-time</td>\n",
       "      <td>French</td>\n",
       "      <td>4.39</td>\n",
       "      <td>17</td>\n",
       "      <td>True</td>\n",
       "    </tr>\n",
       "    <tr>\n",
       "      <th>2</th>\n",
       "      <td>T003</td>\n",
       "      <td>Geography</td>\n",
       "      <td>English</td>\n",
       "      <td>PhD</td>\n",
       "      <td>1</td>\n",
       "      <td>Lecture-based</td>\n",
       "      <td>PGCE</td>\n",
       "      <td>Visiting</td>\n",
       "      <td>German</td>\n",
       "      <td>4.65</td>\n",
       "      <td>36</td>\n",
       "      <td>False</td>\n",
       "    </tr>\n",
       "    <tr>\n",
       "      <th>3</th>\n",
       "      <td>T004</td>\n",
       "      <td>Computer Science</td>\n",
       "      <td>Computer Science</td>\n",
       "      <td>Bachelors</td>\n",
       "      <td>3</td>\n",
       "      <td>Interactive</td>\n",
       "      <td>PGCE</td>\n",
       "      <td>Part-time</td>\n",
       "      <td>English</td>\n",
       "      <td>3.37</td>\n",
       "      <td>37</td>\n",
       "      <td>True</td>\n",
       "    </tr>\n",
       "    <tr>\n",
       "      <th>4</th>\n",
       "      <td>T005</td>\n",
       "      <td>Philosophy</td>\n",
       "      <td>History</td>\n",
       "      <td>PhD</td>\n",
       "      <td>2</td>\n",
       "      <td>Project-based</td>\n",
       "      <td>M.Ed</td>\n",
       "      <td>Part-time</td>\n",
       "      <td>English</td>\n",
       "      <td>4.44</td>\n",
       "      <td>49</td>\n",
       "      <td>True</td>\n",
       "    </tr>\n",
       "  </tbody>\n",
       "</table>\n",
       "</div>"
      ],
      "text/plain": [
       "  Teacher_ID   Primary_Subject Secondary_Subject Education_Level  \\\n",
       "0       T001           Biology           Biology         Masters   \n",
       "1       T002       Mathematics           History         Masters   \n",
       "2       T003         Geography           English             PhD   \n",
       "3       T004  Computer Science  Computer Science       Bachelors   \n",
       "4       T005        Philosophy           History             PhD   \n",
       "\n",
       "   Years_of_Experience Teaching_Style Certifications Availability Language  \\\n",
       "0                   22         Hybrid          TESOL    Full-time   French   \n",
       "1                   15         Hybrid           PGCE    Full-time   French   \n",
       "2                    1  Lecture-based           PGCE     Visiting   German   \n",
       "3                    3    Interactive           PGCE    Part-time  English   \n",
       "4                    2  Project-based           M.Ed    Part-time  English   \n",
       "\n",
       "   Student_Rating  Courses_Taught  Is_Research_Active  \n",
       "0            4.42              48               False  \n",
       "1            4.39              17                True  \n",
       "2            4.65              36               False  \n",
       "3            3.37              37                True  \n",
       "4            4.44              49                True  "
      ]
     },
     "execution_count": 1,
     "metadata": {},
     "output_type": "execute_result"
    }
   ],
   "source": [
    "import pandas as pd\n",
    "\n",
    "data = pd.read_csv('teachers_recommendation_dataset.csv')\n",
    "data.head()"
   ]
  },
  {
   "cell_type": "code",
   "execution_count": 2,
   "id": "ee7ff841-bd44-4f60-bccb-e5ab7fdc7913",
   "metadata": {},
   "outputs": [
    {
     "data": {
      "text/plain": [
       "(300, 12)"
      ]
     },
     "execution_count": 2,
     "metadata": {},
     "output_type": "execute_result"
    }
   ],
   "source": [
    "data.shape"
   ]
  },
  {
   "cell_type": "code",
   "execution_count": 3,
   "id": "10e762ab-0136-48cb-8d51-698a7ce08f81",
   "metadata": {},
   "outputs": [
    {
     "data": {
      "application/vnd.dataresource+json": {
       "data": [
        {
         "Courses_Taught": 300,
         "Student_Rating": 300,
         "Years_of_Experience": 300,
         "index": "count"
        },
        {
         "Courses_Taught": 28.1966666667,
         "Student_Rating": 4.0188666667,
         "Years_of_Experience": 16.2966666667,
         "index": "mean"
        },
        {
         "Courses_Taught": 13.2401786238,
         "Student_Rating": 0.6069580236,
         "Years_of_Experience": 8.6369736173,
         "index": "std"
        },
        {
         "Courses_Taught": 5,
         "Student_Rating": 3,
         "Years_of_Experience": 1,
         "index": "min"
        },
        {
         "Courses_Taught": 16,
         "Student_Rating": 3.49,
         "Years_of_Experience": 9.75,
         "index": "25%"
        },
        {
         "Courses_Taught": 29,
         "Student_Rating": 3.99,
         "Years_of_Experience": 16,
         "index": "50%"
        },
        {
         "Courses_Taught": 40,
         "Student_Rating": 4.56,
         "Years_of_Experience": 24,
         "index": "75%"
        },
        {
         "Courses_Taught": 50,
         "Student_Rating": 4.99,
         "Years_of_Experience": 30,
         "index": "max"
        }
       ],
       "schema": {
        "fields": [
         {
          "name": "index",
          "type": "string"
         },
         {
          "name": "Years_of_Experience",
          "type": "number"
         },
         {
          "name": "Student_Rating",
          "type": "number"
         },
         {
          "name": "Courses_Taught",
          "type": "number"
         }
        ],
        "pandas_version": "1.4.0",
        "primaryKey": [
         "index"
        ]
       }
      },
      "text/html": [
       "<div>\n",
       "<style scoped>\n",
       "    .dataframe tbody tr th:only-of-type {\n",
       "        vertical-align: middle;\n",
       "    }\n",
       "\n",
       "    .dataframe tbody tr th {\n",
       "        vertical-align: top;\n",
       "    }\n",
       "\n",
       "    .dataframe thead th {\n",
       "        text-align: right;\n",
       "    }\n",
       "</style>\n",
       "<table border=\"1\" class=\"dataframe\">\n",
       "  <thead>\n",
       "    <tr style=\"text-align: right;\">\n",
       "      <th></th>\n",
       "      <th>Years_of_Experience</th>\n",
       "      <th>Student_Rating</th>\n",
       "      <th>Courses_Taught</th>\n",
       "    </tr>\n",
       "  </thead>\n",
       "  <tbody>\n",
       "    <tr>\n",
       "      <th>count</th>\n",
       "      <td>300.000000</td>\n",
       "      <td>300.000000</td>\n",
       "      <td>300.000000</td>\n",
       "    </tr>\n",
       "    <tr>\n",
       "      <th>mean</th>\n",
       "      <td>16.296667</td>\n",
       "      <td>4.018867</td>\n",
       "      <td>28.196667</td>\n",
       "    </tr>\n",
       "    <tr>\n",
       "      <th>std</th>\n",
       "      <td>8.636974</td>\n",
       "      <td>0.606958</td>\n",
       "      <td>13.240179</td>\n",
       "    </tr>\n",
       "    <tr>\n",
       "      <th>min</th>\n",
       "      <td>1.000000</td>\n",
       "      <td>3.000000</td>\n",
       "      <td>5.000000</td>\n",
       "    </tr>\n",
       "    <tr>\n",
       "      <th>25%</th>\n",
       "      <td>9.750000</td>\n",
       "      <td>3.490000</td>\n",
       "      <td>16.000000</td>\n",
       "    </tr>\n",
       "    <tr>\n",
       "      <th>50%</th>\n",
       "      <td>16.000000</td>\n",
       "      <td>3.990000</td>\n",
       "      <td>29.000000</td>\n",
       "    </tr>\n",
       "    <tr>\n",
       "      <th>75%</th>\n",
       "      <td>24.000000</td>\n",
       "      <td>4.560000</td>\n",
       "      <td>40.000000</td>\n",
       "    </tr>\n",
       "    <tr>\n",
       "      <th>max</th>\n",
       "      <td>30.000000</td>\n",
       "      <td>4.990000</td>\n",
       "      <td>50.000000</td>\n",
       "    </tr>\n",
       "  </tbody>\n",
       "</table>\n",
       "</div>"
      ],
      "text/plain": [
       "       Years_of_Experience  Student_Rating  Courses_Taught\n",
       "count           300.000000      300.000000      300.000000\n",
       "mean             16.296667        4.018867       28.196667\n",
       "std               8.636974        0.606958       13.240179\n",
       "min               1.000000        3.000000        5.000000\n",
       "25%               9.750000        3.490000       16.000000\n",
       "50%              16.000000        3.990000       29.000000\n",
       "75%              24.000000        4.560000       40.000000\n",
       "max              30.000000        4.990000       50.000000"
      ]
     },
     "execution_count": 3,
     "metadata": {},
     "output_type": "execute_result"
    }
   ],
   "source": [
    "data.describe()"
   ]
  },
  {
   "cell_type": "code",
   "execution_count": 4,
   "id": "ce24588f-1f1c-47aa-bb1b-9687dfffc49b",
   "metadata": {},
   "outputs": [
    {
     "data": {
      "application/vnd.dataresource+json": {
       "data": [
        {
         "index": "Teacher_ID",
         "values": 0
        },
        {
         "index": "Primary_Subject",
         "values": 0
        },
        {
         "index": "Secondary_Subject",
         "values": 0
        },
        {
         "index": "Education_Level",
         "values": 0
        },
        {
         "index": "Years_of_Experience",
         "values": 0
        },
        {
         "index": "Teaching_Style",
         "values": 0
        },
        {
         "index": "Certifications",
         "values": 58
        },
        {
         "index": "Availability",
         "values": 0
        },
        {
         "index": "Language",
         "values": 0
        },
        {
         "index": "Student_Rating",
         "values": 0
        },
        {
         "index": "Courses_Taught",
         "values": 0
        },
        {
         "index": "Is_Research_Active",
         "values": 0
        }
       ],
       "schema": {
        "fields": [
         {
          "name": "index",
          "type": "string"
         },
         {
          "name": "values",
          "type": "integer"
         }
        ],
        "pandas_version": "1.4.0",
        "primaryKey": [
         "index"
        ]
       }
      },
      "text/plain": [
       "Teacher_ID              0\n",
       "Primary_Subject         0\n",
       "Secondary_Subject       0\n",
       "Education_Level         0\n",
       "Years_of_Experience     0\n",
       "Teaching_Style          0\n",
       "Certifications         58\n",
       "Availability            0\n",
       "Language                0\n",
       "Student_Rating          0\n",
       "Courses_Taught          0\n",
       "Is_Research_Active      0\n",
       "dtype: int64"
      ]
     },
     "execution_count": 4,
     "metadata": {},
     "output_type": "execute_result"
    }
   ],
   "source": [
    "data.isnull().sum()"
   ]
  },
  {
   "cell_type": "code",
   "execution_count": 5,
   "id": "21fea45b-6028-4d69-b0d2-49ec97aa92a6",
   "metadata": {},
   "outputs": [],
   "source": [
    "data.fillna('Unknown', inplace=True)"
   ]
  },
  {
   "cell_type": "code",
   "execution_count": 6,
   "id": "cdddd588-75e4-4217-9aca-a752c17d0264",
   "metadata": {},
   "outputs": [],
   "source": [
    "from sklearn.preprocessing import OneHotEncoder\n",
    "\n",
    "categorical_cols = ['Primary_Subject', 'Secondary_Subject', 'Education_Level', \n",
    "                    'Teaching_Style', 'Certifications', 'Availability', 'Language']\n",
    "\n",
    "data_encoded = pd.get_dummies(data, columns=categorical_cols)\n",
    "\n",
    "data_encoded['Is_Research_Active'] = data_encoded['Is_Research_Active'].astype(int)"
   ]
  },
  {
   "cell_type": "code",
   "execution_count": 7,
   "id": "b218a92f-2278-40c6-8b3c-8c3d800443c1",
   "metadata": {},
   "outputs": [],
   "source": [
    "from sklearn.preprocessing import MinMaxScaler\n",
    "\n",
    "scaler = MinMaxScaler()\n",
    "num_cols = ['Years_of_Experience', 'Student_Rating', 'Courses_Taught']\n",
    "\n",
    "data_encoded[num_cols] = scaler.fit_transform(data_encoded[num_cols])"
   ]
  },
  {
   "cell_type": "code",
   "execution_count": 13,
   "id": "77a156f4-2da7-4fb2-a151-47d47d006380",
   "metadata": {},
   "outputs": [
    {
     "name": "stderr",
     "output_type": "stream",
     "text": [
      "C:\\Users\\Ken\\anaconda3\\Lib\\site-packages\\sklearn\\base.py:493: UserWarning: X does not have valid feature names, but MinMaxScaler was fitted with feature names\n",
      "  warnings.warn(\n",
      "C:\\Users\\Ken\\anaconda3\\Lib\\site-packages\\sklearn\\base.py:493: UserWarning: X does not have valid feature names, but MinMaxScaler was fitted with feature names\n",
      "  warnings.warn(\n",
      "C:\\Users\\Ken\\anaconda3\\Lib\\site-packages\\sklearn\\base.py:493: UserWarning: X does not have valid feature names, but MinMaxScaler was fitted with feature names\n",
      "  warnings.warn(\n"
     ]
    }
   ],
   "source": [
    "import pandas as pd\n",
    "\n",
    "# Create a DataFrame with correct column names\n",
    "course_numeric_input = pd.DataFrame([{\n",
    "    'Years_of_Experience': 10,\n",
    "    'Student_Rating': 4.5,\n",
    "    'Courses_Taught': 20\n",
    "}])\n",
    "\n",
    "# Now transform using scaler (this will avoid the warning)\n",
    "scaled_values = scaler.transform(course_numeric_input)\n",
    "\n",
    "# Use the correct indices\n",
    "course_profile = {\n",
    "    'Primary_Subject_Physics': 1,\n",
    "    'Secondary_Subject_Mathematics': 1,\n",
    "    'Education_Level_PhD': 1,\n",
    "    'Teaching_Style_Lecture-based': 1,\n",
    "    'Certifications_PGCE': 1,\n",
    "    'Availability_Full-time': 1,\n",
    "    'Language_English': 1,\n",
    "    'Years_of_Experience': scaled_values[0][0],\n",
    "    'Student_Rating': scaled_values[0][1],\n",
    "    'Courses_Taught': scaled_values[0][2],\n",
    "    'Is_Research_Active': 1\n",
    "}\n"
   ]
  },
  {
   "cell_type": "code",
   "execution_count": 10,
   "id": "f1350c0e-86bb-4c6a-9974-3a24f243cdbb",
   "metadata": {},
   "outputs": [
    {
     "ename": "NameError",
     "evalue": "name 'query_vector' is not defined",
     "output_type": "error",
     "traceback": [
      "\u001b[1;31m---------------------------------------------------------------------------\u001b[0m",
      "\u001b[1;31mNameError\u001b[0m                                 Traceback (most recent call last)",
      "Cell \u001b[1;32mIn[10], line 5\u001b[0m\n\u001b[0;32m      3\u001b[0m \u001b[38;5;66;03m# Exclude teacher ID column\u001b[39;00m\n\u001b[0;32m      4\u001b[0m teacher_vectors \u001b[38;5;241m=\u001b[39m data_encoded\u001b[38;5;241m.\u001b[39mdrop(columns\u001b[38;5;241m=\u001b[39m[\u001b[38;5;124m'\u001b[39m\u001b[38;5;124mTeacher_ID\u001b[39m\u001b[38;5;124m'\u001b[39m])\u001b[38;5;241m.\u001b[39mvalues\n\u001b[1;32m----> 5\u001b[0m similarities \u001b[38;5;241m=\u001b[39m cosine_similarity([query_vector], teacher_vectors)\n\u001b[0;32m      7\u001b[0m \u001b[38;5;66;03m# Get top N matches\u001b[39;00m\n\u001b[0;32m      8\u001b[0m top_n \u001b[38;5;241m=\u001b[39m \u001b[38;5;241m5\u001b[39m\n",
      "\u001b[1;31mNameError\u001b[0m: name 'query_vector' is not defined"
     ]
    }
   ],
   "source": [
    "from sklearn.metrics.pairwise import cosine_similarity\n",
    "\n",
    "# Exclude teacher ID column\n",
    "teacher_vectors = data_encoded.drop(columns=['Teacher_ID']).values\n",
    "similarities = cosine_similarity([query_vector], teacher_vectors)\n",
    "\n",
    "# Get top N matches\n",
    "top_n = 5\n",
    "top_indices = similarities[0].argsort()[-top_n:][::-1]\n",
    "\n",
    "# Show recommended teachers\n",
    "recommended_teachers = data.iloc[top_indices][['Teacher_ID', 'Primary_Subject', 'Years_of_Experience', 'Student_Rating']]\n",
    "print(recommended_teachers)\n"
   ]
  },
  {
   "cell_type": "code",
   "execution_count": null,
   "id": "0f6a5b66-c388-44da-af56-5ac619f3487d",
   "metadata": {},
   "outputs": [],
   "source": []
  }
 ],
 "metadata": {
  "kernelspec": {
   "display_name": "Python 3 (ipykernel)",
   "language": "python",
   "name": "python3"
  },
  "language_info": {
   "codemirror_mode": {
    "name": "ipython",
    "version": 3
   },
   "file_extension": ".py",
   "mimetype": "text/x-python",
   "name": "python",
   "nbconvert_exporter": "python",
   "pygments_lexer": "ipython3",
   "version": "3.12.7"
  }
 },
 "nbformat": 4,
 "nbformat_minor": 5
}
