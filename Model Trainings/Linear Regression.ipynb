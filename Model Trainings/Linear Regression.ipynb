{
 "cells": [
  {
   "cell_type": "markdown",
   "id": "77807d97-8f8c-4a88-ac28-707b0ccccfeb",
   "metadata": {},
   "source": [
    "# Model Training"
   ]
  },
  {
   "cell_type": "markdown",
   "id": "020ed0eb-0acd-4428-ae86-febe13753695",
   "metadata": {},
   "source": [
    "# Loading Data"
   ]
  },
  {
   "cell_type": "code",
   "execution_count": 3,
   "id": "6586a71a-c6e0-48cb-b7b0-3a1506e56e82",
   "metadata": {},
   "outputs": [
    {
     "data": {
      "text/plain": [
       "(1144, 5)"
      ]
     },
     "execution_count": 3,
     "metadata": {},
     "output_type": "execute_result"
    }
   ],
   "source": [
    "import pandas as pd\n",
    "\n",
    "df = pd.read_csv('Data/delaney_solubility_with_descriptors.csv')\n",
    "df.shape"
   ]
  },
  {
   "cell_type": "code",
   "execution_count": 5,
   "id": "21fc07af-fadb-447c-a1c5-efacf69f310b",
   "metadata": {},
   "outputs": [
    {
     "data": {
      "application/vnd.dataresource+json": {
       "data": [
        {
         "AromaticProportion": 1144,
         "MolLogP": 1144,
         "MolWt": 1144,
         "NumRotatableBonds": 1144,
         "index": "count",
         "logS": 1144
        },
        {
         "AromaticProportion": 0.3649318953,
         "MolLogP": 2.4491331818,
         "MolWt": 204.6316748252,
         "NumRotatableBonds": 2.173951049,
         "index": "mean",
         "logS": -3.0579973776
        },
        {
         "AromaticProportion": 0.3433051759,
         "MolLogP": 1.8660028248,
         "MolWt": 102.6204995657,
         "NumRotatableBonds": 2.6273984987,
         "index": "std",
         "logS": 2.0965019291
        },
        {
         "AromaticProportion": 0,
         "MolLogP": -7.5714,
         "MolWt": 16.043,
         "NumRotatableBonds": 0,
         "index": "min",
         "logS": -11.6
        },
        {
         "AromaticProportion": 0,
         "MolLogP": 1.4149,
         "MolWt": 122.126,
         "NumRotatableBonds": 0,
         "index": "25%",
         "logS": -4.33225
        },
        {
         "AromaticProportion": 0.375,
         "MolLogP": 2.3403,
         "MolWt": 183.5945,
         "NumRotatableBonds": 1,
         "index": "50%",
         "logS": -2.8705
        },
        {
         "AromaticProportion": 0.6666666667,
         "MolLogP": 3.406475,
         "MolWt": 270.71575,
         "NumRotatableBonds": 3,
         "index": "75%",
         "logS": -1.6
        },
        {
         "AromaticProportion": 1,
         "MolLogP": 10.3886,
         "MolWt": 780.949,
         "NumRotatableBonds": 23,
         "index": "max",
         "logS": 1.58
        }
       ],
       "schema": {
        "fields": [
         {
          "name": "index",
          "type": "string"
         },
         {
          "name": "MolLogP",
          "type": "number"
         },
         {
          "name": "MolWt",
          "type": "number"
         },
         {
          "name": "NumRotatableBonds",
          "type": "number"
         },
         {
          "name": "AromaticProportion",
          "type": "number"
         },
         {
          "name": "logS",
          "type": "number"
         }
        ],
        "pandas_version": "1.4.0",
        "primaryKey": [
         "index"
        ]
       }
      },
      "text/html": [
       "<div>\n",
       "<style scoped>\n",
       "    .dataframe tbody tr th:only-of-type {\n",
       "        vertical-align: middle;\n",
       "    }\n",
       "\n",
       "    .dataframe tbody tr th {\n",
       "        vertical-align: top;\n",
       "    }\n",
       "\n",
       "    .dataframe thead th {\n",
       "        text-align: right;\n",
       "    }\n",
       "</style>\n",
       "<table border=\"1\" class=\"dataframe\">\n",
       "  <thead>\n",
       "    <tr style=\"text-align: right;\">\n",
       "      <th></th>\n",
       "      <th>MolLogP</th>\n",
       "      <th>MolWt</th>\n",
       "      <th>NumRotatableBonds</th>\n",
       "      <th>AromaticProportion</th>\n",
       "      <th>logS</th>\n",
       "    </tr>\n",
       "  </thead>\n",
       "  <tbody>\n",
       "    <tr>\n",
       "      <th>count</th>\n",
       "      <td>1144.000000</td>\n",
       "      <td>1144.000000</td>\n",
       "      <td>1144.000000</td>\n",
       "      <td>1144.000000</td>\n",
       "      <td>1144.000000</td>\n",
       "    </tr>\n",
       "    <tr>\n",
       "      <th>mean</th>\n",
       "      <td>2.449133</td>\n",
       "      <td>204.631675</td>\n",
       "      <td>2.173951</td>\n",
       "      <td>0.364932</td>\n",
       "      <td>-3.057997</td>\n",
       "    </tr>\n",
       "    <tr>\n",
       "      <th>std</th>\n",
       "      <td>1.866003</td>\n",
       "      <td>102.620500</td>\n",
       "      <td>2.627398</td>\n",
       "      <td>0.343305</td>\n",
       "      <td>2.096502</td>\n",
       "    </tr>\n",
       "    <tr>\n",
       "      <th>min</th>\n",
       "      <td>-7.571400</td>\n",
       "      <td>16.043000</td>\n",
       "      <td>0.000000</td>\n",
       "      <td>0.000000</td>\n",
       "      <td>-11.600000</td>\n",
       "    </tr>\n",
       "    <tr>\n",
       "      <th>25%</th>\n",
       "      <td>1.414900</td>\n",
       "      <td>122.126000</td>\n",
       "      <td>0.000000</td>\n",
       "      <td>0.000000</td>\n",
       "      <td>-4.332250</td>\n",
       "    </tr>\n",
       "    <tr>\n",
       "      <th>50%</th>\n",
       "      <td>2.340300</td>\n",
       "      <td>183.594500</td>\n",
       "      <td>1.000000</td>\n",
       "      <td>0.375000</td>\n",
       "      <td>-2.870500</td>\n",
       "    </tr>\n",
       "    <tr>\n",
       "      <th>75%</th>\n",
       "      <td>3.406475</td>\n",
       "      <td>270.715750</td>\n",
       "      <td>3.000000</td>\n",
       "      <td>0.666667</td>\n",
       "      <td>-1.600000</td>\n",
       "    </tr>\n",
       "    <tr>\n",
       "      <th>max</th>\n",
       "      <td>10.388600</td>\n",
       "      <td>780.949000</td>\n",
       "      <td>23.000000</td>\n",
       "      <td>1.000000</td>\n",
       "      <td>1.580000</td>\n",
       "    </tr>\n",
       "  </tbody>\n",
       "</table>\n",
       "</div>"
      ],
      "text/plain": [
       "           MolLogP        MolWt  NumRotatableBonds  AromaticProportion  \\\n",
       "count  1144.000000  1144.000000        1144.000000         1144.000000   \n",
       "mean      2.449133   204.631675           2.173951            0.364932   \n",
       "std       1.866003   102.620500           2.627398            0.343305   \n",
       "min      -7.571400    16.043000           0.000000            0.000000   \n",
       "25%       1.414900   122.126000           0.000000            0.000000   \n",
       "50%       2.340300   183.594500           1.000000            0.375000   \n",
       "75%       3.406475   270.715750           3.000000            0.666667   \n",
       "max      10.388600   780.949000          23.000000            1.000000   \n",
       "\n",
       "              logS  \n",
       "count  1144.000000  \n",
       "mean     -3.057997  \n",
       "std       2.096502  \n",
       "min     -11.600000  \n",
       "25%      -4.332250  \n",
       "50%      -2.870500  \n",
       "75%      -1.600000  \n",
       "max       1.580000  "
      ]
     },
     "execution_count": 5,
     "metadata": {},
     "output_type": "execute_result"
    }
   ],
   "source": [
    "df.describe()"
   ]
  },
  {
   "cell_type": "markdown",
   "id": "a08adc61-35b1-4b76-b42c-95ddb5ed37e8",
   "metadata": {},
   "source": [
    "# Data Preparation"
   ]
  },
  {
   "cell_type": "markdown",
   "id": "b0c2bfc2-29c9-4865-bac7-e032ba8f32d5",
   "metadata": {},
   "source": [
    "## Data Separation"
   ]
  },
  {
   "cell_type": "code",
   "execution_count": 6,
   "id": "5f198704-f775-4f5e-b9ad-1932e7345a0a",
   "metadata": {},
   "outputs": [
    {
     "data": {
      "application/vnd.dataresource+json": {
       "data": [
        {
         "index": 0,
         "logS": -2.18
        },
        {
         "index": 1,
         "logS": -2
        },
        {
         "index": 2,
         "logS": -1.74
        },
        {
         "index": 3,
         "logS": -1.48
        },
        {
         "index": 4,
         "logS": -3.04
        },
        {
         "index": 5,
         "logS": -1.29
        },
        {
         "index": 6,
         "logS": -1.64
        },
        {
         "index": 7,
         "logS": -0.43
        },
        {
         "index": 8,
         "logS": -4.57
        },
        {
         "index": 9,
         "logS": -4.37
        },
        {
         "index": 10,
         "logS": -4.63
        },
        {
         "index": 11,
         "logS": -4
        },
        {
         "index": 12,
         "logS": -3.2
        },
        {
         "index": 13,
         "logS": -6.98
        },
        {
         "index": 14,
         "logS": -5.56
        },
        {
         "index": 15,
         "logS": -4.59
        },
        {
         "index": 16,
         "logS": -4.5
        },
        {
         "index": 17,
         "logS": -3.59
        },
        {
         "index": 18,
         "logS": -3.31
        },
        {
         "index": 19,
         "logS": 0.62
        },
        {
         "index": 20,
         "logS": -3.5
        },
        {
         "index": 21,
         "logS": -1.68
        },
        {
         "index": 22,
         "logS": -3.05
        },
        {
         "index": 23,
         "logS": -1.06
        },
        {
         "index": 24,
         "logS": -1.6
        },
        {
         "index": 25,
         "logS": -2.74
        },
        {
         "index": 26,
         "logS": -0.77
        },
        {
         "index": 27,
         "logS": -3.28
        },
        {
         "index": 28,
         "logS": -3.1
        },
        {
         "index": 29,
         "logS": -0.59
        },
        {
         "index": 30,
         "logS": -5.6
        },
        {
         "index": 31,
         "logS": -4.48
        },
        {
         "index": 32,
         "logS": -3.4
        },
        {
         "index": 33,
         "logS": -2.89
        },
        {
         "index": 34,
         "logS": 0.81
        },
        {
         "index": 35,
         "logS": -1.87
        },
        {
         "index": 36,
         "logS": -3.54
        },
        {
         "index": 37,
         "logS": -3.04
        },
        {
         "index": 38,
         "logS": -1.62
        },
        {
         "index": 39,
         "logS": -1.46
        },
        {
         "index": 40,
         "logS": -2
        },
        {
         "index": 41,
         "logS": -4.29
        },
        {
         "index": 42,
         "logS": -2.29
        },
        {
         "index": 43,
         "logS": -0.17
        },
        {
         "index": 44,
         "logS": -2.06
        },
        {
         "index": 45,
         "logS": -4.07
        },
        {
         "index": 46,
         "logS": -3.27
        },
        {
         "index": 47,
         "logS": -3.75
        },
        {
         "index": 48,
         "logS": -1.97
        },
        {
         "index": 49,
         "logS": -4.14
        },
        {
         "index": 50,
         "logS": -3.39
        },
        {
         "index": 51,
         "logS": -2.09
        },
        {
         "index": 52,
         "logS": -4.679
        },
        {
         "index": 53,
         "logS": -2.68
        },
        {
         "index": 54,
         "logS": -2.68
        },
        {
         "index": 55,
         "logS": -1.74
        },
        {
         "index": 56,
         "logS": -3.999
        },
        {
         "index": 57,
         "logS": -4.22
        },
        {
         "index": 58,
         "logS": -2.43
        },
        {
         "index": 59,
         "logS": -2.37
        },
        {
         "index": 60,
         "logS": -4.43
        },
        {
         "index": 61,
         "logS": -3.81
        },
        {
         "index": 62,
         "logS": -4.35
        },
        {
         "index": 63,
         "logS": -5.06
        },
        {
         "index": 64,
         "logS": -3.08
        },
        {
         "index": 65,
         "logS": -1.73
        },
        {
         "index": 66,
         "logS": 0
        },
        {
         "index": 67,
         "logS": -1.94
        },
        {
         "index": 68,
         "logS": -1.24
        },
        {
         "index": 69,
         "logS": -1.32
        },
        {
         "index": 70,
         "logS": -2
        },
        {
         "index": 71,
         "logS": -2.03
        },
        {
         "index": 72,
         "logS": -4
        },
        {
         "index": 73,
         "logS": -3.12
        },
        {
         "index": 74,
         "logS": -3.93
        },
        {
         "index": 75,
         "logS": -2.73
        },
        {
         "index": 76,
         "logS": -1.47
        },
        {
         "index": 77,
         "logS": -3.63
        },
        {
         "index": 78,
         "logS": -5.51
        },
        {
         "index": 79,
         "logS": -4.8
        },
        {
         "index": 80,
         "logS": -4.17
        },
        {
         "index": 81,
         "logS": -1.81
        },
        {
         "index": 82,
         "logS": -3.73
        },
        {
         "index": 83,
         "logS": -3.01
        },
        {
         "index": 84,
         "logS": -7
        },
        {
         "index": 85,
         "logS": -1.24
        },
        {
         "index": 86,
         "logS": -3.23
        },
        {
         "index": 87,
         "logS": -0.59
        },
        {
         "index": 88,
         "logS": -2.36
        },
        {
         "index": 89,
         "logS": -2.96
        },
        {
         "index": 90,
         "logS": -4.81
        },
        {
         "index": 91,
         "logS": -4.55
        },
        {
         "index": 92,
         "logS": -2.29
        },
        {
         "index": 93,
         "logS": -3.27
        },
        {
         "index": 94,
         "logS": -5.22
        },
        {
         "index": 95,
         "logS": -3.7
        },
        {
         "index": 96,
         "logS": -5.85
        },
        {
         "index": 97,
         "logS": -0.807
        },
        {
         "index": 98,
         "logS": -2.22
        },
        {
         "index": 99,
         "logS": -1.92
        },
        {
         "index": 100,
         "logS": -3.54
        },
        {
         "index": 101,
         "logS": -0.8
        },
        {
         "index": 102,
         "logS": -3.01
        },
        {
         "index": 103,
         "logS": -5.05
        },
        {
         "index": 104,
         "logS": -4.24
        },
        {
         "index": 105,
         "logS": -8.4
        },
        {
         "index": 106,
         "logS": -2.39
        },
        {
         "index": 107,
         "logS": -4.44
        },
        {
         "index": 108,
         "logS": -3.66
        },
        {
         "index": 109,
         "logS": -6.35
        },
        {
         "index": 110,
         "logS": -0.6
        },
        {
         "index": 111,
         "logS": -2.68
        },
        {
         "index": 112,
         "logS": -1.64
        },
        {
         "index": 113,
         "logS": -0.92
        },
        {
         "index": 114,
         "logS": 0.62
        },
        {
         "index": 115,
         "logS": -5.84
        },
        {
         "index": 116,
         "logS": -11.6
        },
        {
         "index": 117,
         "logS": -9.16
        },
        {
         "index": 118,
         "logS": -8.01
        },
        {
         "index": 119,
         "logS": -9.15
        },
        {
         "index": 120,
         "logS": -8.6
        },
        {
         "index": 121,
         "logS": -7.28
        },
        {
         "index": 122,
         "logS": -7.92
        },
        {
         "index": 123,
         "logS": -8.94
        },
        {
         "index": 124,
         "logS": -7.68
        },
        {
         "index": 125,
         "logS": -7.21
        },
        {
         "index": 126,
         "logS": -7.43
        },
        {
         "index": 127,
         "logS": -7.42
        },
        {
         "index": 128,
         "logS": -6.47
        },
        {
         "index": 129,
         "logS": -4.36
        },
        {
         "index": 130,
         "logS": -8.56
        },
        {
         "index": 131,
         "logS": -8.71
        },
        {
         "index": 132,
         "logS": -6.57
        },
        {
         "index": 133,
         "logS": -7.32
        },
        {
         "index": 134,
         "logS": -4.74
        },
        {
         "index": 135,
         "logS": -5.05
        },
        {
         "index": 136,
         "logS": -7.39
        },
        {
         "index": 137,
         "logS": -1.04
        },
        {
         "index": 138,
         "logS": -3.55
        },
        {
         "index": 139,
         "logS": -4.36
        },
        {
         "index": 140,
         "logS": -1.52
        },
        {
         "index": 141,
         "logS": -0.4
        },
        {
         "index": 142,
         "logS": -5.27
        },
        {
         "index": 143,
         "logS": -7.82
        },
        {
         "index": 144,
         "logS": -7.66
        },
        {
         "index": 145,
         "logS": -7.39
        },
        {
         "index": 146,
         "logS": -7.8
        },
        {
         "index": 147,
         "logS": -7.92
        },
        {
         "index": 148,
         "logS": -7.25
        },
        {
         "index": 149,
         "logS": -3.15
        },
        {
         "index": 150,
         "logS": -3.1
        },
        {
         "index": 151,
         "logS": -6.29
        },
        {
         "index": 152,
         "logS": -6.26
        },
        {
         "index": 153,
         "logS": -2.67
        },
        {
         "index": 154,
         "logS": -4.8
        },
        {
         "index": 155,
         "logS": -3.37
        },
        {
         "index": 156,
         "logS": -6.01
        },
        {
         "index": 157,
         "logS": -2.67
        },
        {
         "index": 158,
         "logS": -2.64
        },
        {
         "index": 159,
         "logS": -3.48
        },
        {
         "index": 160,
         "logS": -1.3
        },
        {
         "index": 161,
         "logS": -2.4
        },
        {
         "index": 162,
         "logS": -3.65
        },
        {
         "index": 163,
         "logS": -4.72
        },
        {
         "index": 164,
         "logS": -4.28
        },
        {
         "index": 165,
         "logS": 0.38
        },
        {
         "index": 166,
         "logS": -6.27
        },
        {
         "index": 167,
         "logS": -6.25
        },
        {
         "index": 168,
         "logS": -2.21
        },
        {
         "index": 169,
         "logS": -6.14
        },
        {
         "index": 170,
         "logS": -2.34
        },
        {
         "index": 171,
         "logS": -2.05
        },
        {
         "index": 172,
         "logS": -3.22
        },
        {
         "index": 173,
         "logS": -1.55
        },
        {
         "index": 174,
         "logS": -0.92
        },
        {
         "index": 175,
         "logS": -1.22
        },
        {
         "index": 176,
         "logS": -1.3
        },
        {
         "index": 177,
         "logS": -4.26
        },
        {
         "index": 178,
         "logS": -1.19
        },
        {
         "index": 179,
         "logS": 0.38
        },
        {
         "index": 180,
         "logS": -2.82
        },
        {
         "index": 181,
         "logS": -5.28
        },
        {
         "index": 182,
         "logS": -5.25
        },
        {
         "index": 183,
         "logS": -1.79
        },
        {
         "index": 184,
         "logS": -4.89
        },
        {
         "index": 185,
         "logS": -1.29
        },
        {
         "index": 186,
         "logS": 0.45
        },
        {
         "index": 187,
         "logS": -3
        },
        {
         "index": 188,
         "logS": -5.21
        },
        {
         "index": 189,
         "logS": -1.94
        },
        {
         "index": 190,
         "logS": -5.17
        },
        {
         "index": 191,
         "logS": -4.4
        },
        {
         "index": 192,
         "logS": -4.4
        },
        {
         "index": 193,
         "logS": -1.59
        },
        {
         "index": 194,
         "logS": -2.23
        },
        {
         "index": 195,
         "logS": 0.52
        },
        {
         "index": 196,
         "logS": 0.32
        },
        {
         "index": 197,
         "logS": -0.42
        },
        {
         "index": 198,
         "logS": -2.51
        },
        {
         "index": 199,
         "logS": -2.46
        },
        {
         "index": 200,
         "logS": -4.54
        },
        {
         "index": 201,
         "logS": -1.96
        },
        {
         "index": 202,
         "logS": -4.14
        },
        {
         "index": 203,
         "logS": -1.06
        },
        {
         "index": 204,
         "logS": -1.41
        },
        {
         "index": 205,
         "logS": -3.52
        },
        {
         "index": 206,
         "logS": -0.31
        },
        {
         "index": 207,
         "logS": -3.3
        },
        {
         "index": 208,
         "logS": 0.51
        },
        {
         "index": 209,
         "logS": -1.17
        },
        {
         "index": 210,
         "logS": -2.11
        },
        {
         "index": 211,
         "logS": -2.46
        },
        {
         "index": 212,
         "logS": -1.52
        },
        {
         "index": 213,
         "logS": -2.13
        },
        {
         "index": 214,
         "logS": -4.29
        },
        {
         "index": 215,
         "logS": -3.21
        },
        {
         "index": 216,
         "logS": -1.55
        },
        {
         "index": 217,
         "logS": -1.45
        },
        {
         "index": 218,
         "logS": -0.89
        },
        {
         "index": 219,
         "logS": -0.8
        },
        {
         "index": 220,
         "logS": -1.947
        },
        {
         "index": 221,
         "logS": 1.02
        },
        {
         "index": 222,
         "logS": -2.09
        },
        {
         "index": 223,
         "logS": -3.76
        },
        {
         "index": 224,
         "logS": -1.11
        },
        {
         "index": 225,
         "logS": -2.56
        },
        {
         "index": 226,
         "logS": -2.03
        },
        {
         "index": 227,
         "logS": -2.73
        },
        {
         "index": 228,
         "logS": -3.03
        },
        {
         "index": 229,
         "logS": -1.72
        },
        {
         "index": 230,
         "logS": -1.08
        },
        {
         "index": 231,
         "logS": -0.49
        },
        {
         "index": 232,
         "logS": -0.7
        },
        {
         "index": 233,
         "logS": -6.96
        },
        {
         "index": 234,
         "logS": 0.15
        },
        {
         "index": 235,
         "logS": -3.18
        },
        {
         "index": 236,
         "logS": -0.47
        },
        {
         "index": 237,
         "logS": -5.08
        },
        {
         "index": 238,
         "logS": -3.77
        },
        {
         "index": 239,
         "logS": -3.74
        },
        {
         "index": 240,
         "logS": -1.11
        },
        {
         "index": 241,
         "logS": -5.84
        },
        {
         "index": 242,
         "logS": -0.62
        },
        {
         "index": 243,
         "logS": 0.1
        },
        {
         "index": 244,
         "logS": -2.55
        },
        {
         "index": 245,
         "logS": -2.33
        },
        {
         "index": 246,
         "logS": -0.12
        },
        {
         "index": 247,
         "logS": 0.11
        },
        {
         "index": 248,
         "logS": -2.28
        },
        {
         "index": 249,
         "logS": -0.62
        },
        {
         "index": 250,
         "logS": -2.74
        },
        {
         "index": 251,
         "logS": -2.58
        },
        {
         "index": 252,
         "logS": -2.09
        },
        {
         "index": 253,
         "logS": -2.05
        },
        {
         "index": 254,
         "logS": -0.29
        },
        {
         "index": 255,
         "logS": -0.19
        },
        {
         "index": 256,
         "logS": -0.7
        },
        {
         "index": 257,
         "logS": 0.43
        },
        {
         "index": 258,
         "logS": 1.07
        },
        {
         "index": 259,
         "logS": -2.94
        },
        {
         "index": 260,
         "logS": -0.5
        },
        {
         "index": 261,
         "logS": -0.62
        },
        {
         "index": 262,
         "logS": -0.72
        },
        {
         "index": 263,
         "logS": -4.23
        },
        {
         "index": 264,
         "logS": -3.2
        },
        {
         "index": 265,
         "logS": -1.25
        },
        {
         "index": 266,
         "logS": -1.38
        },
        {
         "index": 267,
         "logS": 0.36
        },
        {
         "index": 268,
         "logS": -6.39
        },
        {
         "index": 269,
         "logS": -1.34
        },
        {
         "index": 270,
         "logS": -1.4
        },
        {
         "index": 271,
         "logS": 0.38
        },
        {
         "index": 272,
         "logS": -5.071
        },
        {
         "index": 273,
         "logS": -2.78
        },
        {
         "index": 274,
         "logS": -4.88
        },
        {
         "index": 275,
         "logS": -0.7
        },
        {
         "index": 276,
         "logS": -0.29
        },
        {
         "index": 277,
         "logS": -4.47
        },
        {
         "index": 278,
         "logS": -0.85
        },
        {
         "index": 279,
         "logS": -1.47
        },
        {
         "index": 280,
         "logS": -6.301
        },
        {
         "index": 281,
         "logS": -0.8
        },
        {
         "index": 282,
         "logS": -0.83
        },
        {
         "index": 283,
         "logS": -5.886
        },
        {
         "index": 284,
         "logS": -1.99
        },
        {
         "index": 285,
         "logS": -2.73
        },
        {
         "index": 286,
         "logS": -0.18
        },
        {
         "index": 287,
         "logS": -0.12
        },
        {
         "index": 288,
         "logS": -0.72
        },
        {
         "index": 289,
         "logS": -0.71
        },
        {
         "index": 290,
         "logS": -0.67
        },
        {
         "index": 291,
         "logS": -1.6
        },
        {
         "index": 292,
         "logS": -0.98
        },
        {
         "index": 293,
         "logS": -0.36
        },
        {
         "index": 294,
         "logS": -0.51
        },
        {
         "index": 295,
         "logS": -7.92
        },
        {
         "index": 296,
         "logS": -5.16
        },
        {
         "index": 297,
         "logS": -2.42
        },
        {
         "index": 298,
         "logS": -3.68
        },
        {
         "index": 299,
         "logS": -0.68
        },
        {
         "index": 300,
         "logS": -1.98
        },
        {
         "index": 301,
         "logS": -6.523
        },
        {
         "index": 302,
         "logS": -0.24
        },
        {
         "index": 303,
         "logS": -0.28
        },
        {
         "index": 304,
         "logS": -4.678
        },
        {
         "index": 305,
         "logS": -4.907
        },
        {
         "index": 306,
         "logS": -6.56
        },
        {
         "index": 307,
         "logS": -1.09
        },
        {
         "index": 308,
         "logS": -3.19
        },
        {
         "index": 309,
         "logS": -2.78
        },
        {
         "index": 310,
         "logS": -0.7
        },
        {
         "index": 311,
         "logS": -3.08
        },
        {
         "index": 312,
         "logS": -3.11
        },
        {
         "index": 313,
         "logS": -1.4
        },
        {
         "index": 314,
         "logS": -1.3
        },
        {
         "index": 315,
         "logS": -2.59
        },
        {
         "index": 316,
         "logS": 1.02
        },
        {
         "index": 317,
         "logS": -3.77
        },
        {
         "index": 318,
         "logS": -1.11
        },
        {
         "index": 319,
         "logS": -0.8
        },
        {
         "index": 320,
         "logS": -0.74
        },
        {
         "index": 321,
         "logS": -4.62
        },
        {
         "index": 322,
         "logS": -1.14
        },
        {
         "index": 323,
         "logS": -0.466
        },
        {
         "index": 324,
         "logS": -2.692
        },
        {
         "index": 325,
         "logS": -0.15
        },
        {
         "index": 326,
         "logS": -2.253
        },
        {
         "index": 327,
         "logS": -2.593
        },
        {
         "index": 328,
         "logS": -2.077
        },
        {
         "index": 329,
         "logS": -2.766
        },
        {
         "index": 330,
         "logS": -1.742
        },
        {
         "index": 331,
         "logS": -1.99
        },
        {
         "index": 332,
         "logS": -7.01
        },
        {
         "index": 333,
         "logS": -1.614
        },
        {
         "index": 334,
         "logS": -1.708
        },
        {
         "index": 335,
         "logS": -1.16
        },
        {
         "index": 336,
         "logS": -2.369
        },
        {
         "index": 337,
         "logS": -2.658
        },
        {
         "index": 338,
         "logS": -2.148
        },
        {
         "index": 339,
         "logS": -2.322
        },
        {
         "index": 340,
         "logS": -1.077
        },
        {
         "index": 341,
         "logS": -2.54
        },
        {
         "index": 342,
         "logS": -1.228
        },
        {
         "index": 343,
         "logS": -6.59
        },
        {
         "index": 344,
         "logS": -1.458
        },
        {
         "index": 345,
         "logS": -2.58
        },
        {
         "index": 346,
         "logS": -6.2
        },
        {
         "index": 347,
         "logS": -2.16
        },
        {
         "index": 348,
         "logS": -1.139
        },
        {
         "index": 349,
         "logS": -6.57
        },
        {
         "index": 350,
         "logS": -7.02
        },
        {
         "index": 351,
         "logS": -0.91
        },
        {
         "index": 352,
         "logS": -0.854
        },
        {
         "index": 353,
         "logS": -2.42
        },
        {
         "index": 354,
         "logS": -6.57
        },
        {
         "index": 355,
         "logS": -4.73
        },
        {
         "index": 356,
         "logS": -5.89
        },
        {
         "index": 357,
         "logS": -6.237
        },
        {
         "index": 358,
         "logS": -4.63
        },
        {
         "index": 359,
         "logS": -3.96
        },
        {
         "index": 360,
         "logS": 0.54
        },
        {
         "index": 361,
         "logS": 1.58
        },
        {
         "index": 362,
         "logS": -1.33
        },
        {
         "index": 363,
         "logS": -2.36
        },
        {
         "index": 364,
         "logS": 0.26
        },
        {
         "index": 365,
         "logS": -1.28
        },
        {
         "index": 366,
         "logS": -3.59
        },
        {
         "index": 367,
         "logS": -3.67
        },
        {
         "index": 368,
         "logS": 0.57
        },
        {
         "index": 369,
         "logS": 0.15
        },
        {
         "index": 370,
         "logS": -2.12
        },
        {
         "index": 371,
         "logS": -3.48
        },
        {
         "index": 372,
         "logS": -3.26
        },
        {
         "index": 373,
         "logS": -3.85
        },
        {
         "index": 374,
         "logS": -6.307
        },
        {
         "index": 375,
         "logS": -1.6
        },
        {
         "index": 376,
         "logS": -0.83
        },
        {
         "index": 377,
         "logS": -2.266
        },
        {
         "index": 378,
         "logS": -1.25
        },
        {
         "index": 379,
         "logS": -1.99
        },
        {
         "index": 380,
         "logS": -3.364
        },
        {
         "index": 381,
         "logS": -3.04
        },
        {
         "index": 382,
         "logS": -0.77
        },
        {
         "index": 383,
         "logS": -2.36
        },
        {
         "index": 384,
         "logS": -0.364
        },
        {
         "index": 385,
         "logS": -0.36
        },
        {
         "index": 386,
         "logS": -5.47
        },
        {
         "index": 387,
         "logS": 0.522
        },
        {
         "index": 388,
         "logS": -2.468
        },
        {
         "index": 389,
         "logS": -0.624
        },
        {
         "index": 390,
         "logS": -2.596
        },
        {
         "index": 391,
         "logS": -3.69
        },
        {
         "index": 392,
         "logS": -4.402
        },
        {
         "index": 393,
         "logS": -3.13
        },
        {
         "index": 394,
         "logS": -0.41
        },
        {
         "index": 395,
         "logS": -4.432
        },
        {
         "index": 396,
         "logS": -1.85
        },
        {
         "index": 397,
         "logS": -6.35
        },
        {
         "index": 398,
         "logS": -5.19
        },
        {
         "index": 399,
         "logS": 0.715
        },
        {
         "index": 400,
         "logS": -3.538
        },
        {
         "index": 401,
         "logS": -5.931
        },
        {
         "index": 402,
         "logS": -2.084
        },
        {
         "index": 403,
         "logS": -3.85
        },
        {
         "index": 404,
         "logS": -1.716
        },
        {
         "index": 405,
         "logS": -4.45
        },
        {
         "index": 406,
         "logS": 0.651
        },
        {
         "index": 407,
         "logS": -4.37
        },
        {
         "index": 408,
         "logS": -2.4
        },
        {
         "index": 409,
         "logS": -3.59
        },
        {
         "index": 410,
         "logS": -5.53
        },
        {
         "index": 411,
         "logS": -4.71
        },
        {
         "index": 412,
         "logS": -4.21
        },
        {
         "index": 413,
         "logS": -4.883
        },
        {
         "index": 414,
         "logS": -4.2
        },
        {
         "index": 415,
         "logS": -1.19
        },
        {
         "index": 416,
         "logS": -0.96
        },
        {
         "index": 417,
         "logS": -1.64
        },
        {
         "index": 418,
         "logS": -2.55
        },
        {
         "index": 419,
         "logS": -2.81
        },
        {
         "index": 420,
         "logS": -6.68
        },
        {
         "index": 421,
         "logS": -8.699
        },
        {
         "index": 422,
         "logS": -8.23
        },
        {
         "index": 423,
         "logS": -8.04
        },
        {
         "index": 424,
         "logS": -7.8
        },
        {
         "index": 425,
         "logS": -8
        },
        {
         "index": 426,
         "logS": -8.49
        },
        {
         "index": 427,
         "logS": -9.018
        },
        {
         "index": 428,
         "logS": -2.616
        },
        {
         "index": 429,
         "logS": -2.85
        },
        {
         "index": 430,
         "logS": -1
        },
        {
         "index": 431,
         "logS": -3.12
        },
        {
         "index": 432,
         "logS": -1.5
        },
        {
         "index": 433,
         "logS": -0.78
        },
        {
         "index": 434,
         "logS": -1.16
        },
        {
         "index": 435,
         "logS": -2.39
        },
        {
         "index": 436,
         "logS": -2.51
        },
        {
         "index": 437,
         "logS": -0.95
        },
        {
         "index": 438,
         "logS": -4.71
        },
        {
         "index": 439,
         "logS": -4.62
        },
        {
         "index": 440,
         "logS": -4.345
        },
        {
         "index": 441,
         "logS": -5.4
        },
        {
         "index": 442,
         "logS": -2.32
        },
        {
         "index": 443,
         "logS": -2.523
        },
        {
         "index": 444,
         "logS": -4.445
        },
        {
         "index": 445,
         "logS": -2.55
        },
        {
         "index": 446,
         "logS": -0.89
        },
        {
         "index": 447,
         "logS": -1.54
        },
        {
         "index": 448,
         "logS": -1.09
        },
        {
         "index": 449,
         "logS": -0.79
        },
        {
         "index": 450,
         "logS": -6.09
        },
        {
         "index": 451,
         "logS": -4.93
        },
        {
         "index": 452,
         "logS": -3.33
        },
        {
         "index": 453,
         "logS": -3.127
        },
        {
         "index": 454,
         "logS": -4.16
        },
        {
         "index": 455,
         "logS": -2.39
        },
        {
         "index": 456,
         "logS": -4.24
        },
        {
         "index": 457,
         "logS": -4.19
        },
        {
         "index": 458,
         "logS": -2.647
        },
        {
         "index": 459,
         "logS": -3.082
        },
        {
         "index": 460,
         "logS": 0.47
        },
        {
         "index": 461,
         "logS": -2.57
        },
        {
         "index": 462,
         "logS": -2.18
        },
        {
         "index": 463,
         "logS": -1.661
        },
        {
         "index": 464,
         "logS": -1.877
        },
        {
         "index": 465,
         "logS": -3.9
        },
        {
         "index": 466,
         "logS": -1.37
        },
        {
         "index": 467,
         "logS": -3.68
        },
        {
         "index": 468,
         "logS": -4.06
        },
        {
         "index": 469,
         "logS": -0.01
        },
        {
         "index": 470,
         "logS": -0.876
        },
        {
         "index": 471,
         "logS": -1.96
        },
        {
         "index": 472,
         "logS": -1.3
        },
        {
         "index": 473,
         "logS": -5.4
        },
        {
         "index": 474,
         "logS": -3.15
        },
        {
         "index": 475,
         "logS": -3.224
        },
        {
         "index": 476,
         "logS": -5.27
        },
        {
         "index": 477,
         "logS": -1.83
        },
        {
         "index": 478,
         "logS": -2.8
        },
        {
         "index": 479,
         "logS": -5.736
        },
        {
         "index": 480,
         "logS": -3.14
        },
        {
         "index": 481,
         "logS": -2.68
        },
        {
         "index": 482,
         "logS": -2.08
        },
        {
         "index": 483,
         "logS": -2.06
        },
        {
         "index": 484,
         "logS": -1.84
        },
        {
         "index": 485,
         "logS": -2.111
        },
        {
         "index": 486,
         "logS": -4.411
        },
        {
         "index": 487,
         "logS": -3.924
        },
        {
         "index": 488,
         "logS": -2.617
        },
        {
         "index": 489,
         "logS": -6.86
        },
        {
         "index": 490,
         "logS": -5.64
        },
        {
         "index": 491,
         "logS": -2.86
        },
        {
         "index": 492,
         "logS": -4.576
        },
        {
         "index": 493,
         "logS": -0.02
        },
        {
         "index": 494,
         "logS": -0.092
        },
        {
         "index": 495,
         "logS": -2.38
        },
        {
         "index": 496,
         "logS": -1.9
        },
        {
         "index": 497,
         "logS": -1.06
        },
        {
         "index": 498,
         "logS": -1.75
        },
        {
         "index": 499,
         "logS": -3.38
        },
        {
         "index": 500,
         "logS": -2
        },
        {
         "index": 501,
         "logS": -4.53
        },
        {
         "index": 502,
         "logS": -5.64
        },
        {
         "index": 503,
         "logS": -3.05
        },
        {
         "index": 504,
         "logS": -3.46
        },
        {
         "index": 505,
         "logS": -4.89
        },
        {
         "index": 506,
         "logS": -5.67
        },
        {
         "index": 507,
         "logS": -5.43
        },
        {
         "index": 508,
         "logS": -3.451
        },
        {
         "index": 509,
         "logS": -3.483
        },
        {
         "index": 510,
         "logS": -2.831
        },
        {
         "index": 511,
         "logS": -7.85
        },
        {
         "index": 512,
         "logS": -8.057
        },
        {
         "index": 513,
         "logS": -1.3
        },
        {
         "index": 514,
         "logS": -4.3
        },
        {
         "index": 515,
         "logS": -2.54
        },
        {
         "index": 516,
         "logS": -2.06
        },
        {
         "index": 517,
         "logS": -2.338
        },
        {
         "index": 518,
         "logS": -3.499
        },
        {
         "index": 519,
         "logS": -9.332
        },
        {
         "index": 520,
         "logS": -3.24
        },
        {
         "index": 521,
         "logS": -3.11
        },
        {
         "index": 522,
         "logS": -4.21
        },
        {
         "index": 523,
         "logS": -5.839
        },
        {
         "index": 524,
         "logS": -5.382
        },
        {
         "index": 525,
         "logS": -2.84
        },
        {
         "index": 526,
         "logS": -3.15
        },
        {
         "index": 527,
         "logS": -3.4
        },
        {
         "index": 528,
         "logS": -2.17
        },
        {
         "index": 529,
         "logS": -1.655
        },
        {
         "index": 530,
         "logS": -3.51
        },
        {
         "index": 531,
         "logS": -0.88
        },
        {
         "index": 532,
         "logS": -3.18
        },
        {
         "index": 533,
         "logS": -3.168
        },
        {
         "index": 534,
         "logS": -3.1
        },
        {
         "index": 535,
         "logS": -0.44
        },
        {
         "index": 536,
         "logS": -0.6
        },
        {
         "index": 537,
         "logS": -2.59
        },
        {
         "index": 538,
         "logS": -1.13
        },
        {
         "index": 539,
         "logS": -3.06
        },
        {
         "index": 540,
         "logS": -4.15
        },
        {
         "index": 541,
         "logS": -1.29
        },
        {
         "index": 542,
         "logS": -2.982
        },
        {
         "index": 543,
         "logS": -2.64
        },
        {
         "index": 544,
         "logS": -2.1
        },
        {
         "index": 545,
         "logS": -2.349
        },
        {
         "index": 546,
         "logS": -1.886
        },
        {
         "index": 547,
         "logS": -2.218
        },
        {
         "index": 548,
         "logS": -7.337
        },
        {
         "index": 549,
         "logS": -8.176
        },
        {
         "index": 550,
         "logS": -8.017
        },
        {
         "index": 551,
         "logS": -1.155
        },
        {
         "index": 552,
         "logS": -5.507
        },
        {
         "index": 553,
         "logS": -3.094
        },
        {
         "index": 554,
         "logS": -7.2
        },
        {
         "index": 555,
         "logS": -6.9
        },
        {
         "index": 556,
         "logS": -7.15
        },
        {
         "index": 557,
         "logS": -5.19
        },
        {
         "index": 558,
         "logS": -5.14
        },
        {
         "index": 559,
         "logS": -8.402
        },
        {
         "index": 560,
         "logS": -3.45
        },
        {
         "index": 561,
         "logS": -4.63
        },
        {
         "index": 562,
         "logS": -4.632
        },
        {
         "index": 563,
         "logS": -3.59
        },
        {
         "index": 564,
         "logS": -4.9
        },
        {
         "index": 565,
         "logS": -1.85
        },
        {
         "index": 566,
         "logS": -6.96
        },
        {
         "index": 567,
         "logS": -6.34
        },
        {
         "index": 568,
         "logS": -6.34
        },
        {
         "index": 569,
         "logS": -4.286
        },
        {
         "index": 570,
         "logS": -3.754
        },
        {
         "index": 571,
         "logS": -3.64
        },
        {
         "index": 572,
         "logS": -4.6
        },
        {
         "index": 573,
         "logS": -4.38
        },
        {
         "index": 574,
         "logS": -1.17
        },
        {
         "index": 575,
         "logS": -1.85
        },
        {
         "index": 576,
         "logS": -3.896
        },
        {
         "index": 577,
         "logS": -4.4
        },
        {
         "index": 578,
         "logS": -4.31
        },
        {
         "index": 579,
         "logS": -0.63
        },
        {
         "index": 580,
         "logS": -3.953
        },
        {
         "index": 581,
         "logS": -5.666
        },
        {
         "index": 582,
         "logS": -6.29
        },
        {
         "index": 583,
         "logS": -4.95
        },
        {
         "index": 584,
         "logS": -7.278
        },
        {
         "index": 585,
         "logS": -0.09
        },
        {
         "index": 586,
         "logS": -2.35
        },
        {
         "index": 587,
         "logS": -1.34
        },
        {
         "index": 588,
         "logS": -2.42
        },
        {
         "index": 589,
         "logS": -4.07
        },
        {
         "index": 590,
         "logS": -4.16
        },
        {
         "index": 591,
         "logS": -6.02
        },
        {
         "index": 592,
         "logS": -5.293
        },
        {
         "index": 593,
         "logS": -4.081
        },
        {
         "index": 594,
         "logS": -6.144
        },
        {
         "index": 595,
         "logS": -2.34
        },
        {
         "index": 596,
         "logS": -6.637
        },
        {
         "index": 597,
         "logS": -1.1
        },
        {
         "index": 598,
         "logS": -2.24
        },
        {
         "index": 599,
         "logS": 0.523
        },
        {
         "index": 600,
         "logS": -4.328
        },
        {
         "index": 601,
         "logS": -0.85
        },
        {
         "index": 602,
         "logS": -2.24
        },
        {
         "index": 603,
         "logS": 0.48
        },
        {
         "index": 604,
         "logS": -1.66
        },
        {
         "index": 605,
         "logS": -0.45
        },
        {
         "index": 606,
         "logS": -1.44
        },
        {
         "index": 607,
         "logS": -5.47
        },
        {
         "index": 608,
         "logS": -3.38
        },
        {
         "index": 609,
         "logS": 0.35
        },
        {
         "index": 610,
         "logS": -2.58
        },
        {
         "index": 611,
         "logS": -5.115
        },
        {
         "index": 612,
         "logS": -7.32
        },
        {
         "index": 613,
         "logS": -1.57
        },
        {
         "index": 614,
         "logS": -2.98
        },
        {
         "index": 615,
         "logS": -3.96
        },
        {
         "index": 616,
         "logS": -3.504
        },
        {
         "index": 617,
         "logS": -4.08
        },
        {
         "index": 618,
         "logS": -1.62
        },
        {
         "index": 619,
         "logS": -4.86
        },
        {
         "index": 620,
         "logS": -4.23
        },
        {
         "index": 621,
         "logS": -3.35
        },
        {
         "index": 622,
         "logS": -3.8
        },
        {
         "index": 623,
         "logS": -4.26
        },
        {
         "index": 624,
         "logS": -1.456
        },
        {
         "index": 625,
         "logS": -2.17
        },
        {
         "index": 626,
         "logS": -0.17
        },
        {
         "index": 627,
         "logS": -8.172
        },
        {
         "index": 628,
         "logS": -6.18
        },
        {
         "index": 629,
         "logS": -4.16
        },
        {
         "index": 630,
         "logS": -5.41
        },
        {
         "index": 631,
         "logS": -5.24
        },
        {
         "index": 632,
         "logS": -5.282
        },
        {
         "index": 633,
         "logS": -3.62
        },
        {
         "index": 634,
         "logS": 0.7
        },
        {
         "index": 635,
         "logS": -5.03
        },
        {
         "index": 636,
         "logS": -2.92
        },
        {
         "index": 637,
         "logS": -4.955
        },
        {
         "index": 638,
         "logS": -3.955
        },
        {
         "index": 639,
         "logS": -6.124
        },
        {
         "index": 640,
         "logS": -1.36
        },
        {
         "index": 641,
         "logS": -0.6
        },
        {
         "index": 642,
         "logS": 1.1
        },
        {
         "index": 643,
         "logS": -4.3
        },
        {
         "index": 644,
         "logS": -2.09
        },
        {
         "index": 645,
         "logS": -5.54
        },
        {
         "index": 646,
         "logS": -3.028
        },
        {
         "index": 647,
         "logS": -5.66
        },
        {
         "index": 648,
         "logS": -3.42
        },
        {
         "index": 649,
         "logS": -3.42
        },
        {
         "index": 650,
         "logS": -3.81
        },
        {
         "index": 651,
         "logS": -0.04
        },
        {
         "index": 652,
         "logS": -2.32
        },
        {
         "index": 653,
         "logS": -1.28
        },
        {
         "index": 654,
         "logS": -3
        },
        {
         "index": 655,
         "logS": -4.1
        },
        {
         "index": 656,
         "logS": 0.15
        },
        {
         "index": 657,
         "logS": -2.74
        },
        {
         "index": 658,
         "logS": -2.35
        },
        {
         "index": 659,
         "logS": -3.8
        },
        {
         "index": 660,
         "logS": -3.39
        },
        {
         "index": 661,
         "logS": -1.75
        },
        {
         "index": 662,
         "logS": -0.66
        },
        {
         "index": 663,
         "logS": -0.66
        },
        {
         "index": 664,
         "logS": -0.85
        },
        {
         "index": 665,
         "logS": -2.77
        },
        {
         "index": 666,
         "logS": -4.25
        },
        {
         "index": 667,
         "logS": -0.4
        },
        {
         "index": 668,
         "logS": -2.1
        },
        {
         "index": 669,
         "logS": -2.35
        },
        {
         "index": 670,
         "logS": 0.29
        },
        {
         "index": 671,
         "logS": -8.6
        },
        {
         "index": 672,
         "logS": -4.735
        },
        {
         "index": 673,
         "logS": -3.571
        },
        {
         "index": 674,
         "logS": -1.64
        },
        {
         "index": 675,
         "logS": -1.56
        },
        {
         "index": 676,
         "logS": -4.38
        },
        {
         "index": 677,
         "logS": -3.3
        },
        {
         "index": 678,
         "logS": -4.04
        },
        {
         "index": 679,
         "logS": -3.927
        },
        {
         "index": 680,
         "logS": -4.7
        },
        {
         "index": 681,
         "logS": -6.025
        },
        {
         "index": 682,
         "logS": -2.3
        },
        {
         "index": 683,
         "logS": -4.57
        },
        {
         "index": 684,
         "logS": -1.6
        },
        {
         "index": 685,
         "logS": -1.8
        },
        {
         "index": 686,
         "logS": -6.876
        },
        {
         "index": 687,
         "logS": -0.972
        },
        {
         "index": 688,
         "logS": -3.43
        },
        {
         "index": 689,
         "logS": -5.613
        },
        {
         "index": 690,
         "logS": -6.78
        },
        {
         "index": 691,
         "logS": -3.43
        },
        {
         "index": 692,
         "logS": -6
        },
        {
         "index": 693,
         "logS": -5
        },
        {
         "index": 694,
         "logS": -1.8
        },
        {
         "index": 695,
         "logS": -4.099
        },
        {
         "index": 696,
         "logS": -3.32
        },
        {
         "index": 697,
         "logS": -4.445
        },
        {
         "index": 698,
         "logS": -4.047
        },
        {
         "index": 699,
         "logS": -3.37
        },
        {
         "index": 700,
         "logS": -8.003
        },
        {
         "index": 701,
         "logS": -2.34
        },
        {
         "index": 702,
         "logS": -1.995
        },
        {
         "index": 703,
         "logS": 0.64
        },
        {
         "index": 704,
         "logS": -0.82
        },
        {
         "index": 705,
         "logS": -0.1
        },
        {
         "index": 706,
         "logS": -2.943
        },
        {
         "index": 707,
         "logS": -4.571
        },
        {
         "index": 708,
         "logS": 0.74
        },
        {
         "index": 709,
         "logS": -2.337
        },
        {
         "index": 710,
         "logS": 1.12
        },
        {
         "index": 711,
         "logS": -0.6
        },
        {
         "index": 712,
         "logS": -3.246
        },
        {
         "index": 713,
         "logS": -1.96
        },
        {
         "index": 714,
         "logS": -3.583
        },
        {
         "index": 715,
         "logS": -1.71
        },
        {
         "index": 716,
         "logS": -2.7
        },
        {
         "index": 717,
         "logS": -6.317
        },
        {
         "index": 718,
         "logS": -4.53
        },
        {
         "index": 719,
         "logS": -4.92
        },
        {
         "index": 720,
         "logS": -3.67
        },
        {
         "index": 721,
         "logS": -8.334
        },
        {
         "index": 722,
         "logS": -8.4
        },
        {
         "index": 723,
         "logS": -5.23
        },
        {
         "index": 724,
         "logS": -3.84
        },
        {
         "index": 725,
         "logS": -4.43
        },
        {
         "index": 726,
         "logS": -5.21
        },
        {
         "index": 727,
         "logS": -0.4
        },
        {
         "index": 728,
         "logS": -2.92
        },
        {
         "index": 729,
         "logS": -1.93
        },
        {
         "index": 730,
         "logS": -2.63
        },
        {
         "index": 731,
         "logS": -3.09
        },
        {
         "index": 732,
         "logS": -4.88
        },
        {
         "index": 733,
         "logS": -5.46
        },
        {
         "index": 734,
         "logS": -3.817
        },
        {
         "index": 735,
         "logS": -2.296
        },
        {
         "index": 736,
         "logS": -3.04
        },
        {
         "index": 737,
         "logS": -3.586
        },
        {
         "index": 738,
         "logS": -2.16
        },
        {
         "index": 739,
         "logS": -1.52
        },
        {
         "index": 740,
         "logS": -1.04
        },
        {
         "index": 741,
         "logS": -1.23
        },
        {
         "index": 742,
         "logS": -3.01
        },
        {
         "index": 743,
         "logS": -1.6
        },
        {
         "index": 744,
         "logS": -6.62
        },
        {
         "index": 745,
         "logS": -1
        },
        {
         "index": 746,
         "logS": -3.61
        },
        {
         "index": 747,
         "logS": -3.785
        },
        {
         "index": 748,
         "logS": -3.658
        },
        {
         "index": 749,
         "logS": -1.21
        },
        {
         "index": 750,
         "logS": -1.01
        },
        {
         "index": 751,
         "logS": -4.12
        },
        {
         "index": 752,
         "logS": -2.15
        },
        {
         "index": 753,
         "logS": -2.461
        },
        {
         "index": 754,
         "logS": -4.194
        },
        {
         "index": 755,
         "logS": -3.401
        },
        {
         "index": 756,
         "logS": 0.009
        },
        {
         "index": 757,
         "logS": -1.92
        },
        {
         "index": 758,
         "logS": -1.52
        },
        {
         "index": 759,
         "logS": -1.06
        },
        {
         "index": 760,
         "logS": -2.863
        },
        {
         "index": 761,
         "logS": -6.49
        },
        {
         "index": 762,
         "logS": -0.55
        },
        {
         "index": 763,
         "logS": -0.63
        },
        {
         "index": 764,
         "logS": -3.27
        },
        {
         "index": 765,
         "logS": -3.536
        },
        {
         "index": 766,
         "logS": -1.45
        },
        {
         "index": 767,
         "logS": -2.93
        },
        {
         "index": 768,
         "logS": -3.27
        },
        {
         "index": 769,
         "logS": -5.259
        },
        {
         "index": 770,
         "logS": -3.021
        },
        {
         "index": 771,
         "logS": -0.244
        },
        {
         "index": 772,
         "logS": 0.39
        },
        {
         "index": 773,
         "logS": -4.594
        },
        {
         "index": 774,
         "logS": -1.99
        },
        {
         "index": 775,
         "logS": -4.64
        },
        {
         "index": 776,
         "logS": -3.592
        },
        {
         "index": 777,
         "logS": -3.604
        },
        {
         "index": 778,
         "logS": -6.005
        },
        {
         "index": 779,
         "logS": -3.37
        },
        {
         "index": 780,
         "logS": -0.82
        },
        {
         "index": 781,
         "logS": 0.358
        },
        {
         "index": 782,
         "logS": 0.06
        },
        {
         "index": 783,
         "logS": -1.37
        },
        {
         "index": 784,
         "logS": -3.21
        },
        {
         "index": 785,
         "logS": -3.55
        },
        {
         "index": 786,
         "logS": -2.77
        },
        {
         "index": 787,
         "logS": -3.88
        },
        {
         "index": 788,
         "logS": -2.518
        },
        {
         "index": 789,
         "logS": -1.899
        },
        {
         "index": 790,
         "logS": -5.27
        },
        {
         "index": 791,
         "logS": -4.873
        },
        {
         "index": 792,
         "logS": -3.24
        },
        {
         "index": 793,
         "logS": -5.35
        },
        {
         "index": 794,
         "logS": -3.03
        },
        {
         "index": 795,
         "logS": -2.53
        },
        {
         "index": 796,
         "logS": -2.35
        },
        {
         "index": 797,
         "logS": -1.807
        },
        {
         "index": 798,
         "logS": -3.18
        },
        {
         "index": 799,
         "logS": -1.601
        },
        {
         "index": 800,
         "logS": -0.9
        },
        {
         "index": 801,
         "logS": 1.57
        },
        {
         "index": 802,
         "logS": -2.925
        },
        {
         "index": 803,
         "logS": -2.23
        },
        {
         "index": 804,
         "logS": -2.82
        },
        {
         "index": 805,
         "logS": -0.985
        },
        {
         "index": 806,
         "logS": -5.19
        },
        {
         "index": 807,
         "logS": -2.928
        },
        {
         "index": 808,
         "logS": -3.664
        },
        {
         "index": 809,
         "logS": -6.89
        },
        {
         "index": 810,
         "logS": 0.46
        },
        {
         "index": 811,
         "logS": -0.22
        },
        {
         "index": 812,
         "logS": -1.85
        },
        {
         "index": 813,
         "logS": -0.99
        },
        {
         "index": 814,
         "logS": -0.82
        },
        {
         "index": 815,
         "logS": -4.69
        },
        {
         "index": 816,
         "logS": 0.58
        },
        {
         "index": 817,
         "logS": -1.24
        },
        {
         "index": 818,
         "logS": -1.87
        },
        {
         "index": 819,
         "logS": 1.34
        },
        {
         "index": 820,
         "logS": -4.69
        },
        {
         "index": 821,
         "logS": -0.46
        },
        {
         "index": 822,
         "logS": -3.38
        },
        {
         "index": 823,
         "logS": -3.17
        },
        {
         "index": 824,
         "logS": -1.36
        },
        {
         "index": 825,
         "logS": -0.14
        },
        {
         "index": 826,
         "logS": -0.39
        },
        {
         "index": 827,
         "logS": -0.24
        },
        {
         "index": 828,
         "logS": -3.85
        },
        {
         "index": 829,
         "logS": -3.3
        },
        {
         "index": 830,
         "logS": -3.35
        },
        {
         "index": 831,
         "logS": -1.827
        },
        {
         "index": 832,
         "logS": -5.284
        },
        {
         "index": 833,
         "logS": -2.436
        },
        {
         "index": 834,
         "logS": -2.73
        },
        {
         "index": 835,
         "logS": -3.78
        },
        {
         "index": 836,
         "logS": -1.803
        },
        {
         "index": 837,
         "logS": -2.564
        },
        {
         "index": 838,
         "logS": -1.26
        },
        {
         "index": 839,
         "logS": -2.253
        },
        {
         "index": 840,
         "logS": -1.22
        },
        {
         "index": 841,
         "logS": -2.67
        },
        {
         "index": 842,
         "logS": -1.989
        },
        {
         "index": 843,
         "logS": -6.8
        },
        {
         "index": 844,
         "logS": -0.85
        },
        {
         "index": 845,
         "logS": -2.19
        },
        {
         "index": 846,
         "logS": -1.01
        },
        {
         "index": 847,
         "logS": -2.44
        },
        {
         "index": 848,
         "logS": -2.57
        },
        {
         "index": 849,
         "logS": -0.742
        },
        {
         "index": 850,
         "logS": -2.89
        },
        {
         "index": 851,
         "logS": -3.083
        },
        {
         "index": 852,
         "logS": -2.82
        },
        {
         "index": 853,
         "logS": -3.03
        },
        {
         "index": 854,
         "logS": 1.11
        },
        {
         "index": 855,
         "logS": -1.92
        },
        {
         "index": 856,
         "logS": -2.28
        },
        {
         "index": 857,
         "logS": -3.57
        },
        {
         "index": 858,
         "logS": -8.6
        },
        {
         "index": 859,
         "logS": -3.6
        },
        {
         "index": 860,
         "logS": -4.77
        },
        {
         "index": 861,
         "logS": -2.46
        },
        {
         "index": 862,
         "logS": -1.7
        },
        {
         "index": 863,
         "logS": -3.19
        },
        {
         "index": 864,
         "logS": -4.7
        },
        {
         "index": 865,
         "logS": 0.61
        },
        {
         "index": 866,
         "logS": -4.76
        },
        {
         "index": 867,
         "logS": -2.19
        },
        {
         "index": 868,
         "logS": -3.796
        },
        {
         "index": 869,
         "logS": -3.22
        },
        {
         "index": 870,
         "logS": -3.561
        },
        {
         "index": 871,
         "logS": -3.76
        },
        {
         "index": 872,
         "logS": -3.796
        },
        {
         "index": 873,
         "logS": -1.8
        },
        {
         "index": 874,
         "logS": -0.22
        },
        {
         "index": 875,
         "logS": -5.46
        },
        {
         "index": 876,
         "logS": -3.38
        },
        {
         "index": 877,
         "logS": -2.22
        },
        {
         "index": 878,
         "logS": 0.26
        },
        {
         "index": 879,
         "logS": -1.28
        },
        {
         "index": 880,
         "logS": -5.88
        },
        {
         "index": 881,
         "logS": -3.931
        },
        {
         "index": 882,
         "logS": -3.171
        },
        {
         "index": 883,
         "logS": -4.8
        },
        {
         "index": 884,
         "logS": -4.57
        },
        {
         "index": 885,
         "logS": -4.046
        },
        {
         "index": 886,
         "logS": -6.51
        },
        {
         "index": 887,
         "logS": -0.72
        },
        {
         "index": 888,
         "logS": -1.52
        },
        {
         "index": 889,
         "logS": -3.19
        },
        {
         "index": 890,
         "logS": -3.54
        },
        {
         "index": 891,
         "logS": -2.55
        },
        {
         "index": 892,
         "logS": -5.24
        },
        {
         "index": 893,
         "logS": 0.85
        },
        {
         "index": 894,
         "logS": -2.7
        },
        {
         "index": 895,
         "logS": -1.82
        },
        {
         "index": 896,
         "logS": -1.96
        },
        {
         "index": 897,
         "logS": -1.96
        },
        {
         "index": 898,
         "logS": -1.96
        },
        {
         "index": 899,
         "logS": -1.74
        },
        {
         "index": 900,
         "logS": -2.33
        },
        {
         "index": 901,
         "logS": -5.16
        },
        {
         "index": 902,
         "logS": -4.314
        },
        {
         "index": 903,
         "logS": -2.21
        },
        {
         "index": 904,
         "logS": -5.696
        },
        {
         "index": 905,
         "logS": 0.106
        },
        {
         "index": 906,
         "logS": -3.952
        },
        {
         "index": 907,
         "logS": -2.281
        },
        {
         "index": 908,
         "logS": -2.8
        },
        {
         "index": 909,
         "logS": -3.73
        },
        {
         "index": 910,
         "logS": -2.7
        },
        {
         "index": 911,
         "logS": -7.2
        },
        {
         "index": 912,
         "logS": -6.9
        },
        {
         "index": 913,
         "logS": -0.8
        },
        {
         "index": 914,
         "logS": -0.4
        },
        {
         "index": 915,
         "logS": -4.66
        },
        {
         "index": 916,
         "logS": -2.7
        },
        {
         "index": 917,
         "logS": -3.083
        },
        {
         "index": 918,
         "logS": -4.56
        },
        {
         "index": 919,
         "logS": -2.843
        },
        {
         "index": 920,
         "logS": -1.66
        },
        {
         "index": 921,
         "logS": -3.63
        },
        {
         "index": 922,
         "logS": -4.03
        },
        {
         "index": 923,
         "logS": -2.92
        },
        {
         "index": 924,
         "logS": -0.73
        },
        {
         "index": 925,
         "logS": -3.53
        },
        {
         "index": 926,
         "logS": -5.915
        },
        {
         "index": 927,
         "logS": -5.65
        },
        {
         "index": 928,
         "logS": -2.6
        },
        {
         "index": 929,
         "logS": -4.28
        },
        {
         "index": 930,
         "logS": -4
        },
        {
         "index": 931,
         "logS": -3.18
        },
        {
         "index": 932,
         "logS": -2.39
        },
        {
         "index": 933,
         "logS": -1.89
        },
        {
         "index": 934,
         "logS": -2.25
        },
        {
         "index": 935,
         "logS": -4.64
        },
        {
         "index": 936,
         "logS": -6.08
        },
        {
         "index": 937,
         "logS": -3.8
        },
        {
         "index": 938,
         "logS": -6.291
        },
        {
         "index": 939,
         "logS": -8.804
        },
        {
         "index": 940,
         "logS": -1.78
        },
        {
         "index": 941,
         "logS": -2.35
        },
        {
         "index": 942,
         "logS": -5.26
        },
        {
         "index": 943,
         "logS": -2.78
        },
        {
         "index": 944,
         "logS": -2.33
        },
        {
         "index": 945,
         "logS": -4.805
        },
        {
         "index": 946,
         "logS": -2.322
        },
        {
         "index": 947,
         "logS": 0
        },
        {
         "index": 948,
         "logS": -2.9
        },
        {
         "index": 949,
         "logS": -5.24
        },
        {
         "index": 950,
         "logS": -3.81
        },
        {
         "index": 951,
         "logS": 0.07
        },
        {
         "index": 952,
         "logS": -0.4
        },
        {
         "index": 953,
         "logS": -1.77
        },
        {
         "index": 954,
         "logS": -4.097
        },
        {
         "index": 955,
         "logS": -4.11
        },
        {
         "index": 956,
         "logS": -5.233
        },
        {
         "index": 957,
         "logS": -4.862
        },
        {
         "index": 958,
         "logS": -2.932
        },
        {
         "index": 959,
         "logS": -2.61
        },
        {
         "index": 960,
         "logS": -2.38
        },
        {
         "index": 961,
         "logS": -1.03
        },
        {
         "index": 962,
         "logS": -0.96
        },
        {
         "index": 963,
         "logS": -7.87
        },
        {
         "index": 964,
         "logS": -3.46
        },
        {
         "index": 965,
         "logS": -1.63
        },
        {
         "index": 966,
         "logS": -4.15
        },
        {
         "index": 967,
         "logS": -1.95
        },
        {
         "index": 968,
         "logS": -4.16
        },
        {
         "index": 969,
         "logS": -1.49
        },
        {
         "index": 970,
         "logS": -1.21
        },
        {
         "index": 971,
         "logS": -2.37
        },
        {
         "index": 972,
         "logS": -2.41
        },
        {
         "index": 973,
         "logS": -0.74
        },
        {
         "index": 974,
         "logS": -2.49
        },
        {
         "index": 975,
         "logS": -3.48
        },
        {
         "index": 976,
         "logS": -4.12
        },
        {
         "index": 977,
         "logS": -3.18
        },
        {
         "index": 978,
         "logS": -4.37
        },
        {
         "index": 979,
         "logS": -4.65
        },
        {
         "index": 980,
         "logS": -2.64
        },
        {
         "index": 981,
         "logS": -2.21
        },
        {
         "index": 982,
         "logS": -4.8
        },
        {
         "index": 983,
         "logS": -4.42
        },
        {
         "index": 984,
         "logS": -2.478
        },
        {
         "index": 985,
         "logS": -4.1
        },
        {
         "index": 986,
         "logS": -2.48
        },
        {
         "index": 987,
         "logS": -1.94
        },
        {
         "index": 988,
         "logS": -3
        },
        {
         "index": 989,
         "logS": -4.43
        },
        {
         "index": 990,
         "logS": -3.408
        },
        {
         "index": 991,
         "logS": -3.493
        },
        {
         "index": 992,
         "logS": 0.58
        },
        {
         "index": 993,
         "logS": 0.28
        },
        {
         "index": 994,
         "logS": -2.05
        },
        {
         "index": 995,
         "logS": -0.72
        },
        {
         "index": 996,
         "logS": -1.92
        },
        {
         "index": 997,
         "logS": -0.49
        },
        {
         "index": 998,
         "logS": -1.34
        },
        {
         "index": 999,
         "logS": -3.37
        },
        {
         "index": 1000,
         "logS": -4.74
        },
        {
         "index": 1001,
         "logS": -1.08
        },
        {
         "index": 1002,
         "logS": -1.34
        },
        {
         "index": 1003,
         "logS": -0.41
        },
        {
         "index": 1004,
         "logS": -2.41
        },
        {
         "index": 1005,
         "logS": 0.02
        },
        {
         "index": 1006,
         "logS": -7.11
        },
        {
         "index": 1007,
         "logS": -1.74
        },
        {
         "index": 1008,
         "logS": -2.77
        },
        {
         "index": 1009,
         "logS": -2.56
        },
        {
         "index": 1010,
         "logS": -0.667
        },
        {
         "index": 1011,
         "logS": -2.878
        },
        {
         "index": 1012,
         "logS": -6.176
        },
        {
         "index": 1013,
         "logS": 1.1
        },
        {
         "index": 1014,
         "logS": 0.76
        },
        {
         "index": 1015,
         "logS": 1.1
        },
        {
         "index": 1016,
         "logS": -2.09
        },
        {
         "index": 1017,
         "logS": -3.29
        },
        {
         "index": 1018,
         "logS": -1.3
        },
        {
         "index": 1019,
         "logS": -5.03
        },
        {
         "index": 1020,
         "logS": -5.82
        },
        {
         "index": 1021,
         "logS": -0.41
        },
        {
         "index": 1022,
         "logS": -2.696
        },
        {
         "index": 1023,
         "logS": -2.62
        },
        {
         "index": 1024,
         "logS": -1.77
        },
        {
         "index": 1025,
         "logS": -3.685
        },
        {
         "index": 1026,
         "logS": -2.452
        },
        {
         "index": 1027,
         "logS": -5.72
        },
        {
         "index": 1028,
         "logS": -4.42
        },
        {
         "index": 1029,
         "logS": -4.376
        },
        {
         "index": 1030,
         "logS": -3.672
        },
        {
         "index": 1031,
         "logS": -3.928
        },
        {
         "index": 1032,
         "logS": -4.114
        },
        {
         "index": 1033,
         "logS": -4.207
        },
        {
         "index": 1034,
         "logS": -4.554
        },
        {
         "index": 1035,
         "logS": -4.634
        },
        {
         "index": 1036,
         "logS": -4.706
        },
        {
         "index": 1037,
         "logS": -4.749
        },
        {
         "index": 1038,
         "logS": -2.86
        },
        {
         "index": 1039,
         "logS": -4.799
        },
        {
         "index": 1040,
         "logS": -4.871
        },
        {
         "index": 1041,
         "logS": -5.153
        },
        {
         "index": 1042,
         "logS": -5.36
        },
        {
         "index": 1043,
         "logS": -3.043
        },
        {
         "index": 1044,
         "logS": -3.324
        },
        {
         "index": 1045,
         "logS": -3.36
        },
        {
         "index": 1046,
         "logS": -3.535
        },
        {
         "index": 1047,
         "logS": -3.68
        },
        {
         "index": 1048,
         "logS": -0.85
        },
        {
         "index": 1049,
         "logS": -1.836
        },
        {
         "index": 1050,
         "logS": -3.59
        },
        {
         "index": 1051,
         "logS": -3.09
        },
        {
         "index": 1052,
         "logS": -2.356
        },
        {
         "index": 1053,
         "logS": -4.11
        },
        {
         "index": 1054,
         "logS": -4.55
        },
        {
         "index": 1055,
         "logS": -2.676
        },
        {
         "index": 1056,
         "logS": 1.09
        },
        {
         "index": 1057,
         "logS": -1.981
        },
        {
         "index": 1058,
         "logS": -4.173
        },
        {
         "index": 1059,
         "logS": -3.84
        },
        {
         "index": 1060,
         "logS": -4.743
        },
        {
         "index": 1061,
         "logS": -4.522
        },
        {
         "index": 1062,
         "logS": -2.82
        },
        {
         "index": 1063,
         "logS": -1.6
        },
        {
         "index": 1064,
         "logS": 0.3
        },
        {
         "index": 1065,
         "logS": 0.79
        },
        {
         "index": 1066,
         "logS": -1.99
        },
        {
         "index": 1067,
         "logS": -3.39
        },
        {
         "index": 1068,
         "logS": -1.34
        },
        {
         "index": 1069,
         "logS": -2.016
        },
        {
         "index": 1070,
         "logS": -3.66
        },
        {
         "index": 1071,
         "logS": 0.32
        },
        {
         "index": 1072,
         "logS": -7.28
        },
        {
         "index": 1073,
         "logS": -2.484
        },
        {
         "index": 1074,
         "logS": -4.755
        },
        {
         "index": 1075,
         "logS": -3.239
        },
        {
         "index": 1076,
         "logS": -4
        },
        {
         "index": 1077,
         "logS": -4.02
        },
        {
         "index": 1078,
         "logS": -5.184
        },
        {
         "index": 1079,
         "logS": -5.37
        },
        {
         "index": 1080,
         "logS": -3.14
        },
        {
         "index": 1081,
         "logS": -2.54
        },
        {
         "index": 1082,
         "logS": -4.02
        },
        {
         "index": 1083,
         "logS": -2.31
        },
        {
         "index": 1084,
         "logS": -7.96
        },
        {
         "index": 1085,
         "logS": -7.321
        },
        {
         "index": 1086,
         "logS": 0.49
        },
        {
         "index": 1087,
         "logS": -0.03
        },
        {
         "index": 1088,
         "logS": 0.94
        },
        {
         "index": 1089,
         "logS": -2.676
        },
        {
         "index": 1090,
         "logS": -2.523
        },
        {
         "index": 1091,
         "logS": -1.39
        },
        {
         "index": 1092,
         "logS": -2.154
        },
        {
         "index": 1093,
         "logS": -3.46
        },
        {
         "index": 1094,
         "logS": -2.39
        },
        {
         "index": 1095,
         "logS": -1.62
        },
        {
         "index": 1096,
         "logS": -3.091
        },
        {
         "index": 1097,
         "logS": -3.36
        },
        {
         "index": 1098,
         "logS": -1.33
        },
        {
         "index": 1099,
         "logS": -2.12
        },
        {
         "index": 1100,
         "logS": -2.273
        },
        {
         "index": 1101,
         "logS": 0.32
        },
        {
         "index": 1102,
         "logS": -3.9
        },
        {
         "index": 1103,
         "logS": -1.506
        },
        {
         "index": 1104,
         "logS": -2.22
        },
        {
         "index": 1105,
         "logS": -2.21
        },
        {
         "index": 1106,
         "logS": -4.15
        },
        {
         "index": 1107,
         "logS": -4.47
        },
        {
         "index": 1108,
         "logS": -3.82
        },
        {
         "index": 1109,
         "logS": -2.54
        },
        {
         "index": 1110,
         "logS": -3.61
        },
        {
         "index": 1111,
         "logS": -4.88
        },
        {
         "index": 1112,
         "logS": -3.68
        },
        {
         "index": 1113,
         "logS": -4.31
        },
        {
         "index": 1114,
         "logS": -4.13
        },
        {
         "index": 1115,
         "logS": -2.404
        },
        {
         "index": 1116,
         "logS": -4.09
        },
        {
         "index": 1117,
         "logS": -1.91
        },
        {
         "index": 1118,
         "logS": -2.68
        },
        {
         "index": 1119,
         "logS": -0.22
        },
        {
         "index": 1120,
         "logS": -2.68
        },
        {
         "index": 1121,
         "logS": -2.168
        },
        {
         "index": 1122,
         "logS": -1.96
        },
        {
         "index": 1123,
         "logS": -1.17
        },
        {
         "index": 1124,
         "logS": -5.752
        },
        {
         "index": 1125,
         "logS": -4.46
        },
        {
         "index": 1126,
         "logS": -6.01
        },
        {
         "index": 1127,
         "logS": -2.07
        },
        {
         "index": 1128,
         "logS": -4.06
        },
        {
         "index": 1129,
         "logS": 0.43
        },
        {
         "index": 1130,
         "logS": -5.68
        },
        {
         "index": 1131,
         "logS": -4.19
        },
        {
         "index": 1132,
         "logS": -3.638
        },
        {
         "index": 1133,
         "logS": -6.726
        },
        {
         "index": 1134,
         "logS": -1.95
        },
        {
         "index": 1135,
         "logS": -1.488
        },
        {
         "index": 1136,
         "logS": 0.96
        },
        {
         "index": 1137,
         "logS": -3.93
        },
        {
         "index": 1138,
         "logS": -0.85
        },
        {
         "index": 1139,
         "logS": 1.144
        },
        {
         "index": 1140,
         "logS": -4.925
        },
        {
         "index": 1141,
         "logS": -3.893
        },
        {
         "index": 1142,
         "logS": -3.79
        },
        {
         "index": 1143,
         "logS": -2.581
        }
       ],
       "schema": {
        "fields": [
         {
          "name": "index",
          "type": "integer"
         },
         {
          "name": "logS",
          "type": "number"
         }
        ],
        "pandas_version": "1.4.0",
        "primaryKey": [
         "index"
        ]
       }
      },
      "text/plain": [
       "0       -2.180\n",
       "1       -2.000\n",
       "2       -1.740\n",
       "3       -1.480\n",
       "4       -3.040\n",
       "5       -1.290\n",
       "6       -1.640\n",
       "7       -0.430\n",
       "8       -4.570\n",
       "9       -4.370\n",
       "10      -4.630\n",
       "11      -4.000\n",
       "12      -3.200\n",
       "13      -6.980\n",
       "14      -5.560\n",
       "15      -4.590\n",
       "16      -4.500\n",
       "17      -3.590\n",
       "18      -3.310\n",
       "19       0.620\n",
       "20      -3.500\n",
       "21      -1.680\n",
       "22      -3.050\n",
       "23      -1.060\n",
       "24      -1.600\n",
       "25      -2.740\n",
       "26      -0.770\n",
       "27      -3.280\n",
       "28      -3.100\n",
       "29      -0.590\n",
       "30      -5.600\n",
       "31      -4.480\n",
       "32      -3.400\n",
       "33      -2.890\n",
       "34       0.810\n",
       "35      -1.870\n",
       "36      -3.540\n",
       "37      -3.040\n",
       "38      -1.620\n",
       "39      -1.460\n",
       "40      -2.000\n",
       "41      -4.290\n",
       "42      -2.290\n",
       "43      -0.170\n",
       "44      -2.060\n",
       "45      -4.070\n",
       "46      -3.270\n",
       "47      -3.750\n",
       "48      -1.970\n",
       "49      -4.140\n",
       "50      -3.390\n",
       "51      -2.090\n",
       "52      -4.679\n",
       "53      -2.680\n",
       "54      -2.680\n",
       "55      -1.740\n",
       "56      -3.999\n",
       "57      -4.220\n",
       "58      -2.430\n",
       "59      -2.370\n",
       "60      -4.430\n",
       "61      -3.810\n",
       "62      -4.350\n",
       "63      -5.060\n",
       "64      -3.080\n",
       "65      -1.730\n",
       "66       0.000\n",
       "67      -1.940\n",
       "68      -1.240\n",
       "69      -1.320\n",
       "70      -2.000\n",
       "71      -2.030\n",
       "72      -4.000\n",
       "73      -3.120\n",
       "74      -3.930\n",
       "75      -2.730\n",
       "76      -1.470\n",
       "77      -3.630\n",
       "78      -5.510\n",
       "79      -4.800\n",
       "80      -4.170\n",
       "81      -1.810\n",
       "82      -3.730\n",
       "83      -3.010\n",
       "84      -7.000\n",
       "85      -1.240\n",
       "86      -3.230\n",
       "87      -0.590\n",
       "88      -2.360\n",
       "89      -2.960\n",
       "90      -4.810\n",
       "91      -4.550\n",
       "92      -2.290\n",
       "93      -3.270\n",
       "94      -5.220\n",
       "95      -3.700\n",
       "96      -5.850\n",
       "97      -0.807\n",
       "98      -2.220\n",
       "99      -1.920\n",
       "100     -3.540\n",
       "101     -0.800\n",
       "102     -3.010\n",
       "103     -5.050\n",
       "104     -4.240\n",
       "105     -8.400\n",
       "106     -2.390\n",
       "107     -4.440\n",
       "108     -3.660\n",
       "109     -6.350\n",
       "110     -0.600\n",
       "111     -2.680\n",
       "112     -1.640\n",
       "113     -0.920\n",
       "114      0.620\n",
       "115     -5.840\n",
       "116    -11.600\n",
       "117     -9.160\n",
       "118     -8.010\n",
       "119     -9.150\n",
       "120     -8.600\n",
       "121     -7.280\n",
       "122     -7.920\n",
       "123     -8.940\n",
       "124     -7.680\n",
       "125     -7.210\n",
       "126     -7.430\n",
       "127     -7.420\n",
       "128     -6.470\n",
       "129     -4.360\n",
       "130     -8.560\n",
       "131     -8.710\n",
       "132     -6.570\n",
       "133     -7.320\n",
       "134     -4.740\n",
       "135     -5.050\n",
       "136     -7.390\n",
       "137     -1.040\n",
       "138     -3.550\n",
       "139     -4.360\n",
       "140     -1.520\n",
       "141     -0.400\n",
       "142     -5.270\n",
       "143     -7.820\n",
       "144     -7.660\n",
       "145     -7.390\n",
       "146     -7.800\n",
       "147     -7.920\n",
       "148     -7.250\n",
       "149     -3.150\n",
       "150     -3.100\n",
       "151     -6.290\n",
       "152     -6.260\n",
       "153     -2.670\n",
       "154     -4.800\n",
       "155     -3.370\n",
       "156     -6.010\n",
       "157     -2.670\n",
       "158     -2.640\n",
       "159     -3.480\n",
       "160     -1.300\n",
       "161     -2.400\n",
       "162     -3.650\n",
       "163     -4.720\n",
       "164     -4.280\n",
       "165      0.380\n",
       "166     -6.270\n",
       "167     -6.250\n",
       "168     -2.210\n",
       "169     -6.140\n",
       "170     -2.340\n",
       "171     -2.050\n",
       "172     -3.220\n",
       "173     -1.550\n",
       "174     -0.920\n",
       "175     -1.220\n",
       "176     -1.300\n",
       "177     -4.260\n",
       "178     -1.190\n",
       "179      0.380\n",
       "180     -2.820\n",
       "181     -5.280\n",
       "182     -5.250\n",
       "183     -1.790\n",
       "184     -4.890\n",
       "185     -1.290\n",
       "186      0.450\n",
       "187     -3.000\n",
       "188     -5.210\n",
       "189     -1.940\n",
       "190     -5.170\n",
       "191     -4.400\n",
       "192     -4.400\n",
       "193     -1.590\n",
       "194     -2.230\n",
       "195      0.520\n",
       "196      0.320\n",
       "197     -0.420\n",
       "198     -2.510\n",
       "199     -2.460\n",
       "200     -4.540\n",
       "201     -1.960\n",
       "202     -4.140\n",
       "203     -1.060\n",
       "204     -1.410\n",
       "205     -3.520\n",
       "206     -0.310\n",
       "207     -3.300\n",
       "208      0.510\n",
       "209     -1.170\n",
       "210     -2.110\n",
       "211     -2.460\n",
       "212     -1.520\n",
       "213     -2.130\n",
       "214     -4.290\n",
       "215     -3.210\n",
       "216     -1.550\n",
       "217     -1.450\n",
       "218     -0.890\n",
       "219     -0.800\n",
       "220     -1.947\n",
       "221      1.020\n",
       "222     -2.090\n",
       "223     -3.760\n",
       "224     -1.110\n",
       "225     -2.560\n",
       "226     -2.030\n",
       "227     -2.730\n",
       "228     -3.030\n",
       "229     -1.720\n",
       "230     -1.080\n",
       "231     -0.490\n",
       "232     -0.700\n",
       "233     -6.960\n",
       "234      0.150\n",
       "235     -3.180\n",
       "236     -0.470\n",
       "237     -5.080\n",
       "238     -3.770\n",
       "239     -3.740\n",
       "240     -1.110\n",
       "241     -5.840\n",
       "242     -0.620\n",
       "243      0.100\n",
       "244     -2.550\n",
       "245     -2.330\n",
       "246     -0.120\n",
       "247      0.110\n",
       "248     -2.280\n",
       "249     -0.620\n",
       "250     -2.740\n",
       "251     -2.580\n",
       "252     -2.090\n",
       "253     -2.050\n",
       "254     -0.290\n",
       "255     -0.190\n",
       "256     -0.700\n",
       "257      0.430\n",
       "258      1.070\n",
       "259     -2.940\n",
       "260     -0.500\n",
       "261     -0.620\n",
       "262     -0.720\n",
       "263     -4.230\n",
       "264     -3.200\n",
       "265     -1.250\n",
       "266     -1.380\n",
       "267      0.360\n",
       "268     -6.390\n",
       "269     -1.340\n",
       "270     -1.400\n",
       "271      0.380\n",
       "272     -5.071\n",
       "273     -2.780\n",
       "274     -4.880\n",
       "275     -0.700\n",
       "276     -0.290\n",
       "277     -4.470\n",
       "278     -0.850\n",
       "279     -1.470\n",
       "280     -6.301\n",
       "281     -0.800\n",
       "282     -0.830\n",
       "283     -5.886\n",
       "284     -1.990\n",
       "285     -2.730\n",
       "286     -0.180\n",
       "287     -0.120\n",
       "288     -0.720\n",
       "289     -0.710\n",
       "290     -0.670\n",
       "291     -1.600\n",
       "292     -0.980\n",
       "293     -0.360\n",
       "294     -0.510\n",
       "295     -7.920\n",
       "296     -5.160\n",
       "297     -2.420\n",
       "298     -3.680\n",
       "299     -0.680\n",
       "300     -1.980\n",
       "301     -6.523\n",
       "302     -0.240\n",
       "303     -0.280\n",
       "304     -4.678\n",
       "305     -4.907\n",
       "306     -6.560\n",
       "307     -1.090\n",
       "308     -3.190\n",
       "309     -2.780\n",
       "310     -0.700\n",
       "311     -3.080\n",
       "312     -3.110\n",
       "313     -1.400\n",
       "314     -1.300\n",
       "315     -2.590\n",
       "316      1.020\n",
       "317     -3.770\n",
       "318     -1.110\n",
       "319     -0.800\n",
       "320     -0.740\n",
       "321     -4.620\n",
       "322     -1.140\n",
       "323     -0.466\n",
       "324     -2.692\n",
       "325     -0.150\n",
       "326     -2.253\n",
       "327     -2.593\n",
       "328     -2.077\n",
       "329     -2.766\n",
       "330     -1.742\n",
       "331     -1.990\n",
       "332     -7.010\n",
       "333     -1.614\n",
       "334     -1.708\n",
       "335     -1.160\n",
       "336     -2.369\n",
       "337     -2.658\n",
       "338     -2.148\n",
       "339     -2.322\n",
       "340     -1.077\n",
       "341     -2.540\n",
       "342     -1.228\n",
       "343     -6.590\n",
       "344     -1.458\n",
       "345     -2.580\n",
       "346     -6.200\n",
       "347     -2.160\n",
       "348     -1.139\n",
       "349     -6.570\n",
       "350     -7.020\n",
       "351     -0.910\n",
       "352     -0.854\n",
       "353     -2.420\n",
       "354     -6.570\n",
       "355     -4.730\n",
       "356     -5.890\n",
       "357     -6.237\n",
       "358     -4.630\n",
       "359     -3.960\n",
       "360      0.540\n",
       "361      1.580\n",
       "362     -1.330\n",
       "363     -2.360\n",
       "364      0.260\n",
       "365     -1.280\n",
       "366     -3.590\n",
       "367     -3.670\n",
       "368      0.570\n",
       "369      0.150\n",
       "370     -2.120\n",
       "371     -3.480\n",
       "372     -3.260\n",
       "373     -3.850\n",
       "374     -6.307\n",
       "375     -1.600\n",
       "376     -0.830\n",
       "377     -2.266\n",
       "378     -1.250\n",
       "379     -1.990\n",
       "380     -3.364\n",
       "381     -3.040\n",
       "382     -0.770\n",
       "383     -2.360\n",
       "384     -0.364\n",
       "385     -0.360\n",
       "386     -5.470\n",
       "387      0.522\n",
       "388     -2.468\n",
       "389     -0.624\n",
       "390     -2.596\n",
       "391     -3.690\n",
       "392     -4.402\n",
       "393     -3.130\n",
       "394     -0.410\n",
       "395     -4.432\n",
       "396     -1.850\n",
       "397     -6.350\n",
       "398     -5.190\n",
       "399      0.715\n",
       "400     -3.538\n",
       "401     -5.931\n",
       "402     -2.084\n",
       "403     -3.850\n",
       "404     -1.716\n",
       "405     -4.450\n",
       "406      0.651\n",
       "407     -4.370\n",
       "408     -2.400\n",
       "409     -3.590\n",
       "410     -5.530\n",
       "411     -4.710\n",
       "412     -4.210\n",
       "413     -4.883\n",
       "414     -4.200\n",
       "415     -1.190\n",
       "416     -0.960\n",
       "417     -1.640\n",
       "418     -2.550\n",
       "419     -2.810\n",
       "420     -6.680\n",
       "421     -8.699\n",
       "422     -8.230\n",
       "423     -8.040\n",
       "424     -7.800\n",
       "425     -8.000\n",
       "426     -8.490\n",
       "427     -9.018\n",
       "428     -2.616\n",
       "429     -2.850\n",
       "430     -1.000\n",
       "431     -3.120\n",
       "432     -1.500\n",
       "433     -0.780\n",
       "434     -1.160\n",
       "435     -2.390\n",
       "436     -2.510\n",
       "437     -0.950\n",
       "438     -4.710\n",
       "439     -4.620\n",
       "440     -4.345\n",
       "441     -5.400\n",
       "442     -2.320\n",
       "443     -2.523\n",
       "444     -4.445\n",
       "445     -2.550\n",
       "446     -0.890\n",
       "447     -1.540\n",
       "448     -1.090\n",
       "449     -0.790\n",
       "450     -6.090\n",
       "451     -4.930\n",
       "452     -3.330\n",
       "453     -3.127\n",
       "454     -4.160\n",
       "455     -2.390\n",
       "456     -4.240\n",
       "457     -4.190\n",
       "458     -2.647\n",
       "459     -3.082\n",
       "460      0.470\n",
       "461     -2.570\n",
       "462     -2.180\n",
       "463     -1.661\n",
       "464     -1.877\n",
       "465     -3.900\n",
       "466     -1.370\n",
       "467     -3.680\n",
       "468     -4.060\n",
       "469     -0.010\n",
       "470     -0.876\n",
       "471     -1.960\n",
       "472     -1.300\n",
       "473     -5.400\n",
       "474     -3.150\n",
       "475     -3.224\n",
       "476     -5.270\n",
       "477     -1.830\n",
       "478     -2.800\n",
       "479     -5.736\n",
       "480     -3.140\n",
       "481     -2.680\n",
       "482     -2.080\n",
       "483     -2.060\n",
       "484     -1.840\n",
       "485     -2.111\n",
       "486     -4.411\n",
       "487     -3.924\n",
       "488     -2.617\n",
       "489     -6.860\n",
       "490     -5.640\n",
       "491     -2.860\n",
       "492     -4.576\n",
       "493     -0.020\n",
       "494     -0.092\n",
       "495     -2.380\n",
       "496     -1.900\n",
       "497     -1.060\n",
       "498     -1.750\n",
       "499     -3.380\n",
       "500     -2.000\n",
       "501     -4.530\n",
       "502     -5.640\n",
       "503     -3.050\n",
       "504     -3.460\n",
       "505     -4.890\n",
       "506     -5.670\n",
       "507     -5.430\n",
       "508     -3.451\n",
       "509     -3.483\n",
       "510     -2.831\n",
       "511     -7.850\n",
       "512     -8.057\n",
       "513     -1.300\n",
       "514     -4.300\n",
       "515     -2.540\n",
       "516     -2.060\n",
       "517     -2.338\n",
       "518     -3.499\n",
       "519     -9.332\n",
       "520     -3.240\n",
       "521     -3.110\n",
       "522     -4.210\n",
       "523     -5.839\n",
       "524     -5.382\n",
       "525     -2.840\n",
       "526     -3.150\n",
       "527     -3.400\n",
       "528     -2.170\n",
       "529     -1.655\n",
       "530     -3.510\n",
       "531     -0.880\n",
       "532     -3.180\n",
       "533     -3.168\n",
       "534     -3.100\n",
       "535     -0.440\n",
       "536     -0.600\n",
       "537     -2.590\n",
       "538     -1.130\n",
       "539     -3.060\n",
       "540     -4.150\n",
       "541     -1.290\n",
       "542     -2.982\n",
       "543     -2.640\n",
       "544     -2.100\n",
       "545     -2.349\n",
       "546     -1.886\n",
       "547     -2.218\n",
       "548     -7.337\n",
       "549     -8.176\n",
       "550     -8.017\n",
       "551     -1.155\n",
       "552     -5.507\n",
       "553     -3.094\n",
       "554     -7.200\n",
       "555     -6.900\n",
       "556     -7.150\n",
       "557     -5.190\n",
       "558     -5.140\n",
       "559     -8.402\n",
       "560     -3.450\n",
       "561     -4.630\n",
       "562     -4.632\n",
       "563     -3.590\n",
       "564     -4.900\n",
       "565     -1.850\n",
       "566     -6.960\n",
       "567     -6.340\n",
       "568     -6.340\n",
       "569     -4.286\n",
       "570     -3.754\n",
       "571     -3.640\n",
       "572     -4.600\n",
       "573     -4.380\n",
       "574     -1.170\n",
       "575     -1.850\n",
       "576     -3.896\n",
       "577     -4.400\n",
       "578     -4.310\n",
       "579     -0.630\n",
       "580     -3.953\n",
       "581     -5.666\n",
       "582     -6.290\n",
       "583     -4.950\n",
       "584     -7.278\n",
       "585     -0.090\n",
       "586     -2.350\n",
       "587     -1.340\n",
       "588     -2.420\n",
       "589     -4.070\n",
       "590     -4.160\n",
       "591     -6.020\n",
       "592     -5.293\n",
       "593     -4.081\n",
       "594     -6.144\n",
       "595     -2.340\n",
       "596     -6.637\n",
       "597     -1.100\n",
       "598     -2.240\n",
       "599      0.523\n",
       "600     -4.328\n",
       "601     -0.850\n",
       "602     -2.240\n",
       "603      0.480\n",
       "604     -1.660\n",
       "605     -0.450\n",
       "606     -1.440\n",
       "607     -5.470\n",
       "608     -3.380\n",
       "609      0.350\n",
       "610     -2.580\n",
       "611     -5.115\n",
       "612     -7.320\n",
       "613     -1.570\n",
       "614     -2.980\n",
       "615     -3.960\n",
       "616     -3.504\n",
       "617     -4.080\n",
       "618     -1.620\n",
       "619     -4.860\n",
       "620     -4.230\n",
       "621     -3.350\n",
       "622     -3.800\n",
       "623     -4.260\n",
       "624     -1.456\n",
       "625     -2.170\n",
       "626     -0.170\n",
       "627     -8.172\n",
       "628     -6.180\n",
       "629     -4.160\n",
       "630     -5.410\n",
       "631     -5.240\n",
       "632     -5.282\n",
       "633     -3.620\n",
       "634      0.700\n",
       "635     -5.030\n",
       "636     -2.920\n",
       "637     -4.955\n",
       "638     -3.955\n",
       "639     -6.124\n",
       "640     -1.360\n",
       "641     -0.600\n",
       "642      1.100\n",
       "643     -4.300\n",
       "644     -2.090\n",
       "645     -5.540\n",
       "646     -3.028\n",
       "647     -5.660\n",
       "648     -3.420\n",
       "649     -3.420\n",
       "650     -3.810\n",
       "651     -0.040\n",
       "652     -2.320\n",
       "653     -1.280\n",
       "654     -3.000\n",
       "655     -4.100\n",
       "656      0.150\n",
       "657     -2.740\n",
       "658     -2.350\n",
       "659     -3.800\n",
       "660     -3.390\n",
       "661     -1.750\n",
       "662     -0.660\n",
       "663     -0.660\n",
       "664     -0.850\n",
       "665     -2.770\n",
       "666     -4.250\n",
       "667     -0.400\n",
       "668     -2.100\n",
       "669     -2.350\n",
       "670      0.290\n",
       "671     -8.600\n",
       "672     -4.735\n",
       "673     -3.571\n",
       "674     -1.640\n",
       "675     -1.560\n",
       "676     -4.380\n",
       "677     -3.300\n",
       "678     -4.040\n",
       "679     -3.927\n",
       "680     -4.700\n",
       "681     -6.025\n",
       "682     -2.300\n",
       "683     -4.570\n",
       "684     -1.600\n",
       "685     -1.800\n",
       "686     -6.876\n",
       "687     -0.972\n",
       "688     -3.430\n",
       "689     -5.613\n",
       "690     -6.780\n",
       "691     -3.430\n",
       "692     -6.000\n",
       "693     -5.000\n",
       "694     -1.800\n",
       "695     -4.099\n",
       "696     -3.320\n",
       "697     -4.445\n",
       "698     -4.047\n",
       "699     -3.370\n",
       "700     -8.003\n",
       "701     -2.340\n",
       "702     -1.995\n",
       "703      0.640\n",
       "704     -0.820\n",
       "705     -0.100\n",
       "706     -2.943\n",
       "707     -4.571\n",
       "708      0.740\n",
       "709     -2.337\n",
       "710      1.120\n",
       "711     -0.600\n",
       "712     -3.246\n",
       "713     -1.960\n",
       "714     -3.583\n",
       "715     -1.710\n",
       "716     -2.700\n",
       "717     -6.317\n",
       "718     -4.530\n",
       "719     -4.920\n",
       "720     -3.670\n",
       "721     -8.334\n",
       "722     -8.400\n",
       "723     -5.230\n",
       "724     -3.840\n",
       "725     -4.430\n",
       "726     -5.210\n",
       "727     -0.400\n",
       "728     -2.920\n",
       "729     -1.930\n",
       "730     -2.630\n",
       "731     -3.090\n",
       "732     -4.880\n",
       "733     -5.460\n",
       "734     -3.817\n",
       "735     -2.296\n",
       "736     -3.040\n",
       "737     -3.586\n",
       "738     -2.160\n",
       "739     -1.520\n",
       "740     -1.040\n",
       "741     -1.230\n",
       "742     -3.010\n",
       "743     -1.600\n",
       "744     -6.620\n",
       "745     -1.000\n",
       "746     -3.610\n",
       "747     -3.785\n",
       "748     -3.658\n",
       "749     -1.210\n",
       "750     -1.010\n",
       "751     -4.120\n",
       "752     -2.150\n",
       "753     -2.461\n",
       "754     -4.194\n",
       "755     -3.401\n",
       "756      0.009\n",
       "757     -1.920\n",
       "758     -1.520\n",
       "759     -1.060\n",
       "760     -2.863\n",
       "761     -6.490\n",
       "762     -0.550\n",
       "763     -0.630\n",
       "764     -3.270\n",
       "765     -3.536\n",
       "766     -1.450\n",
       "767     -2.930\n",
       "768     -3.270\n",
       "769     -5.259\n",
       "770     -3.021\n",
       "771     -0.244\n",
       "772      0.390\n",
       "773     -4.594\n",
       "774     -1.990\n",
       "775     -4.640\n",
       "776     -3.592\n",
       "777     -3.604\n",
       "778     -6.005\n",
       "779     -3.370\n",
       "780     -0.820\n",
       "781      0.358\n",
       "782      0.060\n",
       "783     -1.370\n",
       "784     -3.210\n",
       "785     -3.550\n",
       "786     -2.770\n",
       "787     -3.880\n",
       "788     -2.518\n",
       "789     -1.899\n",
       "790     -5.270\n",
       "791     -4.873\n",
       "792     -3.240\n",
       "793     -5.350\n",
       "794     -3.030\n",
       "795     -2.530\n",
       "796     -2.350\n",
       "797     -1.807\n",
       "798     -3.180\n",
       "799     -1.601\n",
       "800     -0.900\n",
       "801      1.570\n",
       "802     -2.925\n",
       "803     -2.230\n",
       "804     -2.820\n",
       "805     -0.985\n",
       "806     -5.190\n",
       "807     -2.928\n",
       "808     -3.664\n",
       "809     -6.890\n",
       "810      0.460\n",
       "811     -0.220\n",
       "812     -1.850\n",
       "813     -0.990\n",
       "814     -0.820\n",
       "815     -4.690\n",
       "816      0.580\n",
       "817     -1.240\n",
       "818     -1.870\n",
       "819      1.340\n",
       "820     -4.690\n",
       "821     -0.460\n",
       "822     -3.380\n",
       "823     -3.170\n",
       "824     -1.360\n",
       "825     -0.140\n",
       "826     -0.390\n",
       "827     -0.240\n",
       "828     -3.850\n",
       "829     -3.300\n",
       "830     -3.350\n",
       "831     -1.827\n",
       "832     -5.284\n",
       "833     -2.436\n",
       "834     -2.730\n",
       "835     -3.780\n",
       "836     -1.803\n",
       "837     -2.564\n",
       "838     -1.260\n",
       "839     -2.253\n",
       "840     -1.220\n",
       "841     -2.670\n",
       "842     -1.989\n",
       "843     -6.800\n",
       "844     -0.850\n",
       "845     -2.190\n",
       "846     -1.010\n",
       "847     -2.440\n",
       "848     -2.570\n",
       "849     -0.742\n",
       "850     -2.890\n",
       "851     -3.083\n",
       "852     -2.820\n",
       "853     -3.030\n",
       "854      1.110\n",
       "855     -1.920\n",
       "856     -2.280\n",
       "857     -3.570\n",
       "858     -8.600\n",
       "859     -3.600\n",
       "860     -4.770\n",
       "861     -2.460\n",
       "862     -1.700\n",
       "863     -3.190\n",
       "864     -4.700\n",
       "865      0.610\n",
       "866     -4.760\n",
       "867     -2.190\n",
       "868     -3.796\n",
       "869     -3.220\n",
       "870     -3.561\n",
       "871     -3.760\n",
       "872     -3.796\n",
       "873     -1.800\n",
       "874     -0.220\n",
       "875     -5.460\n",
       "876     -3.380\n",
       "877     -2.220\n",
       "878      0.260\n",
       "879     -1.280\n",
       "880     -5.880\n",
       "881     -3.931\n",
       "882     -3.171\n",
       "883     -4.800\n",
       "884     -4.570\n",
       "885     -4.046\n",
       "886     -6.510\n",
       "887     -0.720\n",
       "888     -1.520\n",
       "889     -3.190\n",
       "890     -3.540\n",
       "891     -2.550\n",
       "892     -5.240\n",
       "893      0.850\n",
       "894     -2.700\n",
       "895     -1.820\n",
       "896     -1.960\n",
       "897     -1.960\n",
       "898     -1.960\n",
       "899     -1.740\n",
       "900     -2.330\n",
       "901     -5.160\n",
       "902     -4.314\n",
       "903     -2.210\n",
       "904     -5.696\n",
       "905      0.106\n",
       "906     -3.952\n",
       "907     -2.281\n",
       "908     -2.800\n",
       "909     -3.730\n",
       "910     -2.700\n",
       "911     -7.200\n",
       "912     -6.900\n",
       "913     -0.800\n",
       "914     -0.400\n",
       "915     -4.660\n",
       "916     -2.700\n",
       "917     -3.083\n",
       "918     -4.560\n",
       "919     -2.843\n",
       "920     -1.660\n",
       "921     -3.630\n",
       "922     -4.030\n",
       "923     -2.920\n",
       "924     -0.730\n",
       "925     -3.530\n",
       "926     -5.915\n",
       "927     -5.650\n",
       "928     -2.600\n",
       "929     -4.280\n",
       "930     -4.000\n",
       "931     -3.180\n",
       "932     -2.390\n",
       "933     -1.890\n",
       "934     -2.250\n",
       "935     -4.640\n",
       "936     -6.080\n",
       "937     -3.800\n",
       "938     -6.291\n",
       "939     -8.804\n",
       "940     -1.780\n",
       "941     -2.350\n",
       "942     -5.260\n",
       "943     -2.780\n",
       "944     -2.330\n",
       "945     -4.805\n",
       "946     -2.322\n",
       "947      0.000\n",
       "948     -2.900\n",
       "949     -5.240\n",
       "950     -3.810\n",
       "951      0.070\n",
       "952     -0.400\n",
       "953     -1.770\n",
       "954     -4.097\n",
       "955     -4.110\n",
       "956     -5.233\n",
       "957     -4.862\n",
       "958     -2.932\n",
       "959     -2.610\n",
       "960     -2.380\n",
       "961     -1.030\n",
       "962     -0.960\n",
       "963     -7.870\n",
       "964     -3.460\n",
       "965     -1.630\n",
       "966     -4.150\n",
       "967     -1.950\n",
       "968     -4.160\n",
       "969     -1.490\n",
       "970     -1.210\n",
       "971     -2.370\n",
       "972     -2.410\n",
       "973     -0.740\n",
       "974     -2.490\n",
       "975     -3.480\n",
       "976     -4.120\n",
       "977     -3.180\n",
       "978     -4.370\n",
       "979     -4.650\n",
       "980     -2.640\n",
       "981     -2.210\n",
       "982     -4.800\n",
       "983     -4.420\n",
       "984     -2.478\n",
       "985     -4.100\n",
       "986     -2.480\n",
       "987     -1.940\n",
       "988     -3.000\n",
       "989     -4.430\n",
       "990     -3.408\n",
       "991     -3.493\n",
       "992      0.580\n",
       "993      0.280\n",
       "994     -2.050\n",
       "995     -0.720\n",
       "996     -1.920\n",
       "997     -0.490\n",
       "998     -1.340\n",
       "999     -3.370\n",
       "1000    -4.740\n",
       "1001    -1.080\n",
       "1002    -1.340\n",
       "1003    -0.410\n",
       "1004    -2.410\n",
       "1005     0.020\n",
       "1006    -7.110\n",
       "1007    -1.740\n",
       "1008    -2.770\n",
       "1009    -2.560\n",
       "1010    -0.667\n",
       "1011    -2.878\n",
       "1012    -6.176\n",
       "1013     1.100\n",
       "1014     0.760\n",
       "1015     1.100\n",
       "1016    -2.090\n",
       "1017    -3.290\n",
       "1018    -1.300\n",
       "1019    -5.030\n",
       "1020    -5.820\n",
       "1021    -0.410\n",
       "1022    -2.696\n",
       "1023    -2.620\n",
       "1024    -1.770\n",
       "1025    -3.685\n",
       "1026    -2.452\n",
       "1027    -5.720\n",
       "1028    -4.420\n",
       "1029    -4.376\n",
       "1030    -3.672\n",
       "1031    -3.928\n",
       "1032    -4.114\n",
       "1033    -4.207\n",
       "1034    -4.554\n",
       "1035    -4.634\n",
       "1036    -4.706\n",
       "1037    -4.749\n",
       "1038    -2.860\n",
       "1039    -4.799\n",
       "1040    -4.871\n",
       "1041    -5.153\n",
       "1042    -5.360\n",
       "1043    -3.043\n",
       "1044    -3.324\n",
       "1045    -3.360\n",
       "1046    -3.535\n",
       "1047    -3.680\n",
       "1048    -0.850\n",
       "1049    -1.836\n",
       "1050    -3.590\n",
       "1051    -3.090\n",
       "1052    -2.356\n",
       "1053    -4.110\n",
       "1054    -4.550\n",
       "1055    -2.676\n",
       "1056     1.090\n",
       "1057    -1.981\n",
       "1058    -4.173\n",
       "1059    -3.840\n",
       "1060    -4.743\n",
       "1061    -4.522\n",
       "1062    -2.820\n",
       "1063    -1.600\n",
       "1064     0.300\n",
       "1065     0.790\n",
       "1066    -1.990\n",
       "1067    -3.390\n",
       "1068    -1.340\n",
       "1069    -2.016\n",
       "1070    -3.660\n",
       "1071     0.320\n",
       "1072    -7.280\n",
       "1073    -2.484\n",
       "1074    -4.755\n",
       "1075    -3.239\n",
       "1076    -4.000\n",
       "1077    -4.020\n",
       "1078    -5.184\n",
       "1079    -5.370\n",
       "1080    -3.140\n",
       "1081    -2.540\n",
       "1082    -4.020\n",
       "1083    -2.310\n",
       "1084    -7.960\n",
       "1085    -7.321\n",
       "1086     0.490\n",
       "1087    -0.030\n",
       "1088     0.940\n",
       "1089    -2.676\n",
       "1090    -2.523\n",
       "1091    -1.390\n",
       "1092    -2.154\n",
       "1093    -3.460\n",
       "1094    -2.390\n",
       "1095    -1.620\n",
       "1096    -3.091\n",
       "1097    -3.360\n",
       "1098    -1.330\n",
       "1099    -2.120\n",
       "1100    -2.273\n",
       "1101     0.320\n",
       "1102    -3.900\n",
       "1103    -1.506\n",
       "1104    -2.220\n",
       "1105    -2.210\n",
       "1106    -4.150\n",
       "1107    -4.470\n",
       "1108    -3.820\n",
       "1109    -2.540\n",
       "1110    -3.610\n",
       "1111    -4.880\n",
       "1112    -3.680\n",
       "1113    -4.310\n",
       "1114    -4.130\n",
       "1115    -2.404\n",
       "1116    -4.090\n",
       "1117    -1.910\n",
       "1118    -2.680\n",
       "1119    -0.220\n",
       "1120    -2.680\n",
       "1121    -2.168\n",
       "1122    -1.960\n",
       "1123    -1.170\n",
       "1124    -5.752\n",
       "1125    -4.460\n",
       "1126    -6.010\n",
       "1127    -2.070\n",
       "1128    -4.060\n",
       "1129     0.430\n",
       "1130    -5.680\n",
       "1131    -4.190\n",
       "1132    -3.638\n",
       "1133    -6.726\n",
       "1134    -1.950\n",
       "1135    -1.488\n",
       "1136     0.960\n",
       "1137    -3.930\n",
       "1138    -0.850\n",
       "1139     1.144\n",
       "1140    -4.925\n",
       "1141    -3.893\n",
       "1142    -3.790\n",
       "1143    -2.581\n",
       "Name: logS, dtype: float64"
      ]
     },
     "execution_count": 6,
     "metadata": {},
     "output_type": "execute_result"
    }
   ],
   "source": [
    "y = df['logS']\n",
    "y"
   ]
  },
  {
   "cell_type": "code",
   "execution_count": 18,
   "id": "1789eca1-21eb-47d5-8b34-d31bcdbc2475",
   "metadata": {},
   "outputs": [
    {
     "data": {
      "application/vnd.dataresource+json": {
       "data": [
        {
         "AromaticProportion": 0,
         "MolLogP": 2.5954,
         "MolWt": 167.85,
         "NumRotatableBonds": 0,
         "index": 0
        },
        {
         "AromaticProportion": 0,
         "MolLogP": 2.3765,
         "MolWt": 133.405,
         "NumRotatableBonds": 0,
         "index": 1
        },
        {
         "AromaticProportion": 0,
         "MolLogP": 2.5938,
         "MolWt": 167.85,
         "NumRotatableBonds": 1,
         "index": 2
        },
        {
         "AromaticProportion": 0,
         "MolLogP": 2.0289,
         "MolWt": 133.405,
         "NumRotatableBonds": 1,
         "index": 3
        },
        {
         "AromaticProportion": 0,
         "MolLogP": 2.9189,
         "MolWt": 187.375,
         "NumRotatableBonds": 1,
         "index": 4
        },
        {
         "AromaticProportion": 0,
         "MolLogP": 1.81,
         "MolWt": 98.96,
         "NumRotatableBonds": 0,
         "index": 5
        },
        {
         "AromaticProportion": 0,
         "MolLogP": 1.9352,
         "MolWt": 96.944,
         "NumRotatableBonds": 0,
         "index": 6
        },
        {
         "AromaticProportion": 0,
         "MolLogP": 1.4054,
         "MolWt": 118.176,
         "NumRotatableBonds": 4,
         "index": 7
        },
        {
         "AromaticProportion": 0.6,
         "MolLogP": 4.3002,
         "MolWt": 215.894,
         "NumRotatableBonds": 0,
         "index": 8
        },
        {
         "AromaticProportion": 0.6,
         "MolLogP": 2.5654,
         "MolWt": 132.206,
         "NumRotatableBonds": 0,
         "index": 9
        },
        {
         "AromaticProportion": 0.6,
         "MolLogP": 4.3002,
         "MolWt": 215.894,
         "NumRotatableBonds": 0,
         "index": 10
        },
        {
         "AromaticProportion": 0.6666666667,
         "MolLogP": 3.6468,
         "MolWt": 181.449,
         "NumRotatableBonds": 0,
         "index": 11
        },
        {
         "AromaticProportion": 0.6666666667,
         "MolLogP": 2.61186,
         "MolWt": 120.195,
         "NumRotatableBonds": 0,
         "index": 12
        },
        {
         "AromaticProportion": 0.6,
         "MolLogP": 4.7366,
         "MolWt": 393.698,
         "NumRotatableBonds": 0,
         "index": 13
        },
        {
         "AromaticProportion": 0.6,
         "MolLogP": 4.3002,
         "MolWt": 215.894,
         "NumRotatableBonds": 0,
         "index": 14
        },
        {
         "AromaticProportion": 0.6,
         "MolLogP": 2.92028,
         "MolWt": 134.222,
         "NumRotatableBonds": 0,
         "index": 15
        },
        {
         "AromaticProportion": 0.6666666667,
         "MolLogP": 3.9741,
         "MolWt": 314.802,
         "NumRotatableBonds": 0,
         "index": 16
        },
        {
         "AromaticProportion": 0.6666666667,
         "MolLogP": 3.6468,
         "MolWt": 181.449,
         "NumRotatableBonds": 0,
         "index": 17
        },
        {
         "AromaticProportion": 0.6666666667,
         "MolLogP": 2.61186,
         "MolWt": 120.195,
         "NumRotatableBonds": 0,
         "index": 18
        },
        {
         "AromaticProportion": 0.75,
         "MolLogP": 1.0978,
         "MolWt": 110.112,
         "NumRotatableBonds": 0,
         "index": 19
        },
        {
         "AromaticProportion": 0.75,
         "MolLogP": 3.2116,
         "MolWt": 235.906,
         "NumRotatableBonds": 0,
         "index": 20
        },
        {
         "AromaticProportion": 0,
         "MolLogP": 1.7762,
         "MolWt": 187.862,
         "NumRotatableBonds": 1,
         "index": 21
        },
        {
         "AromaticProportion": 0.75,
         "MolLogP": 2.9934,
         "MolWt": 147.004,
         "NumRotatableBonds": 0,
         "index": 22
        },
        {
         "AromaticProportion": 0,
         "MolLogP": 1.464,
         "MolWt": 98.96,
         "NumRotatableBonds": 1,
         "index": 23
        },
        {
         "AromaticProportion": 0,
         "MolLogP": 1.8525,
         "MolWt": 112.987,
         "NumRotatableBonds": 1,
         "index": 24
        },
        {
         "AromaticProportion": 0,
         "MolLogP": 2.6496,
         "MolWt": 170.92,
         "NumRotatableBonds": 1,
         "index": 25
        },
        {
         "AromaticProportion": 0,
         "MolLogP": 1.0594,
         "MolWt": 118.176,
         "NumRotatableBonds": 5,
         "index": 26
        },
        {
         "AromaticProportion": 0.6,
         "MolLogP": 2.8114,
         "MolWt": 134.222,
         "NumRotatableBonds": 2,
         "index": 27
        },
        {
         "AromaticProportion": 0.5,
         "MolLogP": 1.503,
         "MolWt": 168.108,
         "NumRotatableBonds": 2,
         "index": 28
        },
        {
         "AromaticProportion": 0,
         "MolLogP": 0.4051,
         "MolWt": 58.08,
         "NumRotatableBonds": 0,
         "index": 29
        },
        {
         "AromaticProportion": 0.6666666667,
         "MolLogP": 3.9741,
         "MolWt": 314.802,
         "NumRotatableBonds": 0,
         "index": 30
        },
        {
         "AromaticProportion": 0.6666666667,
         "MolLogP": 3.6468,
         "MolWt": 181.449,
         "NumRotatableBonds": 0,
         "index": 31
        },
        {
         "AromaticProportion": 0.6666666667,
         "MolLogP": 2.61186,
         "MolWt": 120.195,
         "NumRotatableBonds": 0,
         "index": 32
        },
        {
         "AromaticProportion": 0.4,
         "MolLogP": 1.4112,
         "MolWt": 213.105,
         "NumRotatableBonds": 3,
         "index": 33
        },
        {
         "AromaticProportion": 0.75,
         "MolLogP": 1.0978,
         "MolWt": 110.112,
         "NumRotatableBonds": 0,
         "index": 34
        },
        {
         "AromaticProportion": 0,
         "MolLogP": 1.3584,
         "MolWt": 54.092,
         "NumRotatableBonds": 1,
         "index": 35
        },
        {
         "AromaticProportion": 0.75,
         "MolLogP": 3.2116,
         "MolWt": 235.906,
         "NumRotatableBonds": 0,
         "index": 36
        },
        {
         "AromaticProportion": 0.75,
         "MolLogP": 2.9934,
         "MolWt": 147.004,
         "NumRotatableBonds": 0,
         "index": 37
        },
        {
         "AromaticProportion": 0,
         "MolLogP": 1.8541,
         "MolWt": 112.987,
         "NumRotatableBonds": 2,
         "index": 38
        },
        {
         "AromaticProportion": 0,
         "MolLogP": 0.4903,
         "MolWt": 132.232,
         "NumRotatableBonds": 2,
         "index": 39
        },
        {
         "AromaticProportion": 0.75,
         "MolLogP": 1.9648,
         "MolWt": 114.094,
         "NumRotatableBonds": 0,
         "index": 40
        },
        {
         "AromaticProportion": 0.8333333333,
         "MolLogP": 3.45664,
         "MolWt": 156.228,
         "NumRotatableBonds": 0,
         "index": 41
        },
        {
         "AromaticProportion": 0.5,
         "MolLogP": 1.503,
         "MolWt": 168.108,
         "NumRotatableBonds": 2,
         "index": 42
        },
        {
         "AromaticProportion": 0.75,
         "MolLogP": 1.0978,
         "MolWt": 110.112,
         "NumRotatableBonds": 0,
         "index": 43
        },
        {
         "AromaticProportion": 0,
         "MolLogP": 1.8926,
         "MolWt": 80.13,
         "NumRotatableBonds": 0,
         "index": 44
        },
        {
         "AromaticProportion": 0.75,
         "MolLogP": 3.2116,
         "MolWt": 235.906,
         "NumRotatableBonds": 0,
         "index": 45
        },
        {
         "AromaticProportion": 0.75,
         "MolLogP": 2.9934,
         "MolWt": 147.004,
         "NumRotatableBonds": 0,
         "index": 46
        },
        {
         "AromaticProportion": 0.6,
         "MolLogP": 2.8114,
         "MolWt": 134.222,
         "NumRotatableBonds": 2,
         "index": 47
        },
        {
         "AromaticProportion": 0.75,
         "MolLogP": 1.9648,
         "MolWt": 114.094,
         "NumRotatableBonds": 0,
         "index": 48
        },
        {
         "AromaticProportion": 0.8333333333,
         "MolLogP": 3.45664,
         "MolWt": 156.228,
         "NumRotatableBonds": 0,
         "index": 49
        },
        {
         "AromaticProportion": 0.5,
         "MolLogP": 1.503,
         "MolWt": 168.108,
         "NumRotatableBonds": 2,
         "index": 50
        },
        {
         "AromaticProportion": 0,
         "MolLogP": 1.7485,
         "MolWt": 68.119,
         "NumRotatableBonds": 2,
         "index": 51
        },
        {
         "AromaticProportion": 0.8333333333,
         "MolLogP": 3.45664,
         "MolWt": 156.228,
         "NumRotatableBonds": 0,
         "index": 52
        },
        {
         "AromaticProportion": 0,
         "MolLogP": 2.1386,
         "MolWt": 82.146,
         "NumRotatableBonds": 3,
         "index": 53
        },
        {
         "AromaticProportion": 1,
         "MolLogP": 2.783,
         "MolWt": 180.21,
         "NumRotatableBonds": 0,
         "index": 54
        },
        {
         "AromaticProportion": 0,
         "MolLogP": 2.7441,
         "MolWt": 154.253,
         "NumRotatableBonds": 0,
         "index": 55
        },
        {
         "AromaticProportion": 0,
         "MolLogP": 4.2693,
         "MolWt": 302.458,
         "NumRotatableBonds": 0,
         "index": 56
        },
        {
         "AromaticProportion": 0.9333333333,
         "MolLogP": 2.9702,
         "MolWt": 194.237,
         "NumRotatableBonds": 0,
         "index": 57
        },
        {
         "AromaticProportion": 0,
         "MolLogP": 2.0373,
         "MolWt": 137.02,
         "NumRotatableBonds": 1,
         "index": 58
        },
        {
         "AromaticProportion": 0,
         "MolLogP": 2.1814,
         "MolWt": 137.02,
         "NumRotatableBonds": 2,
         "index": 59
        },
        {
         "AromaticProportion": 0,
         "MolLogP": 3.3517,
         "MolWt": 179.101,
         "NumRotatableBonds": 5,
         "index": 60
        },
        {
         "AromaticProportion": 0,
         "MolLogP": 2.9616,
         "MolWt": 165.074,
         "NumRotatableBonds": 4,
         "index": 61
        },
        {
         "AromaticProportion": 0.9090909091,
         "MolLogP": 3.6023,
         "MolWt": 207.07,
         "NumRotatableBonds": 0,
         "index": 62
        },
        {
         "AromaticProportion": 0,
         "MolLogP": 3.7418,
         "MolWt": 193.128,
         "NumRotatableBonds": 6,
         "index": 63
        },
        {
         "AromaticProportion": 0,
         "MolLogP": 2.5715,
         "MolWt": 151.047,
         "NumRotatableBonds": 3,
         "index": 64
        },
        {
         "AromaticProportion": 0,
         "MolLogP": 1.7913,
         "MolWt": 122.993,
         "NumRotatableBonds": 1,
         "index": 65
        },
        {
         "AromaticProportion": 0,
         "MolLogP": 0.7788,
         "MolWt": 74.123,
         "NumRotatableBonds": 2,
         "index": 66
        },
        {
         "AromaticProportion": 0,
         "MolLogP": 1.5824,
         "MolWt": 56.108,
         "NumRotatableBonds": 1,
         "index": 67
        },
        {
         "AromaticProportion": 0,
         "MolLogP": 1.0296,
         "MolWt": 54.092,
         "NumRotatableBonds": 0,
         "index": 68
        },
        {
         "AromaticProportion": 0,
         "MolLogP": 1.6201,
         "MolWt": 143.411,
         "NumRotatableBonds": 1,
         "index": 69
        },
        {
         "AromaticProportion": 0,
         "MolLogP": 1.8812,
         "MolWt": 92.569,
         "NumRotatableBonds": 1,
         "index": 70
        },
        {
         "AromaticProportion": 0,
         "MolLogP": 2.0253,
         "MolWt": 92.569,
         "NumRotatableBonds": 2,
         "index": 71
        },
        {
         "AromaticProportion": 0,
         "MolLogP": 3.1956,
         "MolWt": 134.65,
         "NumRotatableBonds": 5,
         "index": 72
        },
        {
         "AromaticProportion": 0,
         "MolLogP": 2.8055,
         "MolWt": 120.623,
         "NumRotatableBonds": 4,
         "index": 73
        },
        {
         "AromaticProportion": 0.9090909091,
         "MolLogP": 3.4932,
         "MolWt": 162.619,
         "NumRotatableBonds": 0,
         "index": 74
        },
        {
         "AromaticProportion": 0,
         "MolLogP": 2.4154,
         "MolWt": 106.596,
         "NumRotatableBonds": 3,
         "index": 75
        },
        {
         "AromaticProportion": 0,
         "MolLogP": 1.6352,
         "MolWt": 78.542,
         "NumRotatableBonds": 1,
         "index": 76
        },
        {
         "AromaticProportion": 0,
         "MolLogP": 3.1194,
         "MolWt": 158.285,
         "NumRotatableBonds": 8,
         "index": 77
        },
        {
         "AromaticProportion": 0,
         "MolLogP": 3.923,
         "MolWt": 140.27,
         "NumRotatableBonds": 7,
         "index": 78
        },
        {
         "AromaticProportion": 0,
         "MolLogP": 3.8996,
         "MolWt": 186.339,
         "NumRotatableBonds": 10,
         "index": 79
        },
        {
         "AromaticProportion": 0.8333333333,
         "MolLogP": 3.4022,
         "MolWt": 156.228,
         "NumRotatableBonds": 1,
         "index": 80
        },
        {
         "AromaticProportion": 0,
         "MolLogP": 1.9491,
         "MolWt": 116.204,
         "NumRotatableBonds": 5,
         "index": 81
        },
        {
         "AromaticProportion": 0,
         "MolLogP": 2.7527,
         "MolWt": 98.189,
         "NumRotatableBonds": 4,
         "index": 82
        },
        {
         "AromaticProportion": 0,
         "MolLogP": 2.1999,
         "MolWt": 96.173,
         "NumRotatableBonds": 3,
         "index": 83
        },
        {
         "AromaticProportion": 0,
         "MolLogP": 5.46,
         "MolWt": 242.447,
         "NumRotatableBonds": 14,
         "index": 84
        },
        {
         "AromaticProportion": 0,
         "MolLogP": 1.559,
         "MolWt": 102.177,
         "NumRotatableBonds": 4,
         "index": 85
        },
        {
         "AromaticProportion": 0,
         "MolLogP": 2.3626,
         "MolWt": 84.162,
         "NumRotatableBonds": 3,
         "index": 86
        },
        {
         "AromaticProportion": 0,
         "MolLogP": 1.3334,
         "MolWt": 100.161,
         "NumRotatableBonds": 3,
         "index": 87
        },
        {
         "AromaticProportion": 0,
         "MolLogP": 1.8098,
         "MolWt": 82.146,
         "NumRotatableBonds": 2,
         "index": 88
        },
        {
         "AromaticProportion": 0,
         "MolLogP": 2.2215,
         "MolWt": 184.02,
         "NumRotatableBonds": 2,
         "index": 89
        },
        {
         "AromaticProportion": 0,
         "MolLogP": 3.3918,
         "MolWt": 226.101,
         "NumRotatableBonds": 5,
         "index": 90
        },
        {
         "AromaticProportion": 0.9090909091,
         "MolLogP": 3.4444,
         "MolWt": 254.07,
         "NumRotatableBonds": 0,
         "index": 91
        },
        {
         "AromaticProportion": 0,
         "MolLogP": 1.8314,
         "MolWt": 169.993,
         "NumRotatableBonds": 1,
         "index": 92
        },
        {
         "AromaticProportion": 0,
         "MolLogP": 2.5067,
         "MolWt": 96.173,
         "NumRotatableBonds": 0,
         "index": 93
        },
        {
         "AromaticProportion": 0.8571428571,
         "MolLogP": 3.56622,
         "MolWt": 180.25,
         "NumRotatableBonds": 0,
         "index": 94
        },
        {
         "AromaticProportion": 0.9090909091,
         "MolLogP": 3.14822,
         "MolWt": 142.201,
         "NumRotatableBonds": 0,
         "index": 95
        },
        {
         "AromaticProportion": 0.9333333333,
         "MolLogP": 4.30142,
         "MolWt": 192.261,
         "NumRotatableBonds": 0,
         "index": 96
        },
        {
         "AromaticProportion": 0.6666666667,
         "MolLogP": -0.9264,
         "MolWt": 126.115,
         "NumRotatableBonds": 0,
         "index": 97
        },
        {
         "AromaticProportion": 0.9090909091,
         "MolLogP": 2.5454,
         "MolWt": 144.173,
         "NumRotatableBonds": 0,
         "index": 98
        },
        {
         "AromaticProportion": 0.9090909091,
         "MolLogP": 2.422,
         "MolWt": 143.189,
         "NumRotatableBonds": 0,
         "index": 99
        },
        {
         "AromaticProportion": 0.7692307692,
         "MolLogP": 2.748,
         "MolWt": 173.171,
         "NumRotatableBonds": 1,
         "index": 100
        },
        {
         "AromaticProportion": 0,
         "MolLogP": 0.6731,
         "MolWt": 89.094,
         "NumRotatableBonds": 2,
         "index": 101
        },
        {
         "AromaticProportion": 0,
         "MolLogP": 2.7293,
         "MolWt": 144.258,
         "NumRotatableBonds": 7,
         "index": 102
        },
        {
         "AromaticProportion": 0,
         "MolLogP": 3.5329,
         "MolWt": 126.243,
         "NumRotatableBonds": 6,
         "index": 103
        },
        {
         "AromaticProportion": 0,
         "MolLogP": 2.9801,
         "MolWt": 124.227,
         "NumRotatableBonds": 5,
         "index": 104
        },
        {
         "AromaticProportion": 0,
         "MolLogP": 6.2402,
         "MolWt": 270.501,
         "NumRotatableBonds": 16,
         "index": 105
        },
        {
         "AromaticProportion": 0,
         "MolLogP": 2.3392,
         "MolWt": 130.231,
         "NumRotatableBonds": 6,
         "index": 106
        },
        {
         "AromaticProportion": 0,
         "MolLogP": 3.1428,
         "MolWt": 112.216,
         "NumRotatableBonds": 5,
         "index": 107
        },
        {
         "AromaticProportion": 0,
         "MolLogP": 2.59,
         "MolWt": 110.2,
         "NumRotatableBonds": 4,
         "index": 108
        },
        {
         "AromaticProportion": 0,
         "MolLogP": 5.0699,
         "MolWt": 228.42,
         "NumRotatableBonds": 13,
         "index": 109
        },
        {
         "AromaticProportion": 0,
         "MolLogP": 1.1689,
         "MolWt": 88.15,
         "NumRotatableBonds": 3,
         "index": 110
        },
        {
         "AromaticProportion": 0,
         "MolLogP": 1.9725,
         "MolWt": 70.135,
         "NumRotatableBonds": 2,
         "index": 111
        },
        {
         "AromaticProportion": 0,
         "MolLogP": 1.4197,
         "MolWt": 68.119,
         "NumRotatableBonds": 1,
         "index": 112
        },
        {
         "AromaticProportion": 0.6666666667,
         "MolLogP": 1.7399,
         "MolWt": 122.167,
         "NumRotatableBonds": 1,
         "index": 113
        },
        {
         "AromaticProportion": 0,
         "MolLogP": 0.3887,
         "MolWt": 60.096,
         "NumRotatableBonds": 1,
         "index": 114
        },
        {
         "AromaticProportion": 0,
         "MolLogP": 4.6798,
         "MolWt": 214.393,
         "NumRotatableBonds": 12,
         "index": 115
        },
        {
         "AromaticProportion": 0.5454545455,
         "MolLogP": 9.8876,
         "MolWt": 498.662,
         "NumRotatableBonds": 1,
         "index": 116
        },
        {
         "AromaticProportion": 0.6,
         "MolLogP": 8.5808,
         "MolWt": 429.772,
         "NumRotatableBonds": 1,
         "index": 117
        },
        {
         "AromaticProportion": 0.6666666667,
         "MolLogP": 7.274,
         "MolWt": 360.882,
         "NumRotatableBonds": 1,
         "index": 118
        },
        {
         "AromaticProportion": 0.6,
         "MolLogP": 8.5808,
         "MolWt": 429.772,
         "NumRotatableBonds": 1,
         "index": 119
        },
        {
         "AromaticProportion": 0.6666666667,
         "MolLogP": 7.274,
         "MolWt": 360.882,
         "NumRotatableBonds": 1,
         "index": 120
        },
        {
         "AromaticProportion": 0.75,
         "MolLogP": 5.9672,
         "MolWt": 291.992,
         "NumRotatableBonds": 1,
         "index": 121
        },
        {
         "AromaticProportion": 0.6315789474,
         "MolLogP": 7.9274,
         "MolWt": 395.327,
         "NumRotatableBonds": 1,
         "index": 122
        },
        {
         "AromaticProportion": 0.6315789474,
         "MolLogP": 7.9274,
         "MolWt": 395.327,
         "NumRotatableBonds": 1,
         "index": 123
        },
        {
         "AromaticProportion": 0.6666666667,
         "MolLogP": 7.274,
         "MolWt": 360.882,
         "NumRotatableBonds": 1,
         "index": 124
        },
        {
         "AromaticProportion": 0.7058823529,
         "MolLogP": 6.6206,
         "MolWt": 326.437,
         "NumRotatableBonds": 1,
         "index": 125
        },
        {
         "AromaticProportion": 0.7058823529,
         "MolLogP": 6.6206,
         "MolWt": 326.437,
         "NumRotatableBonds": 1,
         "index": 126
        },
        {
         "AromaticProportion": 0.6666666667,
         "MolLogP": 7.274,
         "MolWt": 360.882,
         "NumRotatableBonds": 1,
         "index": 127
        },
        {
         "AromaticProportion": 0.75,
         "MolLogP": 5.9672,
         "MolWt": 291.992,
         "NumRotatableBonds": 1,
         "index": 128
        },
        {
         "AromaticProportion": 0,
         "MolLogP": 2.6885,
         "MolWt": 100.205,
         "NumRotatableBonds": 0,
         "index": 129
        },
        {
         "AromaticProportion": 0.6666666667,
         "MolLogP": 7.274,
         "MolWt": 360.882,
         "NumRotatableBonds": 1,
         "index": 130
        },
        {
         "AromaticProportion": 0.6666666667,
         "MolLogP": 7.274,
         "MolWt": 360.882,
         "NumRotatableBonds": 1,
         "index": 131
        },
        {
         "AromaticProportion": 0.75,
         "MolLogP": 5.9672,
         "MolWt": 291.992,
         "NumRotatableBonds": 1,
         "index": 132
        },
        {
         "AromaticProportion": 0.7058823529,
         "MolLogP": 6.6206,
         "MolWt": 326.437,
         "NumRotatableBonds": 1,
         "index": 133
        },
        {
         "AromaticProportion": 0,
         "MolLogP": 3.0786,
         "MolWt": 114.232,
         "NumRotatableBonds": 1,
         "index": 134
        },
        {
         "AromaticProportion": 0,
         "MolLogP": 3.4687,
         "MolWt": 128.259,
         "NumRotatableBonds": 2,
         "index": 135
        },
        {
         "AromaticProportion": 0.75,
         "MolLogP": 5.9672,
         "MolWt": 291.992,
         "NumRotatableBonds": 1,
         "index": 136
        },
        {
         "AromaticProportion": 0,
         "MolLogP": 1.4149,
         "MolWt": 102.177,
         "NumRotatableBonds": 2,
         "index": 137
        },
        {
         "AromaticProportion": 0,
         "MolLogP": 2.4425,
         "MolWt": 86.178,
         "NumRotatableBonds": 0,
         "index": 138
        },
        {
         "AromaticProportion": 0,
         "MolLogP": 2.8326,
         "MolWt": 100.205,
         "NumRotatableBonds": 1,
         "index": 139
        },
        {
         "AromaticProportion": 0,
         "MolLogP": 1.805,
         "MolWt": 116.204,
         "NumRotatableBonds": 3,
         "index": 140
        },
        {
         "AromaticProportion": 0,
         "MolLogP": 1.0248,
         "MolWt": 88.15,
         "NumRotatableBonds": 0,
         "index": 141
        },
        {
         "AromaticProportion": 0.8571428571,
         "MolLogP": 4.6604,
         "MolWt": 223.102,
         "NumRotatableBonds": 1,
         "index": 142
        },
        {
         "AromaticProportion": 0.6666666667,
         "MolLogP": 7.274,
         "MolWt": 360.882,
         "NumRotatableBonds": 1,
         "index": 143
        },
        {
         "AromaticProportion": 0.6315789474,
         "MolLogP": 7.9274,
         "MolWt": 395.327,
         "NumRotatableBonds": 1,
         "index": 144
        },
        {
         "AromaticProportion": 0.6666666667,
         "MolLogP": 7.274,
         "MolWt": 360.882,
         "NumRotatableBonds": 1,
         "index": 145
        },
        {
         "AromaticProportion": 0.7058823529,
         "MolLogP": 6.6206,
         "MolWt": 326.437,
         "NumRotatableBonds": 1,
         "index": 146
        },
        {
         "AromaticProportion": 0.7058823529,
         "MolLogP": 6.6206,
         "MolWt": 326.437,
         "NumRotatableBonds": 1,
         "index": 147
        },
        {
         "AromaticProportion": 0.75,
         "MolLogP": 5.9672,
         "MolWt": 291.992,
         "NumRotatableBonds": 1,
         "index": 148
        },
        {
         "AromaticProportion": 0.5454545455,
         "MolLogP": 4.0058,
         "MolWt": 231.893,
         "NumRotatableBonds": 0,
         "index": 149
        },
        {
         "AromaticProportion": 0.5454545455,
         "MolLogP": 4.0058,
         "MolWt": 231.893,
         "NumRotatableBonds": 0,
         "index": 150
        },
        {
         "AromaticProportion": 0.8,
         "MolLogP": 5.3138,
         "MolWt": 257.547,
         "NumRotatableBonds": 1,
         "index": 151
        },
        {
         "AromaticProportion": 0.8,
         "MolLogP": 5.3138,
         "MolWt": 257.547,
         "NumRotatableBonds": 1,
         "index": 152
        },
        {
         "AromaticProportion": 0.6,
         "MolLogP": 3.3524,
         "MolWt": 197.448,
         "NumRotatableBonds": 0,
         "index": 153
        },
        {
         "AromaticProportion": 0,
         "MolLogP": 2.9345,
         "MolWt": 114.232,
         "NumRotatableBonds": 2,
         "index": 154
        },
        {
         "AromaticProportion": 0.5454545455,
         "MolLogP": 4.0058,
         "MolWt": 231.893,
         "NumRotatableBonds": 0,
         "index": 155
        },
        {
         "AromaticProportion": 0.8,
         "MolLogP": 5.3138,
         "MolWt": 257.547,
         "NumRotatableBonds": 1,
         "index": 156
        },
        {
         "AromaticProportion": 0.6,
         "MolLogP": 3.3524,
         "MolWt": 197.448,
         "NumRotatableBonds": 0,
         "index": 157
        },
        {
         "AromaticProportion": 0.6,
         "MolLogP": 3.3524,
         "MolWt": 197.448,
         "NumRotatableBonds": 0,
         "index": 158
        },
        {
         "AromaticProportion": 0.5454545455,
         "MolLogP": 2.9016,
         "MolWt": 192.001,
         "NumRotatableBonds": 1,
         "index": 159
        },
        {
         "AromaticProportion": 0.6666666667,
         "MolLogP": 2.699,
         "MolWt": 163.003,
         "NumRotatableBonds": 0,
         "index": 160
        },
        {
         "AromaticProportion": 0,
         "MolLogP": 2.1386,
         "MolWt": 82.146,
         "NumRotatableBonds": 1,
         "index": 161
        },
        {
         "AromaticProportion": 0,
         "MolLogP": 2.2984,
         "MolWt": 86.178,
         "NumRotatableBonds": 1,
         "index": 162
        },
        {
         "AromaticProportion": 0.8333333333,
         "MolLogP": 3.45664,
         "MolWt": 156.228,
         "NumRotatableBonds": 0,
         "index": 163
        },
        {
         "AromaticProportion": 0,
         "MolLogP": 2.6885,
         "MolWt": 100.205,
         "NumRotatableBonds": 2,
         "index": 164
        },
        {
         "AromaticProportion": 0.75,
         "MolLogP": 1.69844,
         "MolWt": 107.156,
         "NumRotatableBonds": 0,
         "index": 165
        },
        {
         "AromaticProportion": 0.8,
         "MolLogP": 5.3138,
         "MolWt": 257.547,
         "NumRotatableBonds": 1,
         "index": 166
        },
        {
         "AromaticProportion": 0.8,
         "MolLogP": 5.3138,
         "MolWt": 257.547,
         "NumRotatableBonds": 1,
         "index": 167
        },
        {
         "AromaticProportion": 0.6,
         "MolLogP": 3.3524,
         "MolWt": 197.448,
         "NumRotatableBonds": 0,
         "index": 168
        },
        {
         "AromaticProportion": 0.8,
         "MolLogP": 5.3138,
         "MolWt": 257.547,
         "NumRotatableBonds": 1,
         "index": 169
        },
        {
         "AromaticProportion": 0.6,
         "MolLogP": 3.3524,
         "MolWt": 197.448,
         "NumRotatableBonds": 0,
         "index": 170
        },
        {
         "AromaticProportion": 0.6,
         "MolLogP": 2.31746,
         "MolWt": 136.194,
         "NumRotatableBonds": 0,
         "index": 171
        },
        {
         "AromaticProportion": 0.375,
         "MolLogP": 1.71962,
         "MolWt": 227.132,
         "NumRotatableBonds": 3,
         "index": 172
        },
        {
         "AromaticProportion": 0.6666666667,
         "MolLogP": 2.699,
         "MolWt": 163.003,
         "NumRotatableBonds": 0,
         "index": 173
        },
        {
         "AromaticProportion": 0,
         "MolLogP": 1.8034,
         "MolWt": 116.204,
         "NumRotatableBonds": 2,
         "index": 174
        },
        {
         "AromaticProportion": 0,
         "MolLogP": 1.6593,
         "MolWt": 116.204,
         "NumRotatableBonds": 2,
         "index": 175
        },
        {
         "AromaticProportion": 0,
         "MolLogP": 1.8675,
         "MolWt": 114.188,
         "NumRotatableBonds": 2,
         "index": 176
        },
        {
         "AromaticProportion": 0,
         "MolLogP": 2.6885,
         "MolWt": 100.205,
         "NumRotatableBonds": 2,
         "index": 177
        },
        {
         "AromaticProportion": 0.6666666667,
         "MolLogP": 2.00904,
         "MolWt": 122.167,
         "NumRotatableBonds": 0,
         "index": 178
        },
        {
         "AromaticProportion": 0.75,
         "MolLogP": 1.69844,
         "MolWt": 107.156,
         "NumRotatableBonds": 0,
         "index": 179
        },
        {
         "AromaticProportion": 0.4615384615,
         "MolLogP": 1.81142,
         "MolWt": 182.135,
         "NumRotatableBonds": 2,
         "index": 180
        },
        {
         "AromaticProportion": 0.8571428571,
         "MolLogP": 4.6604,
         "MolWt": 223.102,
         "NumRotatableBonds": 1,
         "index": 181
        },
        {
         "AromaticProportion": 0.8571428571,
         "MolLogP": 4.6604,
         "MolWt": 223.102,
         "NumRotatableBonds": 1,
         "index": 182
        },
        {
         "AromaticProportion": 0.6666666667,
         "MolLogP": 2.699,
         "MolWt": 163.003,
         "NumRotatableBonds": 0,
         "index": 183
        },
        {
         "AromaticProportion": 0.8333333333,
         "MolLogP": 3.45664,
         "MolWt": 156.228,
         "NumRotatableBonds": 0,
         "index": 184
        },
        {
         "AromaticProportion": 0.6666666667,
         "MolLogP": 2.00904,
         "MolWt": 122.167,
         "NumRotatableBonds": 0,
         "index": 185
        },
        {
         "AromaticProportion": 0.75,
         "MolLogP": 1.69844,
         "MolWt": 107.156,
         "NumRotatableBonds": 0,
         "index": 186
        },
        {
         "AromaticProportion": 0.4615384615,
         "MolLogP": 1.81142,
         "MolWt": 182.135,
         "NumRotatableBonds": 2,
         "index": 187
        },
        {
         "AromaticProportion": 0.8571428571,
         "MolLogP": 4.6604,
         "MolWt": 223.102,
         "NumRotatableBonds": 1,
         "index": 188
        },
        {
         "AromaticProportion": 0.8333333333,
         "MolLogP": 2.85164,
         "MolWt": 157.216,
         "NumRotatableBonds": 0,
         "index": 189
        },
        {
         "AromaticProportion": 0.9333333333,
         "MolLogP": 3.5752,
         "MolWt": 193.249,
         "NumRotatableBonds": 0,
         "index": 190
        },
        {
         "AromaticProportion": 0.9090909091,
         "MolLogP": 3.6023,
         "MolWt": 207.07,
         "NumRotatableBonds": 0,
         "index": 191
        },
        {
         "AromaticProportion": 0.9090909091,
         "MolLogP": 3.6023,
         "MolWt": 207.07,
         "NumRotatableBonds": 0,
         "index": 192
        },
        {
         "AromaticProportion": 0,
         "MolLogP": 1.7897,
         "MolWt": 122.993,
         "NumRotatableBonds": 0,
         "index": 193
        },
        {
         "AromaticProportion": 0.75,
         "MolLogP": 2.75752,
         "MolWt": 171.037,
         "NumRotatableBonds": 0,
         "index": 194
        },
        {
         "AromaticProportion": 0,
         "MolLogP": 0.9854,
         "MolWt": 72.107,
         "NumRotatableBonds": 1,
         "index": 195
        },
        {
         "AromaticProportion": 0,
         "MolLogP": 0.7614,
         "MolWt": 70.091,
         "NumRotatableBonds": 1,
         "index": 196
        },
        {
         "AromaticProportion": 0,
         "MolLogP": 0.7954,
         "MolWt": 118.176,
         "NumRotatableBonds": 5,
         "index": 197
        },
        {
         "AromaticProportion": 0,
         "MolLogP": 2.4138,
         "MolWt": 106.596,
         "NumRotatableBonds": 1,
         "index": 198
        },
        {
         "AromaticProportion": 0.6666666667,
         "MolLogP": 2.3486,
         "MolWt": 142.585,
         "NumRotatableBonds": 1,
         "index": 199
        },
        {
         "AromaticProportion": 0.9230769231,
         "MolLogP": 4.007,
         "MolWt": 188.657,
         "NumRotatableBonds": 1,
         "index": 200
        },
        {
         "AromaticProportion": 0,
         "MolLogP": 2.0237,
         "MolWt": 92.569,
         "NumRotatableBonds": 1,
         "index": 201
        },
        {
         "AromaticProportion": 0.9090909091,
         "MolLogP": 3.4932,
         "MolWt": 162.619,
         "NumRotatableBonds": 0,
         "index": 202
        },
        {
         "AromaticProportion": 0.75,
         "MolLogP": 2.0456,
         "MolWt": 128.558,
         "NumRotatableBonds": 0,
         "index": 203
        },
        {
         "AromaticProportion": 0,
         "MolLogP": 1.6336,
         "MolWt": 78.542,
         "NumRotatableBonds": 0,
         "index": 204
        },
        {
         "AromaticProportion": 0.75,
         "MolLogP": 2.64842,
         "MolWt": 126.586,
         "NumRotatableBonds": 0,
         "index": 205
        },
        {
         "AromaticProportion": 0,
         "MolLogP": -1.25912,
         "MolWt": 84.082,
         "NumRotatableBonds": 0,
         "index": 206
        },
        {
         "AromaticProportion": 0,
         "MolLogP": 3.326,
         "MolWt": 156.269,
         "NumRotatableBonds": 7,
         "index": 207
        },
        {
         "AromaticProportion": 0.75,
         "MolLogP": 1.644,
         "MolWt": 107.156,
         "NumRotatableBonds": 1,
         "index": 208
        },
        {
         "AromaticProportion": 0,
         "MolLogP": 1.4149,
         "MolWt": 102.177,
         "NumRotatableBonds": 3,
         "index": 209
        },
        {
         "AromaticProportion": 0,
         "MolLogP": 2.1951,
         "MolWt": 130.231,
         "NumRotatableBonds": 5,
         "index": 210
        },
        {
         "AromaticProportion": 0,
         "MolLogP": 2.3218,
         "MolWt": 126.199,
         "NumRotatableBonds": 4,
         "index": 211
        },
        {
         "AromaticProportion": 0,
         "MolLogP": 1.6215,
         "MolWt": 100.161,
         "NumRotatableBonds": 3,
         "index": 212
        },
        {
         "AromaticProportion": 0,
         "MolLogP": 2.4017,
         "MolWt": 128.215,
         "NumRotatableBonds": 5,
         "index": 213
        },
        {
         "AromaticProportion": 0.8333333333,
         "MolLogP": 3.4022,
         "MolWt": 156.228,
         "NumRotatableBonds": 1,
         "index": 214
        },
        {
         "AromaticProportion": 0.6666666667,
         "MolLogP": 2.55742,
         "MolWt": 120.195,
         "NumRotatableBonds": 1,
         "index": 215
        },
        {
         "AromaticProportion": 0,
         "MolLogP": 1.9475,
         "MolWt": 116.204,
         "NumRotatableBonds": 4,
         "index": 216
        },
        {
         "AromaticProportion": 0,
         "MolLogP": 2.1557,
         "MolWt": 114.188,
         "NumRotatableBonds": 4,
         "index": 217
        },
        {
         "AromaticProportion": 0,
         "MolLogP": 1.5574,
         "MolWt": 102.177,
         "NumRotatableBonds": 3,
         "index": 218
        },
        {
         "AromaticProportion": 0,
         "MolLogP": 1.7656,
         "MolWt": 100.161,
         "NumRotatableBonds": 3,
         "index": 219
        },
        {
         "AromaticProportion": 0.9090909091,
         "MolLogP": 0.1254,
         "MolWt": 148.125,
         "NumRotatableBonds": 0,
         "index": 220
        },
        {
         "AromaticProportion": 0.8571428571,
         "MolLogP": 0.7872,
         "MolWt": 95.101,
         "NumRotatableBonds": 0,
         "index": 221
        },
        {
         "AromaticProportion": 0,
         "MolLogP": 1.8298,
         "MolWt": 169.993,
         "NumRotatableBonds": 0,
         "index": 222
        },
        {
         "AromaticProportion": 0.6,
         "MolLogP": 3.11842,
         "MolWt": 134.222,
         "NumRotatableBonds": 1,
         "index": 223
        },
        {
         "AromaticProportion": 0.8333333333,
         "MolLogP": 0.4284,
         "MolWt": 162.152,
         "NumRotatableBonds": 1,
         "index": 224
        },
        {
         "AromaticProportion": 0,
         "MolLogP": 1.9725,
         "MolWt": 70.135,
         "NumRotatableBonds": 0,
         "index": 225
        },
        {
         "AromaticProportion": 0,
         "MolLogP": 1.7485,
         "MolWt": 68.119,
         "NumRotatableBonds": 1,
         "index": 226
        },
        {
         "AromaticProportion": 0,
         "MolLogP": 1.9725,
         "MolWt": 70.135,
         "NumRotatableBonds": 1,
         "index": 227
        },
        {
         "AromaticProportion": 0,
         "MolLogP": 2.3626,
         "MolWt": 84.162,
         "NumRotatableBonds": 2,
         "index": 228
        },
        {
         "AromaticProportion": 0,
         "MolLogP": 2.3376,
         "MolWt": 130.231,
         "NumRotatableBonds": 4,
         "index": 229
        },
        {
         "AromaticProportion": 0,
         "MolLogP": 1.9475,
         "MolWt": 116.204,
         "NumRotatableBonds": 3,
         "index": 230
        },
        {
         "AromaticProportion": 0,
         "MolLogP": 1.5574,
         "MolWt": 102.177,
         "NumRotatableBonds": 2,
         "index": 231
        },
        {
         "AromaticProportion": 0,
         "MolLogP": 1.4133,
         "MolWt": 102.177,
         "NumRotatableBonds": 2,
         "index": 232
        },
        {
         "AromaticProportion": 0.9333333333,
         "MolLogP": 4.30142,
         "MolWt": 192.261,
         "NumRotatableBonds": 0,
         "index": 233
        },
        {
         "AromaticProportion": 0,
         "MolLogP": 1.1673,
         "MolWt": 88.15,
         "NumRotatableBonds": 1,
         "index": 234
        },
        {
         "AromaticProportion": 0,
         "MolLogP": 2.0524,
         "MolWt": 72.151,
         "NumRotatableBonds": 1,
         "index": 235
        },
        {
         "AromaticProportion": 0,
         "MolLogP": 1.0248,
         "MolWt": 88.15,
         "NumRotatableBonds": 2,
         "index": 236
        },
        {
         "AromaticProportion": 0,
         "MolLogP": 3.2227,
         "MolWt": 114.232,
         "NumRotatableBonds": 4,
         "index": 237
        },
        {
         "AromaticProportion": 0.9090909091,
         "MolLogP": 3.14822,
         "MolWt": 142.201,
         "NumRotatableBonds": 0,
         "index": 238
        },
        {
         "AromaticProportion": 0,
         "MolLogP": 2.4425,
         "MolWt": 86.178,
         "NumRotatableBonds": 2,
         "index": 239
        },
        {
         "AromaticProportion": 0,
         "MolLogP": 1.4149,
         "MolWt": 102.177,
         "NumRotatableBonds": 3,
         "index": 240
        },
        {
         "AromaticProportion": 0.9333333333,
         "MolLogP": 4.30142,
         "MolWt": 192.261,
         "NumRotatableBonds": 0,
         "index": 241
        },
        {
         "AromaticProportion": 0.75,
         "MolLogP": 1.70062,
         "MolWt": 108.14,
         "NumRotatableBonds": 0,
         "index": 242
        },
        {
         "AromaticProportion": 0,
         "MolLogP": 0.6347,
         "MolWt": 74.123,
         "NumRotatableBonds": 1,
         "index": 243
        },
        {
         "AromaticProportion": 0,
         "MolLogP": 1.6623,
         "MolWt": 58.124,
         "NumRotatableBonds": 0,
         "index": 244
        },
        {
         "AromaticProportion": 0,
         "MolLogP": 1.5824,
         "MolWt": 56.108,
         "NumRotatableBonds": 0,
         "index": 245
        },
        {
         "AromaticProportion": 0.9090909091,
         "MolLogP": 0.72822,
         "MolWt": 146.153,
         "NumRotatableBonds": 0,
         "index": 246
        },
        {
         "AromaticProportion": 0,
         "MolLogP": 1.1853,
         "MolWt": 86.134,
         "NumRotatableBonds": 0,
         "index": 247
        },
        {
         "AromaticProportion": 0.9090909091,
         "MolLogP": 2.5454,
         "MolWt": 144.173,
         "NumRotatableBonds": 0,
         "index": 248
        },
        {
         "AromaticProportion": 0,
         "MolLogP": 0.6715,
         "MolWt": 89.094,
         "NumRotatableBonds": 1,
         "index": 249
        },
        {
         "AromaticProportion": 0,
         "MolLogP": 2.7277,
         "MolWt": 144.258,
         "NumRotatableBonds": 6,
         "index": 250
        },
        {
         "AromaticProportion": 0,
         "MolLogP": 2.9359,
         "MolWt": 142.242,
         "NumRotatableBonds": 6,
         "index": 251
        },
        {
         "AromaticProportion": 0,
         "MolLogP": 2.3376,
         "MolWt": 130.231,
         "NumRotatableBonds": 5,
         "index": 252
        },
        {
         "AromaticProportion": 0,
         "MolLogP": 2.5458,
         "MolWt": 128.215,
         "NumRotatableBonds": 5,
         "index": 253
        },
        {
         "AromaticProportion": 0,
         "MolLogP": 1.1673,
         "MolWt": 88.15,
         "NumRotatableBonds": 2,
         "index": 254
        },
        {
         "AromaticProportion": 0,
         "MolLogP": 1.3755,
         "MolWt": 86.134,
         "NumRotatableBonds": 2,
         "index": 255
        },
        {
         "AromaticProportion": 0.6,
         "MolLogP": 1.0577,
         "MolWt": 138.166,
         "NumRotatableBonds": 3,
         "index": 256
        },
        {
         "AromaticProportion": 0,
         "MolLogP": 0.3871,
         "MolWt": 60.096,
         "NumRotatableBonds": 0,
         "index": 257
        },
        {
         "AromaticProportion": 0,
         "MolLogP": -0.1036,
         "MolWt": 85.106,
         "NumRotatableBonds": 0,
         "index": 258
        },
        {
         "AromaticProportion": 0,
         "MolLogP": 3.5079,
         "MolWt": 172.312,
         "NumRotatableBonds": 8,
         "index": 259
        },
        {
         "AromaticProportion": 0,
         "MolLogP": 1.4149,
         "MolWt": 102.177,
         "NumRotatableBonds": 1,
         "index": 260
        },
        {
         "AromaticProportion": 0,
         "MolLogP": 1.4133,
         "MolWt": 102.177,
         "NumRotatableBonds": 0,
         "index": 261
        },
        {
         "AromaticProportion": 0,
         "MolLogP": 1.6215,
         "MolWt": 100.161,
         "NumRotatableBonds": 0,
         "index": 262
        },
        {
         "AromaticProportion": 0,
         "MolLogP": 2.8326,
         "MolWt": 100.205,
         "NumRotatableBonds": 2,
         "index": 263
        },
        {
         "AromaticProportion": 0.5454545455,
         "MolLogP": 2.9016,
         "MolWt": 192.001,
         "NumRotatableBonds": 1,
         "index": 264
        },
        {
         "AromaticProportion": 0.6666666667,
         "MolLogP": 2.699,
         "MolWt": 163.003,
         "NumRotatableBonds": 0,
         "index": 265
        },
        {
         "AromaticProportion": 0.6666666667,
         "MolLogP": 2.00904,
         "MolWt": 122.167,
         "NumRotatableBonds": 0,
         "index": 266
        },
        {
         "AromaticProportion": 0.75,
         "MolLogP": 1.69844,
         "MolWt": 107.156,
         "NumRotatableBonds": 0,
         "index": 267
        },
        {
         "AromaticProportion": 0.8571428571,
         "MolLogP": 4.6604,
         "MolWt": 223.102,
         "NumRotatableBonds": 1,
         "index": 268
        },
        {
         "AromaticProportion": 0.6666666667,
         "MolLogP": 2.699,
         "MolWt": 163.003,
         "NumRotatableBonds": 0,
         "index": 269
        },
        {
         "AromaticProportion": 0.6666666667,
         "MolLogP": 2.00904,
         "MolWt": 122.167,
         "NumRotatableBonds": 0,
         "index": 270
        },
        {
         "AromaticProportion": 0.75,
         "MolLogP": 1.69844,
         "MolWt": 107.156,
         "NumRotatableBonds": 0,
         "index": 271
        },
        {
         "AromaticProportion": 0.4615384615,
         "MolLogP": 2.7828,
         "MolWt": 352.39,
         "NumRotatableBonds": 6,
         "index": 272
        },
        {
         "AromaticProportion": 0.6666666667,
         "MolLogP": 2.3486,
         "MolWt": 142.585,
         "NumRotatableBonds": 1,
         "index": 273
        },
        {
         "AromaticProportion": 0.9230769231,
         "MolLogP": 4.007,
         "MolWt": 188.657,
         "NumRotatableBonds": 1,
         "index": 274
        },
        {
         "AromaticProportion": 0.75,
         "MolLogP": 2.0456,
         "MolWt": 128.558,
         "NumRotatableBonds": 0,
         "index": 275
        },
        {
         "AromaticProportion": 0,
         "MolLogP": 1.13888,
         "MolWt": 89.525,
         "NumRotatableBonds": 1,
         "index": 276
        },
        {
         "AromaticProportion": 0.5,
         "MolLogP": 2.0026,
         "MolWt": 324.336,
         "NumRotatableBonds": 4,
         "index": 277
        },
        {
         "AromaticProportion": 0,
         "MolLogP": 1.9475,
         "MolWt": 116.204,
         "NumRotatableBonds": 3,
         "index": 278
        },
        {
         "AromaticProportion": 0,
         "MolLogP": 1.9475,
         "MolWt": 116.204,
         "NumRotatableBonds": 4,
         "index": 279
        },
        {
         "AromaticProportion": 0.4137931034,
         "MolLogP": 3.9531,
         "MolWt": 394.471,
         "NumRotatableBonds": 9,
         "index": 280
        },
        {
         "AromaticProportion": 0,
         "MolLogP": 1.5574,
         "MolWt": 102.177,
         "NumRotatableBonds": 3,
         "index": 281
        },
        {
         "AromaticProportion": 0,
         "MolLogP": 1.7656,
         "MolWt": 100.161,
         "NumRotatableBonds": 3,
         "index": 282
        },
        {
         "AromaticProportion": 0.4285714286,
         "MolLogP": 3.563,
         "MolWt": 380.444,
         "NumRotatableBonds": 8,
         "index": 283
        },
        {
         "AromaticProportion": 0,
         "MolLogP": 1.8098,
         "MolWt": 82.146,
         "NumRotatableBonds": 0,
         "index": 284
        },
        {
         "AromaticProportion": 0,
         "MolLogP": 1.8284,
         "MolWt": 70.135,
         "NumRotatableBonds": 1,
         "index": 285
        },
        {
         "AromaticProportion": 0,
         "MolLogP": 1.0232,
         "MolWt": 88.15,
         "NumRotatableBonds": 1,
         "index": 286
        },
        {
         "AromaticProportion": 0,
         "MolLogP": 1.2314,
         "MolWt": 86.134,
         "NumRotatableBonds": 1,
         "index": 287
        },
        {
         "AromaticProportion": 0,
         "MolLogP": 1.4149,
         "MolWt": 102.177,
         "NumRotatableBonds": 3,
         "index": 288
        },
        {
         "AromaticProportion": 0,
         "MolLogP": 1.4149,
         "MolWt": 102.177,
         "NumRotatableBonds": 3,
         "index": 289
        },
        {
         "AromaticProportion": 0,
         "MolLogP": 1.6215,
         "MolWt": 100.161,
         "NumRotatableBonds": 2,
         "index": 290
        },
        {
         "AromaticProportion": 0,
         "MolLogP": 2.3376,
         "MolWt": 130.231,
         "NumRotatableBonds": 4,
         "index": 291
        },
        {
         "AromaticProportion": 0,
         "MolLogP": 1.9475,
         "MolWt": 116.204,
         "NumRotatableBonds": 3,
         "index": 292
        },
        {
         "AromaticProportion": 0,
         "MolLogP": 1.5574,
         "MolWt": 102.177,
         "NumRotatableBonds": 2,
         "index": 293
        },
        {
         "AromaticProportion": 0,
         "MolLogP": 1.0248,
         "MolWt": 88.15,
         "NumRotatableBonds": 2,
         "index": 294
        },
        {
         "AromaticProportion": 0.8571428571,
         "MolLogP": 5.55322,
         "MolWt": 268.359,
         "NumRotatableBonds": 0,
         "index": 295
        },
        {
         "AromaticProportion": 0,
         "MolLogP": 3.2227,
         "MolWt": 114.232,
         "NumRotatableBonds": 4,
         "index": 296
        },
        {
         "AromaticProportion": 0.9,
         "MolLogP": 2.47632,
         "MolWt": 131.178,
         "NumRotatableBonds": 0,
         "index": 297
        },
        {
         "AromaticProportion": 0,
         "MolLogP": 2.4425,
         "MolWt": 86.178,
         "NumRotatableBonds": 2,
         "index": 298
        },
        {
         "AromaticProportion": 0.75,
         "MolLogP": 1.70062,
         "MolWt": 108.14,
         "NumRotatableBonds": 0,
         "index": 299
        },
        {
         "AromaticProportion": 0,
         "MolLogP": 2.3376,
         "MolWt": 130.231,
         "NumRotatableBonds": 5,
         "index": 300
        },
        {
         "AromaticProportion": 0.4,
         "MolLogP": 4.3432,
         "MolWt": 408.498,
         "NumRotatableBonds": 10,
         "index": 301
        },
        {
         "AromaticProportion": 0,
         "MolLogP": 1.1673,
         "MolWt": 88.15,
         "NumRotatableBonds": 2,
         "index": 302
        },
        {
         "AromaticProportion": 0,
         "MolLogP": 1.3755,
         "MolWt": 86.134,
         "NumRotatableBonds": 2,
         "index": 303
        },
        {
         "AromaticProportion": 0.4444444444,
         "MolLogP": 3.1729,
         "MolWt": 366.417,
         "NumRotatableBonds": 7,
         "index": 304
        },
        {
         "AromaticProportion": 0.48,
         "MolLogP": 2.3927,
         "MolWt": 338.363,
         "NumRotatableBonds": 5,
         "index": 305
        },
        {
         "AromaticProportion": 0.8571428571,
         "MolLogP": 4.6604,
         "MolWt": 223.102,
         "NumRotatableBonds": 1,
         "index": 306
        },
        {
         "AromaticProportion": 0.75,
         "MolLogP": 2.1547,
         "MolWt": 173.009,
         "NumRotatableBonds": 0,
         "index": 307
        },
        {
         "AromaticProportion": 0.75,
         "MolLogP": 2.75752,
         "MolWt": 171.037,
         "NumRotatableBonds": 0,
         "index": 308
        },
        {
         "AromaticProportion": 0.6666666667,
         "MolLogP": 2.3486,
         "MolWt": 142.585,
         "NumRotatableBonds": 1,
         "index": 309
        },
        {
         "AromaticProportion": 0.75,
         "MolLogP": 2.0456,
         "MolWt": 128.558,
         "NumRotatableBonds": 0,
         "index": 310
        },
        {
         "AromaticProportion": 0.75,
         "MolLogP": 2.64842,
         "MolWt": 126.586,
         "NumRotatableBonds": 0,
         "index": 311
        },
        {
         "AromaticProportion": 0.6666666667,
         "MolLogP": 2.55742,
         "MolWt": 120.195,
         "NumRotatableBonds": 1,
         "index": 312
        },
        {
         "AromaticProportion": 0,
         "MolLogP": 1.9475,
         "MolWt": 116.204,
         "NumRotatableBonds": 4,
         "index": 313
        },
        {
         "AromaticProportion": 0,
         "MolLogP": 2.1557,
         "MolWt": 114.188,
         "NumRotatableBonds": 4,
         "index": 314
        },
        {
         "AromaticProportion": 0.4285714286,
         "MolLogP": 3.2206,
         "MolWt": 194.274,
         "NumRotatableBonds": 5,
         "index": 315
        },
        {
         "AromaticProportion": 0.8571428571,
         "MolLogP": 0.7872,
         "MolWt": 95.101,
         "NumRotatableBonds": 0,
         "index": 316
        },
        {
         "AromaticProportion": 0.6,
         "MolLogP": 3.11842,
         "MolWt": 134.222,
         "NumRotatableBonds": 1,
         "index": 317
        },
        {
         "AromaticProportion": 0.8333333333,
         "MolLogP": 0.4284,
         "MolWt": 162.152,
         "NumRotatableBonds": 1,
         "index": 318
        },
        {
         "AromaticProportion": 0,
         "MolLogP": 1.4133,
         "MolWt": 102.177,
         "NumRotatableBonds": 2,
         "index": 319
        },
        {
         "AromaticProportion": 0,
         "MolLogP": 1.6215,
         "MolWt": 100.161,
         "NumRotatableBonds": 2,
         "index": 320
        },
        {
         "AromaticProportion": 0.9230769231,
         "MolLogP": 3.66202,
         "MolWt": 168.239,
         "NumRotatableBonds": 1,
         "index": 321
        },
        {
         "AromaticProportion": 0,
         "MolLogP": 1.4149,
         "MolWt": 102.177,
         "NumRotatableBonds": 3,
         "index": 322
        },
        {
         "AromaticProportion": 0.9090909091,
         "MolLogP": 0.72822,
         "MolWt": 146.153,
         "NumRotatableBonds": 0,
         "index": 323
        },
        {
         "AromaticProportion": 0.4615384615,
         "MolLogP": 1.5532,
         "MolWt": 180.163,
         "NumRotatableBonds": 2,
         "index": 324
        },
        {
         "AromaticProportion": 0,
         "MolLogP": 0.9449,
         "MolWt": 86.134,
         "NumRotatableBonds": 3,
         "index": 325
        },
        {
         "AromaticProportion": 0,
         "MolLogP": 1.1051,
         "MolWt": 224.26,
         "NumRotatableBonds": 3,
         "index": 326
        },
        {
         "AromaticProportion": 0,
         "MolLogP": 1.3511,
         "MolWt": 238.287,
         "NumRotatableBonds": 3,
         "index": 327
        },
        {
         "AromaticProportion": 0,
         "MolLogP": 0.491,
         "MolWt": 208.217,
         "NumRotatableBonds": 4,
         "index": 328
        },
        {
         "AromaticProportion": 0,
         "MolLogP": 0.6508,
         "MolWt": 212.249,
         "NumRotatableBonds": 2,
         "index": 329
        },
        {
         "AromaticProportion": 0,
         "MolLogP": -0.6214,
         "MolWt": 156.141,
         "NumRotatableBonds": 0,
         "index": 330
        },
        {
         "AromaticProportion": 0.5454545455,
         "MolLogP": 2.271,
         "MolWt": 148.205,
         "NumRotatableBonds": 0,
         "index": 331
        },
        {
         "AromaticProportion": 0.9,
         "MolLogP": 5.76304,
         "MolWt": 256.348,
         "NumRotatableBonds": 0,
         "index": 332
        },
        {
         "AromaticProportion": 0,
         "MolLogP": 0.3249,
         "MolWt": 196.206,
         "NumRotatableBonds": 3,
         "index": 333
        },
        {
         "AromaticProportion": 0,
         "MolLogP": 0.5709,
         "MolWt": 210.233,
         "NumRotatableBonds": 3,
         "index": 334
        },
        {
         "AromaticProportion": 0,
         "MolLogP": -0.0652,
         "MolWt": 182.179,
         "NumRotatableBonds": 2,
         "index": 335
        },
        {
         "AromaticProportion": 0.3333333333,
         "MolLogP": 0.8665,
         "MolWt": 244.25,
         "NumRotatableBonds": 3,
         "index": 336
        },
        {
         "AromaticProportion": 0,
         "MolLogP": 1.185,
         "MolWt": 226.276,
         "NumRotatableBonds": 4,
         "index": 337
        },
        {
         "AromaticProportion": 0,
         "MolLogP": 0.4048,
         "MolWt": 198.222,
         "NumRotatableBonds": 2,
         "index": 338
        },
        {
         "AromaticProportion": 0.3529411765,
         "MolLogP": 0.7004,
         "MolWt": 232.239,
         "NumRotatableBonds": 2,
         "index": 339
        },
        {
         "AromaticProportion": 0.6666666667,
         "MolLogP": -0.7977,
         "MolWt": 130.078,
         "NumRotatableBonds": 0,
         "index": 340
        },
        {
         "AromaticProportion": 0.9090909091,
         "MolLogP": 1.9404,
         "MolWt": 145.161,
         "NumRotatableBonds": 0,
         "index": 341
        },
        {
         "AromaticProportion": 0,
         "MolLogP": -0.2313,
         "MolWt": 170.168,
         "NumRotatableBonds": 1,
         "index": 342
        },
        {
         "AromaticProportion": 0.9473684211,
         "MolLogP": 5.45462,
         "MolWt": 242.321,
         "NumRotatableBonds": 0,
         "index": 343
        },
        {
         "AromaticProportion": 0.6666666667,
         "MolLogP": -0.33948,
         "MolWt": 125.131,
         "NumRotatableBonds": 0,
         "index": 344
        },
        {
         "AromaticProportion": 0,
         "MolLogP": 2.9359,
         "MolWt": 142.242,
         "NumRotatableBonds": 6,
         "index": 345
        },
        {
         "AromaticProportion": 0.9473684211,
         "MolLogP": 4.7284,
         "MolWt": 243.309,
         "NumRotatableBonds": 0,
         "index": 346
        },
        {
         "AromaticProportion": 0.9090909091,
         "MolLogP": 1.9404,
         "MolWt": 145.161,
         "NumRotatableBonds": 0,
         "index": 347
        },
        {
         "AromaticProportion": 0.8333333333,
         "MolLogP": 0.4284,
         "MolWt": 162.152,
         "NumRotatableBonds": 1,
         "index": 348
        },
        {
         "AromaticProportion": 0.9473684211,
         "MolLogP": 5.45462,
         "MolWt": 242.321,
         "NumRotatableBonds": 0,
         "index": 349
        },
        {
         "AromaticProportion": 0.9,
         "MolLogP": 5.76304,
         "MolWt": 256.348,
         "NumRotatableBonds": 0,
         "index": 350
        },
        {
         "AromaticProportion": 0.8333333333,
         "MolLogP": 0.4284,
         "MolWt": 162.152,
         "NumRotatableBonds": 1,
         "index": 351
        },
        {
         "AromaticProportion": 0.9090909091,
         "MolLogP": 0.72822,
         "MolWt": 146.153,
         "NumRotatableBonds": 0,
         "index": 352
        },
        {
         "AromaticProportion": 0.9090909091,
         "MolLogP": 1.9404,
         "MolWt": 145.161,
         "NumRotatableBonds": 0,
         "index": 353
        },
        {
         "AromaticProportion": 0.875,
         "MolLogP": 4.60984,
         "MolWt": 206.288,
         "NumRotatableBonds": 0,
         "index": 354
        },
        {
         "AromaticProportion": 0.9333333333,
         "MolLogP": 3.6986,
         "MolWt": 194.233,
         "NumRotatableBonds": 0,
         "index": 355
        },
        {
         "AromaticProportion": 0.9333333333,
         "MolLogP": 4.30142,
         "MolWt": 192.261,
         "NumRotatableBonds": 0,
         "index": 356
        },
        {
         "AromaticProportion": 0.4444444444,
         "MolLogP": 5.63,
         "MolWt": 466.479,
         "NumRotatableBonds": 10,
         "index": 357
        },
        {
         "AromaticProportion": 0.8333333333,
         "MolLogP": 2.9384,
         "MolWt": 154.212,
         "NumRotatableBonds": 0,
         "index": 358
        },
        {
         "AromaticProportion": 0.8333333333,
         "MolLogP": 3.3236,
         "MolWt": 152.196,
         "NumRotatableBonds": 0,
         "index": 359
        },
        {
         "AromaticProportion": 0,
         "MolLogP": 1.24,
         "MolWt": 183.169,
         "NumRotatableBonds": 3,
         "index": 360
        },
        {
         "AromaticProportion": 0,
         "MolLogP": -0.5084,
         "MolWt": 59.068,
         "NumRotatableBonds": 0,
         "index": 361
        },
        {
         "AromaticProportion": 0.6,
         "MolLogP": 1.645,
         "MolWt": 135.166,
         "NumRotatableBonds": 1,
         "index": 362
        },
        {
         "AromaticProportion": 0.3846153846,
         "MolLogP": -0.8561,
         "MolWt": 222.251,
         "NumRotatableBonds": 2,
         "index": 363
        },
        {
         "AromaticProportion": 0,
         "MolLogP": 0.52988,
         "MolWt": 41.053,
         "NumRotatableBonds": 0,
         "index": 364
        },
        {
         "AromaticProportion": 0.6666666667,
         "MolLogP": 1.8892,
         "MolWt": 120.151,
         "NumRotatableBonds": 1,
         "index": 365
        },
        {
         "AromaticProportion": 0.55,
         "MolLogP": 1.94934,
         "MolWt": 293.348,
         "NumRotatableBonds": 3,
         "index": 366
        },
        {
         "AromaticProportion": 1,
         "MolLogP": 3.388,
         "MolWt": 179.222,
         "NumRotatableBonds": 0,
         "index": 367
        },
        {
         "AromaticProportion": 0,
         "MolLogP": 0.3713,
         "MolWt": 56.064,
         "NumRotatableBonds": 1,
         "index": 368
        },
        {
         "AromaticProportion": 0,
         "MolLogP": 0.69598,
         "MolWt": 53.064,
         "NumRotatableBonds": 0,
         "index": 369
        },
        {
         "AromaticProportion": 0.9,
         "MolLogP": -0.0649,
         "MolWt": 135.13,
         "NumRotatableBonds": 0,
         "index": 370
        },
        {
         "AromaticProportion": 0,
         "MolLogP": 3.2664,
         "MolWt": 300.398,
         "NumRotatableBonds": 0,
         "index": 371
        },
        {
         "AromaticProportion": 0.3333333333,
         "MolLogP": 2.9871,
         "MolWt": 269.772,
         "NumRotatableBonds": 6,
         "index": 372
        },
        {
         "AromaticProportion": 0,
         "MolLogP": 1.8457,
         "MolWt": 360.45,
         "NumRotatableBonds": 3,
         "index": 373
        },
        {
         "AromaticProportion": 0,
         "MolLogP": 5.2702,
         "MolWt": 364.914,
         "NumRotatableBonds": 0,
         "index": 374
        },
        {
         "AromaticProportion": 0,
         "MolLogP": -2.1798,
         "MolWt": 158.117,
         "NumRotatableBonds": 1,
         "index": 375
        },
        {
         "AromaticProportion": 0,
         "MolLogP": 1.7553,
         "MolWt": 162.279,
         "NumRotatableBonds": 5,
         "index": 376
        },
        {
         "AromaticProportion": 0.9,
         "MolLogP": -0.3538,
         "MolWt": 136.114,
         "NumRotatableBonds": 0,
         "index": 377
        },
        {
         "AromaticProportion": 0,
         "MolLogP": -2.0785,
         "MolWt": 142.07,
         "NumRotatableBonds": 0,
         "index": 378
        },
        {
         "AromaticProportion": 0,
         "MolLogP": -4.8194,
         "MolWt": 286.156,
         "NumRotatableBonds": 1,
         "index": 379
        },
        {
         "AromaticProportion": 0.4,
         "MolLogP": 0.0696,
         "MolWt": 210.285,
         "NumRotatableBonds": 3,
         "index": 380
        },
        {
         "AromaticProportion": 0.4,
         "MolLogP": 1.8456,
         "MolWt": 227.337,
         "NumRotatableBonds": 5,
         "index": 381
        },
        {
         "AromaticProportion": 0.1875,
         "MolLogP": -3.10802,
         "MolWt": 457.432,
         "NumRotatableBonds": 7,
         "index": 382
        },
        {
         "AromaticProportion": 0.4,
         "MolLogP": 1.77922,
         "MolWt": 208.261,
         "NumRotatableBonds": 2,
         "index": 383
        },
        {
         "AromaticProportion": 0.6470588235,
         "MolLogP": 1.55042,
         "MolWt": 231.299,
         "NumRotatableBonds": 2,
         "index": 384
        },
        {
         "AromaticProportion": 0.8333333333,
         "MolLogP": 0.7253,
         "MolWt": 100.146,
         "NumRotatableBonds": 0,
         "index": 385
        },
        {
         "AromaticProportion": 0.5454545455,
         "MolLogP": 4.87188,
         "MolWt": 293.414,
         "NumRotatableBonds": 4,
         "index": 386
        },
        {
         "AromaticProportion": 0.8333333333,
         "MolLogP": -0.6131,
         "MolWt": 84.082,
         "NumRotatableBonds": 0,
         "index": 387
        },
        {
         "AromaticProportion": 0,
         "MolLogP": 1.185,
         "MolWt": 226.276,
         "NumRotatableBonds": 4,
         "index": 388
        },
        {
         "AromaticProportion": 0.7333333333,
         "MolLogP": 1.06662,
         "MolWt": 203.245,
         "NumRotatableBonds": 1,
         "index": 389
        },
        {
         "AromaticProportion": 0.6315789474,
         "MolLogP": 2.1311,
         "MolWt": 256.305,
         "NumRotatableBonds": 4,
         "index": 390
        },
        {
         "AromaticProportion": 0,
         "MolLogP": 4.0874,
         "MolWt": 286.415,
         "NumRotatableBonds": 0,
         "index": 391
        },
        {
         "AromaticProportion": 0,
         "MolLogP": 3.9591,
         "MolWt": 290.447,
         "NumRotatableBonds": 0,
         "index": 392
        },
        {
         "AromaticProportion": 0.5454545455,
         "MolLogP": 2.7283,
         "MolWt": 148.205,
         "NumRotatableBonds": 2,
         "index": 393
        },
        {
         "AromaticProportion": 0.8571428571,
         "MolLogP": 1.2688,
         "MolWt": 93.129,
         "NumRotatableBonds": 0,
         "index": 394
        },
        {
         "AromaticProportion": 0.2857142857,
         "MolLogP": 4.3319,
         "MolWt": 367.86,
         "NumRotatableBonds": 7,
         "index": 395
        },
        {
         "AromaticProportion": 0.75,
         "MolLogP": 1.6952,
         "MolWt": 108.14,
         "NumRotatableBonds": 1,
         "index": 396
        },
        {
         "AromaticProportion": 1,
         "MolLogP": 3.993,
         "MolWt": 178.234,
         "NumRotatableBonds": 0,
         "index": 397
        },
        {
         "AromaticProportion": 0.75,
         "MolLogP": 2.462,
         "MolWt": 208.216,
         "NumRotatableBonds": 0,
         "index": 398
        },
        {
         "AromaticProportion": 0.7857142857,
         "MolLogP": 1.48442,
         "MolWt": 188.23,
         "NumRotatableBonds": 1,
         "index": 399
        },
        {
         "AromaticProportion": 0.2727272727,
         "MolLogP": 2.06422,
         "MolWt": 300.362,
         "NumRotatableBonds": 2,
         "index": 400
        },
        {
         "AromaticProportion": 0.4615384615,
         "MolLogP": 5.5051,
         "MolWt": 366.844,
         "NumRotatableBonds": 2,
         "index": 401
        },
        {
         "AromaticProportion": 0.4,
         "MolLogP": 1.1323,
         "MolWt": 211.269,
         "NumRotatableBonds": 5,
         "index": 402
        },
        {
         "AromaticProportion": 0.4285714286,
         "MolLogP": 1.7771,
         "MolWt": 215.688,
         "NumRotatableBonds": 4,
         "index": 403
        },
        {
         "AromaticProportion": 0.375,
         "MolLogP": 2.0905,
         "MolWt": 259.762,
         "NumRotatableBonds": 5,
         "index": 404
        },
        {
         "AromaticProportion": 0.8571428571,
         "MolLogP": 4.102,
         "MolWt": 182.226,
         "NumRotatableBonds": 2,
         "index": 405
        },
        {
         "AromaticProportion": 0,
         "MolLogP": 1.0537,
         "MolWt": 223.165,
         "NumRotatableBonds": 5,
         "index": 406
        },
        {
         "AromaticProportion": 0.375,
         "MolLogP": 3.1307,
         "MolWt": 258.104,
         "NumRotatableBonds": 2,
         "index": 407
        },
        {
         "AromaticProportion": 0,
         "MolLogP": 0.1588,
         "MolWt": 184.195,
         "NumRotatableBonds": 2,
         "index": 408
        },
        {
         "AromaticProportion": 0.4444444444,
         "MolLogP": 1.6254,
         "MolWt": 421.422,
         "NumRotatableBonds": 3,
         "index": 409
        },
        {
         "AromaticProportion": 0.2608695652,
         "MolLogP": 4.1482,
         "MolWt": 335.282,
         "NumRotatableBonds": 7,
         "index": 410
        },
        {
         "AromaticProportion": 0.2142857143,
         "MolLogP": 4.0575,
         "MolWt": 410.536,
         "NumRotatableBonds": 8,
         "index": 411
        },
        {
         "AromaticProportion": 0.75,
         "MolLogP": 3.5435,
         "MolWt": 323.133,
         "NumRotatableBonds": 2,
         "index": 412
        },
        {
         "AromaticProportion": 0.4285714286,
         "MolLogP": 2.5724,
         "MolWt": 290.323,
         "NumRotatableBonds": 4,
         "index": 413
        },
        {
         "AromaticProportion": 0.2608695652,
         "MolLogP": 3.7726,
         "MolWt": 397.524,
         "NumRotatableBonds": 10,
         "index": 414
        },
        {
         "AromaticProportion": 0.75,
         "MolLogP": 1.4991,
         "MolWt": 106.124,
         "NumRotatableBonds": 1,
         "index": 415
        },
        {
         "AromaticProportion": 0.6666666667,
         "MolLogP": 0.7855,
         "MolWt": 121.139,
         "NumRotatableBonds": 1,
         "index": 416
        },
        {
         "AromaticProportion": 1,
         "MolLogP": 1.6866,
         "MolWt": 78.114,
         "NumRotatableBonds": 0,
         "index": 417
        },
        {
         "AromaticProportion": 0.8571428571,
         "MolLogP": 2.7683,
         "MolWt": 184.238,
         "NumRotatableBonds": 2,
         "index": 418
        },
        {
         "AromaticProportion": 0.5789473684,
         "MolLogP": 1.1077,
         "MolWt": 260.253,
         "NumRotatableBonds": 5,
         "index": 419
        },
        {
         "AromaticProportion": 0.9411764706,
         "MolLogP": 4.411,
         "MolWt": 216.283,
         "NumRotatableBonds": 0,
         "index": 420
        },
        {
         "AromaticProportion": 1,
         "MolLogP": 5.7372,
         "MolWt": 252.316,
         "NumRotatableBonds": 0,
         "index": 421
        },
        {
         "AromaticProportion": 1,
         "MolLogP": 5.6404,
         "MolWt": 252.316,
         "NumRotatableBonds": 0,
         "index": 422
        },
        {
         "AromaticProportion": 0.9411764706,
         "MolLogP": 4.411,
         "MolWt": 216.283,
         "NumRotatableBonds": 0,
         "index": 423
        },
        {
         "AromaticProportion": 1,
         "MolLogP": 5.7372,
         "MolWt": 252.316,
         "NumRotatableBonds": 0,
         "index": 424
        },
        {
         "AromaticProportion": 1,
         "MolLogP": 5.6404,
         "MolWt": 252.316,
         "NumRotatableBonds": 0,
         "index": 425
        },
        {
         "AromaticProportion": 1,
         "MolLogP": 5.6404,
         "MolWt": 252.316,
         "NumRotatableBonds": 0,
         "index": 426
        },
        {
         "AromaticProportion": 1,
         "MolLogP": 6.3282,
         "MolWt": 276.338,
         "NumRotatableBonds": 0,
         "index": 427
        },
        {
         "AromaticProportion": 0.5,
         "MolLogP": 1.4455,
         "MolWt": 165.192,
         "NumRotatableBonds": 2,
         "index": 428
        },
        {
         "AromaticProportion": 0.75,
         "MolLogP": 2.6029,
         "MolWt": 212.248,
         "NumRotatableBonds": 3,
         "index": 429
        },
        {
         "AromaticProportion": 0.75,
         "MolLogP": 1.55828,
         "MolWt": 103.124,
         "NumRotatableBonds": 0,
         "index": 430
        },
        {
         "AromaticProportion": 0.8571428571,
         "MolLogP": 2.9176,
         "MolWt": 182.222,
         "NumRotatableBonds": 2,
         "index": 431
        },
        {
         "AromaticProportion": 1,
         "MolLogP": 2.2963,
         "MolWt": 135.191,
         "NumRotatableBonds": 0,
         "index": 432
        },
        {
         "AromaticProportion": 1,
         "MolLogP": 0.9579,
         "MolWt": 119.127,
         "NumRotatableBonds": 0,
         "index": 433
        },
        {
         "AromaticProportion": 1,
         "MolLogP": 1.8278,
         "MolWt": 119.123,
         "NumRotatableBonds": 0,
         "index": 434
        },
        {
         "AromaticProportion": 0.75,
         "MolLogP": 2.4254,
         "MolWt": 126.586,
         "NumRotatableBonds": 1,
         "index": 435
        },
        {
         "AromaticProportion": 0.6,
         "MolLogP": 2.7054,
         "MolWt": 146.111,
         "NumRotatableBonds": 0,
         "index": 436
        },
        {
         "AromaticProportion": 0.5454545455,
         "MolLogP": 0.8549,
         "MolWt": 150.181,
         "NumRotatableBonds": 2,
         "index": 437
        },
        {
         "AromaticProportion": 0,
         "MolLogP": 3.6368,
         "MolWt": 476.585,
         "NumRotatableBonds": 6,
         "index": 438
        },
        {
         "AromaticProportion": 0.8571428571,
         "MolLogP": 3.4718,
         "MolWt": 182.266,
         "NumRotatableBonds": 3,
         "index": 439
        },
        {
         "AromaticProportion": 1,
         "MolLogP": 3.3536,
         "MolWt": 154.212,
         "NumRotatableBonds": 1,
         "index": 440
        },
        {
         "AromaticProportion": 1,
         "MolLogP": 4.45,
         "MolWt": 256.308,
         "NumRotatableBonds": 1,
         "index": 441
        },
        {
         "AromaticProportion": 0,
         "MolLogP": 2.1935,
         "MolWt": 154.253,
         "NumRotatableBonds": 0,
         "index": 442
        },
        {
         "AromaticProportion": 0.4285714286,
         "MolLogP": 1.57852,
         "MolWt": 261.119,
         "NumRotatableBonds": 2,
         "index": 443
        },
        {
         "AromaticProportion": 0.8,
         "MolLogP": 7.1837,
         "MolWt": 527.414,
         "NumRotatableBonds": 6,
         "index": 444
        },
        {
         "AromaticProportion": 0.8571428571,
         "MolLogP": 2.4491,
         "MolWt": 157.01,
         "NumRotatableBonds": 0,
         "index": 445
        },
        {
         "AromaticProportion": 0,
         "MolLogP": 1.5776,
         "MolWt": 129.384,
         "NumRotatableBonds": 0,
         "index": 446
        },
        {
         "AromaticProportion": 0,
         "MolLogP": 2.1425,
         "MolWt": 163.829,
         "NumRotatableBonds": 0,
         "index": 447
        },
        {
         "AromaticProportion": 0,
         "MolLogP": 1.4012,
         "MolWt": 108.966,
         "NumRotatableBonds": 0,
         "index": 448
        },
        {
         "AromaticProportion": 0,
         "MolLogP": 1.0111,
         "MolWt": 94.939,
         "NumRotatableBonds": 0,
         "index": 449
        },
        {
         "AromaticProportion": 0.375,
         "MolLogP": 4.652,
         "MolWt": 366,
         "NumRotatableBonds": 4,
         "index": 450
        },
        {
         "AromaticProportion": 0.5454545455,
         "MolLogP": 4.3991,
         "MolWt": 428.12,
         "NumRotatableBonds": 4,
         "index": 451
        },
        {
         "AromaticProportion": 0.5454545455,
         "MolLogP": 2.78888,
         "MolWt": 276.915,
         "NumRotatableBonds": 0,
         "index": 452
        },
        {
         "AromaticProportion": 0.8,
         "MolLogP": 1.5772,
         "MolWt": 266.098,
         "NumRotatableBonds": 1,
         "index": 453
        },
        {
         "AromaticProportion": 0.2857142857,
         "MolLogP": 1.74462,
         "MolWt": 316.427,
         "NumRotatableBonds": 8,
         "index": 454
        },
        {
         "AromaticProportion": 0,
         "MolLogP": 0.7949,
         "MolWt": 212.249,
         "NumRotatableBonds": 3,
         "index": 455
        },
        {
         "AromaticProportion": 0.3157894737,
         "MolLogP": 3.9998,
         "MolWt": 263.381,
         "NumRotatableBonds": 1,
         "index": 456
        },
        {
         "AromaticProportion": 0.2857142857,
         "MolLogP": 4.1574,
         "MolWt": 311.853,
         "NumRotatableBonds": 9,
         "index": 457
        },
        {
         "AromaticProportion": 0,
         "MolLogP": 1.6836,
         "MolWt": 303.156,
         "NumRotatableBonds": 4,
         "index": 458
        },
        {
         "AromaticProportion": 0.4285714286,
         "MolLogP": 2.2257,
         "MolWt": 193.246,
         "NumRotatableBonds": 4,
         "index": 459
        },
        {
         "AromaticProportion": 0,
         "MolLogP": 0.7772,
         "MolWt": 74.123,
         "NumRotatableBonds": 1,
         "index": 460
        },
        {
         "AromaticProportion": 0,
         "MolLogP": 1.8064,
         "MolWt": 58.124,
         "NumRotatableBonds": 1,
         "index": 461
        },
        {
         "AromaticProportion": 0,
         "MolLogP": 1.7163,
         "MolWt": 90.191,
         "NumRotatableBonds": 2,
         "index": 462
        },
        {
         "AromaticProportion": 0,
         "MolLogP": 0.939,
         "MolWt": 212.249,
         "NumRotatableBonds": 4,
         "index": 463
        },
        {
         "AromaticProportion": 0.2941176471,
         "MolLogP": 1.0258,
         "MolWt": 256.331,
         "NumRotatableBonds": 1,
         "index": 464
        },
        {
         "AromaticProportion": 0.375,
         "MolLogP": 2.8254,
         "MolWt": 236.702,
         "NumRotatableBonds": 2,
         "index": 465
        },
        {
         "AromaticProportion": 0,
         "MolLogP": 0.9595,
         "MolWt": 102.133,
         "NumRotatableBonds": 4,
         "index": 466
        },
        {
         "AromaticProportion": 0,
         "MolLogP": 3.4735,
         "MolWt": 217.378,
         "NumRotatableBonds": 5,
         "index": 467
        },
        {
         "AromaticProportion": 0.6,
         "MolLogP": 3.0292,
         "MolWt": 134.222,
         "NumRotatableBonds": 3,
         "index": 468
        },
        {
         "AromaticProportion": 0,
         "MolLogP": 0.9854,
         "MolWt": 72.107,
         "NumRotatableBonds": 2,
         "index": 469
        },
        {
         "AromaticProportion": 0.6428571429,
         "MolLogP": -1.0293,
         "MolWt": 194.194,
         "NumRotatableBonds": 0,
         "index": 470
        },
        {
         "AromaticProportion": 0,
         "MolLogP": 2.4017,
         "MolWt": 152.237,
         "NumRotatableBonds": 0,
         "index": 471
        },
        {
         "AromaticProportion": 0,
         "MolLogP": 1.7656,
         "MolWt": 100.161,
         "NumRotatableBonds": 4,
         "index": 472
        },
        {
         "AromaticProportion": 0,
         "MolLogP": 3.5209,
         "MolWt": 349.066,
         "NumRotatableBonds": 3,
         "index": 473
        },
        {
         "AromaticProportion": 0.75,
         "MolLogP": 3.3306,
         "MolWt": 212.252,
         "NumRotatableBonds": 2,
         "index": 474
        },
        {
         "AromaticProportion": 0.6666666667,
         "MolLogP": 2.558,
         "MolWt": 201.225,
         "NumRotatableBonds": 1,
         "index": 475
        },
        {
         "AromaticProportion": 1,
         "MolLogP": 3.3211,
         "MolWt": 167.211,
         "NumRotatableBonds": 0,
         "index": 476
        },
        {
         "AromaticProportion": 0.3529411765,
         "MolLogP": 1.7597,
         "MolWt": 236.271,
         "NumRotatableBonds": 4,
         "index": 477
        },
        {
         "AromaticProportion": 0.375,
         "MolLogP": 2.1183,
         "MolWt": 221.256,
         "NumRotatableBonds": 1,
         "index": 478
        },
        {
         "AromaticProportion": 0.3333333333,
         "MolLogP": 5.4203,
         "MolWt": 342.875,
         "NumRotatableBonds": 8,
         "index": 479
        },
        {
         "AromaticProportion": 0.375,
         "MolLogP": 2.62,
         "MolWt": 235.308,
         "NumRotatableBonds": 2,
         "index": 480
        },
        {
         "AromaticProportion": 0,
         "MolLogP": 1.135,
         "MolWt": 237.097,
         "NumRotatableBonds": 3,
         "index": 481
        },
        {
         "AromaticProportion": 0.5454545455,
         "MolLogP": 2.82402,
         "MolWt": 150.221,
         "NumRotatableBonds": 1,
         "index": 482
        },
        {
         "AromaticProportion": 0,
         "MolLogP": 2.4879,
         "MolWt": 150.221,
         "NumRotatableBonds": 1,
         "index": 483
        },
        {
         "AromaticProportion": 0,
         "MolLogP": -0.4629,
         "MolWt": 309.529,
         "NumRotatableBonds": 2,
         "index": 484
        },
        {
         "AromaticProportion": 0.3,
         "MolLogP": 0.909,
         "MolWt": 323.132,
         "NumRotatableBonds": 6,
         "index": 485
        },
        {
         "AromaticProportion": 0.3529411765,
         "MolLogP": 2.2174,
         "MolWt": 257.769,
         "NumRotatableBonds": 6,
         "index": 486
        },
        {
         "AromaticProportion": 0.4,
         "MolLogP": 3.1276,
         "MolWt": 293.548,
         "NumRotatableBonds": 2,
         "index": 487
        },
        {
         "AromaticProportion": 0.4,
         "MolLogP": 2.9102,
         "MolWt": 223.659,
         "NumRotatableBonds": 2,
         "index": 488
        },
        {
         "AromaticProportion": 0,
         "MolLogP": 5.6828,
         "MolWt": 409.782,
         "NumRotatableBonds": 0,
         "index": 489
        },
        {
         "AromaticProportion": 0,
         "MolLogP": 5.0242,
         "MolWt": 338.876,
         "NumRotatableBonds": 0,
         "index": 490
        },
        {
         "AromaticProportion": 0.4615384615,
         "MolLogP": 2.86982,
         "MolWt": 196.681,
         "NumRotatableBonds": 2,
         "index": 491
        },
        {
         "AromaticProportion": 0.4444444444,
         "MolLogP": 1.1716,
         "MolWt": 414.827,
         "NumRotatableBonds": 8,
         "index": 492
        },
        {
         "AromaticProportion": 0,
         "MolLogP": -0.2895,
         "MolWt": 93.513,
         "NumRotatableBonds": 1,
         "index": 493
        },
        {
         "AromaticProportion": 0,
         "MolLogP": 0.74878,
         "MolWt": 75.498,
         "NumRotatableBonds": 0,
         "index": 494
        },
        {
         "AromaticProportion": 0.8571428571,
         "MolLogP": 2.34,
         "MolWt": 112.559,
         "NumRotatableBonds": 0,
         "index": 495
        },
        {
         "AromaticProportion": 0,
         "MolLogP": 2.2986,
         "MolWt": 208.28,
         "NumRotatableBonds": 0,
         "index": 496
        },
        {
         "AromaticProportion": 0,
         "MolLogP": 1.2451,
         "MolWt": 64.515,
         "NumRotatableBonds": 0,
         "index": 497
        },
        {
         "AromaticProportion": 0,
         "MolLogP": 1.3687,
         "MolWt": 62.499,
         "NumRotatableBonds": 0,
         "index": 498
        },
        {
         "AromaticProportion": 0.4285714286,
         "MolLogP": 3.2969,
         "MolWt": 213.664,
         "NumRotatableBonds": 2,
         "index": 499
        },
        {
         "AromaticProportion": 0,
         "MolLogP": 1.5908,
         "MolWt": 164.375,
         "NumRotatableBonds": 0,
         "index": 500
        },
        {
         "AromaticProportion": 0.5454545455,
         "MolLogP": 4.1809,
         "MolWt": 339.218,
         "NumRotatableBonds": 4,
         "index": 501
        },
        {
         "AromaticProportion": 0.4285714286,
         "MolLogP": 4.04356,
         "MolWt": 265.914,
         "NumRotatableBonds": 0,
         "index": 502
        },
        {
         "AromaticProportion": 0.3529411765,
         "MolLogP": -0.0609,
         "MolWt": 295.729,
         "NumRotatableBonds": 1,
         "index": 503
        },
        {
         "AromaticProportion": 0.4285714286,
         "MolLogP": 2.74192,
         "MolWt": 212.68,
         "NumRotatableBonds": 1,
         "index": 504
        },
        {
         "AromaticProportion": 0.6,
         "MolLogP": 4.2258,
         "MolWt": 290.75,
         "NumRotatableBonds": 3,
         "index": 505
        },
        {
         "AromaticProportion": 0.3333333333,
         "MolLogP": 4.7181,
         "MolWt": 350.591,
         "NumRotatableBonds": 6,
         "index": 506
        },
        {
         "AromaticProportion": 0.7142857143,
         "MolLogP": 4.2434,
         "MolWt": 267.93,
         "NumRotatableBonds": 0,
         "index": 507
        },
        {
         "AromaticProportion": 0.5454545455,
         "MolLogP": 0.9242,
         "MolWt": 338.772,
         "NumRotatableBonds": 2,
         "index": 508
        },
        {
         "AromaticProportion": 0.4285714286,
         "MolLogP": 2.74192,
         "MolWt": 212.68,
         "NumRotatableBonds": 1,
         "index": 509
        },
        {
         "AromaticProportion": 0.8181818182,
         "MolLogP": 1.7745,
         "MolWt": 169.567,
         "NumRotatableBonds": 0,
         "index": 510
        },
        {
         "AromaticProportion": 0.9,
         "MolLogP": 5.2448,
         "MolWt": 254.332,
         "NumRotatableBonds": 0,
         "index": 511
        },
        {
         "AromaticProportion": 1,
         "MolLogP": 5.1462,
         "MolWt": 228.294,
         "NumRotatableBonds": 0,
         "index": 512
        },
        {
         "AromaticProportion": 0,
         "MolLogP": 1.9352,
         "MolWt": 96.944,
         "NumRotatableBonds": 0,
         "index": 513
        },
        {
         "AromaticProportion": 0,
         "MolLogP": 2.8326,
         "MolWt": 112.216,
         "NumRotatableBonds": 0,
         "index": 514
        },
        {
         "AromaticProportion": 0,
         "MolLogP": 1.9725,
         "MolWt": 70.135,
         "NumRotatableBonds": 1,
         "index": 515
        },
        {
         "AromaticProportion": 0,
         "MolLogP": 2.878,
         "MolWt": 152.237,
         "NumRotatableBonds": 4,
         "index": 516
        },
        {
         "AromaticProportion": 0.375,
         "MolLogP": 2.64,
         "MolWt": 239.702,
         "NumRotatableBonds": 2,
         "index": 517
        },
        {
         "AromaticProportion": 0.5454545455,
         "MolLogP": 3.0377,
         "MolWt": 315.716,
         "NumRotatableBonds": 2,
         "index": 518
        },
        {
         "AromaticProportion": 1,
         "MolLogP": 6.9192,
         "MolWt": 300.36,
         "NumRotatableBonds": 0,
         "index": 519
        },
        {
         "AromaticProportion": 0,
         "MolLogP": 2.6667,
         "MolWt": 346.467,
         "NumRotatableBonds": 2,
         "index": 520
        },
        {
         "AromaticProportion": 0,
         "MolLogP": 1.9898,
         "MolWt": 360.45,
         "NumRotatableBonds": 2,
         "index": 521
        },
        {
         "AromaticProportion": 0,
         "MolLogP": 2.5606,
         "MolWt": 402.487,
         "NumRotatableBonds": 3,
         "index": 522
        },
        {
         "AromaticProportion": 0.6666666667,
         "MolLogP": 4.263,
         "MolWt": 342.778,
         "NumRotatableBonds": 4,
         "index": 523
        },
        {
         "AromaticProportion": 0.4545454545,
         "MolLogP": 4.43112,
         "MolWt": 362.771,
         "NumRotatableBonds": 6,
         "index": 524
        },
        {
         "AromaticProportion": 0.7272727273,
         "MolLogP": 3.9668,
         "MolWt": 292.334,
         "NumRotatableBonds": 1,
         "index": 525
        },
        {
         "AromaticProportion": 0.375,
         "MolLogP": 1.67088,
         "MolWt": 240.698,
         "NumRotatableBonds": 4,
         "index": 526
        },
        {
         "AromaticProportion": 0,
         "MolLogP": 3.5141,
         "MolWt": 215.362,
         "NumRotatableBonds": 3,
         "index": 527
        },
        {
         "AromaticProportion": 0,
         "MolLogP": 1.2492,
         "MolWt": 236.271,
         "NumRotatableBonds": 2,
         "index": 528
        },
        {
         "AromaticProportion": 0,
         "MolLogP": -0.4773,
         "MolWt": 168.152,
         "NumRotatableBonds": 0,
         "index": 529
        },
        {
         "AromaticProportion": 0,
         "MolLogP": 2.7307,
         "MolWt": 98.189,
         "NumRotatableBonds": 0,
         "index": 530
        },
        {
         "AromaticProportion": 0,
         "MolLogP": 1.7015,
         "MolWt": 114.188,
         "NumRotatableBonds": 0,
         "index": 531
        },
        {
         "AromaticProportion": 0,
         "MolLogP": 2.5067,
         "MolWt": 96.173,
         "NumRotatableBonds": 0,
         "index": 532
        },
        {
         "AromaticProportion": 0,
         "MolLogP": 0.693,
         "MolWt": 210.233,
         "NumRotatableBonds": 0,
         "index": 533
        },
        {
         "AromaticProportion": 0,
         "MolLogP": 2.3406,
         "MolWt": 84.162,
         "NumRotatableBonds": 0,
         "index": 534
        },
        {
         "AromaticProportion": 0,
         "MolLogP": 1.3114,
         "MolWt": 100.161,
         "NumRotatableBonds": 0,
         "index": 535
        },
        {
         "AromaticProportion": 0,
         "MolLogP": 1.5196,
         "MolWt": 98.145,
         "NumRotatableBonds": 0,
         "index": 536
        },
        {
         "AromaticProportion": 0,
         "MolLogP": 2.1166,
         "MolWt": 82.146,
         "NumRotatableBonds": 0,
         "index": 537
        },
        {
         "AromaticProportion": 0,
         "MolLogP": 1.0415,
         "MolWt": 281.352,
         "NumRotatableBonds": 3,
         "index": 538
        },
        {
         "AromaticProportion": 0,
         "MolLogP": 0.3029,
         "MolWt": 196.206,
         "NumRotatableBonds": 0,
         "index": 539
        },
        {
         "AromaticProportion": 0,
         "MolLogP": 3.1208,
         "MolWt": 112.216,
         "NumRotatableBonds": 0,
         "index": 540
        },
        {
         "AromaticProportion": 0,
         "MolLogP": 2.0916,
         "MolWt": 128.215,
         "NumRotatableBonds": 0,
         "index": 541
        },
        {
         "AromaticProportion": 0,
         "MolLogP": 1.0831,
         "MolWt": 224.26,
         "NumRotatableBonds": 0,
         "index": 542
        },
        {
         "AromaticProportion": 0,
         "MolLogP": 1.9505,
         "MolWt": 70.135,
         "NumRotatableBonds": 0,
         "index": 543
        },
        {
         "AromaticProportion": 0,
         "MolLogP": 1.7265,
         "MolWt": 68.119,
         "NumRotatableBonds": 0,
         "index": 544
        },
        {
         "AromaticProportion": 0,
         "MolLogP": -0.0872,
         "MolWt": 182.179,
         "NumRotatableBonds": 0,
         "index": 545
        },
        {
         "AromaticProportion": 0,
         "MolLogP": -0.8674,
         "MolWt": 154.125,
         "NumRotatableBonds": 0,
         "index": 546
        },
        {
         "AromaticProportion": 0,
         "MolLogP": 2.3705,
         "MolWt": 198.31,
         "NumRotatableBonds": 1,
         "index": 547
        },
        {
         "AromaticProportion": 0.4137931034,
         "MolLogP": 6.31708,
         "MolWt": 434.294,
         "NumRotatableBonds": 6,
         "index": 548
        },
        {
         "AromaticProportion": 0.3870967742,
         "MolLogP": 6.54398,
         "MolWt": 449.856,
         "NumRotatableBonds": 6,
         "index": 549
        },
        {
         "AromaticProportion": 0.4285714286,
         "MolLogP": 6.17798,
         "MolWt": 416.304,
         "NumRotatableBonds": 6,
         "index": 550
        },
        {
         "AromaticProportion": 0.75,
         "MolLogP": -0.6479,
         "MolWt": 111.104,
         "NumRotatableBonds": 0,
         "index": 551
        },
        {
         "AromaticProportion": 0.2,
         "MolLogP": 4.221,
         "MolWt": 337.463,
         "NumRotatableBonds": 0,
         "index": 552
        },
        {
         "AromaticProportion": 0.7058823529,
         "MolLogP": 1.6838,
         "MolWt": 248.307,
         "NumRotatableBonds": 2,
         "index": 553
        },
        {
         "AromaticProportion": 0.6666666667,
         "MolLogP": 5.929,
         "MolWt": 320.046,
         "NumRotatableBonds": 3,
         "index": 554
        },
        {
         "AromaticProportion": 0.6666666667,
         "MolLogP": 6.1879,
         "MolWt": 318.03,
         "NumRotatableBonds": 2,
         "index": 555
        },
        {
         "AromaticProportion": 0.6315789474,
         "MolLogP": 6.4955,
         "MolWt": 354.491,
         "NumRotatableBonds": 2,
         "index": 556
        },
        {
         "AromaticProportion": 0,
         "MolLogP": 3.3668,
         "MolWt": 138.254,
         "NumRotatableBonds": 0,
         "index": 557
        },
        {
         "AromaticProportion": 0,
         "MolLogP": 6.6944,
         "MolWt": 314.522,
         "NumRotatableBonds": 12,
         "index": 558
        },
        {
         "AromaticProportion": 0.4285714286,
         "MolLogP": 6.49018,
         "MolWt": 505.206,
         "NumRotatableBonds": 6,
         "index": 559
        },
        {
         "AromaticProportion": 0,
         "MolLogP": 3.6959,
         "MolWt": 330.468,
         "NumRotatableBonds": 2,
         "index": 560
        },
        {
         "AromaticProportion": 0,
         "MolLogP": 4.2667,
         "MolWt": 372.505,
         "NumRotatableBonds": 3,
         "index": 561
        },
        {
         "AromaticProportion": 0.5454545455,
         "MolLogP": 3.8659,
         "MolWt": 300.314,
         "NumRotatableBonds": 4,
         "index": 562
        },
        {
         "AromaticProportion": 0,
         "MolLogP": 1.8957,
         "MolWt": 392.467,
         "NumRotatableBonds": 2,
         "index": 563
        },
        {
         "AromaticProportion": 0,
         "MolLogP": 2.4665,
         "MolWt": 434.504,
         "NumRotatableBonds": 3,
         "index": 564
        },
        {
         "AromaticProportion": 0,
         "MolLogP": 2.4017,
         "MolWt": 152.237,
         "NumRotatableBonds": 0,
         "index": 565
        },
        {
         "AromaticProportion": 0.2142857143,
         "MolLogP": 6.433,
         "MolWt": 390.564,
         "NumRotatableBonds": 14,
         "index": 566
        },
        {
         "AromaticProportion": 0.2608695652,
         "MolLogP": 3.8782,
         "MolWt": 393.854,
         "NumRotatableBonds": 8,
         "index": 567
        },
        {
         "AromaticProportion": 0.2608695652,
         "MolLogP": 3.8782,
         "MolWt": 393.854,
         "NumRotatableBonds": 8,
         "index": 568
        },
        {
         "AromaticProportion": 0,
         "MolLogP": 4.2774,
         "MolWt": 270.225,
         "NumRotatableBonds": 4,
         "index": 569
        },
        {
         "AromaticProportion": 0.6,
         "MolLogP": 3.1538,
         "MolWt": 284.746,
         "NumRotatableBonds": 1,
         "index": 570
        },
        {
         "AromaticProportion": 0.3157894737,
         "MolLogP": 3.58472,
         "MolWt": 304.352,
         "NumRotatableBonds": 7,
         "index": 571
        },
        {
         "AromaticProportion": 1,
         "MolLogP": 3.586,
         "MolWt": 168.195,
         "NumRotatableBonds": 0,
         "index": 572
        },
        {
         "AromaticProportion": 1,
         "MolLogP": 4.0545,
         "MolWt": 184.263,
         "NumRotatableBonds": 0,
         "index": 573
        },
        {
         "AromaticProportion": 0,
         "MolLogP": 1.7337,
         "MolWt": 173.835,
         "NumRotatableBonds": 0,
         "index": 574
        },
        {
         "AromaticProportion": 0,
         "MolLogP": 2.6032,
         "MolWt": 130.231,
         "NumRotatableBonds": 6,
         "index": 575
        },
        {
         "AromaticProportion": 0,
         "MolLogP": 4.7938,
         "MolWt": 314.466,
         "NumRotatableBonds": 15,
         "index": 576
        },
        {
         "AromaticProportion": 0.3,
         "MolLogP": 3.6004,
         "MolWt": 278.348,
         "NumRotatableBonds": 8,
         "index": 577
        },
        {
         "AromaticProportion": 0.3529411765,
         "MolLogP": 3.1443,
         "MolWt": 297.656,
         "NumRotatableBonds": 5,
         "index": 578
        },
        {
         "AromaticProportion": 0,
         "MolLogP": 1.4215,
         "MolWt": 84.933,
         "NumRotatableBonds": 0,
         "index": 579
        },
        {
         "AromaticProportion": 0.7058823529,
         "MolLogP": 3.9954,
         "MolWt": 269.127,
         "NumRotatableBonds": 2,
         "index": 580
        },
        {
         "AromaticProportion": 0.6,
         "MolLogP": 5.5995,
         "MolWt": 370.49,
         "NumRotatableBonds": 2,
         "index": 581
        },
        {
         "AromaticProportion": 0,
         "MolLogP": 4.4814,
         "MolWt": 380.913,
         "NumRotatableBonds": 0,
         "index": 582
        },
        {
         "AromaticProportion": 0.6,
         "MolLogP": 4.6046,
         "MolWt": 266.34,
         "NumRotatableBonds": 3,
         "index": 583
        },
        {
         "AromaticProportion": 0,
         "MolLogP": 7.7256,
         "MolWt": 474.64,
         "NumRotatableBonds": 1,
         "index": 584
        },
        {
         "AromaticProportion": 0,
         "MolLogP": 1.0428,
         "MolWt": 74.123,
         "NumRotatableBonds": 2,
         "index": 585
        },
        {
         "AromaticProportion": 0.375,
         "MolLogP": 2.04,
         "MolWt": 222.24,
         "NumRotatableBonds": 4,
         "index": 586
        },
        {
         "AromaticProportion": 0,
         "MolLogP": 1.7594,
         "MolWt": 90.191,
         "NumRotatableBonds": 2,
         "index": 587
        },
        {
         "AromaticProportion": 0,
         "MolLogP": 2.4076,
         "MolWt": 122.258,
         "NumRotatableBonds": 3,
         "index": 588
        },
        {
         "AromaticProportion": 0.6,
         "MolLogP": 4.8286,
         "MolWt": 268.356,
         "NumRotatableBonds": 4,
         "index": 589
        },
        {
         "AromaticProportion": 0.5714285714,
         "MolLogP": 3.581,
         "MolWt": 286.331,
         "NumRotatableBonds": 4,
         "index": 590
        },
        {
         "AromaticProportion": 0.5714285714,
         "MolLogP": 3.5801,
         "MolWt": 310.687,
         "NumRotatableBonds": 2,
         "index": 591
        },
        {
         "AromaticProportion": 0,
         "MolLogP": 3.2473,
         "MolWt": 764.95,
         "NumRotatableBonds": 7,
         "index": 592
        },
        {
         "AromaticProportion": 0,
         "MolLogP": 2.2181,
         "MolWt": 780.949,
         "NumRotatableBonds": 7,
         "index": 593
        },
        {
         "AromaticProportion": 0.25,
         "MolLogP": 5.1608,
         "MolWt": 334.456,
         "NumRotatableBonds": 12,
         "index": 594
        },
        {
         "AromaticProportion": 0,
         "MolLogP": 1.8139,
         "MolWt": 267.835,
         "NumRotatableBonds": 0,
         "index": 595
        },
        {
         "AromaticProportion": 0.2142857143,
         "MolLogP": 6.433,
         "MolWt": 390.564,
         "NumRotatableBonds": 14,
         "index": 596
        },
        {
         "AromaticProportion": 0,
         "MolLogP": 1.8198,
         "MolWt": 102.177,
         "NumRotatableBonds": 2,
         "index": 597
        },
        {
         "AromaticProportion": 0,
         "MolLogP": 2.5364,
         "MolWt": 118.245,
         "NumRotatableBonds": 2,
         "index": 598
        },
        {
         "AromaticProportion": 0,
         "MolLogP": 2.395,
         "MolWt": 299.691,
         "NumRotatableBonds": 8,
         "index": 599
        },
        {
         "AromaticProportion": 0.4782608696,
         "MolLogP": 2.8699,
         "MolWt": 338.795,
         "NumRotatableBonds": 2,
         "index": 600
        },
        {
         "AromaticProportion": 0,
         "MolLogP": 1.9576,
         "MolWt": 211.261,
         "NumRotatableBonds": 1,
         "index": 601
        },
        {
         "AromaticProportion": 0.4,
         "MolLogP": 1.89922,
         "MolWt": 209.293,
         "NumRotatableBonds": 4,
         "index": 602
        },
        {
         "AromaticProportion": 0,
         "MolLogP": 0.2367,
         "MolWt": 76.095,
         "NumRotatableBonds": 2,
         "index": 603
        },
        {
         "AromaticProportion": 0.4285714286,
         "MolLogP": 1.2598,
         "MolWt": 194.186,
         "NumRotatableBonds": 2,
         "index": 604
        },
        {
         "AromaticProportion": 0,
         "MolLogP": 0.9792,
         "MolWt": 62.137,
         "NumRotatableBonds": 0,
         "index": 605
        },
        {
         "AromaticProportion": 0,
         "MolLogP": 1.6274,
         "MolWt": 94.204,
         "NumRotatableBonds": 1,
         "index": 606
        },
        {
         "AromaticProportion": 0.2727272727,
         "MolLogP": 2.9502,
         "MolWt": 322.243,
         "NumRotatableBonds": 5,
         "index": 607
        },
        {
         "AromaticProportion": 0.3529411765,
         "MolLogP": 2.7221,
         "MolWt": 240.215,
         "NumRotatableBonds": 4,
         "index": 608
        },
        {
         "AromaticProportion": 0,
         "MolLogP": -3.8346,
         "MolWt": 180.156,
         "NumRotatableBonds": 0,
         "index": 609
        },
        {
         "AromaticProportion": 0,
         "MolLogP": 2.5396,
         "MolWt": 118.245,
         "NumRotatableBonds": 4,
         "index": 610
        },
        {
         "AromaticProportion": 0.2142857143,
         "MolLogP": 6.7212,
         "MolWt": 390.564,
         "NumRotatableBonds": 16,
         "index": 611
        },
        {
         "AromaticProportion": 0,
         "MolLogP": 5.5088,
         "MolWt": 414.63,
         "NumRotatableBonds": 0,
         "index": 612
        },
        {
         "AromaticProportion": 0.375,
         "MolLogP": 1.4502,
         "MolWt": 223.228,
         "NumRotatableBonds": 2,
         "index": 613
        },
        {
         "AromaticProportion": 0.6666666667,
         "MolLogP": 2.9067,
         "MolWt": 239.318,
         "NumRotatableBonds": 3,
         "index": 614
        },
        {
         "AromaticProportion": 0.9230769231,
         "MolLogP": 3.4789,
         "MolWt": 170.211,
         "NumRotatableBonds": 2,
         "index": 615
        },
        {
         "AromaticProportion": 0.9230769231,
         "MolLogP": 3.4302,
         "MolWt": 169.227,
         "NumRotatableBonds": 2,
         "index": 616
        },
        {
         "AromaticProportion": 0.9230769231,
         "MolLogP": 3.2774,
         "MolWt": 168.239,
         "NumRotatableBonds": 2,
         "index": 617
        },
        {
         "AromaticProportion": 0,
         "MolLogP": 1.823,
         "MolWt": 102.177,
         "NumRotatableBonds": 4,
         "index": 618
        },
        {
         "AromaticProportion": 0,
         "MolLogP": 3.6212,
         "MolWt": 296.552,
         "NumRotatableBonds": 4,
         "index": 619
        },
        {
         "AromaticProportion": 0,
         "MolLogP": 3.7702,
         "MolWt": 274.413,
         "NumRotatableBonds": 9,
         "index": 620
        },
        {
         "AromaticProportion": 0.3157894737,
         "MolLogP": 2.5801,
         "MolWt": 299.288,
         "NumRotatableBonds": 5,
         "index": 621
        },
        {
         "AromaticProportion": 0.4285714286,
         "MolLogP": 3.0869,
         "MolWt": 233.098,
         "NumRotatableBonds": 1,
         "index": 622
        },
        {
         "AromaticProportion": 0,
         "MolLogP": 3.3089,
         "MolWt": 136.238,
         "NumRotatableBonds": 1,
         "index": 623
        },
        {
         "AromaticProportion": 0.4285714286,
         "MolLogP": 1.51702,
         "MolWt": 198.134,
         "NumRotatableBonds": 2,
         "index": 624
        },
        {
         "AromaticProportion": 0.4615384615,
         "MolLogP": 1.5759,
         "MolWt": 180.207,
         "NumRotatableBonds": 3,
         "index": 625
        },
        {
         "AromaticProportion": 0.5,
         "MolLogP": -2.2131,
         "MolWt": 254.246,
         "NumRotatableBonds": 3,
         "index": 626
        },
        {
         "AromaticProportion": 0,
         "MolLogP": 8.048,
         "MolWt": 282.556,
         "NumRotatableBonds": 17,
         "index": 627
        },
        {
         "AromaticProportion": 0,
         "MolLogP": 4.4814,
         "MolWt": 380.913,
         "NumRotatableBonds": 0,
         "index": 628
        },
        {
         "AromaticProportion": 0,
         "MolLogP": 3.9591,
         "MolWt": 290.447,
         "NumRotatableBonds": 0,
         "index": 629
        },
        {
         "AromaticProportion": 0,
         "MolLogP": 4.4839,
         "MolWt": 306.515,
         "NumRotatableBonds": 0,
         "index": 630
        },
        {
         "AromaticProportion": 0.5,
         "MolLogP": 3.9444,
         "MolWt": 266.34,
         "NumRotatableBonds": 0,
         "index": 631
        },
        {
         "AromaticProportion": 0.3,
         "MolLogP": 3.7375,
         "MolWt": 268.356,
         "NumRotatableBonds": 0,
         "index": 632
        },
        {
         "AromaticProportion": 0.5714285714,
         "MolLogP": 2.2155,
         "MolWt": 288.255,
         "NumRotatableBonds": 1,
         "index": 633
        },
        {
         "AromaticProportion": 0,
         "MolLogP": -2.3072,
         "MolWt": 122.12,
         "NumRotatableBonds": 3,
         "index": 634
        },
        {
         "AromaticProportion": 0.3,
         "MolLogP": 3.6092,
         "MolWt": 272.388,
         "NumRotatableBonds": 0,
         "index": 635
        },
        {
         "AromaticProportion": 0.5454545455,
         "MolLogP": 2.4237,
         "MolWt": 148.205,
         "NumRotatableBonds": 3,
         "index": 636
        },
        {
         "AromaticProportion": 0.2857142857,
         "MolLogP": 2.58,
         "MolWt": 288.387,
         "NumRotatableBonds": 0,
         "index": 637
        },
        {
         "AromaticProportion": 0.3,
         "MolLogP": 3.8174,
         "MolWt": 270.372,
         "NumRotatableBonds": 0,
         "index": 638
        },
        {
         "AromaticProportion": 0.2608695652,
         "MolLogP": 3.9242,
         "MolWt": 333.266,
         "NumRotatableBonds": 6,
         "index": 639
        },
        {
         "AromaticProportion": 0,
         "MolLogP": 1.0262,
         "MolWt": 30.07,
         "NumRotatableBonds": 0,
         "index": 640
        },
        {
         "AromaticProportion": 0,
         "MolLogP": 0.9361,
         "MolWt": 62.137,
         "NumRotatableBonds": 0,
         "index": 641
        },
        {
         "AromaticProportion": 0,
         "MolLogP": -0.0014,
         "MolWt": 46.069,
         "NumRotatableBonds": 0,
         "index": 642
        },
        {
         "AromaticProportion": 0.2727272727,
         "MolLogP": 3.6126,
         "MolWt": 296.41,
         "NumRotatableBonds": 0,
         "index": 643
        },
        {
         "AromaticProportion": 0.4,
         "MolLogP": 2.6579,
         "MolWt": 225.313,
         "NumRotatableBonds": 4,
         "index": 644
        },
        {
         "AromaticProportion": 0,
         "MolLogP": 5.0053,
         "MolWt": 384.487,
         "NumRotatableBonds": 12,
         "index": 645
        },
        {
         "AromaticProportion": 0.4,
         "MolLogP": 1.85272,
         "MolWt": 209.293,
         "NumRotatableBonds": 5,
         "index": 646
        },
        {
         "AromaticProportion": 0,
         "MolLogP": 3.8826,
         "MolWt": 312.453,
         "NumRotatableBonds": 0,
         "index": 647
        },
        {
         "AromaticProportion": 0.3157894737,
         "MolLogP": 2.0576,
         "MolWt": 286.349,
         "NumRotatableBonds": 4,
         "index": 648
        },
        {
         "AromaticProportion": 0.3157894737,
         "MolLogP": 2.0576,
         "MolWt": 286.349,
         "NumRotatableBonds": 4,
         "index": 649
        },
        {
         "AromaticProportion": 0.5625,
         "MolLogP": 1.3424,
         "MolWt": 258.324,
         "NumRotatableBonds": 3,
         "index": 650
        },
        {
         "AromaticProportion": 0,
         "MolLogP": 0.5694,
         "MolWt": 88.106,
         "NumRotatableBonds": 1,
         "index": 651
        },
        {
         "AromaticProportion": 0.5454545455,
         "MolLogP": 1.8633,
         "MolWt": 150.177,
         "NumRotatableBonds": 2,
         "index": 652
        },
        {
         "AromaticProportion": 0,
         "MolLogP": 2.1298,
         "MolWt": 144.214,
         "NumRotatableBonds": 5,
         "index": 653
        },
        {
         "AromaticProportion": 0.4615384615,
         "MolLogP": 2.2629,
         "MolWt": 176.215,
         "NumRotatableBonds": 3,
         "index": 654
        },
        {
         "AromaticProportion": 0,
         "MolLogP": 3.6902,
         "MolWt": 200.322,
         "NumRotatableBonds": 9,
         "index": 655
        },
        {
         "AromaticProportion": 0,
         "MolLogP": 0.1793,
         "MolWt": 74.079,
         "NumRotatableBonds": 2,
         "index": 656
        },
        {
         "AromaticProportion": 0,
         "MolLogP": 2.5199,
         "MolWt": 158.241,
         "NumRotatableBonds": 6,
         "index": 657
        },
        {
         "AromaticProportion": 0,
         "MolLogP": 2.1298,
         "MolWt": 144.214,
         "NumRotatableBonds": 5,
         "index": 658
        },
        {
         "AromaticProportion": 0,
         "MolLogP": 3.3001,
         "MolWt": 186.295,
         "NumRotatableBonds": 8,
         "index": 659
        },
        {
         "AromaticProportion": 0,
         "MolLogP": 2.91,
         "MolWt": 172.268,
         "NumRotatableBonds": 7,
         "index": 660
        },
        {
         "AromaticProportion": 0,
         "MolLogP": 1.7397,
         "MolWt": 130.187,
         "NumRotatableBonds": 4,
         "index": 661
        },
        {
         "AromaticProportion": 0,
         "MolLogP": 0.9595,
         "MolWt": 102.133,
         "NumRotatableBonds": 2,
         "index": 662
        },
        {
         "AromaticProportion": 0,
         "MolLogP": 1.4329,
         "MolWt": 88.15,
         "NumRotatableBonds": 3,
         "index": 663
        },
        {
         "AromaticProportion": 0,
         "MolLogP": 1.1664,
         "MolWt": 72.107,
         "NumRotatableBonds": 2,
         "index": 664
        },
        {
         "AromaticProportion": 0.75,
         "MolLogP": 2.249,
         "MolWt": 106.168,
         "NumRotatableBonds": 1,
         "index": 665
        },
        {
         "AromaticProportion": 0,
         "MolLogP": 2.9767,
         "MolWt": 112.216,
         "NumRotatableBonds": 1,
         "index": 666
        },
        {
         "AromaticProportion": 0,
         "MolLogP": 0.8022,
         "MolWt": 28.054,
         "NumRotatableBonds": 0,
         "index": 667
        },
        {
         "AromaticProportion": 0.5,
         "MolLogP": 1.4455,
         "MolWt": 165.192,
         "NumRotatableBonds": 2,
         "index": 668
        },
        {
         "AromaticProportion": 0.5,
         "MolLogP": 1.5689,
         "MolWt": 166.176,
         "NumRotatableBonds": 2,
         "index": 669
        },
        {
         "AromaticProportion": 0,
         "MolLogP": 0.2494,
         "MolWt": 26.038,
         "NumRotatableBonds": 0,
         "index": 670
        },
        {
         "AromaticProportion": 0.6428571429,
         "MolLogP": 6.372,
         "MolWt": 376.496,
         "NumRotatableBonds": 9,
         "index": 671
        },
        {
         "AromaticProportion": 0.6111111111,
         "MolLogP": 2.6691,
         "MolWt": 244.294,
         "NumRotatableBonds": 4,
         "index": 672
        },
        {
         "AromaticProportion": 0.2857142857,
         "MolLogP": 1.3386,
         "MolWt": 588.562,
         "NumRotatableBonds": 5,
         "index": 673
        },
        {
         "AromaticProportion": 0,
         "MolLogP": 2.7441,
         "MolWt": 154.253,
         "NumRotatableBonds": 0,
         "index": 674
        },
        {
         "AromaticProportion": 0.5,
         "MolLogP": 2.1293,
         "MolWt": 164.204,
         "NumRotatableBonds": 3,
         "index": 675
        },
        {
         "AromaticProportion": 0.8181818182,
         "MolLogP": 4.0676,
         "MolWt": 331.202,
         "NumRotatableBonds": 3,
         "index": 676
        },
        {
         "AromaticProportion": 0.7333333333,
         "MolLogP": 2.84032,
         "MolWt": 201.225,
         "NumRotatableBonds": 2,
         "index": 677
        },
        {
         "AromaticProportion": 0.3529411765,
         "MolLogP": 2.79932,
         "MolWt": 277.238,
         "NumRotatableBonds": 5,
         "index": 678
        },
        {
         "AromaticProportion": 0.3529411765,
         "MolLogP": 3.2604,
         "MolWt": 253.367,
         "NumRotatableBonds": 6,
         "index": 679
        },
        {
         "AromaticProportion": 0.5454545455,
         "MolLogP": 3.6038,
         "MolWt": 301.342,
         "NumRotatableBonds": 7,
         "index": 680
        },
        {
         "AromaticProportion": 0.4615384615,
         "MolLogP": 5.26898,
         "MolWt": 349.43,
         "NumRotatableBonds": 5,
         "index": 681
        },
        {
         "AromaticProportion": 0.3333333333,
         "MolLogP": 3.1003,
         "MolWt": 308.361,
         "NumRotatableBonds": 7,
         "index": 682
        },
        {
         "AromaticProportion": 0.375,
         "MolLogP": 3.61302,
         "MolWt": 278.335,
         "NumRotatableBonds": 5,
         "index": 683
        },
        {
         "AromaticProportion": 0.5,
         "MolLogP": 1.7801,
         "MolWt": 164.208,
         "NumRotatableBonds": 1,
         "index": 684
        },
        {
         "AromaticProportion": 0.7272727273,
         "MolLogP": 0.7358,
         "MolWt": 306.276,
         "NumRotatableBonds": 5,
         "index": 685
        },
        {
         "AromaticProportion": 0.5454545455,
         "MolLogP": 6.62798,
         "MolWt": 451.469,
         "NumRotatableBonds": 9,
         "index": 686
        },
        {
         "AromaticProportion": 0.6666666667,
         "MolLogP": -0.5088,
         "MolWt": 129.094,
         "NumRotatableBonds": 0,
         "index": 687
        },
        {
         "AromaticProportion": 0,
         "MolLogP": 1.8737,
         "MolWt": 380.456,
         "NumRotatableBonds": 2,
         "index": 688
        },
        {
         "AromaticProportion": 0,
         "MolLogP": 1.8437,
         "MolWt": 410.457,
         "NumRotatableBonds": 2,
         "index": 689
        },
        {
         "AromaticProportion": 0.4285714286,
         "MolLogP": 5.3408,
         "MolWt": 421.734,
         "NumRotatableBonds": 6,
         "index": 690
        },
        {
         "AromaticProportion": 0.375,
         "MolLogP": 2.7989,
         "MolWt": 232.205,
         "NumRotatableBonds": 1,
         "index": 691
        },
        {
         "AromaticProportion": 1,
         "MolLogP": 4.4872,
         "MolWt": 202.256,
         "NumRotatableBonds": 0,
         "index": 692
        },
        {
         "AromaticProportion": 0.9230769231,
         "MolLogP": 3.2578,
         "MolWt": 166.223,
         "NumRotatableBonds": 0,
         "index": 693
        },
        {
         "AromaticProportion": 0.8571428571,
         "MolLogP": 1.8257,
         "MolWt": 96.104,
         "NumRotatableBonds": 0,
         "index": 694
        },
        {
         "AromaticProportion": 0,
         "MolLogP": 2.9233,
         "MolWt": 376.468,
         "NumRotatableBonds": 1,
         "index": 695
        },
        {
         "AromaticProportion": 0.375,
         "MolLogP": 2.7989,
         "MolWt": 232.205,
         "NumRotatableBonds": 1,
         "index": 696
        },
        {
         "AromaticProportion": 0.75,
         "MolLogP": 4.7381,
         "MolWt": 329.321,
         "NumRotatableBonds": 2,
         "index": 697
        },
        {
         "AromaticProportion": 0.3157894737,
         "MolLogP": 3.5144,
         "MolWt": 312.118,
         "NumRotatableBonds": 2,
         "index": 698
        },
        {
         "AromaticProportion": 0.7727272727,
         "MolLogP": 2.4924,
         "MolWt": 301.296,
         "NumRotatableBonds": 4,
         "index": 699
        },
        {
         "AromaticProportion": 0.5142857143,
         "MolLogP": 7.39568,
         "MolWt": 502.92,
         "NumRotatableBonds": 8,
         "index": 700
        },
        {
         "AromaticProportion": 0.375,
         "MolLogP": 1.6262,
         "MolWt": 221.26,
         "NumRotatableBonds": 3,
         "index": 701
        },
        {
         "AromaticProportion": 0,
         "MolLogP": 0.8517,
         "MolWt": 257.273,
         "NumRotatableBonds": 6,
         "index": 702
        },
        {
         "AromaticProportion": 0,
         "MolLogP": -3.2198,
         "MolWt": 180.156,
         "NumRotatableBonds": 2,
         "index": 703
        },
        {
         "AromaticProportion": 1,
         "MolLogP": 1.2796,
         "MolWt": 68.075,
         "NumRotatableBonds": 0,
         "index": 704
        },
        {
         "AromaticProportion": 0.7142857143,
         "MolLogP": 1.0921,
         "MolWt": 96.085,
         "NumRotatableBonds": 1,
         "index": 705
        },
        {
         "AromaticProportion": 0,
         "MolLogP": 1.5528,
         "MolWt": 262.261,
         "NumRotatableBonds": 1,
         "index": 706
        },
        {
         "AromaticProportion": 0.6153846154,
         "MolLogP": 3.1418,
         "MolWt": 372.808,
         "NumRotatableBonds": 6,
         "index": 707
        },
        {
         "AromaticProportion": 0,
         "MolLogP": -3.2214,
         "MolWt": 180.156,
         "NumRotatableBonds": 1,
         "index": 708
        },
        {
         "AromaticProportion": 0.375,
         "MolLogP": 1.771,
         "MolWt": 217.268,
         "NumRotatableBonds": 2,
         "index": 709
        },
        {
         "AromaticProportion": 0,
         "MolLogP": -1.6681,
         "MolWt": 92.094,
         "NumRotatableBonds": 2,
         "index": 710
        },
        {
         "AromaticProportion": 0,
         "MolLogP": 0.0443,
         "MolWt": 218.205,
         "NumRotatableBonds": 5,
         "index": 711
        },
        {
         "AromaticProportion": 0.25,
         "MolLogP": 2.8103,
         "MolWt": 352.77,
         "NumRotatableBonds": 3,
         "index": 712
        },
        {
         "AromaticProportion": 0.6666666667,
         "MolLogP": 1.4008,
         "MolWt": 124.139,
         "NumRotatableBonds": 1,
         "index": 713
        },
        {
         "AromaticProportion": 0.8181818182,
         "MolLogP": -0.7716,
         "MolWt": 151.129,
         "NumRotatableBonds": 0,
         "index": 714
        },
        {
         "AromaticProportion": 0,
         "MolLogP": 2.5085,
         "MolWt": 197.381,
         "NumRotatableBonds": 0,
         "index": 715
        },
        {
         "AromaticProportion": 0.2727272727,
         "MolLogP": 1.3296,
         "MolWt": 300.266,
         "NumRotatableBonds": 0,
         "index": 716
        },
        {
         "AromaticProportion": 0,
         "MolLogP": 5.2415,
         "MolWt": 373.321,
         "NumRotatableBonds": 0,
         "index": 717
        },
        {
         "AromaticProportion": 0,
         "MolLogP": 2.9767,
         "MolWt": 100.205,
         "NumRotatableBonds": 4,
         "index": 718
        },
        {
         "AromaticProportion": 0,
         "MolLogP": 4.7574,
         "MolWt": 260.762,
         "NumRotatableBonds": 1,
         "index": 719
        },
        {
         "AromaticProportion": 0,
         "MolLogP": 3.7268,
         "MolWt": 236.74,
         "NumRotatableBonds": 0,
         "index": 720
        },
        {
         "AromaticProportion": 0,
         "MolLogP": 10.3886,
         "MolWt": 366.718,
         "NumRotatableBonds": 23,
         "index": 721
        },
        {
         "AromaticProportion": 0,
         "MolLogP": 6.4876,
         "MolWt": 226.448,
         "NumRotatableBonds": 13,
         "index": 722
        },
        {
         "AromaticProportion": 0.5,
         "MolLogP": 3.53712,
         "MolWt": 162.276,
         "NumRotatableBonds": 0,
         "index": 723
        },
        {
         "AromaticProportion": 0,
         "MolLogP": 2.5866,
         "MolWt": 86.178,
         "NumRotatableBonds": 3,
         "index": 724
        },
        {
         "AromaticProportion": 0.6,
         "MolLogP": 4.7852,
         "MolWt": 270.372,
         "NumRotatableBonds": 5,
         "index": 725
        },
        {
         "AromaticProportion": 0.5,
         "MolLogP": 3.8094,
         "MolWt": 162.276,
         "NumRotatableBonds": 5,
         "index": 726
        },
        {
         "AromaticProportion": 0,
         "MolLogP": -1.1742,
         "MolWt": 100.077,
         "NumRotatableBonds": 0,
         "index": 727
        },
        {
         "AromaticProportion": 0.8571428571,
         "MolLogP": 3.1256,
         "MolWt": 184.242,
         "NumRotatableBonds": 3,
         "index": 728
        },
        {
         "AromaticProportion": 0.75,
         "MolLogP": 2.4536,
         "MolWt": 214.264,
         "NumRotatableBonds": 3,
         "index": 729
        },
        {
         "AromaticProportion": 0.3529411765,
         "MolLogP": -0.3513,
         "MolWt": 297.745,
         "NumRotatableBonds": 1,
         "index": 730
        },
        {
         "AromaticProportion": 0,
         "MolLogP": 1.7816,
         "MolWt": 362.466,
         "NumRotatableBonds": 2,
         "index": 731
        },
        {
         "AromaticProportion": 0,
         "MolLogP": 2.3524,
         "MolWt": 404.503,
         "NumRotatableBonds": 3,
         "index": 732
        },
        {
         "AromaticProportion": 0,
         "MolLogP": 3.995,
         "MolWt": 354.875,
         "NumRotatableBonds": 0,
         "index": 733
        },
        {
         "AromaticProportion": 0,
         "MolLogP": 3.8384,
         "MolWt": 330.468,
         "NumRotatableBonds": 1,
         "index": 734
        },
        {
         "AromaticProportion": 0.9,
         "MolLogP": -0.3538,
         "MolWt": 136.114,
         "NumRotatableBonds": 0,
         "index": 735
        },
        {
         "AromaticProportion": 0.6666666667,
         "MolLogP": 2.1753,
         "MolWt": 118.179,
         "NumRotatableBonds": 0,
         "index": 736
        },
        {
         "AromaticProportion": 0.5,
         "MolLogP": 2.0834,
         "MolWt": 365.842,
         "NumRotatableBonds": 3,
         "index": 737
        },
        {
         "AromaticProportion": 1,
         "MolLogP": 1.5629,
         "MolWt": 118.139,
         "NumRotatableBonds": 0,
         "index": 738
        },
        {
         "AromaticProportion": 1,
         "MolLogP": 2.1679,
         "MolWt": 117.151,
         "NumRotatableBonds": 0,
         "index": 739
        },
        {
         "AromaticProportion": 0.6666666667,
         "MolLogP": 1.6546,
         "MolWt": 119.167,
         "NumRotatableBonds": 0,
         "index": 740
        },
        {
         "AromaticProportion": 0.4736842105,
         "MolLogP": -1.8566,
         "MolWt": 268.229,
         "NumRotatableBonds": 2,
         "index": 741
        },
        {
         "AromaticProportion": 0.8571428571,
         "MolLogP": 2.2912,
         "MolWt": 204.01,
         "NumRotatableBonds": 0,
         "index": 742
        },
        {
         "AromaticProportion": 0,
         "MolLogP": 1.4413,
         "MolWt": 155.966,
         "NumRotatableBonds": 0,
         "index": 743
        },
        {
         "AromaticProportion": 0.375,
         "MolLogP": 4.4941,
         "MolWt": 413,
         "NumRotatableBonds": 4,
         "index": 744
        },
        {
         "AromaticProportion": 0,
         "MolLogP": 1.0512,
         "MolWt": 141.939,
         "NumRotatableBonds": 0,
         "index": 745
        },
        {
         "AromaticProportion": 0.5454545455,
         "MolLogP": 2.47308,
         "MolWt": 370.915,
         "NumRotatableBonds": 0,
         "index": 746
        },
        {
         "AromaticProportion": 0.375,
         "MolLogP": 2.1915,
         "MolWt": 243.742,
         "NumRotatableBonds": 5,
         "index": 747
        },
        {
         "AromaticProportion": 0.2777777778,
         "MolLogP": 3.1887,
         "MolWt": 313.747,
         "NumRotatableBonds": 7,
         "index": 748
        },
        {
         "AromaticProportion": 0,
         "MolLogP": 1.2055,
         "MolWt": 116.16,
         "NumRotatableBonds": 2,
         "index": 749
        },
        {
         "AromaticProportion": 0,
         "MolLogP": 0.8154,
         "MolWt": 102.133,
         "NumRotatableBonds": 3,
         "index": 750
        },
        {
         "AromaticProportion": 0.6,
         "MolLogP": 2.8851,
         "MolWt": 134.222,
         "NumRotatableBonds": 2,
         "index": 751
        },
        {
         "AromaticProportion": 0,
         "MolLogP": 0.3772,
         "MolWt": 185.227,
         "NumRotatableBonds": 2,
         "index": 752
        },
        {
         "AromaticProportion": 0.6470588235,
         "MolLogP": 1.41762,
         "MolWt": 231.255,
         "NumRotatableBonds": 4,
         "index": 753
        },
        {
         "AromaticProportion": 0.2727272727,
         "MolLogP": 3.8896,
         "MolWt": 345.401,
         "NumRotatableBonds": 8,
         "index": 754
        },
        {
         "AromaticProportion": 0.8181818182,
         "MolLogP": -0.3593,
         "MolWt": 151.129,
         "NumRotatableBonds": 0,
         "index": 755
        },
        {
         "AromaticProportion": 0.6,
         "MolLogP": -0.3149,
         "MolWt": 137.142,
         "NumRotatableBonds": 1,
         "index": 756
        },
        {
         "AromaticProportion": 0,
         "MolLogP": 1.5956,
         "MolWt": 130.187,
         "NumRotatableBonds": 3,
         "index": 757
        },
        {
         "AromaticProportion": 0,
         "MolLogP": 1.2055,
         "MolWt": 116.16,
         "NumRotatableBonds": 4,
         "index": 758
        },
        {
         "AromaticProportion": 0,
         "MolLogP": 2.3218,
         "MolWt": 138.21,
         "NumRotatableBonds": 0,
         "index": 759
        },
        {
         "AromaticProportion": 0.4285714286,
         "MolLogP": 2.5282,
         "MolWt": 193.246,
         "NumRotatableBonds": 2,
         "index": 760
        },
        {
         "AromaticProportion": 0.2727272727,
         "MolLogP": 4.2528,
         "MolWt": 309.366,
         "NumRotatableBonds": 8,
         "index": 761
        },
        {
         "AromaticProportion": 0,
         "MolLogP": 0.9579,
         "MolWt": 102.133,
         "NumRotatableBonds": 1,
         "index": 762
        },
        {
         "AromaticProportion": 0,
         "MolLogP": 0.5678,
         "MolWt": 88.106,
         "NumRotatableBonds": 2,
         "index": 763
        },
        {
         "AromaticProportion": 0.6666666667,
         "MolLogP": 2.81,
         "MolWt": 120.195,
         "NumRotatableBonds": 1,
         "index": 764
        },
        {
         "AromaticProportion": 0.4,
         "MolLogP": 2.9035,
         "MolWt": 206.289,
         "NumRotatableBonds": 2,
         "index": 765
        },
        {
         "AromaticProportion": 1,
         "MolLogP": 2.2348,
         "MolWt": 129.162,
         "NumRotatableBonds": 0,
         "index": 766
        },
        {
         "AromaticProportion": 0.3,
         "MolLogP": 2.667,
         "MolWt": 279.34,
         "NumRotatableBonds": 2,
         "index": 767
        },
        {
         "AromaticProportion": 0.5,
         "MolLogP": 2.9668,
         "MolWt": 322.364,
         "NumRotatableBonds": 5,
         "index": 768
        },
        {
         "AromaticProportion": 0,
         "MolLogP": 4.6182,
         "MolWt": 490.639,
         "NumRotatableBonds": 0,
         "index": 769
        },
        {
         "AromaticProportion": 0.6842105263,
         "MolLogP": 2.86482,
         "MolWt": 260.245,
         "NumRotatableBonds": 2,
         "index": 770
        },
        {
         "AromaticProportion": 0,
         "MolLogP": -5.3972,
         "MolWt": 342.297,
         "NumRotatableBonds": 4,
         "index": 771
        },
        {
         "AromaticProportion": 0,
         "MolLogP": -2.5823,
         "MolWt": 150.13,
         "NumRotatableBonds": 0,
         "index": 772
        },
        {
         "AromaticProportion": 0.3529411765,
         "MolLogP": 1.5305,
         "MolWt": 234.299,
         "NumRotatableBonds": 1,
         "index": 773
        },
        {
         "AromaticProportion": 0,
         "MolLogP": 2.6698,
         "MolWt": 154.253,
         "NumRotatableBonds": 4,
         "index": 774
        },
        {
         "AromaticProportion": 0,
         "MolLogP": 3.6444,
         "MolWt": 290.832,
         "NumRotatableBonds": 0,
         "index": 775
        },
        {
         "AromaticProportion": 0.4,
         "MolLogP": 3.0185,
         "MolWt": 249.097,
         "NumRotatableBonds": 2,
         "index": 776
        },
        {
         "AromaticProportion": 0.5714285714,
         "MolLogP": 3.1013,
         "MolWt": 321.163,
         "NumRotatableBonds": 1,
         "index": 777
        },
        {
         "AromaticProportion": 0,
         "MolLogP": 4.1955,
         "MolWt": 404.547,
         "NumRotatableBonds": 6,
         "index": 778
        },
        {
         "AromaticProportion": 0,
         "MolLogP": 2.1218,
         "MolWt": 330.364,
         "NumRotatableBonds": 9,
         "index": 779
        },
        {
         "AromaticProportion": 0,
         "MolLogP": 0.5027,
         "MolWt": 160.169,
         "NumRotatableBonds": 4,
         "index": 780
        },
        {
         "AromaticProportion": 0,
         "MolLogP": -5.3972,
         "MolWt": 342.297,
         "NumRotatableBonds": 4,
         "index": 781
        },
        {
         "AromaticProportion": 0,
         "MolLogP": -3.5854,
         "MolWt": 182.172,
         "NumRotatableBonds": 5,
         "index": 782
        },
        {
         "AromaticProportion": 0.75,
         "MolLogP": 1.9222,
         "MolWt": 127.574,
         "NumRotatableBonds": 0,
         "index": 783
        },
        {
         "AromaticProportion": 0.75,
         "MolLogP": 3.1025,
         "MolWt": 191.455,
         "NumRotatableBonds": 0,
         "index": 784
        },
        {
         "AromaticProportion": 0.75,
         "MolLogP": 2.9446,
         "MolWt": 238.455,
         "NumRotatableBonds": 0,
         "index": 785
        },
        {
         "AromaticProportion": 0.6,
         "MolLogP": 2.2482,
         "MolWt": 157.556,
         "NumRotatableBonds": 1,
         "index": 786
        },
        {
         "AromaticProportion": 0.6818181818,
         "MolLogP": 2.9722,
         "MolWt": 295.298,
         "NumRotatableBonds": 3,
         "index": 787
        },
        {
         "AromaticProportion": 0,
         "MolLogP": 2.632,
         "MolWt": 329.38,
         "NumRotatableBonds": 8,
         "index": 788
        },
        {
         "AromaticProportion": 0,
         "MolLogP": 0.8498,
         "MolWt": 196.202,
         "NumRotatableBonds": 2,
         "index": 789
        },
        {
         "AromaticProportion": 0,
         "MolLogP": 5.2797,
         "MolWt": 340.507,
         "NumRotatableBonds": 1,
         "index": 790
        },
        {
         "AromaticProportion": 0.7142857143,
         "MolLogP": 3.3381,
         "MolWt": 298.367,
         "NumRotatableBonds": 4,
         "index": 791
        },
        {
         "AromaticProportion": 0.3,
         "MolLogP": 2.52334,
         "MolWt": 310.297,
         "NumRotatableBonds": 3,
         "index": 792
        },
        {
         "AromaticProportion": 0,
         "MolLogP": 4.5753,
         "MolWt": 384.516,
         "NumRotatableBonds": 2,
         "index": 793
        },
        {
         "AromaticProportion": 0.4615384615,
         "MolLogP": 2.0119,
         "MolWt": 172.183,
         "NumRotatableBonds": 0,
         "index": 794
        },
        {
         "AromaticProportion": 0,
         "MolLogP": 2.4395,
         "MolWt": 156.269,
         "NumRotatableBonds": 1,
         "index": 795
        },
        {
         "AromaticProportion": 0,
         "MolLogP": 2.6477,
         "MolWt": 154.253,
         "NumRotatableBonds": 1,
         "index": 796
        },
        {
         "AromaticProportion": 0,
         "MolLogP": 0.9834,
         "MolWt": 218.253,
         "NumRotatableBonds": 6,
         "index": 797
        },
        {
         "AromaticProportion": 0.9,
         "MolLogP": 2.585,
         "MolWt": 167.258,
         "NumRotatableBonds": 0,
         "index": 798
        },
        {
         "AromaticProportion": 0.3,
         "MolLogP": 1.84434,
         "MolWt": 279.336,
         "NumRotatableBonds": 5,
         "index": 799
        },
        {
         "AromaticProportion": 0,
         "MolLogP": 0.6361,
         "MolWt": 16.043,
         "NumRotatableBonds": 0,
         "index": 800
        },
        {
         "AromaticProportion": 0,
         "MolLogP": -0.3915,
         "MolWt": 32.042,
         "NumRotatableBonds": 0,
         "index": 801
        },
        {
         "AromaticProportion": 0.8421052632,
         "MolLogP": 3.00254,
         "MolWt": 250.301,
         "NumRotatableBonds": 1,
         "index": 802
        },
        {
         "AromaticProportion": 0,
         "MolLogP": 0.501,
         "MolWt": 198.222,
         "NumRotatableBonds": 2,
         "index": 803
        },
        {
         "AromaticProportion": 0.6875,
         "MolLogP": 1.436,
         "MolWt": 261.064,
         "NumRotatableBonds": 1,
         "index": 804
        },
        {
         "AromaticProportion": 0.3529411765,
         "MolLogP": 0.5302,
         "MolWt": 241.243,
         "NumRotatableBonds": 6,
         "index": 805
        },
        {
         "AromaticProportion": 0,
         "MolLogP": 5.062,
         "MolWt": 310.478,
         "NumRotatableBonds": 10,
         "index": 806
        },
        {
         "AromaticProportion": 0.3333333333,
         "MolLogP": 1.8622,
         "MolWt": 271.39,
         "NumRotatableBonds": 8,
         "index": 807
        },
        {
         "AromaticProportion": 0.8125,
         "MolLogP": 2.5478,
         "MolWt": 216.192,
         "NumRotatableBonds": 1,
         "index": 808
        },
        {
         "AromaticProportion": 0.5714285714,
         "MolLogP": 5.2059,
         "MolWt": 345.653,
         "NumRotatableBonds": 4,
         "index": 809
        },
        {
         "AromaticProportion": 0,
         "MolLogP": 0.1793,
         "MolWt": 74.079,
         "NumRotatableBonds": 0,
         "index": 810
        },
        {
         "AromaticProportion": 0,
         "MolLogP": 0.3454,
         "MolWt": 86.09,
         "NumRotatableBonds": 1,
         "index": 811
        },
        {
         "AromaticProportion": 0.6,
         "MolLogP": 1.4732,
         "MolWt": 136.15,
         "NumRotatableBonds": 1,
         "index": 812
        },
        {
         "AromaticProportion": 0,
         "MolLogP": 1.4329,
         "MolWt": 88.15,
         "NumRotatableBonds": 3,
         "index": 813
        },
        {
         "AromaticProportion": 0,
         "MolLogP": 1.3496,
         "MolWt": 116.16,
         "NumRotatableBonds": 3,
         "index": 814
        },
        {
         "AromaticProportion": 0,
         "MolLogP": 3.3001,
         "MolWt": 186.295,
         "NumRotatableBonds": 8,
         "index": 815
        },
        {
         "AromaticProportion": 0,
         "MolLogP": -0.2108,
         "MolWt": 60.052,
         "NumRotatableBonds": 1,
         "index": 816
        },
        {
         "AromaticProportion": 0.4615384615,
         "MolLogP": 0.59,
         "MolWt": 184.147,
         "NumRotatableBonds": 1,
         "index": 817
        },
        {
         "AromaticProportion": 0,
         "MolLogP": 1.7397,
         "MolWt": 130.187,
         "NumRotatableBonds": 4,
         "index": 818
        },
        {
         "AromaticProportion": 0,
         "MolLogP": -0.9205,
         "MolWt": 46.073,
         "NumRotatableBonds": 0,
         "index": 819
        },
        {
         "AromaticProportion": 0,
         "MolLogP": 4.0803,
         "MolWt": 214.349,
         "NumRotatableBonds": 10,
         "index": 820
        },
        {
         "AromaticProportion": 0.6,
         "MolLogP": 0.8682,
         "MolWt": 137.138,
         "NumRotatableBonds": 1,
         "index": 821
        },
        {
         "AromaticProportion": 0,
         "MolLogP": 2.91,
         "MolWt": 172.268,
         "NumRotatableBonds": 7,
         "index": 822
        },
        {
         "AromaticProportion": 0,
         "MolLogP": 2.5199,
         "MolWt": 158.241,
         "NumRotatableBonds": 6,
         "index": 823
        },
        {
         "AromaticProportion": 0,
         "MolLogP": 1.3496,
         "MolWt": 116.16,
         "NumRotatableBonds": 3,
         "index": 824
        },
        {
         "AromaticProportion": 0,
         "MolLogP": 0.5694,
         "MolWt": 88.106,
         "NumRotatableBonds": 1,
         "index": 825
        },
        {
         "AromaticProportion": 0,
         "MolLogP": 1.0428,
         "MolWt": 74.123,
         "NumRotatableBonds": 2,
         "index": 826
        },
        {
         "AromaticProportion": 0,
         "MolLogP": 1.4313,
         "MolWt": 88.15,
         "NumRotatableBonds": 0,
         "index": 827
        },
        {
         "AromaticProportion": 0,
         "MolLogP": 2.5866,
         "MolWt": 98.189,
         "NumRotatableBonds": 0,
         "index": 828
        },
        {
         "AromaticProportion": 0,
         "MolLogP": 2.1965,
         "MolWt": 84.162,
         "NumRotatableBonds": 0,
         "index": 829
        },
        {
         "AromaticProportion": 0.6,
         "MolLogP": 3.7677,
         "MolWt": 268.36,
         "NumRotatableBonds": 3,
         "index": 830
        },
        {
         "AromaticProportion": 0.5454545455,
         "MolLogP": 1.1788,
         "MolWt": 152.149,
         "NumRotatableBonds": 1,
         "index": 831
        },
        {
         "AromaticProportion": 0,
         "MolLogP": 4.8401,
         "MolWt": 344.495,
         "NumRotatableBonds": 1,
         "index": 832
        },
        {
         "AromaticProportion": 0.6666666667,
         "MolLogP": 0.74091,
         "MolWt": 142.183,
         "NumRotatableBonds": 0,
         "index": 833
        },
        {
         "AromaticProportion": 0.3157894737,
         "MolLogP": 3.16412,
         "MolWt": 283.799,
         "NumRotatableBonds": 6,
         "index": 834
        },
        {
         "AromaticProportion": 0.5,
         "MolLogP": 2.71412,
         "MolWt": 365.842,
         "NumRotatableBonds": 2,
         "index": 835
        },
        {
         "AromaticProportion": 0.5454545455,
         "MolLogP": 1.4048,
         "MolWt": 151.165,
         "NumRotatableBonds": 1,
         "index": 836
        },
        {
         "AromaticProportion": 0.4,
         "MolLogP": 2.4421,
         "MolWt": 228.679,
         "NumRotatableBonds": 2,
         "index": 837
        },
        {
         "AromaticProportion": 0.4166666667,
         "MolLogP": 0.09202,
         "MolWt": 171.156,
         "NumRotatableBonds": 3,
         "index": 838
        },
        {
         "AromaticProportion": 0.4285714286,
         "MolLogP": 0.3715,
         "MolWt": 214.294,
         "NumRotatableBonds": 1,
         "index": 839
        },
        {
         "AromaticProportion": 0.4166666667,
         "MolLogP": 0.09202,
         "MolWt": 171.156,
         "NumRotatableBonds": 3,
         "index": 840
        },
        {
         "AromaticProportion": 0.75,
         "MolLogP": 2.5882,
         "MolWt": 175,
         "NumRotatableBonds": 0,
         "index": 841
        },
        {
         "AromaticProportion": 0.4,
         "MolLogP": -0.1303,
         "MolWt": 209.253,
         "NumRotatableBonds": 1,
         "index": 842
        },
        {
         "AromaticProportion": 0,
         "MolLogP": 6.223,
         "MolWt": 545.546,
         "NumRotatableBonds": 0,
         "index": 843
        },
        {
         "AromaticProportion": 0.75,
         "MolLogP": 1.57722,
         "MolWt": 107.156,
         "NumRotatableBonds": 0,
         "index": 844
        },
        {
         "AromaticProportion": 0.6,
         "MolLogP": 1.177,
         "MolWt": 138.126,
         "NumRotatableBonds": 1,
         "index": 845
        },
        {
         "AromaticProportion": 0.6,
         "MolLogP": 1.3004,
         "MolWt": 139.11,
         "NumRotatableBonds": 1,
         "index": 846
        },
        {
         "AromaticProportion": 0.6,
         "MolLogP": 1.90322,
         "MolWt": 137.138,
         "NumRotatableBonds": 1,
         "index": 847
        },
        {
         "AromaticProportion": 0.4285714286,
         "MolLogP": 2.3651,
         "MolWt": 214.652,
         "NumRotatableBonds": 2,
         "index": 848
        },
        {
         "AromaticProportion": 0.1935483871,
         "MolLogP": -2.8848,
         "MolWt": 446.405,
         "NumRotatableBonds": 6,
         "index": 849
        },
        {
         "AromaticProportion": 0.4615384615,
         "MolLogP": 2.4335,
         "MolWt": 198.653,
         "NumRotatableBonds": 1,
         "index": 850
        },
        {
         "AromaticProportion": 0.7272727273,
         "MolLogP": 1.988,
         "MolWt": 302.238,
         "NumRotatableBonds": 1,
         "index": 851
        },
        {
         "AromaticProportion": 0.75,
         "MolLogP": 2.30344,
         "MolWt": 106.168,
         "NumRotatableBonds": 0,
         "index": 852
        },
        {
         "AromaticProportion": 0.5454545455,
         "MolLogP": 2.5328,
         "MolWt": 149.237,
         "NumRotatableBonds": 3,
         "index": 853
        },
        {
         "AromaticProportion": 0,
         "MolLogP": 0.0945,
         "MolWt": 87.122,
         "NumRotatableBonds": 0,
         "index": 854
        },
        {
         "AromaticProportion": 0.6666666667,
         "MolLogP": 1.7526,
         "MolWt": 121.183,
         "NumRotatableBonds": 1,
         "index": 855
        },
        {
         "AromaticProportion": 0,
         "MolLogP": 3.6512,
         "MolWt": 380.784,
         "NumRotatableBonds": 5,
         "index": 856
        },
        {
         "AromaticProportion": 0.5,
         "MolLogP": 3.4755,
         "MolWt": 271.36,
         "NumRotatableBonds": 5,
         "index": 857
        },
        {
         "AromaticProportion": 1,
         "MolLogP": 5.1462,
         "MolWt": 228.294,
         "NumRotatableBonds": 0,
         "index": 858
        },
        {
         "AromaticProportion": 1,
         "MolLogP": 2.8398,
         "MolWt": 128.174,
         "NumRotatableBonds": 0,
         "index": 859
        },
        {
         "AromaticProportion": 0.3529411765,
         "MolLogP": 4.2572,
         "MolWt": 275.179,
         "NumRotatableBonds": 4,
         "index": 860
        },
        {
         "AromaticProportion": 0,
         "MolLogP": 2.6714,
         "MolWt": 154.253,
         "NumRotatableBonds": 4,
         "index": 861
        },
        {
         "AromaticProportion": 0.6666666667,
         "MolLogP": 2.1184,
         "MolWt": 121.183,
         "NumRotatableBonds": 2,
         "index": 862
        },
        {
         "AromaticProportion": 0.6,
         "MolLogP": 2.65122,
         "MolWt": 266.304,
         "NumRotatableBonds": 1,
         "index": 863
        },
        {
         "AromaticProportion": 0.5714285714,
         "MolLogP": 3.8595,
         "MolWt": 327.123,
         "NumRotatableBonds": 3,
         "index": 864
        },
        {
         "AromaticProportion": 0.6666666667,
         "MolLogP": 0.1805,
         "MolWt": 122.127,
         "NumRotatableBonds": 1,
         "index": 865
        },
        {
         "AromaticProportion": 0.24,
         "MolLogP": 2.1756,
         "MolWt": 346.339,
         "NumRotatableBonds": 4,
         "index": 866
        },
        {
         "AromaticProportion": 0.4545454545,
         "MolLogP": 0.9959,
         "MolWt": 156.097,
         "NumRotatableBonds": 2,
         "index": 867
        },
        {
         "AromaticProportion": 0.5454545455,
         "MolLogP": 2.4086,
         "MolWt": 295.298,
         "NumRotatableBonds": 2,
         "index": 868
        },
        {
         "AromaticProportion": 0.3571428571,
         "MolLogP": 0.5809,
         "MolWt": 214.206,
         "NumRotatableBonds": 2,
         "index": 869
        },
        {
         "AromaticProportion": 0.2727272727,
         "MolLogP": 2.9502,
         "MolWt": 322.243,
         "NumRotatableBonds": 5,
         "index": 870
        },
        {
         "AromaticProportion": 0.5454545455,
         "MolLogP": 3.5617,
         "MolWt": 230.909,
         "NumRotatableBonds": 0,
         "index": 871
        },
        {
         "AromaticProportion": 0.5714285714,
         "MolLogP": 2.3843,
         "MolWt": 281.271,
         "NumRotatableBonds": 2,
         "index": 872
        },
        {
         "AromaticProportion": 0.6666666667,
         "MolLogP": 1.5948,
         "MolWt": 123.111,
         "NumRotatableBonds": 1,
         "index": 873
        },
        {
         "AromaticProportion": 0,
         "MolLogP": 0.283,
         "MolWt": 75.067,
         "NumRotatableBonds": 1,
         "index": 874
        },
        {
         "AromaticProportion": 0.6666666667,
         "MolLogP": 4.6939,
         "MolWt": 284.098,
         "NumRotatableBonds": 3,
         "index": 875
        },
        {
         "AromaticProportion": 0.2941176471,
         "MolLogP": 0.0735,
         "MolWt": 238.159,
         "NumRotatableBonds": 3,
         "index": 876
        },
        {
         "AromaticProportion": 0,
         "MolLogP": -1.0201,
         "MolWt": 227.085,
         "NumRotatableBonds": 8,
         "index": 877
        },
        {
         "AromaticProportion": 0,
         "MolLogP": -0.1071,
         "MolWt": 61.04,
         "NumRotatableBonds": 0,
         "index": 878
        },
        {
         "AromaticProportion": 0.75,
         "MolLogP": 1.7283,
         "MolWt": 107.156,
         "NumRotatableBonds": 1,
         "index": 879
        },
        {
         "AromaticProportion": 0,
         "MolLogP": 3.7569,
         "MolWt": 128.259,
         "NumRotatableBonds": 6,
         "index": 880
        },
        {
         "AromaticProportion": 0.6153846154,
         "MolLogP": 4.2894,
         "MolWt": 511.581,
         "NumRotatableBonds": 5,
         "index": 881
        },
        {
         "AromaticProportion": 0,
         "MolLogP": 2.0823,
         "MolWt": 222.332,
         "NumRotatableBonds": 1,
         "index": 882
        },
        {
         "AromaticProportion": 0,
         "MolLogP": 4.0633,
         "MolWt": 340.463,
         "NumRotatableBonds": 1,
         "index": 883
        },
        {
         "AromaticProportion": 0,
         "MolLogP": 2.6074,
         "MolWt": 314.425,
         "NumRotatableBonds": 0,
         "index": 884
        },
        {
         "AromaticProportion": 0.6,
         "MolLogP": 2.9464,
         "MolWt": 303.671,
         "NumRotatableBonds": 2,
         "index": 885
        },
        {
         "AromaticProportion": 0.6666666667,
         "MolLogP": 5.929,
         "MolWt": 320.046,
         "NumRotatableBonds": 3,
         "index": 886
        },
        {
         "AromaticProportion": 0.75,
         "MolLogP": 0.9744,
         "MolWt": 109.128,
         "NumRotatableBonds": 0,
         "index": 887
        },
        {
         "AromaticProportion": 0.75,
         "MolLogP": 1.9222,
         "MolWt": 127.574,
         "NumRotatableBonds": 0,
         "index": 888
        },
        {
         "AromaticProportion": 0.75,
         "MolLogP": 3.1025,
         "MolWt": 191.455,
         "NumRotatableBonds": 0,
         "index": 889
        },
        {
         "AromaticProportion": 0.75,
         "MolLogP": 2.9446,
         "MolWt": 238.455,
         "NumRotatableBonds": 0,
         "index": 890
        },
        {
         "AromaticProportion": 0.6,
         "MolLogP": 2.2482,
         "MolWt": 157.556,
         "NumRotatableBonds": 1,
         "index": 891
        },
        {
         "AromaticProportion": 0,
         "MolLogP": 3.3668,
         "MolWt": 114.232,
         "NumRotatableBonds": 5,
         "index": 892
        },
        {
         "AromaticProportion": 0,
         "MolLogP": 0.1016,
         "MolWt": 89.094,
         "NumRotatableBonds": 1,
         "index": 893
        },
        {
         "AromaticProportion": 0.75,
         "MolLogP": 2.5882,
         "MolWt": 175,
         "NumRotatableBonds": 0,
         "index": 894
        },
        {
         "AromaticProportion": 0.6,
         "MolLogP": 0.4911,
         "MolWt": 137.138,
         "NumRotatableBonds": 1,
         "index": 895
        },
        {
         "AromaticProportion": 0.6666666667,
         "MolLogP": 1.4008,
         "MolWt": 124.139,
         "NumRotatableBonds": 1,
         "index": 896
        },
        {
         "AromaticProportion": 0.6,
         "MolLogP": 1.177,
         "MolWt": 138.126,
         "NumRotatableBonds": 1,
         "index": 897
        },
        {
         "AromaticProportion": 0.5454545455,
         "MolLogP": 1.6034,
         "MolWt": 153.137,
         "NumRotatableBonds": 2,
         "index": 898
        },
        {
         "AromaticProportion": 0.6,
         "MolLogP": 1.3004,
         "MolWt": 139.11,
         "NumRotatableBonds": 1,
         "index": 899
        },
        {
         "AromaticProportion": 0.6,
         "MolLogP": 1.90322,
         "MolWt": 137.138,
         "NumRotatableBonds": 1,
         "index": 900
        },
        {
         "AromaticProportion": 0.2608695652,
         "MolLogP": 1.7768,
         "MolWt": 346.365,
         "NumRotatableBonds": 8,
         "index": 901
        },
        {
         "AromaticProportion": 0.5555555556,
         "MolLogP": 3.3103,
         "MolWt": 244.29,
         "NumRotatableBonds": 3,
         "index": 902
        },
        {
         "AromaticProportion": 0.75,
         "MolLogP": 1.57722,
         "MolWt": 107.156,
         "NumRotatableBonds": 0,
         "index": 903
        },
        {
         "AromaticProportion": 0.5,
         "MolLogP": 4.217,
         "MolWt": 345.226,
         "NumRotatableBonds": 3,
         "index": 904
        },
        {
         "AromaticProportion": 0,
         "MolLogP": 0.1071,
         "MolWt": 219.266,
         "NumRotatableBonds": 1,
         "index": 905
        },
        {
         "AromaticProportion": 0.6,
         "MolLogP": 2.4479,
         "MolWt": 286.718,
         "NumRotatableBonds": 1,
         "index": 906
        },
        {
         "AromaticProportion": 0.3333333333,
         "MolLogP": 1.3016,
         "MolWt": 267.306,
         "NumRotatableBonds": 2,
         "index": 907
        },
        {
         "AromaticProportion": 0.75,
         "MolLogP": 2.30344,
         "MolWt": 106.168,
         "NumRotatableBonds": 0,
         "index": 908
        },
        {
         "AromaticProportion": 0.5,
         "MolLogP": 3.4934,
         "MolWt": 324.38,
         "NumRotatableBonds": 5,
         "index": 909
        },
        {
         "AromaticProportion": 0.8571428571,
         "MolLogP": 2.518,
         "MolWt": 184.242,
         "NumRotatableBonds": 1,
         "index": 910
        },
        {
         "AromaticProportion": 0.6666666667,
         "MolLogP": 5.929,
         "MolWt": 320.046,
         "NumRotatableBonds": 3,
         "index": 911
        },
        {
         "AromaticProportion": 0.6666666667,
         "MolLogP": 6.1879,
         "MolWt": 318.03,
         "NumRotatableBonds": 2,
         "index": 912
        },
        {
         "AromaticProportion": 0.75,
         "MolLogP": 0.9744,
         "MolWt": 109.128,
         "NumRotatableBonds": 0,
         "index": 913
        },
        {
         "AromaticProportion": 0,
         "MolLogP": -1.6476,
         "MolWt": 114.06,
         "NumRotatableBonds": 0,
         "index": 914
        },
        {
         "AromaticProportion": 0.3333333333,
         "MolLogP": 3.2711,
         "MolWt": 291.265,
         "NumRotatableBonds": 7,
         "index": 915
        },
        {
         "AromaticProportion": 0.8571428571,
         "MolLogP": 2.518,
         "MolWt": 184.242,
         "NumRotatableBonds": 1,
         "index": 916
        },
        {
         "AromaticProportion": 0.5454545455,
         "MolLogP": 2.4075,
         "MolWt": 214.062,
         "NumRotatableBonds": 1,
         "index": 917
        },
        {
         "AromaticProportion": 0.75,
         "MolLogP": 3.0537,
         "MolWt": 282.906,
         "NumRotatableBonds": 0,
         "index": 918
        },
        {
         "AromaticProportion": 0.5454545455,
         "MolLogP": 2.2984,
         "MolWt": 169.611,
         "NumRotatableBonds": 1,
         "index": 919
        },
        {
         "AromaticProportion": 0.75,
         "MolLogP": 1.9222,
         "MolWt": 127.574,
         "NumRotatableBonds": 0,
         "index": 920
        },
        {
         "AromaticProportion": 0.75,
         "MolLogP": 3.1025,
         "MolWt": 191.455,
         "NumRotatableBonds": 0,
         "index": 921
        },
        {
         "AromaticProportion": 0.75,
         "MolLogP": 2.9446,
         "MolWt": 238.455,
         "NumRotatableBonds": 0,
         "index": 922
        },
        {
         "AromaticProportion": 0.6,
         "MolLogP": 2.2482,
         "MolWt": 157.556,
         "NumRotatableBonds": 1,
         "index": 923
        },
        {
         "AromaticProportion": 0.75,
         "MolLogP": 1.70062,
         "MolWt": 108.14,
         "NumRotatableBonds": 0,
         "index": 924
        },
        {
         "AromaticProportion": 0,
         "MolLogP": 3.3716,
         "MolWt": 203.351,
         "NumRotatableBonds": 6,
         "index": 925
        },
        {
         "AromaticProportion": 0.5217391304,
         "MolLogP": 5.3167,
         "MolWt": 328.843,
         "NumRotatableBonds": 4,
         "index": 926
        },
        {
         "AromaticProportion": 0.5454545455,
         "MolLogP": 4.9536,
         "MolWt": 250.339,
         "NumRotatableBonds": 0,
         "index": 927
        },
        {
         "AromaticProportion": 0,
         "MolLogP": 3.1603,
         "MolWt": 202.295,
         "NumRotatableBonds": 0,
         "index": 928
        },
        {
         "AromaticProportion": 0.5,
         "MolLogP": 4.6592,
         "MolWt": 266.338,
         "NumRotatableBonds": 0,
         "index": 929
        },
        {
         "AromaticProportion": 0.5454545455,
         "MolLogP": 3.2287,
         "MolWt": 148.249,
         "NumRotatableBonds": 0,
         "index": 930
        },
        {
         "AromaticProportion": 0,
         "MolLogP": 2.1965,
         "MolWt": 72.151,
         "NumRotatableBonds": 2,
         "index": 931
        },
        {
         "AromaticProportion": 0,
         "MolLogP": 1.185,
         "MolWt": 226.276,
         "NumRotatableBonds": 4,
         "index": 932
        },
        {
         "AromaticProportion": 0,
         "MolLogP": 1.7397,
         "MolWt": 130.187,
         "NumRotatableBonds": 4,
         "index": 933
        },
        {
         "AromaticProportion": 0,
         "MolLogP": 1.7397,
         "MolWt": 130.187,
         "NumRotatableBonds": 4,
         "index": 934
        },
        {
         "AromaticProportion": 0.5454545455,
         "MolLogP": 3.4193,
         "MolWt": 148.249,
         "NumRotatableBonds": 4,
         "index": 935
        },
        {
         "AromaticProportion": 0,
         "MolLogP": 3.7569,
         "MolWt": 140.27,
         "NumRotatableBonds": 4,
         "index": 936
        },
        {
         "AromaticProportion": 0.5,
         "MolLogP": 3.08932,
         "MolWt": 379.381,
         "NumRotatableBonds": 4,
         "index": 937
        },
        {
         "AromaticProportion": 0.4615384615,
         "MolLogP": 6.1133,
         "MolWt": 391.294,
         "NumRotatableBonds": 6,
         "index": 938
        },
        {
         "AromaticProportion": 1,
         "MolLogP": 5.7372,
         "MolWt": 252.316,
         "NumRotatableBonds": 0,
         "index": 939
        },
        {
         "AromaticProportion": 0.5454545455,
         "MolLogP": 1.7841,
         "MolWt": 153.156,
         "NumRotatableBonds": 1,
         "index": 940
        },
        {
         "AromaticProportion": 0.4615384615,
         "MolLogP": 2.0437,
         "MolWt": 179.219,
         "NumRotatableBonds": 3,
         "index": 941
        },
        {
         "AromaticProportion": 1,
         "MolLogP": 3.993,
         "MolWt": 178.234,
         "NumRotatableBonds": 0,
         "index": 942
        },
        {
         "AromaticProportion": 1,
         "MolLogP": 3.388,
         "MolWt": 179.222,
         "NumRotatableBonds": 0,
         "index": 943
        },
        {
         "AromaticProportion": 0.6666666667,
         "MolLogP": 2.0853,
         "MolWt": 122.167,
         "NumRotatableBonds": 2,
         "index": 944
        },
        {
         "AromaticProportion": 0.5454545455,
         "MolLogP": 3.78422,
         "MolWt": 300.314,
         "NumRotatableBonds": 3,
         "index": 945
        },
        {
         "AromaticProportion": 0.3529411765,
         "MolLogP": 0.7004,
         "MolWt": 232.239,
         "NumRotatableBonds": 2,
         "index": 946
        },
        {
         "AromaticProportion": 0.8571428571,
         "MolLogP": 1.3922,
         "MolWt": 94.113,
         "NumRotatableBonds": 0,
         "index": 947
        },
        {
         "AromaticProportion": 0.75,
         "MolLogP": 3.5601,
         "MolWt": 318.328,
         "NumRotatableBonds": 2,
         "index": 948
        },
        {
         "AromaticProportion": 0.4615384615,
         "MolLogP": 5.7605,
         "MolWt": 350.458,
         "NumRotatableBonds": 6,
         "index": 949
        },
        {
         "AromaticProportion": 0.5217391304,
         "MolLogP": 3.7878,
         "MolWt": 308.381,
         "NumRotatableBonds": 5,
         "index": 950
        },
        {
         "AromaticProportion": 0.75,
         "MolLogP": 0.9722,
         "MolWt": 108.144,
         "NumRotatableBonds": 1,
         "index": 951
        },
        {
         "AromaticProportion": 0.75,
         "MolLogP": 1.1789,
         "MolWt": 108.14,
         "NumRotatableBonds": 1,
         "index": 952
        },
        {
         "AromaticProportion": 0.6,
         "MolLogP": 1.3421,
         "MolWt": 152.222,
         "NumRotatableBonds": 1,
         "index": 953
        },
        {
         "AromaticProportion": 0.6315789474,
         "MolLogP": 1.7696,
         "MolWt": 252.273,
         "NumRotatableBonds": 2,
         "index": 954
        },
        {
         "AromaticProportion": 0,
         "MolLogP": 3.7277,
         "MolWt": 260.386,
         "NumRotatableBonds": 8,
         "index": 955
        },
        {
         "AromaticProportion": 0.4285714286,
         "MolLogP": 4.2361,
         "MolWt": 367.816,
         "NumRotatableBonds": 7,
         "index": 956
        },
        {
         "AromaticProportion": 0.3157894737,
         "MolLogP": 3.22838,
         "MolWt": 298.304,
         "NumRotatableBonds": 7,
         "index": 957
        },
        {
         "AromaticProportion": 0,
         "MolLogP": 0.0012,
         "MolWt": 149.149,
         "NumRotatableBonds": 0,
         "index": 958
        },
        {
         "AromaticProportion": 0.5454545455,
         "MolLogP": 0.5702,
         "MolWt": 147.133,
         "NumRotatableBonds": 0,
         "index": 959
        },
        {
         "AromaticProportion": 0.6,
         "MolLogP": 1.42996,
         "MolWt": 128.134,
         "NumRotatableBonds": 0,
         "index": 960
        },
        {
         "AromaticProportion": 0.5454545455,
         "MolLogP": 1.3506,
         "MolWt": 151.165,
         "NumRotatableBonds": 1,
         "index": 961
        },
        {
         "AromaticProportion": 0.6666666667,
         "MolLogP": 1.2047,
         "MolWt": 122.123,
         "NumRotatableBonds": 1,
         "index": 962
        },
        {
         "AromaticProportion": 1,
         "MolLogP": 6.2994,
         "MolWt": 278.354,
         "NumRotatableBonds": 0,
         "index": 963
        },
        {
         "AromaticProportion": 0.2857142857,
         "MolLogP": 2.9972,
         "MolWt": 285.343,
         "NumRotatableBonds": 3,
         "index": 964
        },
        {
         "AromaticProportion": 0.5454545455,
         "MolLogP": 1.2278,
         "MolWt": 150.133,
         "NumRotatableBonds": 1,
         "index": 965
        },
        {
         "AromaticProportion": 0,
         "MolLogP": 4.1983,
         "MolWt": 353.49,
         "NumRotatableBonds": 9,
         "index": 966
        },
        {
         "AromaticProportion": 0.3529411765,
         "MolLogP": 1.21984,
         "MolWt": 238.291,
         "NumRotatableBonds": 2,
         "index": 967
        },
        {
         "AromaticProportion": 0.5217391304,
         "MolLogP": 1.581,
         "MolWt": 331.353,
         "NumRotatableBonds": 2,
         "index": 968
        },
        {
         "AromaticProportion": 0.6,
         "MolLogP": 1.5077,
         "MolWt": 136.15,
         "NumRotatableBonds": 2,
         "index": 969
        },
        {
         "AromaticProportion": 0.75,
         "MolLogP": 1.57722,
         "MolWt": 107.156,
         "NumRotatableBonds": 0,
         "index": 970
        },
        {
         "AromaticProportion": 0.6,
         "MolLogP": 1.177,
         "MolWt": 138.126,
         "NumRotatableBonds": 1,
         "index": 971
        },
        {
         "AromaticProportion": 0.5454545455,
         "MolLogP": 1.6034,
         "MolWt": 153.137,
         "NumRotatableBonds": 2,
         "index": 972
        },
        {
         "AromaticProportion": 0.6,
         "MolLogP": 1.3004,
         "MolWt": 139.11,
         "NumRotatableBonds": 1,
         "index": 973
        },
        {
         "AromaticProportion": 0.6,
         "MolLogP": 1.90322,
         "MolWt": 137.138,
         "NumRotatableBonds": 1,
         "index": 974
        },
        {
         "AromaticProportion": 0.9230769231,
         "MolLogP": 3.0592,
         "MolWt": 170.211,
         "NumRotatableBonds": 1,
         "index": 975
        },
        {
         "AromaticProportion": 0,
         "MolLogP": 3.8792,
         "MolWt": 288.431,
         "NumRotatableBonds": 0,
         "index": 976
        },
        {
         "AromaticProportion": 0,
         "MolLogP": 1.5576,
         "MolWt": 360.45,
         "NumRotatableBonds": 2,
         "index": 977
        },
        {
         "AromaticProportion": 0,
         "MolLogP": 2.1284,
         "MolWt": 402.487,
         "NumRotatableBonds": 3,
         "index": 978
        },
        {
         "AromaticProportion": 0,
         "MolLogP": 4.5153,
         "MolWt": 316.485,
         "NumRotatableBonds": 1,
         "index": 979
        },
        {
         "AromaticProportion": 0.375,
         "MolLogP": 0.5379,
         "MolWt": 218.256,
         "NumRotatableBonds": 2,
         "index": 980
        },
        {
         "AromaticProportion": 0,
         "MolLogP": 0.4048,
         "MolWt": 198.222,
         "NumRotatableBonds": 2,
         "index": 981
        },
        {
         "AromaticProportion": 0.3333333333,
         "MolLogP": 3.2829,
         "MolWt": 284.142,
         "NumRotatableBonds": 1,
         "index": 982
        },
        {
         "AromaticProportion": 0,
         "MolLogP": 4.7235,
         "MolWt": 314.469,
         "NumRotatableBonds": 1,
         "index": 983
        },
        {
         "AromaticProportion": 0.375,
         "MolLogP": 1.5208,
         "MolWt": 225.296,
         "NumRotatableBonds": 5,
         "index": 984
        },
        {
         "AromaticProportion": 0.375,
         "MolLogP": 2.2341,
         "MolWt": 241.364,
         "NumRotatableBonds": 5,
         "index": 985
        },
        {
         "AromaticProportion": 0.4285714286,
         "MolLogP": 2.6668,
         "MolWt": 211.692,
         "NumRotatableBonds": 3,
         "index": 986
        },
        {
         "AromaticProportion": 0,
         "MolLogP": 1.4163,
         "MolWt": 44.097,
         "NumRotatableBonds": 0,
         "index": 987
        },
        {
         "AromaticProportion": 0.4615384615,
         "MolLogP": 3.3419,
         "MolWt": 218.083,
         "NumRotatableBonds": 2,
         "index": 988
        },
        {
         "AromaticProportion": 0.4,
         "MolLogP": 2.1656,
         "MolWt": 229.715,
         "NumRotatableBonds": 4,
         "index": 989
        },
        {
         "AromaticProportion": 0,
         "MolLogP": 2.3388,
         "MolWt": 281.314,
         "NumRotatableBonds": 7,
         "index": 990
        },
        {
         "AromaticProportion": 0.5,
         "MolLogP": 3.6534,
         "MolWt": 342.226,
         "NumRotatableBonds": 5,
         "index": 991
        },
        {
         "AromaticProportion": 0,
         "MolLogP": 0.5953,
         "MolWt": 58.08,
         "NumRotatableBonds": 1,
         "index": 992
        },
        {
         "AromaticProportion": 0,
         "MolLogP": 0.91998,
         "MolWt": 55.08,
         "NumRotatableBonds": 0,
         "index": 993
        },
        {
         "AromaticProportion": 0.4,
         "MolLogP": 2.192,
         "MolWt": 209.245,
         "NumRotatableBonds": 3,
         "index": 994
        },
        {
         "AromaticProportion": 0,
         "MolLogP": 0.9595,
         "MolWt": 102.133,
         "NumRotatableBonds": 2,
         "index": 995
        },
        {
         "AromaticProportion": 0,
         "MolLogP": 0.9595,
         "MolWt": 102.133,
         "NumRotatableBonds": 2,
         "index": 996
        },
        {
         "AromaticProportion": 0,
         "MolLogP": 0.5694,
         "MolWt": 88.106,
         "NumRotatableBonds": 3,
         "index": 997
        },
        {
         "AromaticProportion": 0,
         "MolLogP": 1.3496,
         "MolWt": 116.16,
         "NumRotatableBonds": 3,
         "index": 998
        },
        {
         "AromaticProportion": 0.6666666667,
         "MolLogP": 2.6391,
         "MolWt": 120.195,
         "NumRotatableBonds": 2,
         "index": 999
        },
        {
         "AromaticProportion": 0,
         "MolLogP": 2.9767,
         "MolWt": 112.216,
         "NumRotatableBonds": 2,
         "index": 1000
        },
        {
         "AromaticProportion": 0,
         "MolLogP": 1.1923,
         "MolWt": 42.081,
         "NumRotatableBonds": 0,
         "index": 1001
        },
        {
         "AromaticProportion": 0,
         "MolLogP": 1.8214,
         "MolWt": 102.177,
         "NumRotatableBonds": 3,
         "index": 1002
        },
        {
         "AromaticProportion": 0,
         "MolLogP": 0.6395,
         "MolWt": 40.065,
         "NumRotatableBonds": 0,
         "index": 1003
        },
        {
         "AromaticProportion": 0.5454545455,
         "MolLogP": 2.6897,
         "MolWt": 150.221,
         "NumRotatableBonds": 0,
         "index": 1004
        },
        {
         "AromaticProportion": 1,
         "MolLogP": 0.4198,
         "MolWt": 132.126,
         "NumRotatableBonds": 0,
         "index": 1005
        },
        {
         "AromaticProportion": 1,
         "MolLogP": 5.0206,
         "MolWt": 230.31,
         "NumRotatableBonds": 2,
         "index": 1006
        },
        {
         "AromaticProportion": 0.5454545455,
         "MolLogP": 0.64242,
         "MolWt": 171.221,
         "NumRotatableBonds": 1,
         "index": 1007
        },
        {
         "AromaticProportion": 0.75,
         "MolLogP": 2.30344,
         "MolWt": 106.168,
         "NumRotatableBonds": 0,
         "index": 1008
        },
        {
         "AromaticProportion": 0.375,
         "MolLogP": 2.7095,
         "MolWt": 217.268,
         "NumRotatableBonds": 2,
         "index": 1009
        },
        {
         "AromaticProportion": 0.6666666667,
         "MolLogP": -0.4245,
         "MolWt": 123.115,
         "NumRotatableBonds": 1,
         "index": 1010
        },
        {
         "AromaticProportion": 0.8,
         "MolLogP": 1.4681,
         "MolWt": 221.647,
         "NumRotatableBonds": 1,
         "index": 1011
        },
        {
         "AromaticProportion": 1,
         "MolLogP": 4.584,
         "MolWt": 202.256,
         "NumRotatableBonds": 0,
         "index": 1012
        },
        {
         "AromaticProportion": 1,
         "MolLogP": 0.4766,
         "MolWt": 80.09,
         "NumRotatableBonds": 0,
         "index": 1013
        },
        {
         "AromaticProportion": 1,
         "MolLogP": 1.0816,
         "MolWt": 79.102,
         "NumRotatableBonds": 0,
         "index": 1014
        },
        {
         "AromaticProportion": 1,
         "MolLogP": 0.4766,
         "MolWt": 80.09,
         "NumRotatableBonds": 0,
         "index": 1015
        },
        {
         "AromaticProportion": 0.6111111111,
         "MolLogP": 2.24112,
         "MolWt": 245.282,
         "NumRotatableBonds": 2,
         "index": 1016
        },
        {
         "AromaticProportion": 0.3333333333,
         "MolLogP": 0.8788,
         "MolWt": 289.744,
         "NumRotatableBonds": 2,
         "index": 1017
        },
        {
         "AromaticProportion": 1,
         "MolLogP": 2.2348,
         "MolWt": 129.162,
         "NumRotatableBonds": 0,
         "index": 1018
        },
        {
         "AromaticProportion": 0.3,
         "MolLogP": 2.826,
         "MolWt": 332.57,
         "NumRotatableBonds": 3,
         "index": 1019
        },
        {
         "AromaticProportion": 0.4285714286,
         "MolLogP": 4.8618,
         "MolWt": 295.336,
         "NumRotatableBonds": 1,
         "index": 1020
        },
        {
         "AromaticProportion": 0,
         "MolLogP": -7.5714,
         "MolWt": 504.438,
         "NumRotatableBonds": 8,
         "index": 1021
        },
        {
         "AromaticProportion": 0,
         "MolLogP": 1.4952,
         "MolWt": 262.309,
         "NumRotatableBonds": 2,
         "index": 1022
        },
        {
         "AromaticProportion": 0.6315789474,
         "MolLogP": 2.2246,
         "MolWt": 254.293,
         "NumRotatableBonds": 1,
         "index": 1023
        },
        {
         "AromaticProportion": 0,
         "MolLogP": 0.1343,
         "MolWt": 133.197,
         "NumRotatableBonds": 0,
         "index": 1024
        },
        {
         "AromaticProportion": 0.5185185185,
         "MolLogP": -1.72356,
         "MolWt": 376.369,
         "NumRotatableBonds": 5,
         "index": 1025
        },
        {
         "AromaticProportion": 0.4615384615,
         "MolLogP": 1.8356,
         "MolWt": 179.219,
         "NumRotatableBonds": 3,
         "index": 1026
        },
        {
         "AromaticProportion": 0.375,
         "MolLogP": 4.5429,
         "MolWt": 321.549,
         "NumRotatableBonds": 4,
         "index": 1027
        },
        {
         "AromaticProportion": 0.4137931034,
         "MolLogP": 3.7033,
         "MolWt": 394.423,
         "NumRotatableBonds": 3,
         "index": 1028
        },
        {
         "AromaticProportion": 0.2857142857,
         "MolLogP": 2.88,
         "MolWt": 330.171,
         "NumRotatableBonds": 2,
         "index": 1029
        },
        {
         "AromaticProportion": 0.7058823529,
         "MolLogP": 2.4639,
         "MolWt": 226.235,
         "NumRotatableBonds": 0,
         "index": 1030
        },
        {
         "AromaticProportion": 0.6315789474,
         "MolLogP": 2.95952,
         "MolWt": 254.289,
         "NumRotatableBonds": 0,
         "index": 1031
        },
        {
         "AromaticProportion": 0.6,
         "MolLogP": 2.878,
         "MolWt": 288.738,
         "NumRotatableBonds": 1,
         "index": 1032
        },
        {
         "AromaticProportion": 0.5217391304,
         "MolLogP": 3.52752,
         "MolWt": 322.29,
         "NumRotatableBonds": 1,
         "index": 1033
        },
        {
         "AromaticProportion": 0.6,
         "MolLogP": 2.81714,
         "MolWt": 268.32,
         "NumRotatableBonds": 1,
         "index": 1034
        },
        {
         "AromaticProportion": 0.6315789474,
         "MolLogP": 2.7599,
         "MolWt": 270.361,
         "NumRotatableBonds": 1,
         "index": 1035
        },
        {
         "AromaticProportion": 0.6315789474,
         "MolLogP": 3.3649,
         "MolWt": 269.373,
         "NumRotatableBonds": 1,
         "index": 1036
        },
        {
         "AromaticProportion": 0.6315789474,
         "MolLogP": 3.4346,
         "MolWt": 252.317,
         "NumRotatableBonds": 1,
         "index": 1037
        },
        {
         "AromaticProportion": 0.6,
         "MolLogP": 2.6147,
         "MolWt": 268.32,
         "NumRotatableBonds": 2,
         "index": 1038
        },
        {
         "AromaticProportion": 0.6315789474,
         "MolLogP": 3.2071,
         "MolWt": 255.292,
         "NumRotatableBonds": 2,
         "index": 1039
        },
        {
         "AromaticProportion": 0.5454545455,
         "MolLogP": 3.17972,
         "MolWt": 296.374,
         "NumRotatableBonds": 2,
         "index": 1040
        },
        {
         "AromaticProportion": 0.5714285714,
         "MolLogP": 3.12232,
         "MolWt": 283.331,
         "NumRotatableBonds": 2,
         "index": 1041
        },
        {
         "AromaticProportion": 0.6315789474,
         "MolLogP": 3.4587,
         "MolWt": 273.723,
         "NumRotatableBonds": 1,
         "index": 1042
        },
        {
         "AromaticProportion": 0.6315789474,
         "MolLogP": 2.35452,
         "MolWt": 255.277,
         "NumRotatableBonds": 0,
         "index": 1043
        },
        {
         "AromaticProportion": 0.6315789474,
         "MolLogP": 2.8296,
         "MolWt": 253.305,
         "NumRotatableBonds": 1,
         "index": 1044
        },
        {
         "AromaticProportion": 0.5217391304,
         "MolLogP": 1.6288,
         "MolWt": 313.361,
         "NumRotatableBonds": 4,
         "index": 1045
        },
        {
         "AromaticProportion": 0.6315789474,
         "MolLogP": 3.2071,
         "MolWt": 255.292,
         "NumRotatableBonds": 2,
         "index": 1046
        },
        {
         "AromaticProportion": 0.6666666667,
         "MolLogP": 3.459,
         "MolWt": 239.274,
         "NumRotatableBonds": 1,
         "index": 1047
        },
        {
         "AromaticProportion": 0.3,
         "MolLogP": -1.6424,
         "MolWt": 286.28,
         "NumRotatableBonds": 4,
         "index": 1048
        },
        {
         "AromaticProportion": 0.6,
         "MolLogP": 0.4911,
         "MolWt": 137.138,
         "NumRotatableBonds": 1,
         "index": 1049
        },
        {
         "AromaticProportion": 0.75,
         "MolLogP": 2.6445,
         "MolWt": 213.236,
         "NumRotatableBonds": 2,
         "index": 1050
        },
        {
         "AromaticProportion": 0,
         "MolLogP": 2.4196,
         "MolWt": 246.306,
         "NumRotatableBonds": 0,
         "index": 1051
        },
        {
         "AromaticProportion": 0,
         "MolLogP": 1.3511,
         "MolWt": 238.287,
         "NumRotatableBonds": 5,
         "index": 1052
        },
        {
         "AromaticProportion": 0.3529411765,
         "MolLogP": 3.3868,
         "MolWt": 232.327,
         "NumRotatableBonds": 2,
         "index": 1053
        },
        {
         "AromaticProportion": 0.4615384615,
         "MolLogP": 1.3886,
         "MolWt": 201.661,
         "NumRotatableBonds": 4,
         "index": 1054
        },
        {
         "AromaticProportion": 0.4285714286,
         "MolLogP": 0.7255,
         "MolWt": 213.31,
         "NumRotatableBonds": 3,
         "index": 1055
        },
        {
         "AromaticProportion": 0,
         "MolLogP": -3.5854,
         "MolWt": 182.172,
         "NumRotatableBonds": 5,
         "index": 1056
        },
        {
         "AromaticProportion": 0.2608695652,
         "MolLogP": -1.06888,
         "MolWt": 361.445,
         "NumRotatableBonds": 8,
         "index": 1057
        },
        {
         "AromaticProportion": 0,
         "MolLogP": 4.8523,
         "MolWt": 416.583,
         "NumRotatableBonds": 1,
         "index": 1058
        },
        {
         "AromaticProportion": 0.2857142857,
         "MolLogP": 3.8884,
         "MolWt": 293.407,
         "NumRotatableBonds": 9,
         "index": 1059
        },
        {
         "AromaticProportion": 0,
         "MolLogP": 3.9591,
         "MolWt": 290.447,
         "NumRotatableBonds": 0,
         "index": 1060
        },
        {
         "AromaticProportion": 0.3157894737,
         "MolLogP": 5.6015,
         "MolWt": 365.964,
         "NumRotatableBonds": 5,
         "index": 1061
        },
        {
         "AromaticProportion": 0.75,
         "MolLogP": 2.3296,
         "MolWt": 104.152,
         "NumRotatableBonds": 1,
         "index": 1062
        },
        {
         "AromaticProportion": 0.6666666667,
         "MolLogP": 1.7579,
         "MolWt": 120.151,
         "NumRotatableBonds": 1,
         "index": 1063
        },
        {
         "AromaticProportion": 0,
         "MolLogP": -0.577,
         "MolWt": 99.089,
         "NumRotatableBonds": 0,
         "index": 1064
        },
        {
         "AromaticProportion": 0,
         "MolLogP": -5.3956,
         "MolWt": 342.297,
         "NumRotatableBonds": 5,
         "index": 1065
        },
        {
         "AromaticProportion": 0.4285714286,
         "MolLogP": -0.55943,
         "MolWt": 214.25,
         "NumRotatableBonds": 2,
         "index": 1066
        },
        {
         "AromaticProportion": 0,
         "MolLogP": 3.0988,
         "MolWt": 223.794,
         "NumRotatableBonds": 4,
         "index": 1067
        },
        {
         "AromaticProportion": 0.5454545455,
         "MolLogP": -0.0838,
         "MolWt": 172.209,
         "NumRotatableBonds": 1,
         "index": 1068
        },
        {
         "AromaticProportion": 0,
         "MolLogP": 0.961,
         "MolWt": 224.26,
         "NumRotatableBonds": 4,
         "index": 1069
        },
        {
         "AromaticProportion": 0.6,
         "MolLogP": 2.9841,
         "MolWt": 134.222,
         "NumRotatableBonds": 0,
         "index": 1070
        },
        {
         "AromaticProportion": 0,
         "MolLogP": 0.7614,
         "MolWt": 70.091,
         "NumRotatableBonds": 1,
         "index": 1071
        },
        {
         "AromaticProportion": 0.5,
         "MolLogP": 4.5117,
         "MolWt": 381.112,
         "NumRotatableBonds": 2,
         "index": 1072
        },
        {
         "AromaticProportion": 0.4285714286,
         "MolLogP": 1.25342,
         "MolWt": 216.668,
         "NumRotatableBonds": 0,
         "index": 1073
        },
        {
         "AromaticProportion": 0,
         "MolLogP": 4.5063,
         "MolWt": 288.44,
         "NumRotatableBonds": 7,
         "index": 1074
        },
        {
         "AromaticProportion": 0.375,
         "MolLogP": 1.5224,
         "MolWt": 225.296,
         "NumRotatableBonds": 4,
         "index": 1075
        },
        {
         "AromaticProportion": 0.375,
         "MolLogP": 2.2357,
         "MolWt": 241.364,
         "NumRotatableBonds": 4,
         "index": 1076
        },
        {
         "AromaticProportion": 0,
         "MolLogP": 3.8792,
         "MolWt": 288.431,
         "NumRotatableBonds": 0,
         "index": 1077
        },
        {
         "AromaticProportion": 0,
         "MolLogP": 4.45,
         "MolWt": 330.468,
         "NumRotatableBonds": 1,
         "index": 1078
        },
        {
         "AromaticProportion": 0,
         "MolLogP": 4.8401,
         "MolWt": 344.495,
         "NumRotatableBonds": 2,
         "index": 1079
        },
        {
         "AromaticProportion": 0,
         "MolLogP": 3.1773,
         "MolWt": 331.627,
         "NumRotatableBonds": 0,
         "index": 1080
        },
        {
         "AromaticProportion": 0,
         "MolLogP": 3.0682,
         "MolWt": 165.834,
         "NumRotatableBonds": 0,
         "index": 1081
        },
        {
         "AromaticProportion": 0.4615384615,
         "MolLogP": 4.0144,
         "MolWt": 261.919,
         "NumRotatableBonds": 1,
         "index": 1082
        },
        {
         "AromaticProportion": 0,
         "MolLogP": 2.5529,
         "MolWt": 153.823,
         "NumRotatableBonds": 0,
         "index": 1083
        },
        {
         "AromaticProportion": 0,
         "MolLogP": 5.7074,
         "MolWt": 198.394,
         "NumRotatableBonds": 11,
         "index": 1084
        },
        {
         "AromaticProportion": 0.2222222222,
         "MolLogP": 5.55182,
         "MolWt": 418.736,
         "NumRotatableBonds": 4,
         "index": 1085
        },
        {
         "AromaticProportion": 0,
         "MolLogP": 0.7968,
         "MolWt": 72.107,
         "NumRotatableBonds": 0,
         "index": 1086
        },
        {
         "AromaticProportion": 0,
         "MolLogP": 1.1869,
         "MolWt": 86.134,
         "NumRotatableBonds": 0,
         "index": 1087
        },
        {
         "AromaticProportion": 0,
         "MolLogP": 0.2296,
         "MolWt": 116.164,
         "NumRotatableBonds": 0,
         "index": 1088
        },
        {
         "AromaticProportion": 0.3157894737,
         "MolLogP": 0.0878,
         "MolWt": 258.233,
         "NumRotatableBonds": 1,
         "index": 1089
        },
        {
         "AromaticProportion": 0.6923076923,
         "MolLogP": -1.0397,
         "MolWt": 180.167,
         "NumRotatableBonds": 0,
         "index": 1090
        },
        {
         "AromaticProportion": 0.6923076923,
         "MolLogP": -1.0397,
         "MolWt": 180.167,
         "NumRotatableBonds": 0,
         "index": 1091
        },
        {
         "AromaticProportion": 0.2857142857,
         "MolLogP": 0.4043,
         "MolWt": 356.227,
         "NumRotatableBonds": 6,
         "index": 1092
        },
        {
         "AromaticProportion": 0,
         "MolLogP": 1.516,
         "MolWt": 254.355,
         "NumRotatableBonds": 5,
         "index": 1093
        },
        {
         "AromaticProportion": 0.75,
         "MolLogP": 2.4085,
         "MolWt": 124.208,
         "NumRotatableBonds": 1,
         "index": 1094
        },
        {
         "AromaticProportion": 0,
         "MolLogP": 2.1075,
         "MolWt": 218.322,
         "NumRotatableBonds": 3,
         "index": 1095
        },
        {
         "AromaticProportion": 0,
         "MolLogP": 2.99,
         "MolWt": 246.359,
         "NumRotatableBonds": 7,
         "index": 1096
        },
        {
         "AromaticProportion": 0,
         "MolLogP": 1.3499,
         "MolWt": 242.344,
         "NumRotatableBonds": 4,
         "index": 1097
        },
        {
         "AromaticProportion": 1,
         "MolLogP": 1.7481,
         "MolWt": 84.143,
         "NumRotatableBonds": 0,
         "index": 1098
        },
        {
         "AromaticProportion": 0.8571428571,
         "MolLogP": 1.9753,
         "MolWt": 110.181,
         "NumRotatableBonds": 0,
         "index": 1099
        },
        {
         "AromaticProportion": 0.75,
         "MolLogP": 0.0586,
         "MolWt": 128.156,
         "NumRotatableBonds": 0,
         "index": 1100
        },
        {
         "AromaticProportion": 0,
         "MolLogP": -0.8113,
         "MolWt": 76.124,
         "NumRotatableBonds": 0,
         "index": 1101
        },
        {
         "AromaticProportion": 0,
         "MolLogP": 2.0608,
         "MolWt": 240.444,
         "NumRotatableBonds": 0,
         "index": 1102
        },
        {
         "AromaticProportion": 0.6666666667,
         "MolLogP": -0.62838,
         "MolWt": 126.115,
         "NumRotatableBonds": 0,
         "index": 1103
        },
        {
         "AromaticProportion": 0.5454545455,
         "MolLogP": 2.82402,
         "MolWt": 150.221,
         "NumRotatableBonds": 1,
         "index": 1104
        },
        {
         "AromaticProportion": 0.8571428571,
         "MolLogP": 1.99502,
         "MolWt": 92.141,
         "NumRotatableBonds": 0,
         "index": 1105
        },
        {
         "AromaticProportion": 0.5454545455,
         "MolLogP": 3.2752,
         "MolWt": 148.249,
         "NumRotatableBonds": 1,
         "index": 1106
        },
        {
         "AromaticProportion": 0,
         "MolLogP": 2.8326,
         "MolWt": 112.216,
         "NumRotatableBonds": 0,
         "index": 1107
        },
        {
         "AromaticProportion": 0,
         "MolLogP": 2.7527,
         "MolWt": 98.189,
         "NumRotatableBonds": 3,
         "index": 1108
        },
        {
         "AromaticProportion": 0,
         "MolLogP": 1.9725,
         "MolWt": 70.135,
         "NumRotatableBonds": 1,
         "index": 1109
        },
        {
         "AromaticProportion": 0.55,
         "MolLogP": 3.1243,
         "MolWt": 293.754,
         "NumRotatableBonds": 4,
         "index": 1110
        },
        {
         "AromaticProportion": 0,
         "MolLogP": 4.8439,
         "MolWt": 304.67,
         "NumRotatableBonds": 4,
         "index": 1111
        },
        {
         "AromaticProportion": 0,
         "MolLogP": 0.6205,
         "MolWt": 394.439,
         "NumRotatableBonds": 2,
         "index": 1112
        },
        {
         "AromaticProportion": 0,
         "MolLogP": 2.4188,
         "MolWt": 434.504,
         "NumRotatableBonds": 2,
         "index": 1113
        },
        {
         "AromaticProportion": 0,
         "MolLogP": 1.7621,
         "MolWt": 478.513,
         "NumRotatableBonds": 4,
         "index": 1114
        },
        {
         "AromaticProportion": 0.8421052632,
         "MolLogP": 0.8334,
         "MolWt": 253.269,
         "NumRotatableBonds": 1,
         "index": 1115
        },
        {
         "AromaticProportion": 0.7391304348,
         "MolLogP": 4.23352,
         "MolWt": 343.217,
         "NumRotatableBonds": 1,
         "index": 1116
        },
        {
         "AromaticProportion": 0,
         "MolLogP": 2.4547,
         "MolWt": 252.731,
         "NumRotatableBonds": 0,
         "index": 1117
        },
        {
         "AromaticProportion": 0.3,
         "MolLogP": 0.821,
         "MolWt": 380.662,
         "NumRotatableBonds": 2,
         "index": 1118
        },
        {
         "AromaticProportion": 0,
         "MolLogP": 2.1609,
         "MolWt": 257.437,
         "NumRotatableBonds": 3,
         "index": 1119
        },
        {
         "AromaticProportion": 0.3,
         "MolLogP": 0.821,
         "MolWt": 380.662,
         "NumRotatableBonds": 2,
         "index": 1120
        },
        {
         "AromaticProportion": 0,
         "MolLogP": 1.88018,
         "MolWt": 144.388,
         "NumRotatableBonds": 0,
         "index": 1121
        },
        {
         "AromaticProportion": 0,
         "MolLogP": 2.5017,
         "MolWt": 131.389,
         "NumRotatableBonds": 0,
         "index": 1122
        },
        {
         "AromaticProportion": 0,
         "MolLogP": 1.9864,
         "MolWt": 119.378,
         "NumRotatableBonds": 0,
         "index": 1123
        },
        {
         "AromaticProportion": 0.3529411765,
         "MolLogP": 5.3915,
         "MolWt": 333.604,
         "NumRotatableBonds": 5,
         "index": 1124
        },
        {
         "AromaticProportion": 0.7058823529,
         "MolLogP": 5.1447,
         "MolWt": 289.545,
         "NumRotatableBonds": 2,
         "index": 1125
        },
        {
         "AromaticProportion": 0.6923076923,
         "MolLogP": 6.25676,
         "MolWt": 368.369,
         "NumRotatableBonds": 6,
         "index": 1126
        },
        {
         "AromaticProportion": 0.9230769231,
         "MolLogP": 2.25242,
         "MolWt": 189.243,
         "NumRotatableBonds": 0,
         "index": 1127
        },
        {
         "AromaticProportion": 0.4,
         "MolLogP": 1.803,
         "MolWt": 229.715,
         "NumRotatableBonds": 5,
         "index": 1128
        },
        {
         "AromaticProportion": 0,
         "MolLogP": 2.204,
         "MolWt": 182.156,
         "NumRotatableBonds": 6,
         "index": 1129
        },
        {
         "AromaticProportion": 0.2608695652,
         "MolLogP": 4.1482,
         "MolWt": 335.282,
         "NumRotatableBonds": 7,
         "index": 1130
        },
        {
         "AromaticProportion": 0,
         "MolLogP": 2.431,
         "MolWt": 430.934,
         "NumRotatableBonds": 6,
         "index": 1131
        },
        {
         "AromaticProportion": 0.3225806452,
         "MolLogP": 1.2673,
         "MolWt": 435.481,
         "NumRotatableBonds": 6,
         "index": 1132
        },
        {
         "AromaticProportion": 1,
         "MolLogP": 5.1462,
         "MolWt": 228.294,
         "NumRotatableBonds": 0,
         "index": 1133
        },
        {
         "AromaticProportion": 0.4736842105,
         "MolLogP": -1.375,
         "MolWt": 266.257,
         "NumRotatableBonds": 2,
         "index": 1134
        },
        {
         "AromaticProportion": 0.75,
         "MolLogP": -0.9368,
         "MolWt": 112.088,
         "NumRotatableBonds": 0,
         "index": 1135
        },
        {
         "AromaticProportion": 0,
         "MolLogP": -0.9762,
         "MolWt": 60.056,
         "NumRotatableBonds": 0,
         "index": 1136
        },
        {
         "AromaticProportion": 0.75,
         "MolLogP": -1.7672,
         "MolWt": 168.112,
         "NumRotatableBonds": 0,
         "index": 1137
        },
        {
         "AromaticProportion": 0,
         "MolLogP": 1.3755,
         "MolWt": 86.134,
         "NumRotatableBonds": 3,
         "index": 1138
        },
        {
         "AromaticProportion": 0,
         "MolLogP": 1.9882,
         "MolWt": 287.343,
         "NumRotatableBonds": 8,
         "index": 1139
        },
        {
         "AromaticProportion": 0.3333333333,
         "MolLogP": 3.4213,
         "MolWt": 286.114,
         "NumRotatableBonds": 2,
         "index": 1140
        },
        {
         "AromaticProportion": 0.6956521739,
         "MolLogP": 3.6096,
         "MolWt": 308.333,
         "NumRotatableBonds": 4,
         "index": 1141
        },
        {
         "AromaticProportion": 0.5217391304,
         "MolLogP": 2.56214,
         "MolWt": 354.815,
         "NumRotatableBonds": 3,
         "index": 1142
        },
        {
         "AromaticProportion": 0.4615384615,
         "MolLogP": 2.02164,
         "MolWt": 179.219,
         "NumRotatableBonds": 1,
         "index": 1143
        }
       ],
       "schema": {
        "fields": [
         {
          "name": "index",
          "type": "integer"
         },
         {
          "name": "MolLogP",
          "type": "number"
         },
         {
          "name": "MolWt",
          "type": "number"
         },
         {
          "name": "NumRotatableBonds",
          "type": "number"
         },
         {
          "name": "AromaticProportion",
          "type": "number"
         }
        ],
        "pandas_version": "1.4.0",
        "primaryKey": [
         "index"
        ]
       }
      },
      "text/html": [
       "<div>\n",
       "<style scoped>\n",
       "    .dataframe tbody tr th:only-of-type {\n",
       "        vertical-align: middle;\n",
       "    }\n",
       "\n",
       "    .dataframe tbody tr th {\n",
       "        vertical-align: top;\n",
       "    }\n",
       "\n",
       "    .dataframe thead th {\n",
       "        text-align: right;\n",
       "    }\n",
       "</style>\n",
       "<table border=\"1\" class=\"dataframe\">\n",
       "  <thead>\n",
       "    <tr style=\"text-align: right;\">\n",
       "      <th></th>\n",
       "      <th>MolLogP</th>\n",
       "      <th>MolWt</th>\n",
       "      <th>NumRotatableBonds</th>\n",
       "      <th>AromaticProportion</th>\n",
       "    </tr>\n",
       "  </thead>\n",
       "  <tbody>\n",
       "    <tr>\n",
       "      <th>0</th>\n",
       "      <td>2.59540</td>\n",
       "      <td>167.850</td>\n",
       "      <td>0.0</td>\n",
       "      <td>0.000000</td>\n",
       "    </tr>\n",
       "    <tr>\n",
       "      <th>1</th>\n",
       "      <td>2.37650</td>\n",
       "      <td>133.405</td>\n",
       "      <td>0.0</td>\n",
       "      <td>0.000000</td>\n",
       "    </tr>\n",
       "    <tr>\n",
       "      <th>2</th>\n",
       "      <td>2.59380</td>\n",
       "      <td>167.850</td>\n",
       "      <td>1.0</td>\n",
       "      <td>0.000000</td>\n",
       "    </tr>\n",
       "    <tr>\n",
       "      <th>3</th>\n",
       "      <td>2.02890</td>\n",
       "      <td>133.405</td>\n",
       "      <td>1.0</td>\n",
       "      <td>0.000000</td>\n",
       "    </tr>\n",
       "    <tr>\n",
       "      <th>4</th>\n",
       "      <td>2.91890</td>\n",
       "      <td>187.375</td>\n",
       "      <td>1.0</td>\n",
       "      <td>0.000000</td>\n",
       "    </tr>\n",
       "    <tr>\n",
       "      <th>5</th>\n",
       "      <td>1.81000</td>\n",
       "      <td>98.960</td>\n",
       "      <td>0.0</td>\n",
       "      <td>0.000000</td>\n",
       "    </tr>\n",
       "    <tr>\n",
       "      <th>6</th>\n",
       "      <td>1.93520</td>\n",
       "      <td>96.944</td>\n",
       "      <td>0.0</td>\n",
       "      <td>0.000000</td>\n",
       "    </tr>\n",
       "    <tr>\n",
       "      <th>7</th>\n",
       "      <td>1.40540</td>\n",
       "      <td>118.176</td>\n",
       "      <td>4.0</td>\n",
       "      <td>0.000000</td>\n",
       "    </tr>\n",
       "    <tr>\n",
       "      <th>8</th>\n",
       "      <td>4.30020</td>\n",
       "      <td>215.894</td>\n",
       "      <td>0.0</td>\n",
       "      <td>0.600000</td>\n",
       "    </tr>\n",
       "    <tr>\n",
       "      <th>9</th>\n",
       "      <td>2.56540</td>\n",
       "      <td>132.206</td>\n",
       "      <td>0.0</td>\n",
       "      <td>0.600000</td>\n",
       "    </tr>\n",
       "    <tr>\n",
       "      <th>10</th>\n",
       "      <td>4.30020</td>\n",
       "      <td>215.894</td>\n",
       "      <td>0.0</td>\n",
       "      <td>0.600000</td>\n",
       "    </tr>\n",
       "    <tr>\n",
       "      <th>11</th>\n",
       "      <td>3.64680</td>\n",
       "      <td>181.449</td>\n",
       "      <td>0.0</td>\n",
       "      <td>0.666667</td>\n",
       "    </tr>\n",
       "    <tr>\n",
       "      <th>12</th>\n",
       "      <td>2.61186</td>\n",
       "      <td>120.195</td>\n",
       "      <td>0.0</td>\n",
       "      <td>0.666667</td>\n",
       "    </tr>\n",
       "    <tr>\n",
       "      <th>13</th>\n",
       "      <td>4.73660</td>\n",
       "      <td>393.698</td>\n",
       "      <td>0.0</td>\n",
       "      <td>0.600000</td>\n",
       "    </tr>\n",
       "    <tr>\n",
       "      <th>14</th>\n",
       "      <td>4.30020</td>\n",
       "      <td>215.894</td>\n",
       "      <td>0.0</td>\n",
       "      <td>0.600000</td>\n",
       "    </tr>\n",
       "    <tr>\n",
       "      <th>15</th>\n",
       "      <td>2.92028</td>\n",
       "      <td>134.222</td>\n",
       "      <td>0.0</td>\n",
       "      <td>0.600000</td>\n",
       "    </tr>\n",
       "    <tr>\n",
       "      <th>16</th>\n",
       "      <td>3.97410</td>\n",
       "      <td>314.802</td>\n",
       "      <td>0.0</td>\n",
       "      <td>0.666667</td>\n",
       "    </tr>\n",
       "    <tr>\n",
       "      <th>17</th>\n",
       "      <td>3.64680</td>\n",
       "      <td>181.449</td>\n",
       "      <td>0.0</td>\n",
       "      <td>0.666667</td>\n",
       "    </tr>\n",
       "    <tr>\n",
       "      <th>18</th>\n",
       "      <td>2.61186</td>\n",
       "      <td>120.195</td>\n",
       "      <td>0.0</td>\n",
       "      <td>0.666667</td>\n",
       "    </tr>\n",
       "    <tr>\n",
       "      <th>19</th>\n",
       "      <td>1.09780</td>\n",
       "      <td>110.112</td>\n",
       "      <td>0.0</td>\n",
       "      <td>0.750000</td>\n",
       "    </tr>\n",
       "    <tr>\n",
       "      <th>20</th>\n",
       "      <td>3.21160</td>\n",
       "      <td>235.906</td>\n",
       "      <td>0.0</td>\n",
       "      <td>0.750000</td>\n",
       "    </tr>\n",
       "    <tr>\n",
       "      <th>21</th>\n",
       "      <td>1.77620</td>\n",
       "      <td>187.862</td>\n",
       "      <td>1.0</td>\n",
       "      <td>0.000000</td>\n",
       "    </tr>\n",
       "    <tr>\n",
       "      <th>22</th>\n",
       "      <td>2.99340</td>\n",
       "      <td>147.004</td>\n",
       "      <td>0.0</td>\n",
       "      <td>0.750000</td>\n",
       "    </tr>\n",
       "    <tr>\n",
       "      <th>23</th>\n",
       "      <td>1.46400</td>\n",
       "      <td>98.960</td>\n",
       "      <td>1.0</td>\n",
       "      <td>0.000000</td>\n",
       "    </tr>\n",
       "    <tr>\n",
       "      <th>24</th>\n",
       "      <td>1.85250</td>\n",
       "      <td>112.987</td>\n",
       "      <td>1.0</td>\n",
       "      <td>0.000000</td>\n",
       "    </tr>\n",
       "    <tr>\n",
       "      <th>25</th>\n",
       "      <td>2.64960</td>\n",
       "      <td>170.920</td>\n",
       "      <td>1.0</td>\n",
       "      <td>0.000000</td>\n",
       "    </tr>\n",
       "    <tr>\n",
       "      <th>26</th>\n",
       "      <td>1.05940</td>\n",
       "      <td>118.176</td>\n",
       "      <td>5.0</td>\n",
       "      <td>0.000000</td>\n",
       "    </tr>\n",
       "    <tr>\n",
       "      <th>27</th>\n",
       "      <td>2.81140</td>\n",
       "      <td>134.222</td>\n",
       "      <td>2.0</td>\n",
       "      <td>0.600000</td>\n",
       "    </tr>\n",
       "    <tr>\n",
       "      <th>28</th>\n",
       "      <td>1.50300</td>\n",
       "      <td>168.108</td>\n",
       "      <td>2.0</td>\n",
       "      <td>0.500000</td>\n",
       "    </tr>\n",
       "    <tr>\n",
       "      <th>29</th>\n",
       "      <td>0.40510</td>\n",
       "      <td>58.080</td>\n",
       "      <td>0.0</td>\n",
       "      <td>0.000000</td>\n",
       "    </tr>\n",
       "    <tr>\n",
       "      <th>30</th>\n",
       "      <td>3.97410</td>\n",
       "      <td>314.802</td>\n",
       "      <td>0.0</td>\n",
       "      <td>0.666667</td>\n",
       "    </tr>\n",
       "    <tr>\n",
       "      <th>31</th>\n",
       "      <td>3.64680</td>\n",
       "      <td>181.449</td>\n",
       "      <td>0.0</td>\n",
       "      <td>0.666667</td>\n",
       "    </tr>\n",
       "    <tr>\n",
       "      <th>32</th>\n",
       "      <td>2.61186</td>\n",
       "      <td>120.195</td>\n",
       "      <td>0.0</td>\n",
       "      <td>0.666667</td>\n",
       "    </tr>\n",
       "    <tr>\n",
       "      <th>33</th>\n",
       "      <td>1.41120</td>\n",
       "      <td>213.105</td>\n",
       "      <td>3.0</td>\n",
       "      <td>0.400000</td>\n",
       "    </tr>\n",
       "    <tr>\n",
       "      <th>34</th>\n",
       "      <td>1.09780</td>\n",
       "      <td>110.112</td>\n",
       "      <td>0.0</td>\n",
       "      <td>0.750000</td>\n",
       "    </tr>\n",
       "    <tr>\n",
       "      <th>35</th>\n",
       "      <td>1.35840</td>\n",
       "      <td>54.092</td>\n",
       "      <td>1.0</td>\n",
       "      <td>0.000000</td>\n",
       "    </tr>\n",
       "    <tr>\n",
       "      <th>36</th>\n",
       "      <td>3.21160</td>\n",
       "      <td>235.906</td>\n",
       "      <td>0.0</td>\n",
       "      <td>0.750000</td>\n",
       "    </tr>\n",
       "    <tr>\n",
       "      <th>37</th>\n",
       "      <td>2.99340</td>\n",
       "      <td>147.004</td>\n",
       "      <td>0.0</td>\n",
       "      <td>0.750000</td>\n",
       "    </tr>\n",
       "    <tr>\n",
       "      <th>38</th>\n",
       "      <td>1.85410</td>\n",
       "      <td>112.987</td>\n",
       "      <td>2.0</td>\n",
       "      <td>0.000000</td>\n",
       "    </tr>\n",
       "    <tr>\n",
       "      <th>39</th>\n",
       "      <td>0.49030</td>\n",
       "      <td>132.232</td>\n",
       "      <td>2.0</td>\n",
       "      <td>0.000000</td>\n",
       "    </tr>\n",
       "    <tr>\n",
       "      <th>40</th>\n",
       "      <td>1.96480</td>\n",
       "      <td>114.094</td>\n",
       "      <td>0.0</td>\n",
       "      <td>0.750000</td>\n",
       "    </tr>\n",
       "    <tr>\n",
       "      <th>41</th>\n",
       "      <td>3.45664</td>\n",
       "      <td>156.228</td>\n",
       "      <td>0.0</td>\n",
       "      <td>0.833333</td>\n",
       "    </tr>\n",
       "    <tr>\n",
       "      <th>42</th>\n",
       "      <td>1.50300</td>\n",
       "      <td>168.108</td>\n",
       "      <td>2.0</td>\n",
       "      <td>0.500000</td>\n",
       "    </tr>\n",
       "    <tr>\n",
       "      <th>43</th>\n",
       "      <td>1.09780</td>\n",
       "      <td>110.112</td>\n",
       "      <td>0.0</td>\n",
       "      <td>0.750000</td>\n",
       "    </tr>\n",
       "    <tr>\n",
       "      <th>44</th>\n",
       "      <td>1.89260</td>\n",
       "      <td>80.130</td>\n",
       "      <td>0.0</td>\n",
       "      <td>0.000000</td>\n",
       "    </tr>\n",
       "    <tr>\n",
       "      <th>45</th>\n",
       "      <td>3.21160</td>\n",
       "      <td>235.906</td>\n",
       "      <td>0.0</td>\n",
       "      <td>0.750000</td>\n",
       "    </tr>\n",
       "    <tr>\n",
       "      <th>46</th>\n",
       "      <td>2.99340</td>\n",
       "      <td>147.004</td>\n",
       "      <td>0.0</td>\n",
       "      <td>0.750000</td>\n",
       "    </tr>\n",
       "    <tr>\n",
       "      <th>47</th>\n",
       "      <td>2.81140</td>\n",
       "      <td>134.222</td>\n",
       "      <td>2.0</td>\n",
       "      <td>0.600000</td>\n",
       "    </tr>\n",
       "    <tr>\n",
       "      <th>48</th>\n",
       "      <td>1.96480</td>\n",
       "      <td>114.094</td>\n",
       "      <td>0.0</td>\n",
       "      <td>0.750000</td>\n",
       "    </tr>\n",
       "    <tr>\n",
       "      <th>49</th>\n",
       "      <td>3.45664</td>\n",
       "      <td>156.228</td>\n",
       "      <td>0.0</td>\n",
       "      <td>0.833333</td>\n",
       "    </tr>\n",
       "    <tr>\n",
       "      <th>50</th>\n",
       "      <td>1.50300</td>\n",
       "      <td>168.108</td>\n",
       "      <td>2.0</td>\n",
       "      <td>0.500000</td>\n",
       "    </tr>\n",
       "    <tr>\n",
       "      <th>51</th>\n",
       "      <td>1.74850</td>\n",
       "      <td>68.119</td>\n",
       "      <td>2.0</td>\n",
       "      <td>0.000000</td>\n",
       "    </tr>\n",
       "    <tr>\n",
       "      <th>52</th>\n",
       "      <td>3.45664</td>\n",
       "      <td>156.228</td>\n",
       "      <td>0.0</td>\n",
       "      <td>0.833333</td>\n",
       "    </tr>\n",
       "    <tr>\n",
       "      <th>53</th>\n",
       "      <td>2.13860</td>\n",
       "      <td>82.146</td>\n",
       "      <td>3.0</td>\n",
       "      <td>0.000000</td>\n",
       "    </tr>\n",
       "    <tr>\n",
       "      <th>54</th>\n",
       "      <td>2.78300</td>\n",
       "      <td>180.210</td>\n",
       "      <td>0.0</td>\n",
       "      <td>1.000000</td>\n",
       "    </tr>\n",
       "    <tr>\n",
       "      <th>55</th>\n",
       "      <td>2.74410</td>\n",
       "      <td>154.253</td>\n",
       "      <td>0.0</td>\n",
       "      <td>0.000000</td>\n",
       "    </tr>\n",
       "    <tr>\n",
       "      <th>56</th>\n",
       "      <td>4.26930</td>\n",
       "      <td>302.458</td>\n",
       "      <td>0.0</td>\n",
       "      <td>0.000000</td>\n",
       "    </tr>\n",
       "    <tr>\n",
       "      <th>57</th>\n",
       "      <td>2.97020</td>\n",
       "      <td>194.237</td>\n",
       "      <td>0.0</td>\n",
       "      <td>0.933333</td>\n",
       "    </tr>\n",
       "    <tr>\n",
       "      <th>58</th>\n",
       "      <td>2.03730</td>\n",
       "      <td>137.020</td>\n",
       "      <td>1.0</td>\n",
       "      <td>0.000000</td>\n",
       "    </tr>\n",
       "    <tr>\n",
       "      <th>59</th>\n",
       "      <td>2.18140</td>\n",
       "      <td>137.020</td>\n",
       "      <td>2.0</td>\n",
       "      <td>0.000000</td>\n",
       "    </tr>\n",
       "    <tr>\n",
       "      <th>60</th>\n",
       "      <td>3.35170</td>\n",
       "      <td>179.101</td>\n",
       "      <td>5.0</td>\n",
       "      <td>0.000000</td>\n",
       "    </tr>\n",
       "    <tr>\n",
       "      <th>61</th>\n",
       "      <td>2.96160</td>\n",
       "      <td>165.074</td>\n",
       "      <td>4.0</td>\n",
       "      <td>0.000000</td>\n",
       "    </tr>\n",
       "    <tr>\n",
       "      <th>62</th>\n",
       "      <td>3.60230</td>\n",
       "      <td>207.070</td>\n",
       "      <td>0.0</td>\n",
       "      <td>0.909091</td>\n",
       "    </tr>\n",
       "    <tr>\n",
       "      <th>63</th>\n",
       "      <td>3.74180</td>\n",
       "      <td>193.128</td>\n",
       "      <td>6.0</td>\n",
       "      <td>0.000000</td>\n",
       "    </tr>\n",
       "    <tr>\n",
       "      <th>64</th>\n",
       "      <td>2.57150</td>\n",
       "      <td>151.047</td>\n",
       "      <td>3.0</td>\n",
       "      <td>0.000000</td>\n",
       "    </tr>\n",
       "    <tr>\n",
       "      <th>65</th>\n",
       "      <td>1.79130</td>\n",
       "      <td>122.993</td>\n",
       "      <td>1.0</td>\n",
       "      <td>0.000000</td>\n",
       "    </tr>\n",
       "    <tr>\n",
       "      <th>66</th>\n",
       "      <td>0.77880</td>\n",
       "      <td>74.123</td>\n",
       "      <td>2.0</td>\n",
       "      <td>0.000000</td>\n",
       "    </tr>\n",
       "    <tr>\n",
       "      <th>67</th>\n",
       "      <td>1.58240</td>\n",
       "      <td>56.108</td>\n",
       "      <td>1.0</td>\n",
       "      <td>0.000000</td>\n",
       "    </tr>\n",
       "    <tr>\n",
       "      <th>68</th>\n",
       "      <td>1.02960</td>\n",
       "      <td>54.092</td>\n",
       "      <td>0.0</td>\n",
       "      <td>0.000000</td>\n",
       "    </tr>\n",
       "    <tr>\n",
       "      <th>69</th>\n",
       "      <td>1.62010</td>\n",
       "      <td>143.411</td>\n",
       "      <td>1.0</td>\n",
       "      <td>0.000000</td>\n",
       "    </tr>\n",
       "    <tr>\n",
       "      <th>70</th>\n",
       "      <td>1.88120</td>\n",
       "      <td>92.569</td>\n",
       "      <td>1.0</td>\n",
       "      <td>0.000000</td>\n",
       "    </tr>\n",
       "    <tr>\n",
       "      <th>71</th>\n",
       "      <td>2.02530</td>\n",
       "      <td>92.569</td>\n",
       "      <td>2.0</td>\n",
       "      <td>0.000000</td>\n",
       "    </tr>\n",
       "    <tr>\n",
       "      <th>72</th>\n",
       "      <td>3.19560</td>\n",
       "      <td>134.650</td>\n",
       "      <td>5.0</td>\n",
       "      <td>0.000000</td>\n",
       "    </tr>\n",
       "    <tr>\n",
       "      <th>73</th>\n",
       "      <td>2.80550</td>\n",
       "      <td>120.623</td>\n",
       "      <td>4.0</td>\n",
       "      <td>0.000000</td>\n",
       "    </tr>\n",
       "    <tr>\n",
       "      <th>74</th>\n",
       "      <td>3.49320</td>\n",
       "      <td>162.619</td>\n",
       "      <td>0.0</td>\n",
       "      <td>0.909091</td>\n",
       "    </tr>\n",
       "    <tr>\n",
       "      <th>75</th>\n",
       "      <td>2.41540</td>\n",
       "      <td>106.596</td>\n",
       "      <td>3.0</td>\n",
       "      <td>0.000000</td>\n",
       "    </tr>\n",
       "    <tr>\n",
       "      <th>76</th>\n",
       "      <td>1.63520</td>\n",
       "      <td>78.542</td>\n",
       "      <td>1.0</td>\n",
       "      <td>0.000000</td>\n",
       "    </tr>\n",
       "    <tr>\n",
       "      <th>77</th>\n",
       "      <td>3.11940</td>\n",
       "      <td>158.285</td>\n",
       "      <td>8.0</td>\n",
       "      <td>0.000000</td>\n",
       "    </tr>\n",
       "    <tr>\n",
       "      <th>78</th>\n",
       "      <td>3.92300</td>\n",
       "      <td>140.270</td>\n",
       "      <td>7.0</td>\n",
       "      <td>0.000000</td>\n",
       "    </tr>\n",
       "    <tr>\n",
       "      <th>79</th>\n",
       "      <td>3.89960</td>\n",
       "      <td>186.339</td>\n",
       "      <td>10.0</td>\n",
       "      <td>0.000000</td>\n",
       "    </tr>\n",
       "    <tr>\n",
       "      <th>80</th>\n",
       "      <td>3.40220</td>\n",
       "      <td>156.228</td>\n",
       "      <td>1.0</td>\n",
       "      <td>0.833333</td>\n",
       "    </tr>\n",
       "    <tr>\n",
       "      <th>81</th>\n",
       "      <td>1.94910</td>\n",
       "      <td>116.204</td>\n",
       "      <td>5.0</td>\n",
       "      <td>0.000000</td>\n",
       "    </tr>\n",
       "    <tr>\n",
       "      <th>82</th>\n",
       "      <td>2.75270</td>\n",
       "      <td>98.189</td>\n",
       "      <td>4.0</td>\n",
       "      <td>0.000000</td>\n",
       "    </tr>\n",
       "    <tr>\n",
       "      <th>83</th>\n",
       "      <td>2.19990</td>\n",
       "      <td>96.173</td>\n",
       "      <td>3.0</td>\n",
       "      <td>0.000000</td>\n",
       "    </tr>\n",
       "    <tr>\n",
       "      <th>84</th>\n",
       "      <td>5.46000</td>\n",
       "      <td>242.447</td>\n",
       "      <td>14.0</td>\n",
       "      <td>0.000000</td>\n",
       "    </tr>\n",
       "    <tr>\n",
       "      <th>85</th>\n",
       "      <td>1.55900</td>\n",
       "      <td>102.177</td>\n",
       "      <td>4.0</td>\n",
       "      <td>0.000000</td>\n",
       "    </tr>\n",
       "    <tr>\n",
       "      <th>86</th>\n",
       "      <td>2.36260</td>\n",
       "      <td>84.162</td>\n",
       "      <td>3.0</td>\n",
       "      <td>0.000000</td>\n",
       "    </tr>\n",
       "    <tr>\n",
       "      <th>87</th>\n",
       "      <td>1.33340</td>\n",
       "      <td>100.161</td>\n",
       "      <td>3.0</td>\n",
       "      <td>0.000000</td>\n",
       "    </tr>\n",
       "    <tr>\n",
       "      <th>88</th>\n",
       "      <td>1.80980</td>\n",
       "      <td>82.146</td>\n",
       "      <td>2.0</td>\n",
       "      <td>0.000000</td>\n",
       "    </tr>\n",
       "    <tr>\n",
       "      <th>89</th>\n",
       "      <td>2.22150</td>\n",
       "      <td>184.020</td>\n",
       "      <td>2.0</td>\n",
       "      <td>0.000000</td>\n",
       "    </tr>\n",
       "    <tr>\n",
       "      <th>90</th>\n",
       "      <td>3.39180</td>\n",
       "      <td>226.101</td>\n",
       "      <td>5.0</td>\n",
       "      <td>0.000000</td>\n",
       "    </tr>\n",
       "    <tr>\n",
       "      <th>91</th>\n",
       "      <td>3.44440</td>\n",
       "      <td>254.070</td>\n",
       "      <td>0.0</td>\n",
       "      <td>0.909091</td>\n",
       "    </tr>\n",
       "    <tr>\n",
       "      <th>92</th>\n",
       "      <td>1.83140</td>\n",
       "      <td>169.993</td>\n",
       "      <td>1.0</td>\n",
       "      <td>0.000000</td>\n",
       "    </tr>\n",
       "    <tr>\n",
       "      <th>93</th>\n",
       "      <td>2.50670</td>\n",
       "      <td>96.173</td>\n",
       "      <td>0.0</td>\n",
       "      <td>0.000000</td>\n",
       "    </tr>\n",
       "    <tr>\n",
       "      <th>94</th>\n",
       "      <td>3.56622</td>\n",
       "      <td>180.250</td>\n",
       "      <td>0.0</td>\n",
       "      <td>0.857143</td>\n",
       "    </tr>\n",
       "    <tr>\n",
       "      <th>95</th>\n",
       "      <td>3.14822</td>\n",
       "      <td>142.201</td>\n",
       "      <td>0.0</td>\n",
       "      <td>0.909091</td>\n",
       "    </tr>\n",
       "    <tr>\n",
       "      <th>96</th>\n",
       "      <td>4.30142</td>\n",
       "      <td>192.261</td>\n",
       "      <td>0.0</td>\n",
       "      <td>0.933333</td>\n",
       "    </tr>\n",
       "    <tr>\n",
       "      <th>97</th>\n",
       "      <td>-0.92640</td>\n",
       "      <td>126.115</td>\n",
       "      <td>0.0</td>\n",
       "      <td>0.666667</td>\n",
       "    </tr>\n",
       "    <tr>\n",
       "      <th>98</th>\n",
       "      <td>2.54540</td>\n",
       "      <td>144.173</td>\n",
       "      <td>0.0</td>\n",
       "      <td>0.909091</td>\n",
       "    </tr>\n",
       "    <tr>\n",
       "      <th>99</th>\n",
       "      <td>2.42200</td>\n",
       "      <td>143.189</td>\n",
       "      <td>0.0</td>\n",
       "      <td>0.909091</td>\n",
       "    </tr>\n",
       "    <tr>\n",
       "      <th>100</th>\n",
       "      <td>2.74800</td>\n",
       "      <td>173.171</td>\n",
       "      <td>1.0</td>\n",
       "      <td>0.769231</td>\n",
       "    </tr>\n",
       "    <tr>\n",
       "      <th>101</th>\n",
       "      <td>0.67310</td>\n",
       "      <td>89.094</td>\n",
       "      <td>2.0</td>\n",
       "      <td>0.000000</td>\n",
       "    </tr>\n",
       "    <tr>\n",
       "      <th>102</th>\n",
       "      <td>2.72930</td>\n",
       "      <td>144.258</td>\n",
       "      <td>7.0</td>\n",
       "      <td>0.000000</td>\n",
       "    </tr>\n",
       "    <tr>\n",
       "      <th>103</th>\n",
       "      <td>3.53290</td>\n",
       "      <td>126.243</td>\n",
       "      <td>6.0</td>\n",
       "      <td>0.000000</td>\n",
       "    </tr>\n",
       "    <tr>\n",
       "      <th>104</th>\n",
       "      <td>2.98010</td>\n",
       "      <td>124.227</td>\n",
       "      <td>5.0</td>\n",
       "      <td>0.000000</td>\n",
       "    </tr>\n",
       "    <tr>\n",
       "      <th>105</th>\n",
       "      <td>6.24020</td>\n",
       "      <td>270.501</td>\n",
       "      <td>16.0</td>\n",
       "      <td>0.000000</td>\n",
       "    </tr>\n",
       "    <tr>\n",
       "      <th>106</th>\n",
       "      <td>2.33920</td>\n",
       "      <td>130.231</td>\n",
       "      <td>6.0</td>\n",
       "      <td>0.000000</td>\n",
       "    </tr>\n",
       "    <tr>\n",
       "      <th>107</th>\n",
       "      <td>3.14280</td>\n",
       "      <td>112.216</td>\n",
       "      <td>5.0</td>\n",
       "      <td>0.000000</td>\n",
       "    </tr>\n",
       "    <tr>\n",
       "      <th>108</th>\n",
       "      <td>2.59000</td>\n",
       "      <td>110.200</td>\n",
       "      <td>4.0</td>\n",
       "      <td>0.000000</td>\n",
       "    </tr>\n",
       "    <tr>\n",
       "      <th>109</th>\n",
       "      <td>5.06990</td>\n",
       "      <td>228.420</td>\n",
       "      <td>13.0</td>\n",
       "      <td>0.000000</td>\n",
       "    </tr>\n",
       "    <tr>\n",
       "      <th>110</th>\n",
       "      <td>1.16890</td>\n",
       "      <td>88.150</td>\n",
       "      <td>3.0</td>\n",
       "      <td>0.000000</td>\n",
       "    </tr>\n",
       "    <tr>\n",
       "      <th>111</th>\n",
       "      <td>1.97250</td>\n",
       "      <td>70.135</td>\n",
       "      <td>2.0</td>\n",
       "      <td>0.000000</td>\n",
       "    </tr>\n",
       "    <tr>\n",
       "      <th>112</th>\n",
       "      <td>1.41970</td>\n",
       "      <td>68.119</td>\n",
       "      <td>1.0</td>\n",
       "      <td>0.000000</td>\n",
       "    </tr>\n",
       "    <tr>\n",
       "      <th>113</th>\n",
       "      <td>1.73990</td>\n",
       "      <td>122.167</td>\n",
       "      <td>1.0</td>\n",
       "      <td>0.666667</td>\n",
       "    </tr>\n",
       "    <tr>\n",
       "      <th>114</th>\n",
       "      <td>0.38870</td>\n",
       "      <td>60.096</td>\n",
       "      <td>1.0</td>\n",
       "      <td>0.000000</td>\n",
       "    </tr>\n",
       "    <tr>\n",
       "      <th>115</th>\n",
       "      <td>4.67980</td>\n",
       "      <td>214.393</td>\n",
       "      <td>12.0</td>\n",
       "      <td>0.000000</td>\n",
       "    </tr>\n",
       "    <tr>\n",
       "      <th>116</th>\n",
       "      <td>9.88760</td>\n",
       "      <td>498.662</td>\n",
       "      <td>1.0</td>\n",
       "      <td>0.545455</td>\n",
       "    </tr>\n",
       "    <tr>\n",
       "      <th>117</th>\n",
       "      <td>8.58080</td>\n",
       "      <td>429.772</td>\n",
       "      <td>1.0</td>\n",
       "      <td>0.600000</td>\n",
       "    </tr>\n",
       "    <tr>\n",
       "      <th>118</th>\n",
       "      <td>7.27400</td>\n",
       "      <td>360.882</td>\n",
       "      <td>1.0</td>\n",
       "      <td>0.666667</td>\n",
       "    </tr>\n",
       "    <tr>\n",
       "      <th>119</th>\n",
       "      <td>8.58080</td>\n",
       "      <td>429.772</td>\n",
       "      <td>1.0</td>\n",
       "      <td>0.600000</td>\n",
       "    </tr>\n",
       "    <tr>\n",
       "      <th>120</th>\n",
       "      <td>7.27400</td>\n",
       "      <td>360.882</td>\n",
       "      <td>1.0</td>\n",
       "      <td>0.666667</td>\n",
       "    </tr>\n",
       "    <tr>\n",
       "      <th>121</th>\n",
       "      <td>5.96720</td>\n",
       "      <td>291.992</td>\n",
       "      <td>1.0</td>\n",
       "      <td>0.750000</td>\n",
       "    </tr>\n",
       "    <tr>\n",
       "      <th>122</th>\n",
       "      <td>7.92740</td>\n",
       "      <td>395.327</td>\n",
       "      <td>1.0</td>\n",
       "      <td>0.631579</td>\n",
       "    </tr>\n",
       "    <tr>\n",
       "      <th>123</th>\n",
       "      <td>7.92740</td>\n",
       "      <td>395.327</td>\n",
       "      <td>1.0</td>\n",
       "      <td>0.631579</td>\n",
       "    </tr>\n",
       "    <tr>\n",
       "      <th>124</th>\n",
       "      <td>7.27400</td>\n",
       "      <td>360.882</td>\n",
       "      <td>1.0</td>\n",
       "      <td>0.666667</td>\n",
       "    </tr>\n",
       "    <tr>\n",
       "      <th>125</th>\n",
       "      <td>6.62060</td>\n",
       "      <td>326.437</td>\n",
       "      <td>1.0</td>\n",
       "      <td>0.705882</td>\n",
       "    </tr>\n",
       "    <tr>\n",
       "      <th>126</th>\n",
       "      <td>6.62060</td>\n",
       "      <td>326.437</td>\n",
       "      <td>1.0</td>\n",
       "      <td>0.705882</td>\n",
       "    </tr>\n",
       "    <tr>\n",
       "      <th>127</th>\n",
       "      <td>7.27400</td>\n",
       "      <td>360.882</td>\n",
       "      <td>1.0</td>\n",
       "      <td>0.666667</td>\n",
       "    </tr>\n",
       "    <tr>\n",
       "      <th>128</th>\n",
       "      <td>5.96720</td>\n",
       "      <td>291.992</td>\n",
       "      <td>1.0</td>\n",
       "      <td>0.750000</td>\n",
       "    </tr>\n",
       "    <tr>\n",
       "      <th>129</th>\n",
       "      <td>2.68850</td>\n",
       "      <td>100.205</td>\n",
       "      <td>0.0</td>\n",
       "      <td>0.000000</td>\n",
       "    </tr>\n",
       "    <tr>\n",
       "      <th>130</th>\n",
       "      <td>7.27400</td>\n",
       "      <td>360.882</td>\n",
       "      <td>1.0</td>\n",
       "      <td>0.666667</td>\n",
       "    </tr>\n",
       "    <tr>\n",
       "      <th>131</th>\n",
       "      <td>7.27400</td>\n",
       "      <td>360.882</td>\n",
       "      <td>1.0</td>\n",
       "      <td>0.666667</td>\n",
       "    </tr>\n",
       "    <tr>\n",
       "      <th>132</th>\n",
       "      <td>5.96720</td>\n",
       "      <td>291.992</td>\n",
       "      <td>1.0</td>\n",
       "      <td>0.750000</td>\n",
       "    </tr>\n",
       "    <tr>\n",
       "      <th>133</th>\n",
       "      <td>6.62060</td>\n",
       "      <td>326.437</td>\n",
       "      <td>1.0</td>\n",
       "      <td>0.705882</td>\n",
       "    </tr>\n",
       "    <tr>\n",
       "      <th>134</th>\n",
       "      <td>3.07860</td>\n",
       "      <td>114.232</td>\n",
       "      <td>1.0</td>\n",
       "      <td>0.000000</td>\n",
       "    </tr>\n",
       "    <tr>\n",
       "      <th>135</th>\n",
       "      <td>3.46870</td>\n",
       "      <td>128.259</td>\n",
       "      <td>2.0</td>\n",
       "      <td>0.000000</td>\n",
       "    </tr>\n",
       "    <tr>\n",
       "      <th>136</th>\n",
       "      <td>5.96720</td>\n",
       "      <td>291.992</td>\n",
       "      <td>1.0</td>\n",
       "      <td>0.750000</td>\n",
       "    </tr>\n",
       "    <tr>\n",
       "      <th>137</th>\n",
       "      <td>1.41490</td>\n",
       "      <td>102.177</td>\n",
       "      <td>2.0</td>\n",
       "      <td>0.000000</td>\n",
       "    </tr>\n",
       "    <tr>\n",
       "      <th>138</th>\n",
       "      <td>2.44250</td>\n",
       "      <td>86.178</td>\n",
       "      <td>0.0</td>\n",
       "      <td>0.000000</td>\n",
       "    </tr>\n",
       "    <tr>\n",
       "      <th>139</th>\n",
       "      <td>2.83260</td>\n",
       "      <td>100.205</td>\n",
       "      <td>1.0</td>\n",
       "      <td>0.000000</td>\n",
       "    </tr>\n",
       "    <tr>\n",
       "      <th>140</th>\n",
       "      <td>1.80500</td>\n",
       "      <td>116.204</td>\n",
       "      <td>3.0</td>\n",
       "      <td>0.000000</td>\n",
       "    </tr>\n",
       "    <tr>\n",
       "      <th>141</th>\n",
       "      <td>1.02480</td>\n",
       "      <td>88.150</td>\n",
       "      <td>0.0</td>\n",
       "      <td>0.000000</td>\n",
       "    </tr>\n",
       "    <tr>\n",
       "      <th>142</th>\n",
       "      <td>4.66040</td>\n",
       "      <td>223.102</td>\n",
       "      <td>1.0</td>\n",
       "      <td>0.857143</td>\n",
       "    </tr>\n",
       "    <tr>\n",
       "      <th>143</th>\n",
       "      <td>7.27400</td>\n",
       "      <td>360.882</td>\n",
       "      <td>1.0</td>\n",
       "      <td>0.666667</td>\n",
       "    </tr>\n",
       "    <tr>\n",
       "      <th>144</th>\n",
       "      <td>7.92740</td>\n",
       "      <td>395.327</td>\n",
       "      <td>1.0</td>\n",
       "      <td>0.631579</td>\n",
       "    </tr>\n",
       "    <tr>\n",
       "      <th>145</th>\n",
       "      <td>7.27400</td>\n",
       "      <td>360.882</td>\n",
       "      <td>1.0</td>\n",
       "      <td>0.666667</td>\n",
       "    </tr>\n",
       "    <tr>\n",
       "      <th>146</th>\n",
       "      <td>6.62060</td>\n",
       "      <td>326.437</td>\n",
       "      <td>1.0</td>\n",
       "      <td>0.705882</td>\n",
       "    </tr>\n",
       "    <tr>\n",
       "      <th>147</th>\n",
       "      <td>6.62060</td>\n",
       "      <td>326.437</td>\n",
       "      <td>1.0</td>\n",
       "      <td>0.705882</td>\n",
       "    </tr>\n",
       "    <tr>\n",
       "      <th>148</th>\n",
       "      <td>5.96720</td>\n",
       "      <td>291.992</td>\n",
       "      <td>1.0</td>\n",
       "      <td>0.750000</td>\n",
       "    </tr>\n",
       "    <tr>\n",
       "      <th>149</th>\n",
       "      <td>4.00580</td>\n",
       "      <td>231.893</td>\n",
       "      <td>0.0</td>\n",
       "      <td>0.545455</td>\n",
       "    </tr>\n",
       "    <tr>\n",
       "      <th>150</th>\n",
       "      <td>4.00580</td>\n",
       "      <td>231.893</td>\n",
       "      <td>0.0</td>\n",
       "      <td>0.545455</td>\n",
       "    </tr>\n",
       "    <tr>\n",
       "      <th>151</th>\n",
       "      <td>5.31380</td>\n",
       "      <td>257.547</td>\n",
       "      <td>1.0</td>\n",
       "      <td>0.800000</td>\n",
       "    </tr>\n",
       "    <tr>\n",
       "      <th>152</th>\n",
       "      <td>5.31380</td>\n",
       "      <td>257.547</td>\n",
       "      <td>1.0</td>\n",
       "      <td>0.800000</td>\n",
       "    </tr>\n",
       "    <tr>\n",
       "      <th>153</th>\n",
       "      <td>3.35240</td>\n",
       "      <td>197.448</td>\n",
       "      <td>0.0</td>\n",
       "      <td>0.600000</td>\n",
       "    </tr>\n",
       "    <tr>\n",
       "      <th>154</th>\n",
       "      <td>2.93450</td>\n",
       "      <td>114.232</td>\n",
       "      <td>2.0</td>\n",
       "      <td>0.000000</td>\n",
       "    </tr>\n",
       "    <tr>\n",
       "      <th>155</th>\n",
       "      <td>4.00580</td>\n",
       "      <td>231.893</td>\n",
       "      <td>0.0</td>\n",
       "      <td>0.545455</td>\n",
       "    </tr>\n",
       "    <tr>\n",
       "      <th>156</th>\n",
       "      <td>5.31380</td>\n",
       "      <td>257.547</td>\n",
       "      <td>1.0</td>\n",
       "      <td>0.800000</td>\n",
       "    </tr>\n",
       "    <tr>\n",
       "      <th>157</th>\n",
       "      <td>3.35240</td>\n",
       "      <td>197.448</td>\n",
       "      <td>0.0</td>\n",
       "      <td>0.600000</td>\n",
       "    </tr>\n",
       "    <tr>\n",
       "      <th>158</th>\n",
       "      <td>3.35240</td>\n",
       "      <td>197.448</td>\n",
       "      <td>0.0</td>\n",
       "      <td>0.600000</td>\n",
       "    </tr>\n",
       "    <tr>\n",
       "      <th>159</th>\n",
       "      <td>2.90160</td>\n",
       "      <td>192.001</td>\n",
       "      <td>1.0</td>\n",
       "      <td>0.545455</td>\n",
       "    </tr>\n",
       "    <tr>\n",
       "      <th>160</th>\n",
       "      <td>2.69900</td>\n",
       "      <td>163.003</td>\n",
       "      <td>0.0</td>\n",
       "      <td>0.666667</td>\n",
       "    </tr>\n",
       "    <tr>\n",
       "      <th>161</th>\n",
       "      <td>2.13860</td>\n",
       "      <td>82.146</td>\n",
       "      <td>1.0</td>\n",
       "      <td>0.000000</td>\n",
       "    </tr>\n",
       "    <tr>\n",
       "      <th>162</th>\n",
       "      <td>2.29840</td>\n",
       "      <td>86.178</td>\n",
       "      <td>1.0</td>\n",
       "      <td>0.000000</td>\n",
       "    </tr>\n",
       "    <tr>\n",
       "      <th>163</th>\n",
       "      <td>3.45664</td>\n",
       "      <td>156.228</td>\n",
       "      <td>0.0</td>\n",
       "      <td>0.833333</td>\n",
       "    </tr>\n",
       "    <tr>\n",
       "      <th>164</th>\n",
       "      <td>2.68850</td>\n",
       "      <td>100.205</td>\n",
       "      <td>2.0</td>\n",
       "      <td>0.000000</td>\n",
       "    </tr>\n",
       "    <tr>\n",
       "      <th>165</th>\n",
       "      <td>1.69844</td>\n",
       "      <td>107.156</td>\n",
       "      <td>0.0</td>\n",
       "      <td>0.750000</td>\n",
       "    </tr>\n",
       "    <tr>\n",
       "      <th>166</th>\n",
       "      <td>5.31380</td>\n",
       "      <td>257.547</td>\n",
       "      <td>1.0</td>\n",
       "      <td>0.800000</td>\n",
       "    </tr>\n",
       "    <tr>\n",
       "      <th>167</th>\n",
       "      <td>5.31380</td>\n",
       "      <td>257.547</td>\n",
       "      <td>1.0</td>\n",
       "      <td>0.800000</td>\n",
       "    </tr>\n",
       "    <tr>\n",
       "      <th>168</th>\n",
       "      <td>3.35240</td>\n",
       "      <td>197.448</td>\n",
       "      <td>0.0</td>\n",
       "      <td>0.600000</td>\n",
       "    </tr>\n",
       "    <tr>\n",
       "      <th>169</th>\n",
       "      <td>5.31380</td>\n",
       "      <td>257.547</td>\n",
       "      <td>1.0</td>\n",
       "      <td>0.800000</td>\n",
       "    </tr>\n",
       "    <tr>\n",
       "      <th>170</th>\n",
       "      <td>3.35240</td>\n",
       "      <td>197.448</td>\n",
       "      <td>0.0</td>\n",
       "      <td>0.600000</td>\n",
       "    </tr>\n",
       "    <tr>\n",
       "      <th>171</th>\n",
       "      <td>2.31746</td>\n",
       "      <td>136.194</td>\n",
       "      <td>0.0</td>\n",
       "      <td>0.600000</td>\n",
       "    </tr>\n",
       "    <tr>\n",
       "      <th>172</th>\n",
       "      <td>1.71962</td>\n",
       "      <td>227.132</td>\n",
       "      <td>3.0</td>\n",
       "      <td>0.375000</td>\n",
       "    </tr>\n",
       "    <tr>\n",
       "      <th>173</th>\n",
       "      <td>2.69900</td>\n",
       "      <td>163.003</td>\n",
       "      <td>0.0</td>\n",
       "      <td>0.666667</td>\n",
       "    </tr>\n",
       "    <tr>\n",
       "      <th>174</th>\n",
       "      <td>1.80340</td>\n",
       "      <td>116.204</td>\n",
       "      <td>2.0</td>\n",
       "      <td>0.000000</td>\n",
       "    </tr>\n",
       "    <tr>\n",
       "      <th>175</th>\n",
       "      <td>1.65930</td>\n",
       "      <td>116.204</td>\n",
       "      <td>2.0</td>\n",
       "      <td>0.000000</td>\n",
       "    </tr>\n",
       "    <tr>\n",
       "      <th>176</th>\n",
       "      <td>1.86750</td>\n",
       "      <td>114.188</td>\n",
       "      <td>2.0</td>\n",
       "      <td>0.000000</td>\n",
       "    </tr>\n",
       "    <tr>\n",
       "      <th>177</th>\n",
       "      <td>2.68850</td>\n",
       "      <td>100.205</td>\n",
       "      <td>2.0</td>\n",
       "      <td>0.000000</td>\n",
       "    </tr>\n",
       "    <tr>\n",
       "      <th>178</th>\n",
       "      <td>2.00904</td>\n",
       "      <td>122.167</td>\n",
       "      <td>0.0</td>\n",
       "      <td>0.666667</td>\n",
       "    </tr>\n",
       "    <tr>\n",
       "      <th>179</th>\n",
       "      <td>1.69844</td>\n",
       "      <td>107.156</td>\n",
       "      <td>0.0</td>\n",
       "      <td>0.750000</td>\n",
       "    </tr>\n",
       "    <tr>\n",
       "      <th>180</th>\n",
       "      <td>1.81142</td>\n",
       "      <td>182.135</td>\n",
       "      <td>2.0</td>\n",
       "      <td>0.461538</td>\n",
       "    </tr>\n",
       "    <tr>\n",
       "      <th>181</th>\n",
       "      <td>4.66040</td>\n",
       "      <td>223.102</td>\n",
       "      <td>1.0</td>\n",
       "      <td>0.857143</td>\n",
       "    </tr>\n",
       "    <tr>\n",
       "      <th>182</th>\n",
       "      <td>4.66040</td>\n",
       "      <td>223.102</td>\n",
       "      <td>1.0</td>\n",
       "      <td>0.857143</td>\n",
       "    </tr>\n",
       "    <tr>\n",
       "      <th>183</th>\n",
       "      <td>2.69900</td>\n",
       "      <td>163.003</td>\n",
       "      <td>0.0</td>\n",
       "      <td>0.666667</td>\n",
       "    </tr>\n",
       "    <tr>\n",
       "      <th>184</th>\n",
       "      <td>3.45664</td>\n",
       "      <td>156.228</td>\n",
       "      <td>0.0</td>\n",
       "      <td>0.833333</td>\n",
       "    </tr>\n",
       "    <tr>\n",
       "      <th>185</th>\n",
       "      <td>2.00904</td>\n",
       "      <td>122.167</td>\n",
       "      <td>0.0</td>\n",
       "      <td>0.666667</td>\n",
       "    </tr>\n",
       "    <tr>\n",
       "      <th>186</th>\n",
       "      <td>1.69844</td>\n",
       "      <td>107.156</td>\n",
       "      <td>0.0</td>\n",
       "      <td>0.750000</td>\n",
       "    </tr>\n",
       "    <tr>\n",
       "      <th>187</th>\n",
       "      <td>1.81142</td>\n",
       "      <td>182.135</td>\n",
       "      <td>2.0</td>\n",
       "      <td>0.461538</td>\n",
       "    </tr>\n",
       "    <tr>\n",
       "      <th>188</th>\n",
       "      <td>4.66040</td>\n",
       "      <td>223.102</td>\n",
       "      <td>1.0</td>\n",
       "      <td>0.857143</td>\n",
       "    </tr>\n",
       "    <tr>\n",
       "      <th>189</th>\n",
       "      <td>2.85164</td>\n",
       "      <td>157.216</td>\n",
       "      <td>0.0</td>\n",
       "      <td>0.833333</td>\n",
       "    </tr>\n",
       "    <tr>\n",
       "      <th>190</th>\n",
       "      <td>3.57520</td>\n",
       "      <td>193.249</td>\n",
       "      <td>0.0</td>\n",
       "      <td>0.933333</td>\n",
       "    </tr>\n",
       "    <tr>\n",
       "      <th>191</th>\n",
       "      <td>3.60230</td>\n",
       "      <td>207.070</td>\n",
       "      <td>0.0</td>\n",
       "      <td>0.909091</td>\n",
       "    </tr>\n",
       "    <tr>\n",
       "      <th>192</th>\n",
       "      <td>3.60230</td>\n",
       "      <td>207.070</td>\n",
       "      <td>0.0</td>\n",
       "      <td>0.909091</td>\n",
       "    </tr>\n",
       "    <tr>\n",
       "      <th>193</th>\n",
       "      <td>1.78970</td>\n",
       "      <td>122.993</td>\n",
       "      <td>0.0</td>\n",
       "      <td>0.000000</td>\n",
       "    </tr>\n",
       "    <tr>\n",
       "      <th>194</th>\n",
       "      <td>2.75752</td>\n",
       "      <td>171.037</td>\n",
       "      <td>0.0</td>\n",
       "      <td>0.750000</td>\n",
       "    </tr>\n",
       "    <tr>\n",
       "      <th>195</th>\n",
       "      <td>0.98540</td>\n",
       "      <td>72.107</td>\n",
       "      <td>1.0</td>\n",
       "      <td>0.000000</td>\n",
       "    </tr>\n",
       "    <tr>\n",
       "      <th>196</th>\n",
       "      <td>0.76140</td>\n",
       "      <td>70.091</td>\n",
       "      <td>1.0</td>\n",
       "      <td>0.000000</td>\n",
       "    </tr>\n",
       "    <tr>\n",
       "      <th>197</th>\n",
       "      <td>0.79540</td>\n",
       "      <td>118.176</td>\n",
       "      <td>5.0</td>\n",
       "      <td>0.000000</td>\n",
       "    </tr>\n",
       "    <tr>\n",
       "      <th>198</th>\n",
       "      <td>2.41380</td>\n",
       "      <td>106.596</td>\n",
       "      <td>1.0</td>\n",
       "      <td>0.000000</td>\n",
       "    </tr>\n",
       "    <tr>\n",
       "      <th>199</th>\n",
       "      <td>2.34860</td>\n",
       "      <td>142.585</td>\n",
       "      <td>1.0</td>\n",
       "      <td>0.666667</td>\n",
       "    </tr>\n",
       "    <tr>\n",
       "      <th>200</th>\n",
       "      <td>4.00700</td>\n",
       "      <td>188.657</td>\n",
       "      <td>1.0</td>\n",
       "      <td>0.923077</td>\n",
       "    </tr>\n",
       "    <tr>\n",
       "      <th>201</th>\n",
       "      <td>2.02370</td>\n",
       "      <td>92.569</td>\n",
       "      <td>1.0</td>\n",
       "      <td>0.000000</td>\n",
       "    </tr>\n",
       "    <tr>\n",
       "      <th>202</th>\n",
       "      <td>3.49320</td>\n",
       "      <td>162.619</td>\n",
       "      <td>0.0</td>\n",
       "      <td>0.909091</td>\n",
       "    </tr>\n",
       "    <tr>\n",
       "      <th>203</th>\n",
       "      <td>2.04560</td>\n",
       "      <td>128.558</td>\n",
       "      <td>0.0</td>\n",
       "      <td>0.750000</td>\n",
       "    </tr>\n",
       "    <tr>\n",
       "      <th>204</th>\n",
       "      <td>1.63360</td>\n",
       "      <td>78.542</td>\n",
       "      <td>0.0</td>\n",
       "      <td>0.000000</td>\n",
       "    </tr>\n",
       "    <tr>\n",
       "      <th>205</th>\n",
       "      <td>2.64842</td>\n",
       "      <td>126.586</td>\n",
       "      <td>0.0</td>\n",
       "      <td>0.750000</td>\n",
       "    </tr>\n",
       "    <tr>\n",
       "      <th>206</th>\n",
       "      <td>-1.25912</td>\n",
       "      <td>84.082</td>\n",
       "      <td>0.0</td>\n",
       "      <td>0.000000</td>\n",
       "    </tr>\n",
       "    <tr>\n",
       "      <th>207</th>\n",
       "      <td>3.32600</td>\n",
       "      <td>156.269</td>\n",
       "      <td>7.0</td>\n",
       "      <td>0.000000</td>\n",
       "    </tr>\n",
       "    <tr>\n",
       "      <th>208</th>\n",
       "      <td>1.64400</td>\n",
       "      <td>107.156</td>\n",
       "      <td>1.0</td>\n",
       "      <td>0.750000</td>\n",
       "    </tr>\n",
       "    <tr>\n",
       "      <th>209</th>\n",
       "      <td>1.41490</td>\n",
       "      <td>102.177</td>\n",
       "      <td>3.0</td>\n",
       "      <td>0.000000</td>\n",
       "    </tr>\n",
       "    <tr>\n",
       "      <th>210</th>\n",
       "      <td>2.19510</td>\n",
       "      <td>130.231</td>\n",
       "      <td>5.0</td>\n",
       "      <td>0.000000</td>\n",
       "    </tr>\n",
       "    <tr>\n",
       "      <th>211</th>\n",
       "      <td>2.32180</td>\n",
       "      <td>126.199</td>\n",
       "      <td>4.0</td>\n",
       "      <td>0.000000</td>\n",
       "    </tr>\n",
       "    <tr>\n",
       "      <th>212</th>\n",
       "      <td>1.62150</td>\n",
       "      <td>100.161</td>\n",
       "      <td>3.0</td>\n",
       "      <td>0.000000</td>\n",
       "    </tr>\n",
       "    <tr>\n",
       "      <th>213</th>\n",
       "      <td>2.40170</td>\n",
       "      <td>128.215</td>\n",
       "      <td>5.0</td>\n",
       "      <td>0.000000</td>\n",
       "    </tr>\n",
       "    <tr>\n",
       "      <th>214</th>\n",
       "      <td>3.40220</td>\n",
       "      <td>156.228</td>\n",
       "      <td>1.0</td>\n",
       "      <td>0.833333</td>\n",
       "    </tr>\n",
       "    <tr>\n",
       "      <th>215</th>\n",
       "      <td>2.55742</td>\n",
       "      <td>120.195</td>\n",
       "      <td>1.0</td>\n",
       "      <td>0.666667</td>\n",
       "    </tr>\n",
       "    <tr>\n",
       "      <th>216</th>\n",
       "      <td>1.94750</td>\n",
       "      <td>116.204</td>\n",
       "      <td>4.0</td>\n",
       "      <td>0.000000</td>\n",
       "    </tr>\n",
       "    <tr>\n",
       "      <th>217</th>\n",
       "      <td>2.15570</td>\n",
       "      <td>114.188</td>\n",
       "      <td>4.0</td>\n",
       "      <td>0.000000</td>\n",
       "    </tr>\n",
       "    <tr>\n",
       "      <th>218</th>\n",
       "      <td>1.55740</td>\n",
       "      <td>102.177</td>\n",
       "      <td>3.0</td>\n",
       "      <td>0.000000</td>\n",
       "    </tr>\n",
       "    <tr>\n",
       "      <th>219</th>\n",
       "      <td>1.76560</td>\n",
       "      <td>100.161</td>\n",
       "      <td>3.0</td>\n",
       "      <td>0.000000</td>\n",
       "    </tr>\n",
       "    <tr>\n",
       "      <th>220</th>\n",
       "      <td>0.12540</td>\n",
       "      <td>148.125</td>\n",
       "      <td>0.0</td>\n",
       "      <td>0.909091</td>\n",
       "    </tr>\n",
       "    <tr>\n",
       "      <th>221</th>\n",
       "      <td>0.78720</td>\n",
       "      <td>95.101</td>\n",
       "      <td>0.0</td>\n",
       "      <td>0.857143</td>\n",
       "    </tr>\n",
       "    <tr>\n",
       "      <th>222</th>\n",
       "      <td>1.82980</td>\n",
       "      <td>169.993</td>\n",
       "      <td>0.0</td>\n",
       "      <td>0.000000</td>\n",
       "    </tr>\n",
       "    <tr>\n",
       "      <th>223</th>\n",
       "      <td>3.11842</td>\n",
       "      <td>134.222</td>\n",
       "      <td>1.0</td>\n",
       "      <td>0.600000</td>\n",
       "    </tr>\n",
       "    <tr>\n",
       "      <th>224</th>\n",
       "      <td>0.42840</td>\n",
       "      <td>162.152</td>\n",
       "      <td>1.0</td>\n",
       "      <td>0.833333</td>\n",
       "    </tr>\n",
       "    <tr>\n",
       "      <th>225</th>\n",
       "      <td>1.97250</td>\n",
       "      <td>70.135</td>\n",
       "      <td>0.0</td>\n",
       "      <td>0.000000</td>\n",
       "    </tr>\n",
       "    <tr>\n",
       "      <th>226</th>\n",
       "      <td>1.74850</td>\n",
       "      <td>68.119</td>\n",
       "      <td>1.0</td>\n",
       "      <td>0.000000</td>\n",
       "    </tr>\n",
       "    <tr>\n",
       "      <th>227</th>\n",
       "      <td>1.97250</td>\n",
       "      <td>70.135</td>\n",
       "      <td>1.0</td>\n",
       "      <td>0.000000</td>\n",
       "    </tr>\n",
       "    <tr>\n",
       "      <th>228</th>\n",
       "      <td>2.36260</td>\n",
       "      <td>84.162</td>\n",
       "      <td>2.0</td>\n",
       "      <td>0.000000</td>\n",
       "    </tr>\n",
       "    <tr>\n",
       "      <th>229</th>\n",
       "      <td>2.33760</td>\n",
       "      <td>130.231</td>\n",
       "      <td>4.0</td>\n",
       "      <td>0.000000</td>\n",
       "    </tr>\n",
       "    <tr>\n",
       "      <th>230</th>\n",
       "      <td>1.94750</td>\n",
       "      <td>116.204</td>\n",
       "      <td>3.0</td>\n",
       "      <td>0.000000</td>\n",
       "    </tr>\n",
       "    <tr>\n",
       "      <th>231</th>\n",
       "      <td>1.55740</td>\n",
       "      <td>102.177</td>\n",
       "      <td>2.0</td>\n",
       "      <td>0.000000</td>\n",
       "    </tr>\n",
       "    <tr>\n",
       "      <th>232</th>\n",
       "      <td>1.41330</td>\n",
       "      <td>102.177</td>\n",
       "      <td>2.0</td>\n",
       "      <td>0.000000</td>\n",
       "    </tr>\n",
       "    <tr>\n",
       "      <th>233</th>\n",
       "      <td>4.30142</td>\n",
       "      <td>192.261</td>\n",
       "      <td>0.0</td>\n",
       "      <td>0.933333</td>\n",
       "    </tr>\n",
       "    <tr>\n",
       "      <th>234</th>\n",
       "      <td>1.16730</td>\n",
       "      <td>88.150</td>\n",
       "      <td>1.0</td>\n",
       "      <td>0.000000</td>\n",
       "    </tr>\n",
       "    <tr>\n",
       "      <th>235</th>\n",
       "      <td>2.05240</td>\n",
       "      <td>72.151</td>\n",
       "      <td>1.0</td>\n",
       "      <td>0.000000</td>\n",
       "    </tr>\n",
       "    <tr>\n",
       "      <th>236</th>\n",
       "      <td>1.02480</td>\n",
       "      <td>88.150</td>\n",
       "      <td>2.0</td>\n",
       "      <td>0.000000</td>\n",
       "    </tr>\n",
       "    <tr>\n",
       "      <th>237</th>\n",
       "      <td>3.22270</td>\n",
       "      <td>114.232</td>\n",
       "      <td>4.0</td>\n",
       "      <td>0.000000</td>\n",
       "    </tr>\n",
       "    <tr>\n",
       "      <th>238</th>\n",
       "      <td>3.14822</td>\n",
       "      <td>142.201</td>\n",
       "      <td>0.0</td>\n",
       "      <td>0.909091</td>\n",
       "    </tr>\n",
       "    <tr>\n",
       "      <th>239</th>\n",
       "      <td>2.44250</td>\n",
       "      <td>86.178</td>\n",
       "      <td>2.0</td>\n",
       "      <td>0.000000</td>\n",
       "    </tr>\n",
       "    <tr>\n",
       "      <th>240</th>\n",
       "      <td>1.41490</td>\n",
       "      <td>102.177</td>\n",
       "      <td>3.0</td>\n",
       "      <td>0.000000</td>\n",
       "    </tr>\n",
       "    <tr>\n",
       "      <th>241</th>\n",
       "      <td>4.30142</td>\n",
       "      <td>192.261</td>\n",
       "      <td>0.0</td>\n",
       "      <td>0.933333</td>\n",
       "    </tr>\n",
       "    <tr>\n",
       "      <th>242</th>\n",
       "      <td>1.70062</td>\n",
       "      <td>108.140</td>\n",
       "      <td>0.0</td>\n",
       "      <td>0.750000</td>\n",
       "    </tr>\n",
       "    <tr>\n",
       "      <th>243</th>\n",
       "      <td>0.63470</td>\n",
       "      <td>74.123</td>\n",
       "      <td>1.0</td>\n",
       "      <td>0.000000</td>\n",
       "    </tr>\n",
       "    <tr>\n",
       "      <th>244</th>\n",
       "      <td>1.66230</td>\n",
       "      <td>58.124</td>\n",
       "      <td>0.0</td>\n",
       "      <td>0.000000</td>\n",
       "    </tr>\n",
       "    <tr>\n",
       "      <th>245</th>\n",
       "      <td>1.58240</td>\n",
       "      <td>56.108</td>\n",
       "      <td>0.0</td>\n",
       "      <td>0.000000</td>\n",
       "    </tr>\n",
       "    <tr>\n",
       "      <th>246</th>\n",
       "      <td>0.72822</td>\n",
       "      <td>146.153</td>\n",
       "      <td>0.0</td>\n",
       "      <td>0.909091</td>\n",
       "    </tr>\n",
       "    <tr>\n",
       "      <th>247</th>\n",
       "      <td>1.18530</td>\n",
       "      <td>86.134</td>\n",
       "      <td>0.0</td>\n",
       "      <td>0.000000</td>\n",
       "    </tr>\n",
       "    <tr>\n",
       "      <th>248</th>\n",
       "      <td>2.54540</td>\n",
       "      <td>144.173</td>\n",
       "      <td>0.0</td>\n",
       "      <td>0.909091</td>\n",
       "    </tr>\n",
       "    <tr>\n",
       "      <th>249</th>\n",
       "      <td>0.67150</td>\n",
       "      <td>89.094</td>\n",
       "      <td>1.0</td>\n",
       "      <td>0.000000</td>\n",
       "    </tr>\n",
       "    <tr>\n",
       "      <th>250</th>\n",
       "      <td>2.72770</td>\n",
       "      <td>144.258</td>\n",
       "      <td>6.0</td>\n",
       "      <td>0.000000</td>\n",
       "    </tr>\n",
       "    <tr>\n",
       "      <th>251</th>\n",
       "      <td>2.93590</td>\n",
       "      <td>142.242</td>\n",
       "      <td>6.0</td>\n",
       "      <td>0.000000</td>\n",
       "    </tr>\n",
       "    <tr>\n",
       "      <th>252</th>\n",
       "      <td>2.33760</td>\n",
       "      <td>130.231</td>\n",
       "      <td>5.0</td>\n",
       "      <td>0.000000</td>\n",
       "    </tr>\n",
       "    <tr>\n",
       "      <th>253</th>\n",
       "      <td>2.54580</td>\n",
       "      <td>128.215</td>\n",
       "      <td>5.0</td>\n",
       "      <td>0.000000</td>\n",
       "    </tr>\n",
       "    <tr>\n",
       "      <th>254</th>\n",
       "      <td>1.16730</td>\n",
       "      <td>88.150</td>\n",
       "      <td>2.0</td>\n",
       "      <td>0.000000</td>\n",
       "    </tr>\n",
       "    <tr>\n",
       "      <th>255</th>\n",
       "      <td>1.37550</td>\n",
       "      <td>86.134</td>\n",
       "      <td>2.0</td>\n",
       "      <td>0.000000</td>\n",
       "    </tr>\n",
       "    <tr>\n",
       "      <th>256</th>\n",
       "      <td>1.05770</td>\n",
       "      <td>138.166</td>\n",
       "      <td>3.0</td>\n",
       "      <td>0.600000</td>\n",
       "    </tr>\n",
       "    <tr>\n",
       "      <th>257</th>\n",
       "      <td>0.38710</td>\n",
       "      <td>60.096</td>\n",
       "      <td>0.0</td>\n",
       "      <td>0.000000</td>\n",
       "    </tr>\n",
       "    <tr>\n",
       "      <th>258</th>\n",
       "      <td>-0.10360</td>\n",
       "      <td>85.106</td>\n",
       "      <td>0.0</td>\n",
       "      <td>0.000000</td>\n",
       "    </tr>\n",
       "    <tr>\n",
       "      <th>259</th>\n",
       "      <td>3.50790</td>\n",
       "      <td>172.312</td>\n",
       "      <td>8.0</td>\n",
       "      <td>0.000000</td>\n",
       "    </tr>\n",
       "    <tr>\n",
       "      <th>260</th>\n",
       "      <td>1.41490</td>\n",
       "      <td>102.177</td>\n",
       "      <td>1.0</td>\n",
       "      <td>0.000000</td>\n",
       "    </tr>\n",
       "    <tr>\n",
       "      <th>261</th>\n",
       "      <td>1.41330</td>\n",
       "      <td>102.177</td>\n",
       "      <td>0.0</td>\n",
       "      <td>0.000000</td>\n",
       "    </tr>\n",
       "    <tr>\n",
       "      <th>262</th>\n",
       "      <td>1.62150</td>\n",
       "      <td>100.161</td>\n",
       "      <td>0.0</td>\n",
       "      <td>0.000000</td>\n",
       "    </tr>\n",
       "    <tr>\n",
       "      <th>263</th>\n",
       "      <td>2.83260</td>\n",
       "      <td>100.205</td>\n",
       "      <td>2.0</td>\n",
       "      <td>0.000000</td>\n",
       "    </tr>\n",
       "    <tr>\n",
       "      <th>264</th>\n",
       "      <td>2.90160</td>\n",
       "      <td>192.001</td>\n",
       "      <td>1.0</td>\n",
       "      <td>0.545455</td>\n",
       "    </tr>\n",
       "    <tr>\n",
       "      <th>265</th>\n",
       "      <td>2.69900</td>\n",
       "      <td>163.003</td>\n",
       "      <td>0.0</td>\n",
       "      <td>0.666667</td>\n",
       "    </tr>\n",
       "    <tr>\n",
       "      <th>266</th>\n",
       "      <td>2.00904</td>\n",
       "      <td>122.167</td>\n",
       "      <td>0.0</td>\n",
       "      <td>0.666667</td>\n",
       "    </tr>\n",
       "    <tr>\n",
       "      <th>267</th>\n",
       "      <td>1.69844</td>\n",
       "      <td>107.156</td>\n",
       "      <td>0.0</td>\n",
       "      <td>0.750000</td>\n",
       "    </tr>\n",
       "    <tr>\n",
       "      <th>268</th>\n",
       "      <td>4.66040</td>\n",
       "      <td>223.102</td>\n",
       "      <td>1.0</td>\n",
       "      <td>0.857143</td>\n",
       "    </tr>\n",
       "    <tr>\n",
       "      <th>269</th>\n",
       "      <td>2.69900</td>\n",
       "      <td>163.003</td>\n",
       "      <td>0.0</td>\n",
       "      <td>0.666667</td>\n",
       "    </tr>\n",
       "    <tr>\n",
       "      <th>270</th>\n",
       "      <td>2.00904</td>\n",
       "      <td>122.167</td>\n",
       "      <td>0.0</td>\n",
       "      <td>0.666667</td>\n",
       "    </tr>\n",
       "    <tr>\n",
       "      <th>271</th>\n",
       "      <td>1.69844</td>\n",
       "      <td>107.156</td>\n",
       "      <td>0.0</td>\n",
       "      <td>0.750000</td>\n",
       "    </tr>\n",
       "    <tr>\n",
       "      <th>272</th>\n",
       "      <td>2.78280</td>\n",
       "      <td>352.390</td>\n",
       "      <td>6.0</td>\n",
       "      <td>0.461538</td>\n",
       "    </tr>\n",
       "    <tr>\n",
       "      <th>273</th>\n",
       "      <td>2.34860</td>\n",
       "      <td>142.585</td>\n",
       "      <td>1.0</td>\n",
       "      <td>0.666667</td>\n",
       "    </tr>\n",
       "    <tr>\n",
       "      <th>274</th>\n",
       "      <td>4.00700</td>\n",
       "      <td>188.657</td>\n",
       "      <td>1.0</td>\n",
       "      <td>0.923077</td>\n",
       "    </tr>\n",
       "    <tr>\n",
       "      <th>275</th>\n",
       "      <td>2.04560</td>\n",
       "      <td>128.558</td>\n",
       "      <td>0.0</td>\n",
       "      <td>0.750000</td>\n",
       "    </tr>\n",
       "    <tr>\n",
       "      <th>276</th>\n",
       "      <td>1.13888</td>\n",
       "      <td>89.525</td>\n",
       "      <td>1.0</td>\n",
       "      <td>0.000000</td>\n",
       "    </tr>\n",
       "    <tr>\n",
       "      <th>277</th>\n",
       "      <td>2.00260</td>\n",
       "      <td>324.336</td>\n",
       "      <td>4.0</td>\n",
       "      <td>0.500000</td>\n",
       "    </tr>\n",
       "    <tr>\n",
       "      <th>278</th>\n",
       "      <td>1.94750</td>\n",
       "      <td>116.204</td>\n",
       "      <td>3.0</td>\n",
       "      <td>0.000000</td>\n",
       "    </tr>\n",
       "    <tr>\n",
       "      <th>279</th>\n",
       "      <td>1.94750</td>\n",
       "      <td>116.204</td>\n",
       "      <td>4.0</td>\n",
       "      <td>0.000000</td>\n",
       "    </tr>\n",
       "    <tr>\n",
       "      <th>280</th>\n",
       "      <td>3.95310</td>\n",
       "      <td>394.471</td>\n",
       "      <td>9.0</td>\n",
       "      <td>0.413793</td>\n",
       "    </tr>\n",
       "    <tr>\n",
       "      <th>281</th>\n",
       "      <td>1.55740</td>\n",
       "      <td>102.177</td>\n",
       "      <td>3.0</td>\n",
       "      <td>0.000000</td>\n",
       "    </tr>\n",
       "    <tr>\n",
       "      <th>282</th>\n",
       "      <td>1.76560</td>\n",
       "      <td>100.161</td>\n",
       "      <td>3.0</td>\n",
       "      <td>0.000000</td>\n",
       "    </tr>\n",
       "    <tr>\n",
       "      <th>283</th>\n",
       "      <td>3.56300</td>\n",
       "      <td>380.444</td>\n",
       "      <td>8.0</td>\n",
       "      <td>0.428571</td>\n",
       "    </tr>\n",
       "    <tr>\n",
       "      <th>284</th>\n",
       "      <td>1.80980</td>\n",
       "      <td>82.146</td>\n",
       "      <td>0.0</td>\n",
       "      <td>0.000000</td>\n",
       "    </tr>\n",
       "    <tr>\n",
       "      <th>285</th>\n",
       "      <td>1.82840</td>\n",
       "      <td>70.135</td>\n",
       "      <td>1.0</td>\n",
       "      <td>0.000000</td>\n",
       "    </tr>\n",
       "    <tr>\n",
       "      <th>286</th>\n",
       "      <td>1.02320</td>\n",
       "      <td>88.150</td>\n",
       "      <td>1.0</td>\n",
       "      <td>0.000000</td>\n",
       "    </tr>\n",
       "    <tr>\n",
       "      <th>287</th>\n",
       "      <td>1.23140</td>\n",
       "      <td>86.134</td>\n",
       "      <td>1.0</td>\n",
       "      <td>0.000000</td>\n",
       "    </tr>\n",
       "    <tr>\n",
       "      <th>288</th>\n",
       "      <td>1.41490</td>\n",
       "      <td>102.177</td>\n",
       "      <td>3.0</td>\n",
       "      <td>0.000000</td>\n",
       "    </tr>\n",
       "    <tr>\n",
       "      <th>289</th>\n",
       "      <td>1.41490</td>\n",
       "      <td>102.177</td>\n",
       "      <td>3.0</td>\n",
       "      <td>0.000000</td>\n",
       "    </tr>\n",
       "    <tr>\n",
       "      <th>290</th>\n",
       "      <td>1.62150</td>\n",
       "      <td>100.161</td>\n",
       "      <td>2.0</td>\n",
       "      <td>0.000000</td>\n",
       "    </tr>\n",
       "    <tr>\n",
       "      <th>291</th>\n",
       "      <td>2.33760</td>\n",
       "      <td>130.231</td>\n",
       "      <td>4.0</td>\n",
       "      <td>0.000000</td>\n",
       "    </tr>\n",
       "    <tr>\n",
       "      <th>292</th>\n",
       "      <td>1.94750</td>\n",
       "      <td>116.204</td>\n",
       "      <td>3.0</td>\n",
       "      <td>0.000000</td>\n",
       "    </tr>\n",
       "    <tr>\n",
       "      <th>293</th>\n",
       "      <td>1.55740</td>\n",
       "      <td>102.177</td>\n",
       "      <td>2.0</td>\n",
       "      <td>0.000000</td>\n",
       "    </tr>\n",
       "    <tr>\n",
       "      <th>294</th>\n",
       "      <td>1.02480</td>\n",
       "      <td>88.150</td>\n",
       "      <td>2.0</td>\n",
       "      <td>0.000000</td>\n",
       "    </tr>\n",
       "    <tr>\n",
       "      <th>295</th>\n",
       "      <td>5.55322</td>\n",
       "      <td>268.359</td>\n",
       "      <td>0.0</td>\n",
       "      <td>0.857143</td>\n",
       "    </tr>\n",
       "    <tr>\n",
       "      <th>296</th>\n",
       "      <td>3.22270</td>\n",
       "      <td>114.232</td>\n",
       "      <td>4.0</td>\n",
       "      <td>0.000000</td>\n",
       "    </tr>\n",
       "    <tr>\n",
       "      <th>297</th>\n",
       "      <td>2.47632</td>\n",
       "      <td>131.178</td>\n",
       "      <td>0.0</td>\n",
       "      <td>0.900000</td>\n",
       "    </tr>\n",
       "    <tr>\n",
       "      <th>298</th>\n",
       "      <td>2.44250</td>\n",
       "      <td>86.178</td>\n",
       "      <td>2.0</td>\n",
       "      <td>0.000000</td>\n",
       "    </tr>\n",
       "    <tr>\n",
       "      <th>299</th>\n",
       "      <td>1.70062</td>\n",
       "      <td>108.140</td>\n",
       "      <td>0.0</td>\n",
       "      <td>0.750000</td>\n",
       "    </tr>\n",
       "    <tr>\n",
       "      <th>300</th>\n",
       "      <td>2.33760</td>\n",
       "      <td>130.231</td>\n",
       "      <td>5.0</td>\n",
       "      <td>0.000000</td>\n",
       "    </tr>\n",
       "    <tr>\n",
       "      <th>301</th>\n",
       "      <td>4.34320</td>\n",
       "      <td>408.498</td>\n",
       "      <td>10.0</td>\n",
       "      <td>0.400000</td>\n",
       "    </tr>\n",
       "    <tr>\n",
       "      <th>302</th>\n",
       "      <td>1.16730</td>\n",
       "      <td>88.150</td>\n",
       "      <td>2.0</td>\n",
       "      <td>0.000000</td>\n",
       "    </tr>\n",
       "    <tr>\n",
       "      <th>303</th>\n",
       "      <td>1.37550</td>\n",
       "      <td>86.134</td>\n",
       "      <td>2.0</td>\n",
       "      <td>0.000000</td>\n",
       "    </tr>\n",
       "    <tr>\n",
       "      <th>304</th>\n",
       "      <td>3.17290</td>\n",
       "      <td>366.417</td>\n",
       "      <td>7.0</td>\n",
       "      <td>0.444444</td>\n",
       "    </tr>\n",
       "    <tr>\n",
       "      <th>305</th>\n",
       "      <td>2.39270</td>\n",
       "      <td>338.363</td>\n",
       "      <td>5.0</td>\n",
       "      <td>0.480000</td>\n",
       "    </tr>\n",
       "    <tr>\n",
       "      <th>306</th>\n",
       "      <td>4.66040</td>\n",
       "      <td>223.102</td>\n",
       "      <td>1.0</td>\n",
       "      <td>0.857143</td>\n",
       "    </tr>\n",
       "    <tr>\n",
       "      <th>307</th>\n",
       "      <td>2.15470</td>\n",
       "      <td>173.009</td>\n",
       "      <td>0.0</td>\n",
       "      <td>0.750000</td>\n",
       "    </tr>\n",
       "    <tr>\n",
       "      <th>308</th>\n",
       "      <td>2.75752</td>\n",
       "      <td>171.037</td>\n",
       "      <td>0.0</td>\n",
       "      <td>0.750000</td>\n",
       "    </tr>\n",
       "    <tr>\n",
       "      <th>309</th>\n",
       "      <td>2.34860</td>\n",
       "      <td>142.585</td>\n",
       "      <td>1.0</td>\n",
       "      <td>0.666667</td>\n",
       "    </tr>\n",
       "    <tr>\n",
       "      <th>310</th>\n",
       "      <td>2.04560</td>\n",
       "      <td>128.558</td>\n",
       "      <td>0.0</td>\n",
       "      <td>0.750000</td>\n",
       "    </tr>\n",
       "    <tr>\n",
       "      <th>311</th>\n",
       "      <td>2.64842</td>\n",
       "      <td>126.586</td>\n",
       "      <td>0.0</td>\n",
       "      <td>0.750000</td>\n",
       "    </tr>\n",
       "    <tr>\n",
       "      <th>312</th>\n",
       "      <td>2.55742</td>\n",
       "      <td>120.195</td>\n",
       "      <td>1.0</td>\n",
       "      <td>0.666667</td>\n",
       "    </tr>\n",
       "    <tr>\n",
       "      <th>313</th>\n",
       "      <td>1.94750</td>\n",
       "      <td>116.204</td>\n",
       "      <td>4.0</td>\n",
       "      <td>0.000000</td>\n",
       "    </tr>\n",
       "    <tr>\n",
       "      <th>314</th>\n",
       "      <td>2.15570</td>\n",
       "      <td>114.188</td>\n",
       "      <td>4.0</td>\n",
       "      <td>0.000000</td>\n",
       "    </tr>\n",
       "    <tr>\n",
       "      <th>315</th>\n",
       "      <td>3.22060</td>\n",
       "      <td>194.274</td>\n",
       "      <td>5.0</td>\n",
       "      <td>0.428571</td>\n",
       "    </tr>\n",
       "    <tr>\n",
       "      <th>316</th>\n",
       "      <td>0.78720</td>\n",
       "      <td>95.101</td>\n",
       "      <td>0.0</td>\n",
       "      <td>0.857143</td>\n",
       "    </tr>\n",
       "    <tr>\n",
       "      <th>317</th>\n",
       "      <td>3.11842</td>\n",
       "      <td>134.222</td>\n",
       "      <td>1.0</td>\n",
       "      <td>0.600000</td>\n",
       "    </tr>\n",
       "    <tr>\n",
       "      <th>318</th>\n",
       "      <td>0.42840</td>\n",
       "      <td>162.152</td>\n",
       "      <td>1.0</td>\n",
       "      <td>0.833333</td>\n",
       "    </tr>\n",
       "    <tr>\n",
       "      <th>319</th>\n",
       "      <td>1.41330</td>\n",
       "      <td>102.177</td>\n",
       "      <td>2.0</td>\n",
       "      <td>0.000000</td>\n",
       "    </tr>\n",
       "    <tr>\n",
       "      <th>320</th>\n",
       "      <td>1.62150</td>\n",
       "      <td>100.161</td>\n",
       "      <td>2.0</td>\n",
       "      <td>0.000000</td>\n",
       "    </tr>\n",
       "    <tr>\n",
       "      <th>321</th>\n",
       "      <td>3.66202</td>\n",
       "      <td>168.239</td>\n",
       "      <td>1.0</td>\n",
       "      <td>0.923077</td>\n",
       "    </tr>\n",
       "    <tr>\n",
       "      <th>322</th>\n",
       "      <td>1.41490</td>\n",
       "      <td>102.177</td>\n",
       "      <td>3.0</td>\n",
       "      <td>0.000000</td>\n",
       "    </tr>\n",
       "    <tr>\n",
       "      <th>323</th>\n",
       "      <td>0.72822</td>\n",
       "      <td>146.153</td>\n",
       "      <td>0.0</td>\n",
       "      <td>0.909091</td>\n",
       "    </tr>\n",
       "    <tr>\n",
       "      <th>324</th>\n",
       "      <td>1.55320</td>\n",
       "      <td>180.163</td>\n",
       "      <td>2.0</td>\n",
       "      <td>0.461538</td>\n",
       "    </tr>\n",
       "    <tr>\n",
       "      <th>325</th>\n",
       "      <td>0.94490</td>\n",
       "      <td>86.134</td>\n",
       "      <td>3.0</td>\n",
       "      <td>0.000000</td>\n",
       "    </tr>\n",
       "    <tr>\n",
       "      <th>326</th>\n",
       "      <td>1.10510</td>\n",
       "      <td>224.260</td>\n",
       "      <td>3.0</td>\n",
       "      <td>0.000000</td>\n",
       "    </tr>\n",
       "    <tr>\n",
       "      <th>327</th>\n",
       "      <td>1.35110</td>\n",
       "      <td>238.287</td>\n",
       "      <td>3.0</td>\n",
       "      <td>0.000000</td>\n",
       "    </tr>\n",
       "    <tr>\n",
       "      <th>328</th>\n",
       "      <td>0.49100</td>\n",
       "      <td>208.217</td>\n",
       "      <td>4.0</td>\n",
       "      <td>0.000000</td>\n",
       "    </tr>\n",
       "    <tr>\n",
       "      <th>329</th>\n",
       "      <td>0.65080</td>\n",
       "      <td>212.249</td>\n",
       "      <td>2.0</td>\n",
       "      <td>0.000000</td>\n",
       "    </tr>\n",
       "    <tr>\n",
       "      <th>330</th>\n",
       "      <td>-0.62140</td>\n",
       "      <td>156.141</td>\n",
       "      <td>0.0</td>\n",
       "      <td>0.000000</td>\n",
       "    </tr>\n",
       "    <tr>\n",
       "      <th>331</th>\n",
       "      <td>2.27100</td>\n",
       "      <td>148.205</td>\n",
       "      <td>0.0</td>\n",
       "      <td>0.545455</td>\n",
       "    </tr>\n",
       "    <tr>\n",
       "      <th>332</th>\n",
       "      <td>5.76304</td>\n",
       "      <td>256.348</td>\n",
       "      <td>0.0</td>\n",
       "      <td>0.900000</td>\n",
       "    </tr>\n",
       "    <tr>\n",
       "      <th>333</th>\n",
       "      <td>0.32490</td>\n",
       "      <td>196.206</td>\n",
       "      <td>3.0</td>\n",
       "      <td>0.000000</td>\n",
       "    </tr>\n",
       "    <tr>\n",
       "      <th>334</th>\n",
       "      <td>0.57090</td>\n",
       "      <td>210.233</td>\n",
       "      <td>3.0</td>\n",
       "      <td>0.000000</td>\n",
       "    </tr>\n",
       "    <tr>\n",
       "      <th>335</th>\n",
       "      <td>-0.06520</td>\n",
       "      <td>182.179</td>\n",
       "      <td>2.0</td>\n",
       "      <td>0.000000</td>\n",
       "    </tr>\n",
       "    <tr>\n",
       "      <th>336</th>\n",
       "      <td>0.86650</td>\n",
       "      <td>244.250</td>\n",
       "      <td>3.0</td>\n",
       "      <td>0.333333</td>\n",
       "    </tr>\n",
       "    <tr>\n",
       "      <th>337</th>\n",
       "      <td>1.18500</td>\n",
       "      <td>226.276</td>\n",
       "      <td>4.0</td>\n",
       "      <td>0.000000</td>\n",
       "    </tr>\n",
       "    <tr>\n",
       "      <th>338</th>\n",
       "      <td>0.40480</td>\n",
       "      <td>198.222</td>\n",
       "      <td>2.0</td>\n",
       "      <td>0.000000</td>\n",
       "    </tr>\n",
       "    <tr>\n",
       "      <th>339</th>\n",
       "      <td>0.70040</td>\n",
       "      <td>232.239</td>\n",
       "      <td>2.0</td>\n",
       "      <td>0.352941</td>\n",
       "    </tr>\n",
       "    <tr>\n",
       "      <th>340</th>\n",
       "      <td>-0.79770</td>\n",
       "      <td>130.078</td>\n",
       "      <td>0.0</td>\n",
       "      <td>0.666667</td>\n",
       "    </tr>\n",
       "    <tr>\n",
       "      <th>341</th>\n",
       "      <td>1.94040</td>\n",
       "      <td>145.161</td>\n",
       "      <td>0.0</td>\n",
       "      <td>0.909091</td>\n",
       "    </tr>\n",
       "    <tr>\n",
       "      <th>342</th>\n",
       "      <td>-0.23130</td>\n",
       "      <td>170.168</td>\n",
       "      <td>1.0</td>\n",
       "      <td>0.000000</td>\n",
       "    </tr>\n",
       "    <tr>\n",
       "      <th>343</th>\n",
       "      <td>5.45462</td>\n",
       "      <td>242.321</td>\n",
       "      <td>0.0</td>\n",
       "      <td>0.947368</td>\n",
       "    </tr>\n",
       "    <tr>\n",
       "      <th>344</th>\n",
       "      <td>-0.33948</td>\n",
       "      <td>125.131</td>\n",
       "      <td>0.0</td>\n",
       "      <td>0.666667</td>\n",
       "    </tr>\n",
       "    <tr>\n",
       "      <th>345</th>\n",
       "      <td>2.93590</td>\n",
       "      <td>142.242</td>\n",
       "      <td>6.0</td>\n",
       "      <td>0.000000</td>\n",
       "    </tr>\n",
       "    <tr>\n",
       "      <th>346</th>\n",
       "      <td>4.72840</td>\n",
       "      <td>243.309</td>\n",
       "      <td>0.0</td>\n",
       "      <td>0.947368</td>\n",
       "    </tr>\n",
       "    <tr>\n",
       "      <th>347</th>\n",
       "      <td>1.94040</td>\n",
       "      <td>145.161</td>\n",
       "      <td>0.0</td>\n",
       "      <td>0.909091</td>\n",
       "    </tr>\n",
       "    <tr>\n",
       "      <th>348</th>\n",
       "      <td>0.42840</td>\n",
       "      <td>162.152</td>\n",
       "      <td>1.0</td>\n",
       "      <td>0.833333</td>\n",
       "    </tr>\n",
       "    <tr>\n",
       "      <th>349</th>\n",
       "      <td>5.45462</td>\n",
       "      <td>242.321</td>\n",
       "      <td>0.0</td>\n",
       "      <td>0.947368</td>\n",
       "    </tr>\n",
       "    <tr>\n",
       "      <th>350</th>\n",
       "      <td>5.76304</td>\n",
       "      <td>256.348</td>\n",
       "      <td>0.0</td>\n",
       "      <td>0.900000</td>\n",
       "    </tr>\n",
       "    <tr>\n",
       "      <th>351</th>\n",
       "      <td>0.42840</td>\n",
       "      <td>162.152</td>\n",
       "      <td>1.0</td>\n",
       "      <td>0.833333</td>\n",
       "    </tr>\n",
       "    <tr>\n",
       "      <th>352</th>\n",
       "      <td>0.72822</td>\n",
       "      <td>146.153</td>\n",
       "      <td>0.0</td>\n",
       "      <td>0.909091</td>\n",
       "    </tr>\n",
       "    <tr>\n",
       "      <th>353</th>\n",
       "      <td>1.94040</td>\n",
       "      <td>145.161</td>\n",
       "      <td>0.0</td>\n",
       "      <td>0.909091</td>\n",
       "    </tr>\n",
       "    <tr>\n",
       "      <th>354</th>\n",
       "      <td>4.60984</td>\n",
       "      <td>206.288</td>\n",
       "      <td>0.0</td>\n",
       "      <td>0.875000</td>\n",
       "    </tr>\n",
       "    <tr>\n",
       "      <th>355</th>\n",
       "      <td>3.69860</td>\n",
       "      <td>194.233</td>\n",
       "      <td>0.0</td>\n",
       "      <td>0.933333</td>\n",
       "    </tr>\n",
       "    <tr>\n",
       "      <th>356</th>\n",
       "      <td>4.30142</td>\n",
       "      <td>192.261</td>\n",
       "      <td>0.0</td>\n",
       "      <td>0.933333</td>\n",
       "    </tr>\n",
       "    <tr>\n",
       "      <th>357</th>\n",
       "      <td>5.63000</td>\n",
       "      <td>466.479</td>\n",
       "      <td>10.0</td>\n",
       "      <td>0.444444</td>\n",
       "    </tr>\n",
       "    <tr>\n",
       "      <th>358</th>\n",
       "      <td>2.93840</td>\n",
       "      <td>154.212</td>\n",
       "      <td>0.0</td>\n",
       "      <td>0.833333</td>\n",
       "    </tr>\n",
       "    <tr>\n",
       "      <th>359</th>\n",
       "      <td>3.32360</td>\n",
       "      <td>152.196</td>\n",
       "      <td>0.0</td>\n",
       "      <td>0.833333</td>\n",
       "    </tr>\n",
       "    <tr>\n",
       "      <th>360</th>\n",
       "      <td>1.24000</td>\n",
       "      <td>183.169</td>\n",
       "      <td>3.0</td>\n",
       "      <td>0.000000</td>\n",
       "    </tr>\n",
       "    <tr>\n",
       "      <th>361</th>\n",
       "      <td>-0.50840</td>\n",
       "      <td>59.068</td>\n",
       "      <td>0.0</td>\n",
       "      <td>0.000000</td>\n",
       "    </tr>\n",
       "    <tr>\n",
       "      <th>362</th>\n",
       "      <td>1.64500</td>\n",
       "      <td>135.166</td>\n",
       "      <td>1.0</td>\n",
       "      <td>0.600000</td>\n",
       "    </tr>\n",
       "    <tr>\n",
       "      <th>363</th>\n",
       "      <td>-0.85610</td>\n",
       "      <td>222.251</td>\n",
       "      <td>2.0</td>\n",
       "      <td>0.384615</td>\n",
       "    </tr>\n",
       "    <tr>\n",
       "      <th>364</th>\n",
       "      <td>0.52988</td>\n",
       "      <td>41.053</td>\n",
       "      <td>0.0</td>\n",
       "      <td>0.000000</td>\n",
       "    </tr>\n",
       "    <tr>\n",
       "      <th>365</th>\n",
       "      <td>1.88920</td>\n",
       "      <td>120.151</td>\n",
       "      <td>1.0</td>\n",
       "      <td>0.666667</td>\n",
       "    </tr>\n",
       "    <tr>\n",
       "      <th>366</th>\n",
       "      <td>1.94934</td>\n",
       "      <td>293.348</td>\n",
       "      <td>3.0</td>\n",
       "      <td>0.550000</td>\n",
       "    </tr>\n",
       "    <tr>\n",
       "      <th>367</th>\n",
       "      <td>3.38800</td>\n",
       "      <td>179.222</td>\n",
       "      <td>0.0</td>\n",
       "      <td>1.000000</td>\n",
       "    </tr>\n",
       "    <tr>\n",
       "      <th>368</th>\n",
       "      <td>0.37130</td>\n",
       "      <td>56.064</td>\n",
       "      <td>1.0</td>\n",
       "      <td>0.000000</td>\n",
       "    </tr>\n",
       "    <tr>\n",
       "      <th>369</th>\n",
       "      <td>0.69598</td>\n",
       "      <td>53.064</td>\n",
       "      <td>0.0</td>\n",
       "      <td>0.000000</td>\n",
       "    </tr>\n",
       "    <tr>\n",
       "      <th>370</th>\n",
       "      <td>-0.06490</td>\n",
       "      <td>135.130</td>\n",
       "      <td>0.0</td>\n",
       "      <td>0.900000</td>\n",
       "    </tr>\n",
       "    <tr>\n",
       "      <th>371</th>\n",
       "      <td>3.26640</td>\n",
       "      <td>300.398</td>\n",
       "      <td>0.0</td>\n",
       "      <td>0.000000</td>\n",
       "    </tr>\n",
       "    <tr>\n",
       "      <th>372</th>\n",
       "      <td>2.98710</td>\n",
       "      <td>269.772</td>\n",
       "      <td>6.0</td>\n",
       "      <td>0.333333</td>\n",
       "    </tr>\n",
       "    <tr>\n",
       "      <th>373</th>\n",
       "      <td>1.84570</td>\n",
       "      <td>360.450</td>\n",
       "      <td>3.0</td>\n",
       "      <td>0.000000</td>\n",
       "    </tr>\n",
       "    <tr>\n",
       "      <th>374</th>\n",
       "      <td>5.27020</td>\n",
       "      <td>364.914</td>\n",
       "      <td>0.0</td>\n",
       "      <td>0.000000</td>\n",
       "    </tr>\n",
       "    <tr>\n",
       "      <th>375</th>\n",
       "      <td>-2.17980</td>\n",
       "      <td>158.117</td>\n",
       "      <td>1.0</td>\n",
       "      <td>0.000000</td>\n",
       "    </tr>\n",
       "    <tr>\n",
       "      <th>376</th>\n",
       "      <td>1.75530</td>\n",
       "      <td>162.279</td>\n",
       "      <td>5.0</td>\n",
       "      <td>0.000000</td>\n",
       "    </tr>\n",
       "    <tr>\n",
       "      <th>377</th>\n",
       "      <td>-0.35380</td>\n",
       "      <td>136.114</td>\n",
       "      <td>0.0</td>\n",
       "      <td>0.900000</td>\n",
       "    </tr>\n",
       "    <tr>\n",
       "      <th>378</th>\n",
       "      <td>-2.07850</td>\n",
       "      <td>142.070</td>\n",
       "      <td>0.0</td>\n",
       "      <td>0.000000</td>\n",
       "    </tr>\n",
       "    <tr>\n",
       "      <th>379</th>\n",
       "      <td>-4.81940</td>\n",
       "      <td>286.156</td>\n",
       "      <td>1.0</td>\n",
       "      <td>0.000000</td>\n",
       "    </tr>\n",
       "    <tr>\n",
       "      <th>380</th>\n",
       "      <td>0.06960</td>\n",
       "      <td>210.285</td>\n",
       "      <td>3.0</td>\n",
       "      <td>0.400000</td>\n",
       "    </tr>\n",
       "    <tr>\n",
       "      <th>381</th>\n",
       "      <td>1.84560</td>\n",
       "      <td>227.337</td>\n",
       "      <td>5.0</td>\n",
       "      <td>0.400000</td>\n",
       "    </tr>\n",
       "    <tr>\n",
       "      <th>382</th>\n",
       "      <td>-3.10802</td>\n",
       "      <td>457.432</td>\n",
       "      <td>7.0</td>\n",
       "      <td>0.187500</td>\n",
       "    </tr>\n",
       "    <tr>\n",
       "      <th>383</th>\n",
       "      <td>1.77922</td>\n",
       "      <td>208.261</td>\n",
       "      <td>2.0</td>\n",
       "      <td>0.400000</td>\n",
       "    </tr>\n",
       "    <tr>\n",
       "      <th>384</th>\n",
       "      <td>1.55042</td>\n",
       "      <td>231.299</td>\n",
       "      <td>2.0</td>\n",
       "      <td>0.647059</td>\n",
       "    </tr>\n",
       "    <tr>\n",
       "      <th>385</th>\n",
       "      <td>0.72530</td>\n",
       "      <td>100.146</td>\n",
       "      <td>0.0</td>\n",
       "      <td>0.833333</td>\n",
       "    </tr>\n",
       "    <tr>\n",
       "      <th>386</th>\n",
       "      <td>4.87188</td>\n",
       "      <td>293.414</td>\n",
       "      <td>4.0</td>\n",
       "      <td>0.545455</td>\n",
       "    </tr>\n",
       "    <tr>\n",
       "      <th>387</th>\n",
       "      <td>-0.61310</td>\n",
       "      <td>84.082</td>\n",
       "      <td>0.0</td>\n",
       "      <td>0.833333</td>\n",
       "    </tr>\n",
       "    <tr>\n",
       "      <th>388</th>\n",
       "      <td>1.18500</td>\n",
       "      <td>226.276</td>\n",
       "      <td>4.0</td>\n",
       "      <td>0.000000</td>\n",
       "    </tr>\n",
       "    <tr>\n",
       "      <th>389</th>\n",
       "      <td>1.06662</td>\n",
       "      <td>203.245</td>\n",
       "      <td>1.0</td>\n",
       "      <td>0.733333</td>\n",
       "    </tr>\n",
       "    <tr>\n",
       "      <th>390</th>\n",
       "      <td>2.13110</td>\n",
       "      <td>256.305</td>\n",
       "      <td>4.0</td>\n",
       "      <td>0.631579</td>\n",
       "    </tr>\n",
       "    <tr>\n",
       "      <th>391</th>\n",
       "      <td>4.08740</td>\n",
       "      <td>286.415</td>\n",
       "      <td>0.0</td>\n",
       "      <td>0.000000</td>\n",
       "    </tr>\n",
       "    <tr>\n",
       "      <th>392</th>\n",
       "      <td>3.95910</td>\n",
       "      <td>290.447</td>\n",
       "      <td>0.0</td>\n",
       "      <td>0.000000</td>\n",
       "    </tr>\n",
       "    <tr>\n",
       "      <th>393</th>\n",
       "      <td>2.72830</td>\n",
       "      <td>148.205</td>\n",
       "      <td>2.0</td>\n",
       "      <td>0.545455</td>\n",
       "    </tr>\n",
       "    <tr>\n",
       "      <th>394</th>\n",
       "      <td>1.26880</td>\n",
       "      <td>93.129</td>\n",
       "      <td>0.0</td>\n",
       "      <td>0.857143</td>\n",
       "    </tr>\n",
       "    <tr>\n",
       "      <th>395</th>\n",
       "      <td>4.33190</td>\n",
       "      <td>367.860</td>\n",
       "      <td>7.0</td>\n",
       "      <td>0.285714</td>\n",
       "    </tr>\n",
       "    <tr>\n",
       "      <th>396</th>\n",
       "      <td>1.69520</td>\n",
       "      <td>108.140</td>\n",
       "      <td>1.0</td>\n",
       "      <td>0.750000</td>\n",
       "    </tr>\n",
       "    <tr>\n",
       "      <th>397</th>\n",
       "      <td>3.99300</td>\n",
       "      <td>178.234</td>\n",
       "      <td>0.0</td>\n",
       "      <td>1.000000</td>\n",
       "    </tr>\n",
       "    <tr>\n",
       "      <th>398</th>\n",
       "      <td>2.46200</td>\n",
       "      <td>208.216</td>\n",
       "      <td>0.0</td>\n",
       "      <td>0.750000</td>\n",
       "    </tr>\n",
       "    <tr>\n",
       "      <th>399</th>\n",
       "      <td>1.48442</td>\n",
       "      <td>188.230</td>\n",
       "      <td>1.0</td>\n",
       "      <td>0.785714</td>\n",
       "    </tr>\n",
       "    <tr>\n",
       "      <th>400</th>\n",
       "      <td>2.06422</td>\n",
       "      <td>300.362</td>\n",
       "      <td>2.0</td>\n",
       "      <td>0.272727</td>\n",
       "    </tr>\n",
       "    <tr>\n",
       "      <th>401</th>\n",
       "      <td>5.50510</td>\n",
       "      <td>366.844</td>\n",
       "      <td>2.0</td>\n",
       "      <td>0.461538</td>\n",
       "    </tr>\n",
       "    <tr>\n",
       "      <th>402</th>\n",
       "      <td>1.13230</td>\n",
       "      <td>211.269</td>\n",
       "      <td>5.0</td>\n",
       "      <td>0.400000</td>\n",
       "    </tr>\n",
       "    <tr>\n",
       "      <th>403</th>\n",
       "      <td>1.77710</td>\n",
       "      <td>215.688</td>\n",
       "      <td>4.0</td>\n",
       "      <td>0.428571</td>\n",
       "    </tr>\n",
       "    <tr>\n",
       "      <th>404</th>\n",
       "      <td>2.09050</td>\n",
       "      <td>259.762</td>\n",
       "      <td>5.0</td>\n",
       "      <td>0.375000</td>\n",
       "    </tr>\n",
       "    <tr>\n",
       "      <th>405</th>\n",
       "      <td>4.10200</td>\n",
       "      <td>182.226</td>\n",
       "      <td>2.0</td>\n",
       "      <td>0.857143</td>\n",
       "    </tr>\n",
       "    <tr>\n",
       "      <th>406</th>\n",
       "      <td>1.05370</td>\n",
       "      <td>223.165</td>\n",
       "      <td>5.0</td>\n",
       "      <td>0.000000</td>\n",
       "    </tr>\n",
       "    <tr>\n",
       "      <th>407</th>\n",
       "      <td>3.13070</td>\n",
       "      <td>258.104</td>\n",
       "      <td>2.0</td>\n",
       "      <td>0.375000</td>\n",
       "    </tr>\n",
       "    <tr>\n",
       "      <th>408</th>\n",
       "      <td>0.15880</td>\n",
       "      <td>184.195</td>\n",
       "      <td>2.0</td>\n",
       "      <td>0.000000</td>\n",
       "    </tr>\n",
       "    <tr>\n",
       "      <th>409</th>\n",
       "      <td>1.62540</td>\n",
       "      <td>421.422</td>\n",
       "      <td>3.0</td>\n",
       "      <td>0.444444</td>\n",
       "    </tr>\n",
       "    <tr>\n",
       "      <th>410</th>\n",
       "      <td>4.14820</td>\n",
       "      <td>335.282</td>\n",
       "      <td>7.0</td>\n",
       "      <td>0.260870</td>\n",
       "    </tr>\n",
       "    <tr>\n",
       "      <th>411</th>\n",
       "      <td>4.05750</td>\n",
       "      <td>410.536</td>\n",
       "      <td>8.0</td>\n",
       "      <td>0.214286</td>\n",
       "    </tr>\n",
       "    <tr>\n",
       "      <th>412</th>\n",
       "      <td>3.54350</td>\n",
       "      <td>323.133</td>\n",
       "      <td>2.0</td>\n",
       "      <td>0.750000</td>\n",
       "    </tr>\n",
       "    <tr>\n",
       "      <th>413</th>\n",
       "      <td>2.57240</td>\n",
       "      <td>290.323</td>\n",
       "      <td>4.0</td>\n",
       "      <td>0.428571</td>\n",
       "    </tr>\n",
       "    <tr>\n",
       "      <th>414</th>\n",
       "      <td>3.77260</td>\n",
       "      <td>397.524</td>\n",
       "      <td>10.0</td>\n",
       "      <td>0.260870</td>\n",
       "    </tr>\n",
       "    <tr>\n",
       "      <th>415</th>\n",
       "      <td>1.49910</td>\n",
       "      <td>106.124</td>\n",
       "      <td>1.0</td>\n",
       "      <td>0.750000</td>\n",
       "    </tr>\n",
       "    <tr>\n",
       "      <th>416</th>\n",
       "      <td>0.78550</td>\n",
       "      <td>121.139</td>\n",
       "      <td>1.0</td>\n",
       "      <td>0.666667</td>\n",
       "    </tr>\n",
       "    <tr>\n",
       "      <th>417</th>\n",
       "      <td>1.68660</td>\n",
       "      <td>78.114</td>\n",
       "      <td>0.0</td>\n",
       "      <td>1.000000</td>\n",
       "    </tr>\n",
       "    <tr>\n",
       "      <th>418</th>\n",
       "      <td>2.76830</td>\n",
       "      <td>184.238</td>\n",
       "      <td>2.0</td>\n",
       "      <td>0.857143</td>\n",
       "    </tr>\n",
       "    <tr>\n",
       "      <th>419</th>\n",
       "      <td>1.10770</td>\n",
       "      <td>260.253</td>\n",
       "      <td>5.0</td>\n",
       "      <td>0.578947</td>\n",
       "    </tr>\n",
       "    <tr>\n",
       "      <th>420</th>\n",
       "      <td>4.41100</td>\n",
       "      <td>216.283</td>\n",
       "      <td>0.0</td>\n",
       "      <td>0.941176</td>\n",
       "    </tr>\n",
       "    <tr>\n",
       "      <th>421</th>\n",
       "      <td>5.73720</td>\n",
       "      <td>252.316</td>\n",
       "      <td>0.0</td>\n",
       "      <td>1.000000</td>\n",
       "    </tr>\n",
       "    <tr>\n",
       "      <th>422</th>\n",
       "      <td>5.64040</td>\n",
       "      <td>252.316</td>\n",
       "      <td>0.0</td>\n",
       "      <td>1.000000</td>\n",
       "    </tr>\n",
       "    <tr>\n",
       "      <th>423</th>\n",
       "      <td>4.41100</td>\n",
       "      <td>216.283</td>\n",
       "      <td>0.0</td>\n",
       "      <td>0.941176</td>\n",
       "    </tr>\n",
       "    <tr>\n",
       "      <th>424</th>\n",
       "      <td>5.73720</td>\n",
       "      <td>252.316</td>\n",
       "      <td>0.0</td>\n",
       "      <td>1.000000</td>\n",
       "    </tr>\n",
       "    <tr>\n",
       "      <th>425</th>\n",
       "      <td>5.64040</td>\n",
       "      <td>252.316</td>\n",
       "      <td>0.0</td>\n",
       "      <td>1.000000</td>\n",
       "    </tr>\n",
       "    <tr>\n",
       "      <th>426</th>\n",
       "      <td>5.64040</td>\n",
       "      <td>252.316</td>\n",
       "      <td>0.0</td>\n",
       "      <td>1.000000</td>\n",
       "    </tr>\n",
       "    <tr>\n",
       "      <th>427</th>\n",
       "      <td>6.32820</td>\n",
       "      <td>276.338</td>\n",
       "      <td>0.0</td>\n",
       "      <td>1.000000</td>\n",
       "    </tr>\n",
       "    <tr>\n",
       "      <th>428</th>\n",
       "      <td>1.44550</td>\n",
       "      <td>165.192</td>\n",
       "      <td>2.0</td>\n",
       "      <td>0.500000</td>\n",
       "    </tr>\n",
       "    <tr>\n",
       "      <th>429</th>\n",
       "      <td>2.60290</td>\n",
       "      <td>212.248</td>\n",
       "      <td>3.0</td>\n",
       "      <td>0.750000</td>\n",
       "    </tr>\n",
       "    <tr>\n",
       "      <th>430</th>\n",
       "      <td>1.55828</td>\n",
       "      <td>103.124</td>\n",
       "      <td>0.0</td>\n",
       "      <td>0.750000</td>\n",
       "    </tr>\n",
       "    <tr>\n",
       "      <th>431</th>\n",
       "      <td>2.91760</td>\n",
       "      <td>182.222</td>\n",
       "      <td>2.0</td>\n",
       "      <td>0.857143</td>\n",
       "    </tr>\n",
       "    <tr>\n",
       "      <th>432</th>\n",
       "      <td>2.29630</td>\n",
       "      <td>135.191</td>\n",
       "      <td>0.0</td>\n",
       "      <td>1.000000</td>\n",
       "    </tr>\n",
       "    <tr>\n",
       "      <th>433</th>\n",
       "      <td>0.95790</td>\n",
       "      <td>119.127</td>\n",
       "      <td>0.0</td>\n",
       "      <td>1.000000</td>\n",
       "    </tr>\n",
       "    <tr>\n",
       "      <th>434</th>\n",
       "      <td>1.82780</td>\n",
       "      <td>119.123</td>\n",
       "      <td>0.0</td>\n",
       "      <td>1.000000</td>\n",
       "    </tr>\n",
       "    <tr>\n",
       "      <th>435</th>\n",
       "      <td>2.42540</td>\n",
       "      <td>126.586</td>\n",
       "      <td>1.0</td>\n",
       "      <td>0.750000</td>\n",
       "    </tr>\n",
       "    <tr>\n",
       "      <th>436</th>\n",
       "      <td>2.70540</td>\n",
       "      <td>146.111</td>\n",
       "      <td>0.0</td>\n",
       "      <td>0.600000</td>\n",
       "    </tr>\n",
       "    <tr>\n",
       "      <th>437</th>\n",
       "      <td>0.85490</td>\n",
       "      <td>150.181</td>\n",
       "      <td>2.0</td>\n",
       "      <td>0.545455</td>\n",
       "    </tr>\n",
       "    <tr>\n",
       "      <th>438</th>\n",
       "      <td>3.63680</td>\n",
       "      <td>476.585</td>\n",
       "      <td>6.0</td>\n",
       "      <td>0.000000</td>\n",
       "    </tr>\n",
       "    <tr>\n",
       "      <th>439</th>\n",
       "      <td>3.47180</td>\n",
       "      <td>182.266</td>\n",
       "      <td>3.0</td>\n",
       "      <td>0.857143</td>\n",
       "    </tr>\n",
       "    <tr>\n",
       "      <th>440</th>\n",
       "      <td>3.35360</td>\n",
       "      <td>154.212</td>\n",
       "      <td>1.0</td>\n",
       "      <td>1.000000</td>\n",
       "    </tr>\n",
       "    <tr>\n",
       "      <th>441</th>\n",
       "      <td>4.45000</td>\n",
       "      <td>256.308</td>\n",
       "      <td>1.0</td>\n",
       "      <td>1.000000</td>\n",
       "    </tr>\n",
       "    <tr>\n",
       "      <th>442</th>\n",
       "      <td>2.19350</td>\n",
       "      <td>154.253</td>\n",
       "      <td>0.0</td>\n",
       "      <td>0.000000</td>\n",
       "    </tr>\n",
       "    <tr>\n",
       "      <th>443</th>\n",
       "      <td>1.57852</td>\n",
       "      <td>261.119</td>\n",
       "      <td>2.0</td>\n",
       "      <td>0.428571</td>\n",
       "    </tr>\n",
       "    <tr>\n",
       "      <th>444</th>\n",
       "      <td>7.18370</td>\n",
       "      <td>527.414</td>\n",
       "      <td>6.0</td>\n",
       "      <td>0.800000</td>\n",
       "    </tr>\n",
       "    <tr>\n",
       "      <th>445</th>\n",
       "      <td>2.44910</td>\n",
       "      <td>157.010</td>\n",
       "      <td>0.0</td>\n",
       "      <td>0.857143</td>\n",
       "    </tr>\n",
       "    <tr>\n",
       "      <th>446</th>\n",
       "      <td>1.57760</td>\n",
       "      <td>129.384</td>\n",
       "      <td>0.0</td>\n",
       "      <td>0.000000</td>\n",
       "    </tr>\n",
       "    <tr>\n",
       "      <th>447</th>\n",
       "      <td>2.14250</td>\n",
       "      <td>163.829</td>\n",
       "      <td>0.0</td>\n",
       "      <td>0.000000</td>\n",
       "    </tr>\n",
       "    <tr>\n",
       "      <th>448</th>\n",
       "      <td>1.40120</td>\n",
       "      <td>108.966</td>\n",
       "      <td>0.0</td>\n",
       "      <td>0.000000</td>\n",
       "    </tr>\n",
       "    <tr>\n",
       "      <th>449</th>\n",
       "      <td>1.01110</td>\n",
       "      <td>94.939</td>\n",
       "      <td>0.0</td>\n",
       "      <td>0.000000</td>\n",
       "    </tr>\n",
       "    <tr>\n",
       "      <th>450</th>\n",
       "      <td>4.65200</td>\n",
       "      <td>366.000</td>\n",
       "      <td>4.0</td>\n",
       "      <td>0.375000</td>\n",
       "    </tr>\n",
       "    <tr>\n",
       "      <th>451</th>\n",
       "      <td>4.39910</td>\n",
       "      <td>428.120</td>\n",
       "      <td>4.0</td>\n",
       "      <td>0.545455</td>\n",
       "    </tr>\n",
       "    <tr>\n",
       "      <th>452</th>\n",
       "      <td>2.78888</td>\n",
       "      <td>276.915</td>\n",
       "      <td>0.0</td>\n",
       "      <td>0.545455</td>\n",
       "    </tr>\n",
       "    <tr>\n",
       "      <th>453</th>\n",
       "      <td>1.57720</td>\n",
       "      <td>266.098</td>\n",
       "      <td>1.0</td>\n",
       "      <td>0.800000</td>\n",
       "    </tr>\n",
       "    <tr>\n",
       "      <th>454</th>\n",
       "      <td>1.74462</td>\n",
       "      <td>316.427</td>\n",
       "      <td>8.0</td>\n",
       "      <td>0.285714</td>\n",
       "    </tr>\n",
       "    <tr>\n",
       "      <th>455</th>\n",
       "      <td>0.79490</td>\n",
       "      <td>212.249</td>\n",
       "      <td>3.0</td>\n",
       "      <td>0.000000</td>\n",
       "    </tr>\n",
       "    <tr>\n",
       "      <th>456</th>\n",
       "      <td>3.99980</td>\n",
       "      <td>263.381</td>\n",
       "      <td>1.0</td>\n",
       "      <td>0.315789</td>\n",
       "    </tr>\n",
       "    <tr>\n",
       "      <th>457</th>\n",
       "      <td>4.15740</td>\n",
       "      <td>311.853</td>\n",
       "      <td>9.0</td>\n",
       "      <td>0.285714</td>\n",
       "    </tr>\n",
       "    <tr>\n",
       "      <th>458</th>\n",
       "      <td>1.68360</td>\n",
       "      <td>303.156</td>\n",
       "      <td>4.0</td>\n",
       "      <td>0.000000</td>\n",
       "    </tr>\n",
       "    <tr>\n",
       "      <th>459</th>\n",
       "      <td>2.22570</td>\n",
       "      <td>193.246</td>\n",
       "      <td>4.0</td>\n",
       "      <td>0.428571</td>\n",
       "    </tr>\n",
       "    <tr>\n",
       "      <th>460</th>\n",
       "      <td>0.77720</td>\n",
       "      <td>74.123</td>\n",
       "      <td>1.0</td>\n",
       "      <td>0.000000</td>\n",
       "    </tr>\n",
       "    <tr>\n",
       "      <th>461</th>\n",
       "      <td>1.80640</td>\n",
       "      <td>58.124</td>\n",
       "      <td>1.0</td>\n",
       "      <td>0.000000</td>\n",
       "    </tr>\n",
       "    <tr>\n",
       "      <th>462</th>\n",
       "      <td>1.71630</td>\n",
       "      <td>90.191</td>\n",
       "      <td>2.0</td>\n",
       "      <td>0.000000</td>\n",
       "    </tr>\n",
       "    <tr>\n",
       "      <th>463</th>\n",
       "      <td>0.93900</td>\n",
       "      <td>212.249</td>\n",
       "      <td>4.0</td>\n",
       "      <td>0.000000</td>\n",
       "    </tr>\n",
       "    <tr>\n",
       "      <th>464</th>\n",
       "      <td>1.02580</td>\n",
       "      <td>256.331</td>\n",
       "      <td>1.0</td>\n",
       "      <td>0.294118</td>\n",
       "    </tr>\n",
       "    <tr>\n",
       "      <th>465</th>\n",
       "      <td>2.82540</td>\n",
       "      <td>236.702</td>\n",
       "      <td>2.0</td>\n",
       "      <td>0.375000</td>\n",
       "    </tr>\n",
       "    <tr>\n",
       "      <th>466</th>\n",
       "      <td>0.95950</td>\n",
       "      <td>102.133</td>\n",
       "      <td>4.0</td>\n",
       "      <td>0.000000</td>\n",
       "    </tr>\n",
       "    <tr>\n",
       "      <th>467</th>\n",
       "      <td>3.47350</td>\n",
       "      <td>217.378</td>\n",
       "      <td>5.0</td>\n",
       "      <td>0.000000</td>\n",
       "    </tr>\n",
       "    <tr>\n",
       "      <th>468</th>\n",
       "      <td>3.02920</td>\n",
       "      <td>134.222</td>\n",
       "      <td>3.0</td>\n",
       "      <td>0.600000</td>\n",
       "    </tr>\n",
       "    <tr>\n",
       "      <th>469</th>\n",
       "      <td>0.98540</td>\n",
       "      <td>72.107</td>\n",
       "      <td>2.0</td>\n",
       "      <td>0.000000</td>\n",
       "    </tr>\n",
       "    <tr>\n",
       "      <th>470</th>\n",
       "      <td>-1.02930</td>\n",
       "      <td>194.194</td>\n",
       "      <td>0.0</td>\n",
       "      <td>0.642857</td>\n",
       "    </tr>\n",
       "    <tr>\n",
       "      <th>471</th>\n",
       "      <td>2.40170</td>\n",
       "      <td>152.237</td>\n",
       "      <td>0.0</td>\n",
       "      <td>0.000000</td>\n",
       "    </tr>\n",
       "    <tr>\n",
       "      <th>472</th>\n",
       "      <td>1.76560</td>\n",
       "      <td>100.161</td>\n",
       "      <td>4.0</td>\n",
       "      <td>0.000000</td>\n",
       "    </tr>\n",
       "    <tr>\n",
       "      <th>473</th>\n",
       "      <td>3.52090</td>\n",
       "      <td>349.066</td>\n",
       "      <td>3.0</td>\n",
       "      <td>0.000000</td>\n",
       "    </tr>\n",
       "    <tr>\n",
       "      <th>474</th>\n",
       "      <td>3.33060</td>\n",
       "      <td>212.252</td>\n",
       "      <td>2.0</td>\n",
       "      <td>0.750000</td>\n",
       "    </tr>\n",
       "    <tr>\n",
       "      <th>475</th>\n",
       "      <td>2.55800</td>\n",
       "      <td>201.225</td>\n",
       "      <td>1.0</td>\n",
       "      <td>0.666667</td>\n",
       "    </tr>\n",
       "    <tr>\n",
       "      <th>476</th>\n",
       "      <td>3.32110</td>\n",
       "      <td>167.211</td>\n",
       "      <td>0.0</td>\n",
       "      <td>1.000000</td>\n",
       "    </tr>\n",
       "    <tr>\n",
       "      <th>477</th>\n",
       "      <td>1.75970</td>\n",
       "      <td>236.271</td>\n",
       "      <td>4.0</td>\n",
       "      <td>0.352941</td>\n",
       "    </tr>\n",
       "    <tr>\n",
       "      <th>478</th>\n",
       "      <td>2.11830</td>\n",
       "      <td>221.256</td>\n",
       "      <td>1.0</td>\n",
       "      <td>0.375000</td>\n",
       "    </tr>\n",
       "    <tr>\n",
       "      <th>479</th>\n",
       "      <td>5.42030</td>\n",
       "      <td>342.875</td>\n",
       "      <td>8.0</td>\n",
       "      <td>0.333333</td>\n",
       "    </tr>\n",
       "    <tr>\n",
       "      <th>480</th>\n",
       "      <td>2.62000</td>\n",
       "      <td>235.308</td>\n",
       "      <td>2.0</td>\n",
       "      <td>0.375000</td>\n",
       "    </tr>\n",
       "    <tr>\n",
       "      <th>481</th>\n",
       "      <td>1.13500</td>\n",
       "      <td>237.097</td>\n",
       "      <td>3.0</td>\n",
       "      <td>0.000000</td>\n",
       "    </tr>\n",
       "    <tr>\n",
       "      <th>482</th>\n",
       "      <td>2.82402</td>\n",
       "      <td>150.221</td>\n",
       "      <td>1.0</td>\n",
       "      <td>0.545455</td>\n",
       "    </tr>\n",
       "    <tr>\n",
       "      <th>483</th>\n",
       "      <td>2.48790</td>\n",
       "      <td>150.221</td>\n",
       "      <td>1.0</td>\n",
       "      <td>0.000000</td>\n",
       "    </tr>\n",
       "    <tr>\n",
       "      <th>484</th>\n",
       "      <td>-0.46290</td>\n",
       "      <td>309.529</td>\n",
       "      <td>2.0</td>\n",
       "      <td>0.000000</td>\n",
       "    </tr>\n",
       "    <tr>\n",
       "      <th>485</th>\n",
       "      <td>0.90900</td>\n",
       "      <td>323.132</td>\n",
       "      <td>6.0</td>\n",
       "      <td>0.300000</td>\n",
       "    </tr>\n",
       "    <tr>\n",
       "      <th>486</th>\n",
       "      <td>2.21740</td>\n",
       "      <td>257.769</td>\n",
       "      <td>6.0</td>\n",
       "      <td>0.352941</td>\n",
       "    </tr>\n",
       "    <tr>\n",
       "      <th>487</th>\n",
       "      <td>3.12760</td>\n",
       "      <td>293.548</td>\n",
       "      <td>2.0</td>\n",
       "      <td>0.400000</td>\n",
       "    </tr>\n",
       "    <tr>\n",
       "      <th>488</th>\n",
       "      <td>2.91020</td>\n",
       "      <td>223.659</td>\n",
       "      <td>2.0</td>\n",
       "      <td>0.400000</td>\n",
       "    </tr>\n",
       "    <tr>\n",
       "      <th>489</th>\n",
       "      <td>5.68280</td>\n",
       "      <td>409.782</td>\n",
       "      <td>0.0</td>\n",
       "      <td>0.000000</td>\n",
       "    </tr>\n",
       "    <tr>\n",
       "      <th>490</th>\n",
       "      <td>5.02420</td>\n",
       "      <td>338.876</td>\n",
       "      <td>0.0</td>\n",
       "      <td>0.000000</td>\n",
       "    </tr>\n",
       "    <tr>\n",
       "      <th>491</th>\n",
       "      <td>2.86982</td>\n",
       "      <td>196.681</td>\n",
       "      <td>2.0</td>\n",
       "      <td>0.461538</td>\n",
       "    </tr>\n",
       "    <tr>\n",
       "      <th>492</th>\n",
       "      <td>1.17160</td>\n",
       "      <td>414.827</td>\n",
       "      <td>8.0</td>\n",
       "      <td>0.444444</td>\n",
       "    </tr>\n",
       "    <tr>\n",
       "      <th>493</th>\n",
       "      <td>-0.28950</td>\n",
       "      <td>93.513</td>\n",
       "      <td>1.0</td>\n",
       "      <td>0.000000</td>\n",
       "    </tr>\n",
       "    <tr>\n",
       "      <th>494</th>\n",
       "      <td>0.74878</td>\n",
       "      <td>75.498</td>\n",
       "      <td>0.0</td>\n",
       "      <td>0.000000</td>\n",
       "    </tr>\n",
       "    <tr>\n",
       "      <th>495</th>\n",
       "      <td>2.34000</td>\n",
       "      <td>112.559</td>\n",
       "      <td>0.0</td>\n",
       "      <td>0.857143</td>\n",
       "    </tr>\n",
       "    <tr>\n",
       "      <th>496</th>\n",
       "      <td>2.29860</td>\n",
       "      <td>208.280</td>\n",
       "      <td>0.0</td>\n",
       "      <td>0.000000</td>\n",
       "    </tr>\n",
       "    <tr>\n",
       "      <th>497</th>\n",
       "      <td>1.24510</td>\n",
       "      <td>64.515</td>\n",
       "      <td>0.0</td>\n",
       "      <td>0.000000</td>\n",
       "    </tr>\n",
       "    <tr>\n",
       "      <th>498</th>\n",
       "      <td>1.36870</td>\n",
       "      <td>62.499</td>\n",
       "      <td>0.0</td>\n",
       "      <td>0.000000</td>\n",
       "    </tr>\n",
       "    <tr>\n",
       "      <th>499</th>\n",
       "      <td>3.29690</td>\n",
       "      <td>213.664</td>\n",
       "      <td>2.0</td>\n",
       "      <td>0.428571</td>\n",
       "    </tr>\n",
       "    <tr>\n",
       "      <th>500</th>\n",
       "      <td>1.59080</td>\n",
       "      <td>164.375</td>\n",
       "      <td>0.0</td>\n",
       "      <td>0.000000</td>\n",
       "    </tr>\n",
       "    <tr>\n",
       "      <th>501</th>\n",
       "      <td>4.18090</td>\n",
       "      <td>339.218</td>\n",
       "      <td>4.0</td>\n",
       "      <td>0.545455</td>\n",
       "    </tr>\n",
       "    <tr>\n",
       "      <th>502</th>\n",
       "      <td>4.04356</td>\n",
       "      <td>265.914</td>\n",
       "      <td>0.0</td>\n",
       "      <td>0.428571</td>\n",
       "    </tr>\n",
       "    <tr>\n",
       "      <th>503</th>\n",
       "      <td>-0.06090</td>\n",
       "      <td>295.729</td>\n",
       "      <td>1.0</td>\n",
       "      <td>0.352941</td>\n",
       "    </tr>\n",
       "    <tr>\n",
       "      <th>504</th>\n",
       "      <td>2.74192</td>\n",
       "      <td>212.680</td>\n",
       "      <td>1.0</td>\n",
       "      <td>0.428571</td>\n",
       "    </tr>\n",
       "    <tr>\n",
       "      <th>505</th>\n",
       "      <td>4.22580</td>\n",
       "      <td>290.750</td>\n",
       "      <td>3.0</td>\n",
       "      <td>0.600000</td>\n",
       "    </tr>\n",
       "    <tr>\n",
       "      <th>506</th>\n",
       "      <td>4.71810</td>\n",
       "      <td>350.591</td>\n",
       "      <td>6.0</td>\n",
       "      <td>0.333333</td>\n",
       "    </tr>\n",
       "    <tr>\n",
       "      <th>507</th>\n",
       "      <td>4.24340</td>\n",
       "      <td>267.930</td>\n",
       "      <td>0.0</td>\n",
       "      <td>0.714286</td>\n",
       "    </tr>\n",
       "    <tr>\n",
       "      <th>508</th>\n",
       "      <td>0.92420</td>\n",
       "      <td>338.772</td>\n",
       "      <td>2.0</td>\n",
       "      <td>0.545455</td>\n",
       "    </tr>\n",
       "    <tr>\n",
       "      <th>509</th>\n",
       "      <td>2.74192</td>\n",
       "      <td>212.680</td>\n",
       "      <td>1.0</td>\n",
       "      <td>0.428571</td>\n",
       "    </tr>\n",
       "    <tr>\n",
       "      <th>510</th>\n",
       "      <td>1.77450</td>\n",
       "      <td>169.567</td>\n",
       "      <td>0.0</td>\n",
       "      <td>0.818182</td>\n",
       "    </tr>\n",
       "    <tr>\n",
       "      <th>511</th>\n",
       "      <td>5.24480</td>\n",
       "      <td>254.332</td>\n",
       "      <td>0.0</td>\n",
       "      <td>0.900000</td>\n",
       "    </tr>\n",
       "    <tr>\n",
       "      <th>512</th>\n",
       "      <td>5.14620</td>\n",
       "      <td>228.294</td>\n",
       "      <td>0.0</td>\n",
       "      <td>1.000000</td>\n",
       "    </tr>\n",
       "    <tr>\n",
       "      <th>513</th>\n",
       "      <td>1.93520</td>\n",
       "      <td>96.944</td>\n",
       "      <td>0.0</td>\n",
       "      <td>0.000000</td>\n",
       "    </tr>\n",
       "    <tr>\n",
       "      <th>514</th>\n",
       "      <td>2.83260</td>\n",
       "      <td>112.216</td>\n",
       "      <td>0.0</td>\n",
       "      <td>0.000000</td>\n",
       "    </tr>\n",
       "    <tr>\n",
       "      <th>515</th>\n",
       "      <td>1.97250</td>\n",
       "      <td>70.135</td>\n",
       "      <td>1.0</td>\n",
       "      <td>0.000000</td>\n",
       "    </tr>\n",
       "    <tr>\n",
       "      <th>516</th>\n",
       "      <td>2.87800</td>\n",
       "      <td>152.237</td>\n",
       "      <td>4.0</td>\n",
       "      <td>0.000000</td>\n",
       "    </tr>\n",
       "    <tr>\n",
       "      <th>517</th>\n",
       "      <td>2.64000</td>\n",
       "      <td>239.702</td>\n",
       "      <td>2.0</td>\n",
       "      <td>0.375000</td>\n",
       "    </tr>\n",
       "    <tr>\n",
       "      <th>518</th>\n",
       "      <td>3.03770</td>\n",
       "      <td>315.716</td>\n",
       "      <td>2.0</td>\n",
       "      <td>0.545455</td>\n",
       "    </tr>\n",
       "    <tr>\n",
       "      <th>519</th>\n",
       "      <td>6.91920</td>\n",
       "      <td>300.360</td>\n",
       "      <td>0.0</td>\n",
       "      <td>1.000000</td>\n",
       "    </tr>\n",
       "    <tr>\n",
       "      <th>520</th>\n",
       "      <td>2.66670</td>\n",
       "      <td>346.467</td>\n",
       "      <td>2.0</td>\n",
       "      <td>0.000000</td>\n",
       "    </tr>\n",
       "    <tr>\n",
       "      <th>521</th>\n",
       "      <td>1.98980</td>\n",
       "      <td>360.450</td>\n",
       "      <td>2.0</td>\n",
       "      <td>0.000000</td>\n",
       "    </tr>\n",
       "    <tr>\n",
       "      <th>522</th>\n",
       "      <td>2.56060</td>\n",
       "      <td>402.487</td>\n",
       "      <td>3.0</td>\n",
       "      <td>0.000000</td>\n",
       "    </tr>\n",
       "    <tr>\n",
       "      <th>523</th>\n",
       "      <td>4.26300</td>\n",
       "      <td>342.778</td>\n",
       "      <td>4.0</td>\n",
       "      <td>0.666667</td>\n",
       "    </tr>\n",
       "    <tr>\n",
       "      <th>524</th>\n",
       "      <td>4.43112</td>\n",
       "      <td>362.771</td>\n",
       "      <td>6.0</td>\n",
       "      <td>0.454545</td>\n",
       "    </tr>\n",
       "    <tr>\n",
       "      <th>525</th>\n",
       "      <td>3.96680</td>\n",
       "      <td>292.334</td>\n",
       "      <td>1.0</td>\n",
       "      <td>0.727273</td>\n",
       "    </tr>\n",
       "    <tr>\n",
       "      <th>526</th>\n",
       "      <td>1.67088</td>\n",
       "      <td>240.698</td>\n",
       "      <td>4.0</td>\n",
       "      <td>0.375000</td>\n",
       "    </tr>\n",
       "    <tr>\n",
       "      <th>527</th>\n",
       "      <td>3.51410</td>\n",
       "      <td>215.362</td>\n",
       "      <td>3.0</td>\n",
       "      <td>0.000000</td>\n",
       "    </tr>\n",
       "    <tr>\n",
       "      <th>528</th>\n",
       "      <td>1.24920</td>\n",
       "      <td>236.271</td>\n",
       "      <td>2.0</td>\n",
       "      <td>0.000000</td>\n",
       "    </tr>\n",
       "    <tr>\n",
       "      <th>529</th>\n",
       "      <td>-0.47730</td>\n",
       "      <td>168.152</td>\n",
       "      <td>0.0</td>\n",
       "      <td>0.000000</td>\n",
       "    </tr>\n",
       "    <tr>\n",
       "      <th>530</th>\n",
       "      <td>2.73070</td>\n",
       "      <td>98.189</td>\n",
       "      <td>0.0</td>\n",
       "      <td>0.000000</td>\n",
       "    </tr>\n",
       "    <tr>\n",
       "      <th>531</th>\n",
       "      <td>1.70150</td>\n",
       "      <td>114.188</td>\n",
       "      <td>0.0</td>\n",
       "      <td>0.000000</td>\n",
       "    </tr>\n",
       "    <tr>\n",
       "      <th>532</th>\n",
       "      <td>2.50670</td>\n",
       "      <td>96.173</td>\n",
       "      <td>0.0</td>\n",
       "      <td>0.000000</td>\n",
       "    </tr>\n",
       "    <tr>\n",
       "      <th>533</th>\n",
       "      <td>0.69300</td>\n",
       "      <td>210.233</td>\n",
       "      <td>0.0</td>\n",
       "      <td>0.000000</td>\n",
       "    </tr>\n",
       "    <tr>\n",
       "      <th>534</th>\n",
       "      <td>2.34060</td>\n",
       "      <td>84.162</td>\n",
       "      <td>0.0</td>\n",
       "      <td>0.000000</td>\n",
       "    </tr>\n",
       "    <tr>\n",
       "      <th>535</th>\n",
       "      <td>1.31140</td>\n",
       "      <td>100.161</td>\n",
       "      <td>0.0</td>\n",
       "      <td>0.000000</td>\n",
       "    </tr>\n",
       "    <tr>\n",
       "      <th>536</th>\n",
       "      <td>1.51960</td>\n",
       "      <td>98.145</td>\n",
       "      <td>0.0</td>\n",
       "      <td>0.000000</td>\n",
       "    </tr>\n",
       "    <tr>\n",
       "      <th>537</th>\n",
       "      <td>2.11660</td>\n",
       "      <td>82.146</td>\n",
       "      <td>0.0</td>\n",
       "      <td>0.000000</td>\n",
       "    </tr>\n",
       "    <tr>\n",
       "      <th>538</th>\n",
       "      <td>1.04150</td>\n",
       "      <td>281.352</td>\n",
       "      <td>3.0</td>\n",
       "      <td>0.000000</td>\n",
       "    </tr>\n",
       "    <tr>\n",
       "      <th>539</th>\n",
       "      <td>0.30290</td>\n",
       "      <td>196.206</td>\n",
       "      <td>0.0</td>\n",
       "      <td>0.000000</td>\n",
       "    </tr>\n",
       "    <tr>\n",
       "      <th>540</th>\n",
       "      <td>3.12080</td>\n",
       "      <td>112.216</td>\n",
       "      <td>0.0</td>\n",
       "      <td>0.000000</td>\n",
       "    </tr>\n",
       "    <tr>\n",
       "      <th>541</th>\n",
       "      <td>2.09160</td>\n",
       "      <td>128.215</td>\n",
       "      <td>0.0</td>\n",
       "      <td>0.000000</td>\n",
       "    </tr>\n",
       "    <tr>\n",
       "      <th>542</th>\n",
       "      <td>1.08310</td>\n",
       "      <td>224.260</td>\n",
       "      <td>0.0</td>\n",
       "      <td>0.000000</td>\n",
       "    </tr>\n",
       "    <tr>\n",
       "      <th>543</th>\n",
       "      <td>1.95050</td>\n",
       "      <td>70.135</td>\n",
       "      <td>0.0</td>\n",
       "      <td>0.000000</td>\n",
       "    </tr>\n",
       "    <tr>\n",
       "      <th>544</th>\n",
       "      <td>1.72650</td>\n",
       "      <td>68.119</td>\n",
       "      <td>0.0</td>\n",
       "      <td>0.000000</td>\n",
       "    </tr>\n",
       "    <tr>\n",
       "      <th>545</th>\n",
       "      <td>-0.08720</td>\n",
       "      <td>182.179</td>\n",
       "      <td>0.0</td>\n",
       "      <td>0.000000</td>\n",
       "    </tr>\n",
       "    <tr>\n",
       "      <th>546</th>\n",
       "      <td>-0.86740</td>\n",
       "      <td>154.125</td>\n",
       "      <td>0.0</td>\n",
       "      <td>0.000000</td>\n",
       "    </tr>\n",
       "    <tr>\n",
       "      <th>547</th>\n",
       "      <td>2.37050</td>\n",
       "      <td>198.310</td>\n",
       "      <td>1.0</td>\n",
       "      <td>0.000000</td>\n",
       "    </tr>\n",
       "    <tr>\n",
       "      <th>548</th>\n",
       "      <td>6.31708</td>\n",
       "      <td>434.294</td>\n",
       "      <td>6.0</td>\n",
       "      <td>0.413793</td>\n",
       "    </tr>\n",
       "    <tr>\n",
       "      <th>549</th>\n",
       "      <td>6.54398</td>\n",
       "      <td>449.856</td>\n",
       "      <td>6.0</td>\n",
       "      <td>0.387097</td>\n",
       "    </tr>\n",
       "    <tr>\n",
       "      <th>550</th>\n",
       "      <td>6.17798</td>\n",
       "      <td>416.304</td>\n",
       "      <td>6.0</td>\n",
       "      <td>0.428571</td>\n",
       "    </tr>\n",
       "    <tr>\n",
       "      <th>551</th>\n",
       "      <td>-0.64790</td>\n",
       "      <td>111.104</td>\n",
       "      <td>0.0</td>\n",
       "      <td>0.750000</td>\n",
       "    </tr>\n",
       "    <tr>\n",
       "      <th>552</th>\n",
       "      <td>4.22100</td>\n",
       "      <td>337.463</td>\n",
       "      <td>0.0</td>\n",
       "      <td>0.200000</td>\n",
       "    </tr>\n",
       "    <tr>\n",
       "      <th>553</th>\n",
       "      <td>1.68380</td>\n",
       "      <td>248.307</td>\n",
       "      <td>2.0</td>\n",
       "      <td>0.705882</td>\n",
       "    </tr>\n",
       "    <tr>\n",
       "      <th>554</th>\n",
       "      <td>5.92900</td>\n",
       "      <td>320.046</td>\n",
       "      <td>3.0</td>\n",
       "      <td>0.666667</td>\n",
       "    </tr>\n",
       "    <tr>\n",
       "      <th>555</th>\n",
       "      <td>6.18790</td>\n",
       "      <td>318.030</td>\n",
       "      <td>2.0</td>\n",
       "      <td>0.666667</td>\n",
       "    </tr>\n",
       "    <tr>\n",
       "      <th>556</th>\n",
       "      <td>6.49550</td>\n",
       "      <td>354.491</td>\n",
       "      <td>2.0</td>\n",
       "      <td>0.631579</td>\n",
       "    </tr>\n",
       "    <tr>\n",
       "      <th>557</th>\n",
       "      <td>3.36680</td>\n",
       "      <td>138.254</td>\n",
       "      <td>0.0</td>\n",
       "      <td>0.000000</td>\n",
       "    </tr>\n",
       "    <tr>\n",
       "      <th>558</th>\n",
       "      <td>6.69440</td>\n",
       "      <td>314.522</td>\n",
       "      <td>12.0</td>\n",
       "      <td>0.000000</td>\n",
       "    </tr>\n",
       "    <tr>\n",
       "      <th>559</th>\n",
       "      <td>6.49018</td>\n",
       "      <td>505.206</td>\n",
       "      <td>6.0</td>\n",
       "      <td>0.428571</td>\n",
       "    </tr>\n",
       "    <tr>\n",
       "      <th>560</th>\n",
       "      <td>3.69590</td>\n",
       "      <td>330.468</td>\n",
       "      <td>2.0</td>\n",
       "      <td>0.000000</td>\n",
       "    </tr>\n",
       "    <tr>\n",
       "      <th>561</th>\n",
       "      <td>4.26670</td>\n",
       "      <td>372.505</td>\n",
       "      <td>3.0</td>\n",
       "      <td>0.000000</td>\n",
       "    </tr>\n",
       "    <tr>\n",
       "      <th>562</th>\n",
       "      <td>3.86590</td>\n",
       "      <td>300.314</td>\n",
       "      <td>4.0</td>\n",
       "      <td>0.545455</td>\n",
       "    </tr>\n",
       "    <tr>\n",
       "      <th>563</th>\n",
       "      <td>1.89570</td>\n",
       "      <td>392.467</td>\n",
       "      <td>2.0</td>\n",
       "      <td>0.000000</td>\n",
       "    </tr>\n",
       "    <tr>\n",
       "      <th>564</th>\n",
       "      <td>2.46650</td>\n",
       "      <td>434.504</td>\n",
       "      <td>3.0</td>\n",
       "      <td>0.000000</td>\n",
       "    </tr>\n",
       "    <tr>\n",
       "      <th>565</th>\n",
       "      <td>2.40170</td>\n",
       "      <td>152.237</td>\n",
       "      <td>0.0</td>\n",
       "      <td>0.000000</td>\n",
       "    </tr>\n",
       "    <tr>\n",
       "      <th>566</th>\n",
       "      <td>6.43300</td>\n",
       "      <td>390.564</td>\n",
       "      <td>14.0</td>\n",
       "      <td>0.214286</td>\n",
       "    </tr>\n",
       "    <tr>\n",
       "      <th>567</th>\n",
       "      <td>3.87820</td>\n",
       "      <td>393.854</td>\n",
       "      <td>8.0</td>\n",
       "      <td>0.260870</td>\n",
       "    </tr>\n",
       "    <tr>\n",
       "      <th>568</th>\n",
       "      <td>3.87820</td>\n",
       "      <td>393.854</td>\n",
       "      <td>8.0</td>\n",
       "      <td>0.260870</td>\n",
       "    </tr>\n",
       "    <tr>\n",
       "      <th>569</th>\n",
       "      <td>4.27740</td>\n",
       "      <td>270.225</td>\n",
       "      <td>4.0</td>\n",
       "      <td>0.000000</td>\n",
       "    </tr>\n",
       "    <tr>\n",
       "      <th>570</th>\n",
       "      <td>3.15380</td>\n",
       "      <td>284.746</td>\n",
       "      <td>1.0</td>\n",
       "      <td>0.600000</td>\n",
       "    </tr>\n",
       "    <tr>\n",
       "      <th>571</th>\n",
       "      <td>3.58472</td>\n",
       "      <td>304.352</td>\n",
       "      <td>7.0</td>\n",
       "      <td>0.315789</td>\n",
       "    </tr>\n",
       "    <tr>\n",
       "      <th>572</th>\n",
       "      <td>3.58600</td>\n",
       "      <td>168.195</td>\n",
       "      <td>0.0</td>\n",
       "      <td>1.000000</td>\n",
       "    </tr>\n",
       "    <tr>\n",
       "      <th>573</th>\n",
       "      <td>4.05450</td>\n",
       "      <td>184.263</td>\n",
       "      <td>0.0</td>\n",
       "      <td>1.000000</td>\n",
       "    </tr>\n",
       "    <tr>\n",
       "      <th>574</th>\n",
       "      <td>1.73370</td>\n",
       "      <td>173.835</td>\n",
       "      <td>0.0</td>\n",
       "      <td>0.000000</td>\n",
       "    </tr>\n",
       "    <tr>\n",
       "      <th>575</th>\n",
       "      <td>2.60320</td>\n",
       "      <td>130.231</td>\n",
       "      <td>6.0</td>\n",
       "      <td>0.000000</td>\n",
       "    </tr>\n",
       "    <tr>\n",
       "      <th>576</th>\n",
       "      <td>4.79380</td>\n",
       "      <td>314.466</td>\n",
       "      <td>15.0</td>\n",
       "      <td>0.000000</td>\n",
       "    </tr>\n",
       "    <tr>\n",
       "      <th>577</th>\n",
       "      <td>3.60040</td>\n",
       "      <td>278.348</td>\n",
       "      <td>8.0</td>\n",
       "      <td>0.300000</td>\n",
       "    </tr>\n",
       "    <tr>\n",
       "      <th>578</th>\n",
       "      <td>3.14430</td>\n",
       "      <td>297.656</td>\n",
       "      <td>5.0</td>\n",
       "      <td>0.352941</td>\n",
       "    </tr>\n",
       "    <tr>\n",
       "      <th>579</th>\n",
       "      <td>1.42150</td>\n",
       "      <td>84.933</td>\n",
       "      <td>0.0</td>\n",
       "      <td>0.000000</td>\n",
       "    </tr>\n",
       "    <tr>\n",
       "      <th>580</th>\n",
       "      <td>3.99540</td>\n",
       "      <td>269.127</td>\n",
       "      <td>2.0</td>\n",
       "      <td>0.705882</td>\n",
       "    </tr>\n",
       "    <tr>\n",
       "      <th>581</th>\n",
       "      <td>5.59950</td>\n",
       "      <td>370.490</td>\n",
       "      <td>2.0</td>\n",
       "      <td>0.600000</td>\n",
       "    </tr>\n",
       "    <tr>\n",
       "      <th>582</th>\n",
       "      <td>4.48140</td>\n",
       "      <td>380.913</td>\n",
       "      <td>0.0</td>\n",
       "      <td>0.000000</td>\n",
       "    </tr>\n",
       "    <tr>\n",
       "      <th>583</th>\n",
       "      <td>4.60460</td>\n",
       "      <td>266.340</td>\n",
       "      <td>3.0</td>\n",
       "      <td>0.600000</td>\n",
       "    </tr>\n",
       "    <tr>\n",
       "      <th>584</th>\n",
       "      <td>7.72560</td>\n",
       "      <td>474.640</td>\n",
       "      <td>1.0</td>\n",
       "      <td>0.000000</td>\n",
       "    </tr>\n",
       "    <tr>\n",
       "      <th>585</th>\n",
       "      <td>1.04280</td>\n",
       "      <td>74.123</td>\n",
       "      <td>2.0</td>\n",
       "      <td>0.000000</td>\n",
       "    </tr>\n",
       "    <tr>\n",
       "      <th>586</th>\n",
       "      <td>2.04000</td>\n",
       "      <td>222.240</td>\n",
       "      <td>4.0</td>\n",
       "      <td>0.375000</td>\n",
       "    </tr>\n",
       "    <tr>\n",
       "      <th>587</th>\n",
       "      <td>1.75940</td>\n",
       "      <td>90.191</td>\n",
       "      <td>2.0</td>\n",
       "      <td>0.000000</td>\n",
       "    </tr>\n",
       "    <tr>\n",
       "      <th>588</th>\n",
       "      <td>2.40760</td>\n",
       "      <td>122.258</td>\n",
       "      <td>3.0</td>\n",
       "      <td>0.000000</td>\n",
       "    </tr>\n",
       "    <tr>\n",
       "      <th>589</th>\n",
       "      <td>4.82860</td>\n",
       "      <td>268.356</td>\n",
       "      <td>4.0</td>\n",
       "      <td>0.600000</td>\n",
       "    </tr>\n",
       "    <tr>\n",
       "      <th>590</th>\n",
       "      <td>3.58100</td>\n",
       "      <td>286.331</td>\n",
       "      <td>4.0</td>\n",
       "      <td>0.571429</td>\n",
       "    </tr>\n",
       "    <tr>\n",
       "      <th>591</th>\n",
       "      <td>3.58010</td>\n",
       "      <td>310.687</td>\n",
       "      <td>2.0</td>\n",
       "      <td>0.571429</td>\n",
       "    </tr>\n",
       "    <tr>\n",
       "      <th>592</th>\n",
       "      <td>3.24730</td>\n",
       "      <td>764.950</td>\n",
       "      <td>7.0</td>\n",
       "      <td>0.000000</td>\n",
       "    </tr>\n",
       "    <tr>\n",
       "      <th>593</th>\n",
       "      <td>2.21810</td>\n",
       "      <td>780.949</td>\n",
       "      <td>7.0</td>\n",
       "      <td>0.000000</td>\n",
       "    </tr>\n",
       "    <tr>\n",
       "      <th>594</th>\n",
       "      <td>5.16080</td>\n",
       "      <td>334.456</td>\n",
       "      <td>12.0</td>\n",
       "      <td>0.250000</td>\n",
       "    </tr>\n",
       "    <tr>\n",
       "      <th>595</th>\n",
       "      <td>1.81390</td>\n",
       "      <td>267.835</td>\n",
       "      <td>0.0</td>\n",
       "      <td>0.000000</td>\n",
       "    </tr>\n",
       "    <tr>\n",
       "      <th>596</th>\n",
       "      <td>6.43300</td>\n",
       "      <td>390.564</td>\n",
       "      <td>14.0</td>\n",
       "      <td>0.214286</td>\n",
       "    </tr>\n",
       "    <tr>\n",
       "      <th>597</th>\n",
       "      <td>1.81980</td>\n",
       "      <td>102.177</td>\n",
       "      <td>2.0</td>\n",
       "      <td>0.000000</td>\n",
       "    </tr>\n",
       "    <tr>\n",
       "      <th>598</th>\n",
       "      <td>2.53640</td>\n",
       "      <td>118.245</td>\n",
       "      <td>2.0</td>\n",
       "      <td>0.000000</td>\n",
       "    </tr>\n",
       "    <tr>\n",
       "      <th>599</th>\n",
       "      <td>2.39500</td>\n",
       "      <td>299.691</td>\n",
       "      <td>8.0</td>\n",
       "      <td>0.000000</td>\n",
       "    </tr>\n",
       "    <tr>\n",
       "      <th>600</th>\n",
       "      <td>2.86990</td>\n",
       "      <td>338.795</td>\n",
       "      <td>2.0</td>\n",
       "      <td>0.478261</td>\n",
       "    </tr>\n",
       "    <tr>\n",
       "      <th>601</th>\n",
       "      <td>1.95760</td>\n",
       "      <td>211.261</td>\n",
       "      <td>1.0</td>\n",
       "      <td>0.000000</td>\n",
       "    </tr>\n",
       "    <tr>\n",
       "      <th>602</th>\n",
       "      <td>1.89922</td>\n",
       "      <td>209.293</td>\n",
       "      <td>4.0</td>\n",
       "      <td>0.400000</td>\n",
       "    </tr>\n",
       "    <tr>\n",
       "      <th>603</th>\n",
       "      <td>0.23670</td>\n",
       "      <td>76.095</td>\n",
       "      <td>2.0</td>\n",
       "      <td>0.000000</td>\n",
       "    </tr>\n",
       "    <tr>\n",
       "      <th>604</th>\n",
       "      <td>1.25980</td>\n",
       "      <td>194.186</td>\n",
       "      <td>2.0</td>\n",
       "      <td>0.428571</td>\n",
       "    </tr>\n",
       "    <tr>\n",
       "      <th>605</th>\n",
       "      <td>0.97920</td>\n",
       "      <td>62.137</td>\n",
       "      <td>0.0</td>\n",
       "      <td>0.000000</td>\n",
       "    </tr>\n",
       "    <tr>\n",
       "      <th>606</th>\n",
       "      <td>1.62740</td>\n",
       "      <td>94.204</td>\n",
       "      <td>1.0</td>\n",
       "      <td>0.000000</td>\n",
       "    </tr>\n",
       "    <tr>\n",
       "      <th>607</th>\n",
       "      <td>2.95020</td>\n",
       "      <td>322.243</td>\n",
       "      <td>5.0</td>\n",
       "      <td>0.272727</td>\n",
       "    </tr>\n",
       "    <tr>\n",
       "      <th>608</th>\n",
       "      <td>2.72210</td>\n",
       "      <td>240.215</td>\n",
       "      <td>4.0</td>\n",
       "      <td>0.352941</td>\n",
       "    </tr>\n",
       "    <tr>\n",
       "      <th>609</th>\n",
       "      <td>-3.83460</td>\n",
       "      <td>180.156</td>\n",
       "      <td>0.0</td>\n",
       "      <td>0.000000</td>\n",
       "    </tr>\n",
       "    <tr>\n",
       "      <th>610</th>\n",
       "      <td>2.53960</td>\n",
       "      <td>118.245</td>\n",
       "      <td>4.0</td>\n",
       "      <td>0.000000</td>\n",
       "    </tr>\n",
       "    <tr>\n",
       "      <th>611</th>\n",
       "      <td>6.72120</td>\n",
       "      <td>390.564</td>\n",
       "      <td>16.0</td>\n",
       "      <td>0.214286</td>\n",
       "    </tr>\n",
       "    <tr>\n",
       "      <th>612</th>\n",
       "      <td>5.50880</td>\n",
       "      <td>414.630</td>\n",
       "      <td>0.0</td>\n",
       "      <td>0.000000</td>\n",
       "    </tr>\n",
       "    <tr>\n",
       "      <th>613</th>\n",
       "      <td>1.45020</td>\n",
       "      <td>223.228</td>\n",
       "      <td>2.0</td>\n",
       "      <td>0.375000</td>\n",
       "    </tr>\n",
       "    <tr>\n",
       "      <th>614</th>\n",
       "      <td>2.90670</td>\n",
       "      <td>239.318</td>\n",
       "      <td>3.0</td>\n",
       "      <td>0.666667</td>\n",
       "    </tr>\n",
       "    <tr>\n",
       "      <th>615</th>\n",
       "      <td>3.47890</td>\n",
       "      <td>170.211</td>\n",
       "      <td>2.0</td>\n",
       "      <td>0.923077</td>\n",
       "    </tr>\n",
       "    <tr>\n",
       "      <th>616</th>\n",
       "      <td>3.43020</td>\n",
       "      <td>169.227</td>\n",
       "      <td>2.0</td>\n",
       "      <td>0.923077</td>\n",
       "    </tr>\n",
       "    <tr>\n",
       "      <th>617</th>\n",
       "      <td>3.27740</td>\n",
       "      <td>168.239</td>\n",
       "      <td>2.0</td>\n",
       "      <td>0.923077</td>\n",
       "    </tr>\n",
       "    <tr>\n",
       "      <th>618</th>\n",
       "      <td>1.82300</td>\n",
       "      <td>102.177</td>\n",
       "      <td>4.0</td>\n",
       "      <td>0.000000</td>\n",
       "    </tr>\n",
       "    <tr>\n",
       "      <th>619</th>\n",
       "      <td>3.62120</td>\n",
       "      <td>296.552</td>\n",
       "      <td>4.0</td>\n",
       "      <td>0.000000</td>\n",
       "    </tr>\n",
       "    <tr>\n",
       "      <th>620</th>\n",
       "      <td>3.77020</td>\n",
       "      <td>274.413</td>\n",
       "      <td>9.0</td>\n",
       "      <td>0.000000</td>\n",
       "    </tr>\n",
       "    <tr>\n",
       "      <th>621</th>\n",
       "      <td>2.58010</td>\n",
       "      <td>299.288</td>\n",
       "      <td>5.0</td>\n",
       "      <td>0.315789</td>\n",
       "    </tr>\n",
       "    <tr>\n",
       "      <th>622</th>\n",
       "      <td>3.08690</td>\n",
       "      <td>233.098</td>\n",
       "      <td>1.0</td>\n",
       "      <td>0.428571</td>\n",
       "    </tr>\n",
       "    <tr>\n",
       "      <th>623</th>\n",
       "      <td>3.30890</td>\n",
       "      <td>136.238</td>\n",
       "      <td>1.0</td>\n",
       "      <td>0.000000</td>\n",
       "    </tr>\n",
       "    <tr>\n",
       "      <th>624</th>\n",
       "      <td>1.51702</td>\n",
       "      <td>198.134</td>\n",
       "      <td>2.0</td>\n",
       "      <td>0.428571</td>\n",
       "    </tr>\n",
       "    <tr>\n",
       "      <th>625</th>\n",
       "      <td>1.57590</td>\n",
       "      <td>180.207</td>\n",
       "      <td>3.0</td>\n",
       "      <td>0.461538</td>\n",
       "    </tr>\n",
       "    <tr>\n",
       "      <th>626</th>\n",
       "      <td>-2.21310</td>\n",
       "      <td>254.246</td>\n",
       "      <td>3.0</td>\n",
       "      <td>0.500000</td>\n",
       "    </tr>\n",
       "    <tr>\n",
       "      <th>627</th>\n",
       "      <td>8.04800</td>\n",
       "      <td>282.556</td>\n",
       "      <td>17.0</td>\n",
       "      <td>0.000000</td>\n",
       "    </tr>\n",
       "    <tr>\n",
       "      <th>628</th>\n",
       "      <td>4.48140</td>\n",
       "      <td>380.913</td>\n",
       "      <td>0.0</td>\n",
       "      <td>0.000000</td>\n",
       "    </tr>\n",
       "    <tr>\n",
       "      <th>629</th>\n",
       "      <td>3.95910</td>\n",
       "      <td>290.447</td>\n",
       "      <td>0.0</td>\n",
       "      <td>0.000000</td>\n",
       "    </tr>\n",
       "    <tr>\n",
       "      <th>630</th>\n",
       "      <td>4.48390</td>\n",
       "      <td>306.515</td>\n",
       "      <td>0.0</td>\n",
       "      <td>0.000000</td>\n",
       "    </tr>\n",
       "    <tr>\n",
       "      <th>631</th>\n",
       "      <td>3.94440</td>\n",
       "      <td>266.340</td>\n",
       "      <td>0.0</td>\n",
       "      <td>0.500000</td>\n",
       "    </tr>\n",
       "    <tr>\n",
       "      <th>632</th>\n",
       "      <td>3.73750</td>\n",
       "      <td>268.356</td>\n",
       "      <td>0.0</td>\n",
       "      <td>0.300000</td>\n",
       "    </tr>\n",
       "    <tr>\n",
       "      <th>633</th>\n",
       "      <td>2.21550</td>\n",
       "      <td>288.255</td>\n",
       "      <td>1.0</td>\n",
       "      <td>0.571429</td>\n",
       "    </tr>\n",
       "    <tr>\n",
       "      <th>634</th>\n",
       "      <td>-2.30720</td>\n",
       "      <td>122.120</td>\n",
       "      <td>3.0</td>\n",
       "      <td>0.000000</td>\n",
       "    </tr>\n",
       "    <tr>\n",
       "      <th>635</th>\n",
       "      <td>3.60920</td>\n",
       "      <td>272.388</td>\n",
       "      <td>0.0</td>\n",
       "      <td>0.300000</td>\n",
       "    </tr>\n",
       "    <tr>\n",
       "      <th>636</th>\n",
       "      <td>2.42370</td>\n",
       "      <td>148.205</td>\n",
       "      <td>3.0</td>\n",
       "      <td>0.545455</td>\n",
       "    </tr>\n",
       "    <tr>\n",
       "      <th>637</th>\n",
       "      <td>2.58000</td>\n",
       "      <td>288.387</td>\n",
       "      <td>0.0</td>\n",
       "      <td>0.285714</td>\n",
       "    </tr>\n",
       "    <tr>\n",
       "      <th>638</th>\n",
       "      <td>3.81740</td>\n",
       "      <td>270.372</td>\n",
       "      <td>0.0</td>\n",
       "      <td>0.300000</td>\n",
       "    </tr>\n",
       "    <tr>\n",
       "      <th>639</th>\n",
       "      <td>3.92420</td>\n",
       "      <td>333.266</td>\n",
       "      <td>6.0</td>\n",
       "      <td>0.260870</td>\n",
       "    </tr>\n",
       "    <tr>\n",
       "      <th>640</th>\n",
       "      <td>1.02620</td>\n",
       "      <td>30.070</td>\n",
       "      <td>0.0</td>\n",
       "      <td>0.000000</td>\n",
       "    </tr>\n",
       "    <tr>\n",
       "      <th>641</th>\n",
       "      <td>0.93610</td>\n",
       "      <td>62.137</td>\n",
       "      <td>0.0</td>\n",
       "      <td>0.000000</td>\n",
       "    </tr>\n",
       "    <tr>\n",
       "      <th>642</th>\n",
       "      <td>-0.00140</td>\n",
       "      <td>46.069</td>\n",
       "      <td>0.0</td>\n",
       "      <td>0.000000</td>\n",
       "    </tr>\n",
       "    <tr>\n",
       "      <th>643</th>\n",
       "      <td>3.61260</td>\n",
       "      <td>296.410</td>\n",
       "      <td>0.0</td>\n",
       "      <td>0.272727</td>\n",
       "    </tr>\n",
       "    <tr>\n",
       "      <th>644</th>\n",
       "      <td>2.65790</td>\n",
       "      <td>225.313</td>\n",
       "      <td>4.0</td>\n",
       "      <td>0.400000</td>\n",
       "    </tr>\n",
       "    <tr>\n",
       "      <th>645</th>\n",
       "      <td>5.00530</td>\n",
       "      <td>384.487</td>\n",
       "      <td>12.0</td>\n",
       "      <td>0.000000</td>\n",
       "    </tr>\n",
       "    <tr>\n",
       "      <th>646</th>\n",
       "      <td>1.85272</td>\n",
       "      <td>209.293</td>\n",
       "      <td>5.0</td>\n",
       "      <td>0.400000</td>\n",
       "    </tr>\n",
       "    <tr>\n",
       "      <th>647</th>\n",
       "      <td>3.88260</td>\n",
       "      <td>312.453</td>\n",
       "      <td>0.0</td>\n",
       "      <td>0.000000</td>\n",
       "    </tr>\n",
       "    <tr>\n",
       "      <th>648</th>\n",
       "      <td>2.05760</td>\n",
       "      <td>286.349</td>\n",
       "      <td>4.0</td>\n",
       "      <td>0.315789</td>\n",
       "    </tr>\n",
       "    <tr>\n",
       "      <th>649</th>\n",
       "      <td>2.05760</td>\n",
       "      <td>286.349</td>\n",
       "      <td>4.0</td>\n",
       "      <td>0.315789</td>\n",
       "    </tr>\n",
       "    <tr>\n",
       "      <th>650</th>\n",
       "      <td>1.34240</td>\n",
       "      <td>258.324</td>\n",
       "      <td>3.0</td>\n",
       "      <td>0.562500</td>\n",
       "    </tr>\n",
       "    <tr>\n",
       "      <th>651</th>\n",
       "      <td>0.56940</td>\n",
       "      <td>88.106</td>\n",
       "      <td>1.0</td>\n",
       "      <td>0.000000</td>\n",
       "    </tr>\n",
       "    <tr>\n",
       "      <th>652</th>\n",
       "      <td>1.86330</td>\n",
       "      <td>150.177</td>\n",
       "      <td>2.0</td>\n",
       "      <td>0.545455</td>\n",
       "    </tr>\n",
       "    <tr>\n",
       "      <th>653</th>\n",
       "      <td>2.12980</td>\n",
       "      <td>144.214</td>\n",
       "      <td>5.0</td>\n",
       "      <td>0.000000</td>\n",
       "    </tr>\n",
       "    <tr>\n",
       "      <th>654</th>\n",
       "      <td>2.26290</td>\n",
       "      <td>176.215</td>\n",
       "      <td>3.0</td>\n",
       "      <td>0.461538</td>\n",
       "    </tr>\n",
       "    <tr>\n",
       "      <th>655</th>\n",
       "      <td>3.69020</td>\n",
       "      <td>200.322</td>\n",
       "      <td>9.0</td>\n",
       "      <td>0.000000</td>\n",
       "    </tr>\n",
       "    <tr>\n",
       "      <th>656</th>\n",
       "      <td>0.17930</td>\n",
       "      <td>74.079</td>\n",
       "      <td>2.0</td>\n",
       "      <td>0.000000</td>\n",
       "    </tr>\n",
       "    <tr>\n",
       "      <th>657</th>\n",
       "      <td>2.51990</td>\n",
       "      <td>158.241</td>\n",
       "      <td>6.0</td>\n",
       "      <td>0.000000</td>\n",
       "    </tr>\n",
       "    <tr>\n",
       "      <th>658</th>\n",
       "      <td>2.12980</td>\n",
       "      <td>144.214</td>\n",
       "      <td>5.0</td>\n",
       "      <td>0.000000</td>\n",
       "    </tr>\n",
       "    <tr>\n",
       "      <th>659</th>\n",
       "      <td>3.30010</td>\n",
       "      <td>186.295</td>\n",
       "      <td>8.0</td>\n",
       "      <td>0.000000</td>\n",
       "    </tr>\n",
       "    <tr>\n",
       "      <th>660</th>\n",
       "      <td>2.91000</td>\n",
       "      <td>172.268</td>\n",
       "      <td>7.0</td>\n",
       "      <td>0.000000</td>\n",
       "    </tr>\n",
       "    <tr>\n",
       "      <th>661</th>\n",
       "      <td>1.73970</td>\n",
       "      <td>130.187</td>\n",
       "      <td>4.0</td>\n",
       "      <td>0.000000</td>\n",
       "    </tr>\n",
       "    <tr>\n",
       "      <th>662</th>\n",
       "      <td>0.95950</td>\n",
       "      <td>102.133</td>\n",
       "      <td>2.0</td>\n",
       "      <td>0.000000</td>\n",
       "    </tr>\n",
       "    <tr>\n",
       "      <th>663</th>\n",
       "      <td>1.43290</td>\n",
       "      <td>88.150</td>\n",
       "      <td>3.0</td>\n",
       "      <td>0.000000</td>\n",
       "    </tr>\n",
       "    <tr>\n",
       "      <th>664</th>\n",
       "      <td>1.16640</td>\n",
       "      <td>72.107</td>\n",
       "      <td>2.0</td>\n",
       "      <td>0.000000</td>\n",
       "    </tr>\n",
       "    <tr>\n",
       "      <th>665</th>\n",
       "      <td>2.24900</td>\n",
       "      <td>106.168</td>\n",
       "      <td>1.0</td>\n",
       "      <td>0.750000</td>\n",
       "    </tr>\n",
       "    <tr>\n",
       "      <th>666</th>\n",
       "      <td>2.97670</td>\n",
       "      <td>112.216</td>\n",
       "      <td>1.0</td>\n",
       "      <td>0.000000</td>\n",
       "    </tr>\n",
       "    <tr>\n",
       "      <th>667</th>\n",
       "      <td>0.80220</td>\n",
       "      <td>28.054</td>\n",
       "      <td>0.0</td>\n",
       "      <td>0.000000</td>\n",
       "    </tr>\n",
       "    <tr>\n",
       "      <th>668</th>\n",
       "      <td>1.44550</td>\n",
       "      <td>165.192</td>\n",
       "      <td>2.0</td>\n",
       "      <td>0.500000</td>\n",
       "    </tr>\n",
       "    <tr>\n",
       "      <th>669</th>\n",
       "      <td>1.56890</td>\n",
       "      <td>166.176</td>\n",
       "      <td>2.0</td>\n",
       "      <td>0.500000</td>\n",
       "    </tr>\n",
       "    <tr>\n",
       "      <th>670</th>\n",
       "      <td>0.24940</td>\n",
       "      <td>26.038</td>\n",
       "      <td>0.0</td>\n",
       "      <td>0.000000</td>\n",
       "    </tr>\n",
       "    <tr>\n",
       "      <th>671</th>\n",
       "      <td>6.37200</td>\n",
       "      <td>376.496</td>\n",
       "      <td>9.0</td>\n",
       "      <td>0.642857</td>\n",
       "    </tr>\n",
       "    <tr>\n",
       "      <th>672</th>\n",
       "      <td>2.66910</td>\n",
       "      <td>244.294</td>\n",
       "      <td>4.0</td>\n",
       "      <td>0.611111</td>\n",
       "    </tr>\n",
       "    <tr>\n",
       "      <th>673</th>\n",
       "      <td>1.33860</td>\n",
       "      <td>588.562</td>\n",
       "      <td>5.0</td>\n",
       "      <td>0.285714</td>\n",
       "    </tr>\n",
       "    <tr>\n",
       "      <th>674</th>\n",
       "      <td>2.74410</td>\n",
       "      <td>154.253</td>\n",
       "      <td>0.0</td>\n",
       "      <td>0.000000</td>\n",
       "    </tr>\n",
       "    <tr>\n",
       "      <th>675</th>\n",
       "      <td>2.12930</td>\n",
       "      <td>164.204</td>\n",
       "      <td>3.0</td>\n",
       "      <td>0.500000</td>\n",
       "    </tr>\n",
       "    <tr>\n",
       "      <th>676</th>\n",
       "      <td>4.06760</td>\n",
       "      <td>331.202</td>\n",
       "      <td>3.0</td>\n",
       "      <td>0.818182</td>\n",
       "    </tr>\n",
       "    <tr>\n",
       "      <th>677</th>\n",
       "      <td>2.84032</td>\n",
       "      <td>201.225</td>\n",
       "      <td>2.0</td>\n",
       "      <td>0.733333</td>\n",
       "    </tr>\n",
       "    <tr>\n",
       "      <th>678</th>\n",
       "      <td>2.79932</td>\n",
       "      <td>277.238</td>\n",
       "      <td>5.0</td>\n",
       "      <td>0.352941</td>\n",
       "    </tr>\n",
       "    <tr>\n",
       "      <th>679</th>\n",
       "      <td>3.26040</td>\n",
       "      <td>253.367</td>\n",
       "      <td>6.0</td>\n",
       "      <td>0.352941</td>\n",
       "    </tr>\n",
       "    <tr>\n",
       "      <th>680</th>\n",
       "      <td>3.60380</td>\n",
       "      <td>301.342</td>\n",
       "      <td>7.0</td>\n",
       "      <td>0.545455</td>\n",
       "    </tr>\n",
       "    <tr>\n",
       "      <th>681</th>\n",
       "      <td>5.26898</td>\n",
       "      <td>349.430</td>\n",
       "      <td>5.0</td>\n",
       "      <td>0.461538</td>\n",
       "    </tr>\n",
       "    <tr>\n",
       "      <th>682</th>\n",
       "      <td>3.10030</td>\n",
       "      <td>308.361</td>\n",
       "      <td>7.0</td>\n",
       "      <td>0.333333</td>\n",
       "    </tr>\n",
       "    <tr>\n",
       "      <th>683</th>\n",
       "      <td>3.61302</td>\n",
       "      <td>278.335</td>\n",
       "      <td>5.0</td>\n",
       "      <td>0.375000</td>\n",
       "    </tr>\n",
       "    <tr>\n",
       "      <th>684</th>\n",
       "      <td>1.78010</td>\n",
       "      <td>164.208</td>\n",
       "      <td>1.0</td>\n",
       "      <td>0.500000</td>\n",
       "    </tr>\n",
       "    <tr>\n",
       "      <th>685</th>\n",
       "      <td>0.73580</td>\n",
       "      <td>306.276</td>\n",
       "      <td>5.0</td>\n",
       "      <td>0.727273</td>\n",
       "    </tr>\n",
       "    <tr>\n",
       "      <th>686</th>\n",
       "      <td>6.62798</td>\n",
       "      <td>451.469</td>\n",
       "      <td>9.0</td>\n",
       "      <td>0.545455</td>\n",
       "    </tr>\n",
       "    <tr>\n",
       "      <th>687</th>\n",
       "      <td>-0.50880</td>\n",
       "      <td>129.094</td>\n",
       "      <td>0.0</td>\n",
       "      <td>0.666667</td>\n",
       "    </tr>\n",
       "    <tr>\n",
       "      <th>688</th>\n",
       "      <td>1.87370</td>\n",
       "      <td>380.456</td>\n",
       "      <td>2.0</td>\n",
       "      <td>0.000000</td>\n",
       "    </tr>\n",
       "    <tr>\n",
       "      <th>689</th>\n",
       "      <td>1.84370</td>\n",
       "      <td>410.457</td>\n",
       "      <td>2.0</td>\n",
       "      <td>0.000000</td>\n",
       "    </tr>\n",
       "    <tr>\n",
       "      <th>690</th>\n",
       "      <td>5.34080</td>\n",
       "      <td>421.734</td>\n",
       "      <td>6.0</td>\n",
       "      <td>0.428571</td>\n",
       "    </tr>\n",
       "    <tr>\n",
       "      <th>691</th>\n",
       "      <td>2.79890</td>\n",
       "      <td>232.205</td>\n",
       "      <td>1.0</td>\n",
       "      <td>0.375000</td>\n",
       "    </tr>\n",
       "    <tr>\n",
       "      <th>692</th>\n",
       "      <td>4.48720</td>\n",
       "      <td>202.256</td>\n",
       "      <td>0.0</td>\n",
       "      <td>1.000000</td>\n",
       "    </tr>\n",
       "    <tr>\n",
       "      <th>693</th>\n",
       "      <td>3.25780</td>\n",
       "      <td>166.223</td>\n",
       "      <td>0.0</td>\n",
       "      <td>0.923077</td>\n",
       "    </tr>\n",
       "    <tr>\n",
       "      <th>694</th>\n",
       "      <td>1.82570</td>\n",
       "      <td>96.104</td>\n",
       "      <td>0.0</td>\n",
       "      <td>0.857143</td>\n",
       "    </tr>\n",
       "    <tr>\n",
       "      <th>695</th>\n",
       "      <td>2.92330</td>\n",
       "      <td>376.468</td>\n",
       "      <td>1.0</td>\n",
       "      <td>0.000000</td>\n",
       "    </tr>\n",
       "    <tr>\n",
       "      <th>696</th>\n",
       "      <td>2.79890</td>\n",
       "      <td>232.205</td>\n",
       "      <td>1.0</td>\n",
       "      <td>0.375000</td>\n",
       "    </tr>\n",
       "    <tr>\n",
       "      <th>697</th>\n",
       "      <td>4.73810</td>\n",
       "      <td>329.321</td>\n",
       "      <td>2.0</td>\n",
       "      <td>0.750000</td>\n",
       "    </tr>\n",
       "    <tr>\n",
       "      <th>698</th>\n",
       "      <td>3.51440</td>\n",
       "      <td>312.118</td>\n",
       "      <td>2.0</td>\n",
       "      <td>0.315789</td>\n",
       "    </tr>\n",
       "    <tr>\n",
       "      <th>699</th>\n",
       "      <td>2.49240</td>\n",
       "      <td>301.296</td>\n",
       "      <td>4.0</td>\n",
       "      <td>0.772727</td>\n",
       "    </tr>\n",
       "    <tr>\n",
       "      <th>700</th>\n",
       "      <td>7.39568</td>\n",
       "      <td>502.920</td>\n",
       "      <td>8.0</td>\n",
       "      <td>0.514286</td>\n",
       "    </tr>\n",
       "    <tr>\n",
       "      <th>701</th>\n",
       "      <td>1.62620</td>\n",
       "      <td>221.260</td>\n",
       "      <td>3.0</td>\n",
       "      <td>0.375000</td>\n",
       "    </tr>\n",
       "    <tr>\n",
       "      <th>702</th>\n",
       "      <td>0.85170</td>\n",
       "      <td>257.273</td>\n",
       "      <td>6.0</td>\n",
       "      <td>0.000000</td>\n",
       "    </tr>\n",
       "    <tr>\n",
       "      <th>703</th>\n",
       "      <td>-3.21980</td>\n",
       "      <td>180.156</td>\n",
       "      <td>2.0</td>\n",
       "      <td>0.000000</td>\n",
       "    </tr>\n",
       "    <tr>\n",
       "      <th>704</th>\n",
       "      <td>1.27960</td>\n",
       "      <td>68.075</td>\n",
       "      <td>0.0</td>\n",
       "      <td>1.000000</td>\n",
       "    </tr>\n",
       "    <tr>\n",
       "      <th>705</th>\n",
       "      <td>1.09210</td>\n",
       "      <td>96.085</td>\n",
       "      <td>1.0</td>\n",
       "      <td>0.714286</td>\n",
       "    </tr>\n",
       "    <tr>\n",
       "      <th>706</th>\n",
       "      <td>1.55280</td>\n",
       "      <td>262.261</td>\n",
       "      <td>1.0</td>\n",
       "      <td>0.000000</td>\n",
       "    </tr>\n",
       "    <tr>\n",
       "      <th>707</th>\n",
       "      <td>3.14180</td>\n",
       "      <td>372.808</td>\n",
       "      <td>6.0</td>\n",
       "      <td>0.615385</td>\n",
       "    </tr>\n",
       "    <tr>\n",
       "      <th>708</th>\n",
       "      <td>-3.22140</td>\n",
       "      <td>180.156</td>\n",
       "      <td>1.0</td>\n",
       "      <td>0.000000</td>\n",
       "    </tr>\n",
       "    <tr>\n",
       "      <th>709</th>\n",
       "      <td>1.77100</td>\n",
       "      <td>217.268</td>\n",
       "      <td>2.0</td>\n",
       "      <td>0.375000</td>\n",
       "    </tr>\n",
       "    <tr>\n",
       "      <th>710</th>\n",
       "      <td>-1.66810</td>\n",
       "      <td>92.094</td>\n",
       "      <td>2.0</td>\n",
       "      <td>0.000000</td>\n",
       "    </tr>\n",
       "    <tr>\n",
       "      <th>711</th>\n",
       "      <td>0.04430</td>\n",
       "      <td>218.205</td>\n",
       "      <td>5.0</td>\n",
       "      <td>0.000000</td>\n",
       "    </tr>\n",
       "    <tr>\n",
       "      <th>712</th>\n",
       "      <td>2.81030</td>\n",
       "      <td>352.770</td>\n",
       "      <td>3.0</td>\n",
       "      <td>0.250000</td>\n",
       "    </tr>\n",
       "    <tr>\n",
       "      <th>713</th>\n",
       "      <td>1.40080</td>\n",
       "      <td>124.139</td>\n",
       "      <td>1.0</td>\n",
       "      <td>0.666667</td>\n",
       "    </tr>\n",
       "    <tr>\n",
       "      <th>714</th>\n",
       "      <td>-0.77160</td>\n",
       "      <td>151.129</td>\n",
       "      <td>0.0</td>\n",
       "      <td>0.818182</td>\n",
       "    </tr>\n",
       "    <tr>\n",
       "      <th>715</th>\n",
       "      <td>2.50850</td>\n",
       "      <td>197.381</td>\n",
       "      <td>0.0</td>\n",
       "      <td>0.000000</td>\n",
       "    </tr>\n",
       "    <tr>\n",
       "      <th>716</th>\n",
       "      <td>1.32960</td>\n",
       "      <td>300.266</td>\n",
       "      <td>0.0</td>\n",
       "      <td>0.272727</td>\n",
       "    </tr>\n",
       "    <tr>\n",
       "      <th>717</th>\n",
       "      <td>5.24150</td>\n",
       "      <td>373.321</td>\n",
       "      <td>0.0</td>\n",
       "      <td>0.000000</td>\n",
       "    </tr>\n",
       "    <tr>\n",
       "      <th>718</th>\n",
       "      <td>2.97670</td>\n",
       "      <td>100.205</td>\n",
       "      <td>4.0</td>\n",
       "      <td>0.000000</td>\n",
       "    </tr>\n",
       "    <tr>\n",
       "      <th>719</th>\n",
       "      <td>4.75740</td>\n",
       "      <td>260.762</td>\n",
       "      <td>1.0</td>\n",
       "      <td>0.000000</td>\n",
       "    </tr>\n",
       "    <tr>\n",
       "      <th>720</th>\n",
       "      <td>3.72680</td>\n",
       "      <td>236.740</td>\n",
       "      <td>0.0</td>\n",
       "      <td>0.000000</td>\n",
       "    </tr>\n",
       "    <tr>\n",
       "      <th>721</th>\n",
       "      <td>10.38860</td>\n",
       "      <td>366.718</td>\n",
       "      <td>23.0</td>\n",
       "      <td>0.000000</td>\n",
       "    </tr>\n",
       "    <tr>\n",
       "      <th>722</th>\n",
       "      <td>6.48760</td>\n",
       "      <td>226.448</td>\n",
       "      <td>13.0</td>\n",
       "      <td>0.000000</td>\n",
       "    </tr>\n",
       "    <tr>\n",
       "      <th>723</th>\n",
       "      <td>3.53712</td>\n",
       "      <td>162.276</td>\n",
       "      <td>0.0</td>\n",
       "      <td>0.500000</td>\n",
       "    </tr>\n",
       "    <tr>\n",
       "      <th>724</th>\n",
       "      <td>2.58660</td>\n",
       "      <td>86.178</td>\n",
       "      <td>3.0</td>\n",
       "      <td>0.000000</td>\n",
       "    </tr>\n",
       "    <tr>\n",
       "      <th>725</th>\n",
       "      <td>4.78520</td>\n",
       "      <td>270.372</td>\n",
       "      <td>5.0</td>\n",
       "      <td>0.600000</td>\n",
       "    </tr>\n",
       "    <tr>\n",
       "      <th>726</th>\n",
       "      <td>3.80940</td>\n",
       "      <td>162.276</td>\n",
       "      <td>5.0</td>\n",
       "      <td>0.500000</td>\n",
       "    </tr>\n",
       "    <tr>\n",
       "      <th>727</th>\n",
       "      <td>-1.17420</td>\n",
       "      <td>100.077</td>\n",
       "      <td>0.0</td>\n",
       "      <td>0.000000</td>\n",
       "    </tr>\n",
       "    <tr>\n",
       "      <th>728</th>\n",
       "      <td>3.12560</td>\n",
       "      <td>184.242</td>\n",
       "      <td>3.0</td>\n",
       "      <td>0.857143</td>\n",
       "    </tr>\n",
       "    <tr>\n",
       "      <th>729</th>\n",
       "      <td>2.45360</td>\n",
       "      <td>214.264</td>\n",
       "      <td>3.0</td>\n",
       "      <td>0.750000</td>\n",
       "    </tr>\n",
       "    <tr>\n",
       "      <th>730</th>\n",
       "      <td>-0.35130</td>\n",
       "      <td>297.745</td>\n",
       "      <td>1.0</td>\n",
       "      <td>0.352941</td>\n",
       "    </tr>\n",
       "    <tr>\n",
       "      <th>731</th>\n",
       "      <td>1.78160</td>\n",
       "      <td>362.466</td>\n",
       "      <td>2.0</td>\n",
       "      <td>0.000000</td>\n",
       "    </tr>\n",
       "    <tr>\n",
       "      <th>732</th>\n",
       "      <td>2.35240</td>\n",
       "      <td>404.503</td>\n",
       "      <td>3.0</td>\n",
       "      <td>0.000000</td>\n",
       "    </tr>\n",
       "    <tr>\n",
       "      <th>733</th>\n",
       "      <td>3.99500</td>\n",
       "      <td>354.875</td>\n",
       "      <td>0.0</td>\n",
       "      <td>0.000000</td>\n",
       "    </tr>\n",
       "    <tr>\n",
       "      <th>734</th>\n",
       "      <td>3.83840</td>\n",
       "      <td>330.468</td>\n",
       "      <td>1.0</td>\n",
       "      <td>0.000000</td>\n",
       "    </tr>\n",
       "    <tr>\n",
       "      <th>735</th>\n",
       "      <td>-0.35380</td>\n",
       "      <td>136.114</td>\n",
       "      <td>0.0</td>\n",
       "      <td>0.900000</td>\n",
       "    </tr>\n",
       "    <tr>\n",
       "      <th>736</th>\n",
       "      <td>2.17530</td>\n",
       "      <td>118.179</td>\n",
       "      <td>0.0</td>\n",
       "      <td>0.666667</td>\n",
       "    </tr>\n",
       "    <tr>\n",
       "      <th>737</th>\n",
       "      <td>2.08340</td>\n",
       "      <td>365.842</td>\n",
       "      <td>3.0</td>\n",
       "      <td>0.500000</td>\n",
       "    </tr>\n",
       "    <tr>\n",
       "      <th>738</th>\n",
       "      <td>1.56290</td>\n",
       "      <td>118.139</td>\n",
       "      <td>0.0</td>\n",
       "      <td>1.000000</td>\n",
       "    </tr>\n",
       "    <tr>\n",
       "      <th>739</th>\n",
       "      <td>2.16790</td>\n",
       "      <td>117.151</td>\n",
       "      <td>0.0</td>\n",
       "      <td>1.000000</td>\n",
       "    </tr>\n",
       "    <tr>\n",
       "      <th>740</th>\n",
       "      <td>1.65460</td>\n",
       "      <td>119.167</td>\n",
       "      <td>0.0</td>\n",
       "      <td>0.666667</td>\n",
       "    </tr>\n",
       "    <tr>\n",
       "      <th>741</th>\n",
       "      <td>-1.85660</td>\n",
       "      <td>268.229</td>\n",
       "      <td>2.0</td>\n",
       "      <td>0.473684</td>\n",
       "    </tr>\n",
       "    <tr>\n",
       "      <th>742</th>\n",
       "      <td>2.29120</td>\n",
       "      <td>204.010</td>\n",
       "      <td>0.0</td>\n",
       "      <td>0.857143</td>\n",
       "    </tr>\n",
       "    <tr>\n",
       "      <th>743</th>\n",
       "      <td>1.44130</td>\n",
       "      <td>155.966</td>\n",
       "      <td>0.0</td>\n",
       "      <td>0.000000</td>\n",
       "    </tr>\n",
       "    <tr>\n",
       "      <th>744</th>\n",
       "      <td>4.49410</td>\n",
       "      <td>413.000</td>\n",
       "      <td>4.0</td>\n",
       "      <td>0.375000</td>\n",
       "    </tr>\n",
       "    <tr>\n",
       "      <th>745</th>\n",
       "      <td>1.05120</td>\n",
       "      <td>141.939</td>\n",
       "      <td>0.0</td>\n",
       "      <td>0.000000</td>\n",
       "    </tr>\n",
       "    <tr>\n",
       "      <th>746</th>\n",
       "      <td>2.47308</td>\n",
       "      <td>370.915</td>\n",
       "      <td>0.0</td>\n",
       "      <td>0.545455</td>\n",
       "    </tr>\n",
       "    <tr>\n",
       "      <th>747</th>\n",
       "      <td>2.19150</td>\n",
       "      <td>243.742</td>\n",
       "      <td>5.0</td>\n",
       "      <td>0.375000</td>\n",
       "    </tr>\n",
       "    <tr>\n",
       "      <th>748</th>\n",
       "      <td>3.18870</td>\n",
       "      <td>313.747</td>\n",
       "      <td>7.0</td>\n",
       "      <td>0.277778</td>\n",
       "    </tr>\n",
       "    <tr>\n",
       "      <th>749</th>\n",
       "      <td>1.20550</td>\n",
       "      <td>116.160</td>\n",
       "      <td>2.0</td>\n",
       "      <td>0.000000</td>\n",
       "    </tr>\n",
       "    <tr>\n",
       "      <th>750</th>\n",
       "      <td>0.81540</td>\n",
       "      <td>102.133</td>\n",
       "      <td>3.0</td>\n",
       "      <td>0.000000</td>\n",
       "    </tr>\n",
       "    <tr>\n",
       "      <th>751</th>\n",
       "      <td>2.88510</td>\n",
       "      <td>134.222</td>\n",
       "      <td>2.0</td>\n",
       "      <td>0.600000</td>\n",
       "    </tr>\n",
       "    <tr>\n",
       "      <th>752</th>\n",
       "      <td>0.37720</td>\n",
       "      <td>185.227</td>\n",
       "      <td>2.0</td>\n",
       "      <td>0.000000</td>\n",
       "    </tr>\n",
       "    <tr>\n",
       "      <th>753</th>\n",
       "      <td>1.41762</td>\n",
       "      <td>231.255</td>\n",
       "      <td>4.0</td>\n",
       "      <td>0.647059</td>\n",
       "    </tr>\n",
       "    <tr>\n",
       "      <th>754</th>\n",
       "      <td>3.88960</td>\n",
       "      <td>345.401</td>\n",
       "      <td>8.0</td>\n",
       "      <td>0.272727</td>\n",
       "    </tr>\n",
       "    <tr>\n",
       "      <th>755</th>\n",
       "      <td>-0.35930</td>\n",
       "      <td>151.129</td>\n",
       "      <td>0.0</td>\n",
       "      <td>0.818182</td>\n",
       "    </tr>\n",
       "    <tr>\n",
       "      <th>756</th>\n",
       "      <td>-0.31490</td>\n",
       "      <td>137.142</td>\n",
       "      <td>1.0</td>\n",
       "      <td>0.600000</td>\n",
       "    </tr>\n",
       "    <tr>\n",
       "      <th>757</th>\n",
       "      <td>1.59560</td>\n",
       "      <td>130.187</td>\n",
       "      <td>3.0</td>\n",
       "      <td>0.000000</td>\n",
       "    </tr>\n",
       "    <tr>\n",
       "      <th>758</th>\n",
       "      <td>1.20550</td>\n",
       "      <td>116.160</td>\n",
       "      <td>4.0</td>\n",
       "      <td>0.000000</td>\n",
       "    </tr>\n",
       "    <tr>\n",
       "      <th>759</th>\n",
       "      <td>2.32180</td>\n",
       "      <td>138.210</td>\n",
       "      <td>0.0</td>\n",
       "      <td>0.000000</td>\n",
       "    </tr>\n",
       "    <tr>\n",
       "      <th>760</th>\n",
       "      <td>2.52820</td>\n",
       "      <td>193.246</td>\n",
       "      <td>2.0</td>\n",
       "      <td>0.428571</td>\n",
       "    </tr>\n",
       "    <tr>\n",
       "      <th>761</th>\n",
       "      <td>4.25280</td>\n",
       "      <td>309.366</td>\n",
       "      <td>8.0</td>\n",
       "      <td>0.272727</td>\n",
       "    </tr>\n",
       "    <tr>\n",
       "      <th>762</th>\n",
       "      <td>0.95790</td>\n",
       "      <td>102.133</td>\n",
       "      <td>1.0</td>\n",
       "      <td>0.000000</td>\n",
       "    </tr>\n",
       "    <tr>\n",
       "      <th>763</th>\n",
       "      <td>0.56780</td>\n",
       "      <td>88.106</td>\n",
       "      <td>2.0</td>\n",
       "      <td>0.000000</td>\n",
       "    </tr>\n",
       "    <tr>\n",
       "      <th>764</th>\n",
       "      <td>2.81000</td>\n",
       "      <td>120.195</td>\n",
       "      <td>1.0</td>\n",
       "      <td>0.666667</td>\n",
       "    </tr>\n",
       "    <tr>\n",
       "      <th>765</th>\n",
       "      <td>2.90350</td>\n",
       "      <td>206.289</td>\n",
       "      <td>2.0</td>\n",
       "      <td>0.400000</td>\n",
       "    </tr>\n",
       "    <tr>\n",
       "      <th>766</th>\n",
       "      <td>2.23480</td>\n",
       "      <td>129.162</td>\n",
       "      <td>0.0</td>\n",
       "      <td>1.000000</td>\n",
       "    </tr>\n",
       "    <tr>\n",
       "      <th>767</th>\n",
       "      <td>2.66700</td>\n",
       "      <td>279.340</td>\n",
       "      <td>2.0</td>\n",
       "      <td>0.300000</td>\n",
       "    </tr>\n",
       "    <tr>\n",
       "      <th>768</th>\n",
       "      <td>2.96680</td>\n",
       "      <td>322.364</td>\n",
       "      <td>5.0</td>\n",
       "      <td>0.500000</td>\n",
       "    </tr>\n",
       "    <tr>\n",
       "      <th>769</th>\n",
       "      <td>4.61820</td>\n",
       "      <td>490.639</td>\n",
       "      <td>0.0</td>\n",
       "      <td>0.000000</td>\n",
       "    </tr>\n",
       "    <tr>\n",
       "      <th>770</th>\n",
       "      <td>2.86482</td>\n",
       "      <td>260.245</td>\n",
       "      <td>2.0</td>\n",
       "      <td>0.684211</td>\n",
       "    </tr>\n",
       "    <tr>\n",
       "      <th>771</th>\n",
       "      <td>-5.39720</td>\n",
       "      <td>342.297</td>\n",
       "      <td>4.0</td>\n",
       "      <td>0.000000</td>\n",
       "    </tr>\n",
       "    <tr>\n",
       "      <th>772</th>\n",
       "      <td>-2.58230</td>\n",
       "      <td>150.130</td>\n",
       "      <td>0.0</td>\n",
       "      <td>0.000000</td>\n",
       "    </tr>\n",
       "    <tr>\n",
       "      <th>773</th>\n",
       "      <td>1.53050</td>\n",
       "      <td>234.299</td>\n",
       "      <td>1.0</td>\n",
       "      <td>0.352941</td>\n",
       "    </tr>\n",
       "    <tr>\n",
       "      <th>774</th>\n",
       "      <td>2.66980</td>\n",
       "      <td>154.253</td>\n",
       "      <td>4.0</td>\n",
       "      <td>0.000000</td>\n",
       "    </tr>\n",
       "    <tr>\n",
       "      <th>775</th>\n",
       "      <td>3.64440</td>\n",
       "      <td>290.832</td>\n",
       "      <td>0.0</td>\n",
       "      <td>0.000000</td>\n",
       "    </tr>\n",
       "    <tr>\n",
       "      <th>776</th>\n",
       "      <td>3.01850</td>\n",
       "      <td>249.097</td>\n",
       "      <td>2.0</td>\n",
       "      <td>0.400000</td>\n",
       "    </tr>\n",
       "    <tr>\n",
       "      <th>777</th>\n",
       "      <td>3.10130</td>\n",
       "      <td>321.163</td>\n",
       "      <td>1.0</td>\n",
       "      <td>0.571429</td>\n",
       "    </tr>\n",
       "    <tr>\n",
       "      <th>778</th>\n",
       "      <td>4.19550</td>\n",
       "      <td>404.547</td>\n",
       "      <td>6.0</td>\n",
       "      <td>0.000000</td>\n",
       "    </tr>\n",
       "    <tr>\n",
       "      <th>779</th>\n",
       "      <td>2.12180</td>\n",
       "      <td>330.364</td>\n",
       "      <td>9.0</td>\n",
       "      <td>0.000000</td>\n",
       "    </tr>\n",
       "    <tr>\n",
       "      <th>780</th>\n",
       "      <td>0.50270</td>\n",
       "      <td>160.169</td>\n",
       "      <td>4.0</td>\n",
       "      <td>0.000000</td>\n",
       "    </tr>\n",
       "    <tr>\n",
       "      <th>781</th>\n",
       "      <td>-5.39720</td>\n",
       "      <td>342.297</td>\n",
       "      <td>4.0</td>\n",
       "      <td>0.000000</td>\n",
       "    </tr>\n",
       "    <tr>\n",
       "      <th>782</th>\n",
       "      <td>-3.58540</td>\n",
       "      <td>182.172</td>\n",
       "      <td>5.0</td>\n",
       "      <td>0.000000</td>\n",
       "    </tr>\n",
       "    <tr>\n",
       "      <th>783</th>\n",
       "      <td>1.92220</td>\n",
       "      <td>127.574</td>\n",
       "      <td>0.0</td>\n",
       "      <td>0.750000</td>\n",
       "    </tr>\n",
       "    <tr>\n",
       "      <th>784</th>\n",
       "      <td>3.10250</td>\n",
       "      <td>191.455</td>\n",
       "      <td>0.0</td>\n",
       "      <td>0.750000</td>\n",
       "    </tr>\n",
       "    <tr>\n",
       "      <th>785</th>\n",
       "      <td>2.94460</td>\n",
       "      <td>238.455</td>\n",
       "      <td>0.0</td>\n",
       "      <td>0.750000</td>\n",
       "    </tr>\n",
       "    <tr>\n",
       "      <th>786</th>\n",
       "      <td>2.24820</td>\n",
       "      <td>157.556</td>\n",
       "      <td>1.0</td>\n",
       "      <td>0.600000</td>\n",
       "    </tr>\n",
       "    <tr>\n",
       "      <th>787</th>\n",
       "      <td>2.97220</td>\n",
       "      <td>295.298</td>\n",
       "      <td>3.0</td>\n",
       "      <td>0.681818</td>\n",
       "    </tr>\n",
       "    <tr>\n",
       "      <th>788</th>\n",
       "      <td>2.63200</td>\n",
       "      <td>329.380</td>\n",
       "      <td>8.0</td>\n",
       "      <td>0.000000</td>\n",
       "    </tr>\n",
       "    <tr>\n",
       "      <th>789</th>\n",
       "      <td>0.84980</td>\n",
       "      <td>196.202</td>\n",
       "      <td>2.0</td>\n",
       "      <td>0.000000</td>\n",
       "    </tr>\n",
       "    <tr>\n",
       "      <th>790</th>\n",
       "      <td>5.27970</td>\n",
       "      <td>340.507</td>\n",
       "      <td>1.0</td>\n",
       "      <td>0.000000</td>\n",
       "    </tr>\n",
       "    <tr>\n",
       "      <th>791</th>\n",
       "      <td>3.33810</td>\n",
       "      <td>298.367</td>\n",
       "      <td>4.0</td>\n",
       "      <td>0.714286</td>\n",
       "    </tr>\n",
       "    <tr>\n",
       "      <th>792</th>\n",
       "      <td>2.52334</td>\n",
       "      <td>310.297</td>\n",
       "      <td>3.0</td>\n",
       "      <td>0.300000</td>\n",
       "    </tr>\n",
       "    <tr>\n",
       "      <th>793</th>\n",
       "      <td>4.57530</td>\n",
       "      <td>384.516</td>\n",
       "      <td>2.0</td>\n",
       "      <td>0.000000</td>\n",
       "    </tr>\n",
       "    <tr>\n",
       "      <th>794</th>\n",
       "      <td>2.01190</td>\n",
       "      <td>172.183</td>\n",
       "      <td>0.0</td>\n",
       "      <td>0.461538</td>\n",
       "    </tr>\n",
       "    <tr>\n",
       "      <th>795</th>\n",
       "      <td>2.43950</td>\n",
       "      <td>156.269</td>\n",
       "      <td>1.0</td>\n",
       "      <td>0.000000</td>\n",
       "    </tr>\n",
       "    <tr>\n",
       "      <th>796</th>\n",
       "      <td>2.64770</td>\n",
       "      <td>154.253</td>\n",
       "      <td>1.0</td>\n",
       "      <td>0.000000</td>\n",
       "    </tr>\n",
       "    <tr>\n",
       "      <th>797</th>\n",
       "      <td>0.98340</td>\n",
       "      <td>218.253</td>\n",
       "      <td>6.0</td>\n",
       "      <td>0.000000</td>\n",
       "    </tr>\n",
       "    <tr>\n",
       "      <th>798</th>\n",
       "      <td>2.58500</td>\n",
       "      <td>167.258</td>\n",
       "      <td>0.0</td>\n",
       "      <td>0.900000</td>\n",
       "    </tr>\n",
       "    <tr>\n",
       "      <th>799</th>\n",
       "      <td>1.84434</td>\n",
       "      <td>279.336</td>\n",
       "      <td>5.0</td>\n",
       "      <td>0.300000</td>\n",
       "    </tr>\n",
       "    <tr>\n",
       "      <th>800</th>\n",
       "      <td>0.63610</td>\n",
       "      <td>16.043</td>\n",
       "      <td>0.0</td>\n",
       "      <td>0.000000</td>\n",
       "    </tr>\n",
       "    <tr>\n",
       "      <th>801</th>\n",
       "      <td>-0.39150</td>\n",
       "      <td>32.042</td>\n",
       "      <td>0.0</td>\n",
       "      <td>0.000000</td>\n",
       "    </tr>\n",
       "    <tr>\n",
       "      <th>802</th>\n",
       "      <td>3.00254</td>\n",
       "      <td>250.301</td>\n",
       "      <td>1.0</td>\n",
       "      <td>0.842105</td>\n",
       "    </tr>\n",
       "    <tr>\n",
       "      <th>803</th>\n",
       "      <td>0.50100</td>\n",
       "      <td>198.222</td>\n",
       "      <td>2.0</td>\n",
       "      <td>0.000000</td>\n",
       "    </tr>\n",
       "    <tr>\n",
       "      <th>804</th>\n",
       "      <td>1.43600</td>\n",
       "      <td>261.064</td>\n",
       "      <td>1.0</td>\n",
       "      <td>0.687500</td>\n",
       "    </tr>\n",
       "    <tr>\n",
       "      <th>805</th>\n",
       "      <td>0.53020</td>\n",
       "      <td>241.243</td>\n",
       "      <td>6.0</td>\n",
       "      <td>0.352941</td>\n",
       "    </tr>\n",
       "    <tr>\n",
       "      <th>806</th>\n",
       "      <td>5.06200</td>\n",
       "      <td>310.478</td>\n",
       "      <td>10.0</td>\n",
       "      <td>0.000000</td>\n",
       "    </tr>\n",
       "    <tr>\n",
       "      <th>807</th>\n",
       "      <td>1.86220</td>\n",
       "      <td>271.390</td>\n",
       "      <td>8.0</td>\n",
       "      <td>0.333333</td>\n",
       "    </tr>\n",
       "    <tr>\n",
       "      <th>808</th>\n",
       "      <td>2.54780</td>\n",
       "      <td>216.192</td>\n",
       "      <td>1.0</td>\n",
       "      <td>0.812500</td>\n",
       "    </tr>\n",
       "    <tr>\n",
       "      <th>809</th>\n",
       "      <td>5.20590</td>\n",
       "      <td>345.653</td>\n",
       "      <td>4.0</td>\n",
       "      <td>0.571429</td>\n",
       "    </tr>\n",
       "    <tr>\n",
       "      <th>810</th>\n",
       "      <td>0.17930</td>\n",
       "      <td>74.079</td>\n",
       "      <td>0.0</td>\n",
       "      <td>0.000000</td>\n",
       "    </tr>\n",
       "    <tr>\n",
       "      <th>811</th>\n",
       "      <td>0.34540</td>\n",
       "      <td>86.090</td>\n",
       "      <td>1.0</td>\n",
       "      <td>0.000000</td>\n",
       "    </tr>\n",
       "    <tr>\n",
       "      <th>812</th>\n",
       "      <td>1.47320</td>\n",
       "      <td>136.150</td>\n",
       "      <td>1.0</td>\n",
       "      <td>0.600000</td>\n",
       "    </tr>\n",
       "    <tr>\n",
       "      <th>813</th>\n",
       "      <td>1.43290</td>\n",
       "      <td>88.150</td>\n",
       "      <td>3.0</td>\n",
       "      <td>0.000000</td>\n",
       "    </tr>\n",
       "    <tr>\n",
       "      <th>814</th>\n",
       "      <td>1.34960</td>\n",
       "      <td>116.160</td>\n",
       "      <td>3.0</td>\n",
       "      <td>0.000000</td>\n",
       "    </tr>\n",
       "    <tr>\n",
       "      <th>815</th>\n",
       "      <td>3.30010</td>\n",
       "      <td>186.295</td>\n",
       "      <td>8.0</td>\n",
       "      <td>0.000000</td>\n",
       "    </tr>\n",
       "    <tr>\n",
       "      <th>816</th>\n",
       "      <td>-0.21080</td>\n",
       "      <td>60.052</td>\n",
       "      <td>1.0</td>\n",
       "      <td>0.000000</td>\n",
       "    </tr>\n",
       "    <tr>\n",
       "      <th>817</th>\n",
       "      <td>0.59000</td>\n",
       "      <td>184.147</td>\n",
       "      <td>1.0</td>\n",
       "      <td>0.461538</td>\n",
       "    </tr>\n",
       "    <tr>\n",
       "      <th>818</th>\n",
       "      <td>1.73970</td>\n",
       "      <td>130.187</td>\n",
       "      <td>4.0</td>\n",
       "      <td>0.000000</td>\n",
       "    </tr>\n",
       "    <tr>\n",
       "      <th>819</th>\n",
       "      <td>-0.92050</td>\n",
       "      <td>46.073</td>\n",
       "      <td>0.0</td>\n",
       "      <td>0.000000</td>\n",
       "    </tr>\n",
       "    <tr>\n",
       "      <th>820</th>\n",
       "      <td>4.08030</td>\n",
       "      <td>214.349</td>\n",
       "      <td>10.0</td>\n",
       "      <td>0.000000</td>\n",
       "    </tr>\n",
       "    <tr>\n",
       "      <th>821</th>\n",
       "      <td>0.86820</td>\n",
       "      <td>137.138</td>\n",
       "      <td>1.0</td>\n",
       "      <td>0.600000</td>\n",
       "    </tr>\n",
       "    <tr>\n",
       "      <th>822</th>\n",
       "      <td>2.91000</td>\n",
       "      <td>172.268</td>\n",
       "      <td>7.0</td>\n",
       "      <td>0.000000</td>\n",
       "    </tr>\n",
       "    <tr>\n",
       "      <th>823</th>\n",
       "      <td>2.51990</td>\n",
       "      <td>158.241</td>\n",
       "      <td>6.0</td>\n",
       "      <td>0.000000</td>\n",
       "    </tr>\n",
       "    <tr>\n",
       "      <th>824</th>\n",
       "      <td>1.34960</td>\n",
       "      <td>116.160</td>\n",
       "      <td>3.0</td>\n",
       "      <td>0.000000</td>\n",
       "    </tr>\n",
       "    <tr>\n",
       "      <th>825</th>\n",
       "      <td>0.56940</td>\n",
       "      <td>88.106</td>\n",
       "      <td>1.0</td>\n",
       "      <td>0.000000</td>\n",
       "    </tr>\n",
       "    <tr>\n",
       "      <th>826</th>\n",
       "      <td>1.04280</td>\n",
       "      <td>74.123</td>\n",
       "      <td>2.0</td>\n",
       "      <td>0.000000</td>\n",
       "    </tr>\n",
       "    <tr>\n",
       "      <th>827</th>\n",
       "      <td>1.43130</td>\n",
       "      <td>88.150</td>\n",
       "      <td>0.0</td>\n",
       "      <td>0.000000</td>\n",
       "    </tr>\n",
       "    <tr>\n",
       "      <th>828</th>\n",
       "      <td>2.58660</td>\n",
       "      <td>98.189</td>\n",
       "      <td>0.0</td>\n",
       "      <td>0.000000</td>\n",
       "    </tr>\n",
       "    <tr>\n",
       "      <th>829</th>\n",
       "      <td>2.19650</td>\n",
       "      <td>84.162</td>\n",
       "      <td>0.0</td>\n",
       "      <td>0.000000</td>\n",
       "    </tr>\n",
       "    <tr>\n",
       "      <th>830</th>\n",
       "      <td>3.76770</td>\n",
       "      <td>268.360</td>\n",
       "      <td>3.0</td>\n",
       "      <td>0.600000</td>\n",
       "    </tr>\n",
       "    <tr>\n",
       "      <th>831</th>\n",
       "      <td>1.17880</td>\n",
       "      <td>152.149</td>\n",
       "      <td>1.0</td>\n",
       "      <td>0.545455</td>\n",
       "    </tr>\n",
       "    <tr>\n",
       "      <th>832</th>\n",
       "      <td>4.84010</td>\n",
       "      <td>344.495</td>\n",
       "      <td>1.0</td>\n",
       "      <td>0.000000</td>\n",
       "    </tr>\n",
       "    <tr>\n",
       "      <th>833</th>\n",
       "      <td>0.74091</td>\n",
       "      <td>142.183</td>\n",
       "      <td>0.0</td>\n",
       "      <td>0.666667</td>\n",
       "    </tr>\n",
       "    <tr>\n",
       "      <th>834</th>\n",
       "      <td>3.16412</td>\n",
       "      <td>283.799</td>\n",
       "      <td>6.0</td>\n",
       "      <td>0.315789</td>\n",
       "    </tr>\n",
       "    <tr>\n",
       "      <th>835</th>\n",
       "      <td>2.71412</td>\n",
       "      <td>365.842</td>\n",
       "      <td>2.0</td>\n",
       "      <td>0.500000</td>\n",
       "    </tr>\n",
       "    <tr>\n",
       "      <th>836</th>\n",
       "      <td>1.40480</td>\n",
       "      <td>151.165</td>\n",
       "      <td>1.0</td>\n",
       "      <td>0.545455</td>\n",
       "    </tr>\n",
       "    <tr>\n",
       "      <th>837</th>\n",
       "      <td>2.44210</td>\n",
       "      <td>228.679</td>\n",
       "      <td>2.0</td>\n",
       "      <td>0.400000</td>\n",
       "    </tr>\n",
       "    <tr>\n",
       "      <th>838</th>\n",
       "      <td>0.09202</td>\n",
       "      <td>171.156</td>\n",
       "      <td>3.0</td>\n",
       "      <td>0.416667</td>\n",
       "    </tr>\n",
       "    <tr>\n",
       "      <th>839</th>\n",
       "      <td>0.37150</td>\n",
       "      <td>214.294</td>\n",
       "      <td>1.0</td>\n",
       "      <td>0.428571</td>\n",
       "    </tr>\n",
       "    <tr>\n",
       "      <th>840</th>\n",
       "      <td>0.09202</td>\n",
       "      <td>171.156</td>\n",
       "      <td>3.0</td>\n",
       "      <td>0.416667</td>\n",
       "    </tr>\n",
       "    <tr>\n",
       "      <th>841</th>\n",
       "      <td>2.58820</td>\n",
       "      <td>175.000</td>\n",
       "      <td>0.0</td>\n",
       "      <td>0.750000</td>\n",
       "    </tr>\n",
       "    <tr>\n",
       "      <th>842</th>\n",
       "      <td>-0.13030</td>\n",
       "      <td>209.253</td>\n",
       "      <td>1.0</td>\n",
       "      <td>0.400000</td>\n",
       "    </tr>\n",
       "    <tr>\n",
       "      <th>843</th>\n",
       "      <td>6.22300</td>\n",
       "      <td>545.546</td>\n",
       "      <td>0.0</td>\n",
       "      <td>0.000000</td>\n",
       "    </tr>\n",
       "    <tr>\n",
       "      <th>844</th>\n",
       "      <td>1.57722</td>\n",
       "      <td>107.156</td>\n",
       "      <td>0.0</td>\n",
       "      <td>0.750000</td>\n",
       "    </tr>\n",
       "    <tr>\n",
       "      <th>845</th>\n",
       "      <td>1.17700</td>\n",
       "      <td>138.126</td>\n",
       "      <td>1.0</td>\n",
       "      <td>0.600000</td>\n",
       "    </tr>\n",
       "    <tr>\n",
       "      <th>846</th>\n",
       "      <td>1.30040</td>\n",
       "      <td>139.110</td>\n",
       "      <td>1.0</td>\n",
       "      <td>0.600000</td>\n",
       "    </tr>\n",
       "    <tr>\n",
       "      <th>847</th>\n",
       "      <td>1.90322</td>\n",
       "      <td>137.138</td>\n",
       "      <td>1.0</td>\n",
       "      <td>0.600000</td>\n",
       "    </tr>\n",
       "    <tr>\n",
       "      <th>848</th>\n",
       "      <td>2.36510</td>\n",
       "      <td>214.652</td>\n",
       "      <td>2.0</td>\n",
       "      <td>0.428571</td>\n",
       "    </tr>\n",
       "    <tr>\n",
       "      <th>849</th>\n",
       "      <td>-2.88480</td>\n",
       "      <td>446.405</td>\n",
       "      <td>6.0</td>\n",
       "      <td>0.193548</td>\n",
       "    </tr>\n",
       "    <tr>\n",
       "      <th>850</th>\n",
       "      <td>2.43350</td>\n",
       "      <td>198.653</td>\n",
       "      <td>1.0</td>\n",
       "      <td>0.461538</td>\n",
       "    </tr>\n",
       "    <tr>\n",
       "      <th>851</th>\n",
       "      <td>1.98800</td>\n",
       "      <td>302.238</td>\n",
       "      <td>1.0</td>\n",
       "      <td>0.727273</td>\n",
       "    </tr>\n",
       "    <tr>\n",
       "      <th>852</th>\n",
       "      <td>2.30344</td>\n",
       "      <td>106.168</td>\n",
       "      <td>0.0</td>\n",
       "      <td>0.750000</td>\n",
       "    </tr>\n",
       "    <tr>\n",
       "      <th>853</th>\n",
       "      <td>2.53280</td>\n",
       "      <td>149.237</td>\n",
       "      <td>3.0</td>\n",
       "      <td>0.545455</td>\n",
       "    </tr>\n",
       "    <tr>\n",
       "      <th>854</th>\n",
       "      <td>0.09450</td>\n",
       "      <td>87.122</td>\n",
       "      <td>0.0</td>\n",
       "      <td>0.000000</td>\n",
       "    </tr>\n",
       "    <tr>\n",
       "      <th>855</th>\n",
       "      <td>1.75260</td>\n",
       "      <td>121.183</td>\n",
       "      <td>1.0</td>\n",
       "      <td>0.666667</td>\n",
       "    </tr>\n",
       "    <tr>\n",
       "      <th>856</th>\n",
       "      <td>3.65120</td>\n",
       "      <td>380.784</td>\n",
       "      <td>5.0</td>\n",
       "      <td>0.000000</td>\n",
       "    </tr>\n",
       "    <tr>\n",
       "      <th>857</th>\n",
       "      <td>3.47550</td>\n",
       "      <td>271.360</td>\n",
       "      <td>5.0</td>\n",
       "      <td>0.500000</td>\n",
       "    </tr>\n",
       "    <tr>\n",
       "      <th>858</th>\n",
       "      <td>5.14620</td>\n",
       "      <td>228.294</td>\n",
       "      <td>0.0</td>\n",
       "      <td>1.000000</td>\n",
       "    </tr>\n",
       "    <tr>\n",
       "      <th>859</th>\n",
       "      <td>2.83980</td>\n",
       "      <td>128.174</td>\n",
       "      <td>0.0</td>\n",
       "      <td>1.000000</td>\n",
       "    </tr>\n",
       "    <tr>\n",
       "      <th>860</th>\n",
       "      <td>4.25720</td>\n",
       "      <td>275.179</td>\n",
       "      <td>4.0</td>\n",
       "      <td>0.352941</td>\n",
       "    </tr>\n",
       "    <tr>\n",
       "      <th>861</th>\n",
       "      <td>2.67140</td>\n",
       "      <td>154.253</td>\n",
       "      <td>4.0</td>\n",
       "      <td>0.000000</td>\n",
       "    </tr>\n",
       "    <tr>\n",
       "      <th>862</th>\n",
       "      <td>2.11840</td>\n",
       "      <td>121.183</td>\n",
       "      <td>2.0</td>\n",
       "      <td>0.666667</td>\n",
       "    </tr>\n",
       "    <tr>\n",
       "      <th>863</th>\n",
       "      <td>2.65122</td>\n",
       "      <td>266.304</td>\n",
       "      <td>1.0</td>\n",
       "      <td>0.600000</td>\n",
       "    </tr>\n",
       "    <tr>\n",
       "      <th>864</th>\n",
       "      <td>3.85950</td>\n",
       "      <td>327.123</td>\n",
       "      <td>3.0</td>\n",
       "      <td>0.571429</td>\n",
       "    </tr>\n",
       "    <tr>\n",
       "      <th>865</th>\n",
       "      <td>0.18050</td>\n",
       "      <td>122.127</td>\n",
       "      <td>1.0</td>\n",
       "      <td>0.666667</td>\n",
       "    </tr>\n",
       "    <tr>\n",
       "      <th>866</th>\n",
       "      <td>2.17560</td>\n",
       "      <td>346.339</td>\n",
       "      <td>4.0</td>\n",
       "      <td>0.240000</td>\n",
       "    </tr>\n",
       "    <tr>\n",
       "      <th>867</th>\n",
       "      <td>0.99590</td>\n",
       "      <td>156.097</td>\n",
       "      <td>2.0</td>\n",
       "      <td>0.454545</td>\n",
       "    </tr>\n",
       "    <tr>\n",
       "      <th>868</th>\n",
       "      <td>2.40860</td>\n",
       "      <td>295.298</td>\n",
       "      <td>2.0</td>\n",
       "      <td>0.545455</td>\n",
       "    </tr>\n",
       "    <tr>\n",
       "      <th>869</th>\n",
       "      <td>0.58090</td>\n",
       "      <td>214.206</td>\n",
       "      <td>2.0</td>\n",
       "      <td>0.357143</td>\n",
       "    </tr>\n",
       "    <tr>\n",
       "      <th>870</th>\n",
       "      <td>2.95020</td>\n",
       "      <td>322.243</td>\n",
       "      <td>5.0</td>\n",
       "      <td>0.272727</td>\n",
       "    </tr>\n",
       "    <tr>\n",
       "      <th>871</th>\n",
       "      <td>3.56170</td>\n",
       "      <td>230.909</td>\n",
       "      <td>0.0</td>\n",
       "      <td>0.545455</td>\n",
       "    </tr>\n",
       "    <tr>\n",
       "      <th>872</th>\n",
       "      <td>2.38430</td>\n",
       "      <td>281.271</td>\n",
       "      <td>2.0</td>\n",
       "      <td>0.571429</td>\n",
       "    </tr>\n",
       "    <tr>\n",
       "      <th>873</th>\n",
       "      <td>1.59480</td>\n",
       "      <td>123.111</td>\n",
       "      <td>1.0</td>\n",
       "      <td>0.666667</td>\n",
       "    </tr>\n",
       "    <tr>\n",
       "      <th>874</th>\n",
       "      <td>0.28300</td>\n",
       "      <td>75.067</td>\n",
       "      <td>1.0</td>\n",
       "      <td>0.000000</td>\n",
       "    </tr>\n",
       "    <tr>\n",
       "      <th>875</th>\n",
       "      <td>4.69390</td>\n",
       "      <td>284.098</td>\n",
       "      <td>3.0</td>\n",
       "      <td>0.666667</td>\n",
       "    </tr>\n",
       "    <tr>\n",
       "      <th>876</th>\n",
       "      <td>0.07350</td>\n",
       "      <td>238.159</td>\n",
       "      <td>3.0</td>\n",
       "      <td>0.294118</td>\n",
       "    </tr>\n",
       "    <tr>\n",
       "      <th>877</th>\n",
       "      <td>-1.02010</td>\n",
       "      <td>227.085</td>\n",
       "      <td>8.0</td>\n",
       "      <td>0.000000</td>\n",
       "    </tr>\n",
       "    <tr>\n",
       "      <th>878</th>\n",
       "      <td>-0.10710</td>\n",
       "      <td>61.040</td>\n",
       "      <td>0.0</td>\n",
       "      <td>0.000000</td>\n",
       "    </tr>\n",
       "    <tr>\n",
       "      <th>879</th>\n",
       "      <td>1.72830</td>\n",
       "      <td>107.156</td>\n",
       "      <td>1.0</td>\n",
       "      <td>0.750000</td>\n",
       "    </tr>\n",
       "    <tr>\n",
       "      <th>880</th>\n",
       "      <td>3.75690</td>\n",
       "      <td>128.259</td>\n",
       "      <td>6.0</td>\n",
       "      <td>0.000000</td>\n",
       "    </tr>\n",
       "    <tr>\n",
       "      <th>881</th>\n",
       "      <td>4.28940</td>\n",
       "      <td>511.581</td>\n",
       "      <td>5.0</td>\n",
       "      <td>0.615385</td>\n",
       "    </tr>\n",
       "    <tr>\n",
       "      <th>882</th>\n",
       "      <td>2.08230</td>\n",
       "      <td>222.332</td>\n",
       "      <td>1.0</td>\n",
       "      <td>0.000000</td>\n",
       "    </tr>\n",
       "    <tr>\n",
       "      <th>883</th>\n",
       "      <td>4.06330</td>\n",
       "      <td>340.463</td>\n",
       "      <td>1.0</td>\n",
       "      <td>0.000000</td>\n",
       "    </tr>\n",
       "    <tr>\n",
       "      <th>884</th>\n",
       "      <td>2.60740</td>\n",
       "      <td>314.425</td>\n",
       "      <td>0.0</td>\n",
       "      <td>0.000000</td>\n",
       "    </tr>\n",
       "    <tr>\n",
       "      <th>885</th>\n",
       "      <td>2.94640</td>\n",
       "      <td>303.671</td>\n",
       "      <td>2.0</td>\n",
       "      <td>0.600000</td>\n",
       "    </tr>\n",
       "    <tr>\n",
       "      <th>886</th>\n",
       "      <td>5.92900</td>\n",
       "      <td>320.046</td>\n",
       "      <td>3.0</td>\n",
       "      <td>0.666667</td>\n",
       "    </tr>\n",
       "    <tr>\n",
       "      <th>887</th>\n",
       "      <td>0.97440</td>\n",
       "      <td>109.128</td>\n",
       "      <td>0.0</td>\n",
       "      <td>0.750000</td>\n",
       "    </tr>\n",
       "    <tr>\n",
       "      <th>888</th>\n",
       "      <td>1.92220</td>\n",
       "      <td>127.574</td>\n",
       "      <td>0.0</td>\n",
       "      <td>0.750000</td>\n",
       "    </tr>\n",
       "    <tr>\n",
       "      <th>889</th>\n",
       "      <td>3.10250</td>\n",
       "      <td>191.455</td>\n",
       "      <td>0.0</td>\n",
       "      <td>0.750000</td>\n",
       "    </tr>\n",
       "    <tr>\n",
       "      <th>890</th>\n",
       "      <td>2.94460</td>\n",
       "      <td>238.455</td>\n",
       "      <td>0.0</td>\n",
       "      <td>0.750000</td>\n",
       "    </tr>\n",
       "    <tr>\n",
       "      <th>891</th>\n",
       "      <td>2.24820</td>\n",
       "      <td>157.556</td>\n",
       "      <td>1.0</td>\n",
       "      <td>0.600000</td>\n",
       "    </tr>\n",
       "    <tr>\n",
       "      <th>892</th>\n",
       "      <td>3.36680</td>\n",
       "      <td>114.232</td>\n",
       "      <td>5.0</td>\n",
       "      <td>0.000000</td>\n",
       "    </tr>\n",
       "    <tr>\n",
       "      <th>893</th>\n",
       "      <td>0.10160</td>\n",
       "      <td>89.094</td>\n",
       "      <td>1.0</td>\n",
       "      <td>0.000000</td>\n",
       "    </tr>\n",
       "    <tr>\n",
       "      <th>894</th>\n",
       "      <td>2.58820</td>\n",
       "      <td>175.000</td>\n",
       "      <td>0.0</td>\n",
       "      <td>0.750000</td>\n",
       "    </tr>\n",
       "    <tr>\n",
       "      <th>895</th>\n",
       "      <td>0.49110</td>\n",
       "      <td>137.138</td>\n",
       "      <td>1.0</td>\n",
       "      <td>0.600000</td>\n",
       "    </tr>\n",
       "    <tr>\n",
       "      <th>896</th>\n",
       "      <td>1.40080</td>\n",
       "      <td>124.139</td>\n",
       "      <td>1.0</td>\n",
       "      <td>0.666667</td>\n",
       "    </tr>\n",
       "    <tr>\n",
       "      <th>897</th>\n",
       "      <td>1.17700</td>\n",
       "      <td>138.126</td>\n",
       "      <td>1.0</td>\n",
       "      <td>0.600000</td>\n",
       "    </tr>\n",
       "    <tr>\n",
       "      <th>898</th>\n",
       "      <td>1.60340</td>\n",
       "      <td>153.137</td>\n",
       "      <td>2.0</td>\n",
       "      <td>0.545455</td>\n",
       "    </tr>\n",
       "    <tr>\n",
       "      <th>899</th>\n",
       "      <td>1.30040</td>\n",
       "      <td>139.110</td>\n",
       "      <td>1.0</td>\n",
       "      <td>0.600000</td>\n",
       "    </tr>\n",
       "    <tr>\n",
       "      <th>900</th>\n",
       "      <td>1.90322</td>\n",
       "      <td>137.138</td>\n",
       "      <td>1.0</td>\n",
       "      <td>0.600000</td>\n",
       "    </tr>\n",
       "    <tr>\n",
       "      <th>901</th>\n",
       "      <td>1.77680</td>\n",
       "      <td>346.365</td>\n",
       "      <td>8.0</td>\n",
       "      <td>0.260870</td>\n",
       "    </tr>\n",
       "    <tr>\n",
       "      <th>902</th>\n",
       "      <td>3.31030</td>\n",
       "      <td>244.290</td>\n",
       "      <td>3.0</td>\n",
       "      <td>0.555556</td>\n",
       "    </tr>\n",
       "    <tr>\n",
       "      <th>903</th>\n",
       "      <td>1.57722</td>\n",
       "      <td>107.156</td>\n",
       "      <td>0.0</td>\n",
       "      <td>0.750000</td>\n",
       "    </tr>\n",
       "    <tr>\n",
       "      <th>904</th>\n",
       "      <td>4.21700</td>\n",
       "      <td>345.226</td>\n",
       "      <td>3.0</td>\n",
       "      <td>0.500000</td>\n",
       "    </tr>\n",
       "    <tr>\n",
       "      <th>905</th>\n",
       "      <td>0.10710</td>\n",
       "      <td>219.266</td>\n",
       "      <td>1.0</td>\n",
       "      <td>0.000000</td>\n",
       "    </tr>\n",
       "    <tr>\n",
       "      <th>906</th>\n",
       "      <td>2.44790</td>\n",
       "      <td>286.718</td>\n",
       "      <td>1.0</td>\n",
       "      <td>0.600000</td>\n",
       "    </tr>\n",
       "    <tr>\n",
       "      <th>907</th>\n",
       "      <td>1.30160</td>\n",
       "      <td>267.306</td>\n",
       "      <td>2.0</td>\n",
       "      <td>0.333333</td>\n",
       "    </tr>\n",
       "    <tr>\n",
       "      <th>908</th>\n",
       "      <td>2.30344</td>\n",
       "      <td>106.168</td>\n",
       "      <td>0.0</td>\n",
       "      <td>0.750000</td>\n",
       "    </tr>\n",
       "    <tr>\n",
       "      <th>909</th>\n",
       "      <td>3.49340</td>\n",
       "      <td>324.380</td>\n",
       "      <td>5.0</td>\n",
       "      <td>0.500000</td>\n",
       "    </tr>\n",
       "    <tr>\n",
       "      <th>910</th>\n",
       "      <td>2.51800</td>\n",
       "      <td>184.242</td>\n",
       "      <td>1.0</td>\n",
       "      <td>0.857143</td>\n",
       "    </tr>\n",
       "    <tr>\n",
       "      <th>911</th>\n",
       "      <td>5.92900</td>\n",
       "      <td>320.046</td>\n",
       "      <td>3.0</td>\n",
       "      <td>0.666667</td>\n",
       "    </tr>\n",
       "    <tr>\n",
       "      <th>912</th>\n",
       "      <td>6.18790</td>\n",
       "      <td>318.030</td>\n",
       "      <td>2.0</td>\n",
       "      <td>0.666667</td>\n",
       "    </tr>\n",
       "    <tr>\n",
       "      <th>913</th>\n",
       "      <td>0.97440</td>\n",
       "      <td>109.128</td>\n",
       "      <td>0.0</td>\n",
       "      <td>0.750000</td>\n",
       "    </tr>\n",
       "    <tr>\n",
       "      <th>914</th>\n",
       "      <td>-1.64760</td>\n",
       "      <td>114.060</td>\n",
       "      <td>0.0</td>\n",
       "      <td>0.000000</td>\n",
       "    </tr>\n",
       "    <tr>\n",
       "      <th>915</th>\n",
       "      <td>3.27110</td>\n",
       "      <td>291.265</td>\n",
       "      <td>7.0</td>\n",
       "      <td>0.333333</td>\n",
       "    </tr>\n",
       "    <tr>\n",
       "      <th>916</th>\n",
       "      <td>2.51800</td>\n",
       "      <td>184.242</td>\n",
       "      <td>1.0</td>\n",
       "      <td>0.857143</td>\n",
       "    </tr>\n",
       "    <tr>\n",
       "      <th>917</th>\n",
       "      <td>2.40750</td>\n",
       "      <td>214.062</td>\n",
       "      <td>1.0</td>\n",
       "      <td>0.545455</td>\n",
       "    </tr>\n",
       "    <tr>\n",
       "      <th>918</th>\n",
       "      <td>3.05370</td>\n",
       "      <td>282.906</td>\n",
       "      <td>0.0</td>\n",
       "      <td>0.750000</td>\n",
       "    </tr>\n",
       "    <tr>\n",
       "      <th>919</th>\n",
       "      <td>2.29840</td>\n",
       "      <td>169.611</td>\n",
       "      <td>1.0</td>\n",
       "      <td>0.545455</td>\n",
       "    </tr>\n",
       "    <tr>\n",
       "      <th>920</th>\n",
       "      <td>1.92220</td>\n",
       "      <td>127.574</td>\n",
       "      <td>0.0</td>\n",
       "      <td>0.750000</td>\n",
       "    </tr>\n",
       "    <tr>\n",
       "      <th>921</th>\n",
       "      <td>3.10250</td>\n",
       "      <td>191.455</td>\n",
       "      <td>0.0</td>\n",
       "      <td>0.750000</td>\n",
       "    </tr>\n",
       "    <tr>\n",
       "      <th>922</th>\n",
       "      <td>2.94460</td>\n",
       "      <td>238.455</td>\n",
       "      <td>0.0</td>\n",
       "      <td>0.750000</td>\n",
       "    </tr>\n",
       "    <tr>\n",
       "      <th>923</th>\n",
       "      <td>2.24820</td>\n",
       "      <td>157.556</td>\n",
       "      <td>1.0</td>\n",
       "      <td>0.600000</td>\n",
       "    </tr>\n",
       "    <tr>\n",
       "      <th>924</th>\n",
       "      <td>1.70062</td>\n",
       "      <td>108.140</td>\n",
       "      <td>0.0</td>\n",
       "      <td>0.750000</td>\n",
       "    </tr>\n",
       "    <tr>\n",
       "      <th>925</th>\n",
       "      <td>3.37160</td>\n",
       "      <td>203.351</td>\n",
       "      <td>6.0</td>\n",
       "      <td>0.000000</td>\n",
       "    </tr>\n",
       "    <tr>\n",
       "      <th>926</th>\n",
       "      <td>5.31670</td>\n",
       "      <td>328.843</td>\n",
       "      <td>4.0</td>\n",
       "      <td>0.521739</td>\n",
       "    </tr>\n",
       "    <tr>\n",
       "      <th>927</th>\n",
       "      <td>4.95360</td>\n",
       "      <td>250.339</td>\n",
       "      <td>0.0</td>\n",
       "      <td>0.545455</td>\n",
       "    </tr>\n",
       "    <tr>\n",
       "      <th>928</th>\n",
       "      <td>3.16030</td>\n",
       "      <td>202.295</td>\n",
       "      <td>0.0</td>\n",
       "      <td>0.000000</td>\n",
       "    </tr>\n",
       "    <tr>\n",
       "      <th>929</th>\n",
       "      <td>4.65920</td>\n",
       "      <td>266.338</td>\n",
       "      <td>0.0</td>\n",
       "      <td>0.500000</td>\n",
       "    </tr>\n",
       "    <tr>\n",
       "      <th>930</th>\n",
       "      <td>3.22870</td>\n",
       "      <td>148.249</td>\n",
       "      <td>0.0</td>\n",
       "      <td>0.545455</td>\n",
       "    </tr>\n",
       "    <tr>\n",
       "      <th>931</th>\n",
       "      <td>2.19650</td>\n",
       "      <td>72.151</td>\n",
       "      <td>2.0</td>\n",
       "      <td>0.000000</td>\n",
       "    </tr>\n",
       "    <tr>\n",
       "      <th>932</th>\n",
       "      <td>1.18500</td>\n",
       "      <td>226.276</td>\n",
       "      <td>4.0</td>\n",
       "      <td>0.000000</td>\n",
       "    </tr>\n",
       "    <tr>\n",
       "      <th>933</th>\n",
       "      <td>1.73970</td>\n",
       "      <td>130.187</td>\n",
       "      <td>4.0</td>\n",
       "      <td>0.000000</td>\n",
       "    </tr>\n",
       "    <tr>\n",
       "      <th>934</th>\n",
       "      <td>1.73970</td>\n",
       "      <td>130.187</td>\n",
       "      <td>4.0</td>\n",
       "      <td>0.000000</td>\n",
       "    </tr>\n",
       "    <tr>\n",
       "      <th>935</th>\n",
       "      <td>3.41930</td>\n",
       "      <td>148.249</td>\n",
       "      <td>4.0</td>\n",
       "      <td>0.545455</td>\n",
       "    </tr>\n",
       "    <tr>\n",
       "      <th>936</th>\n",
       "      <td>3.75690</td>\n",
       "      <td>140.270</td>\n",
       "      <td>4.0</td>\n",
       "      <td>0.000000</td>\n",
       "    </tr>\n",
       "    <tr>\n",
       "      <th>937</th>\n",
       "      <td>3.08932</td>\n",
       "      <td>379.381</td>\n",
       "      <td>4.0</td>\n",
       "      <td>0.500000</td>\n",
       "    </tr>\n",
       "    <tr>\n",
       "      <th>938</th>\n",
       "      <td>6.11330</td>\n",
       "      <td>391.294</td>\n",
       "      <td>6.0</td>\n",
       "      <td>0.461538</td>\n",
       "    </tr>\n",
       "    <tr>\n",
       "      <th>939</th>\n",
       "      <td>5.73720</td>\n",
       "      <td>252.316</td>\n",
       "      <td>0.0</td>\n",
       "      <td>1.000000</td>\n",
       "    </tr>\n",
       "    <tr>\n",
       "      <th>940</th>\n",
       "      <td>1.78410</td>\n",
       "      <td>153.156</td>\n",
       "      <td>1.0</td>\n",
       "      <td>0.545455</td>\n",
       "    </tr>\n",
       "    <tr>\n",
       "      <th>941</th>\n",
       "      <td>2.04370</td>\n",
       "      <td>179.219</td>\n",
       "      <td>3.0</td>\n",
       "      <td>0.461538</td>\n",
       "    </tr>\n",
       "    <tr>\n",
       "      <th>942</th>\n",
       "      <td>3.99300</td>\n",
       "      <td>178.234</td>\n",
       "      <td>0.0</td>\n",
       "      <td>1.000000</td>\n",
       "    </tr>\n",
       "    <tr>\n",
       "      <th>943</th>\n",
       "      <td>3.38800</td>\n",
       "      <td>179.222</td>\n",
       "      <td>0.0</td>\n",
       "      <td>1.000000</td>\n",
       "    </tr>\n",
       "    <tr>\n",
       "      <th>944</th>\n",
       "      <td>2.08530</td>\n",
       "      <td>122.167</td>\n",
       "      <td>2.0</td>\n",
       "      <td>0.666667</td>\n",
       "    </tr>\n",
       "    <tr>\n",
       "      <th>945</th>\n",
       "      <td>3.78422</td>\n",
       "      <td>300.314</td>\n",
       "      <td>3.0</td>\n",
       "      <td>0.545455</td>\n",
       "    </tr>\n",
       "    <tr>\n",
       "      <th>946</th>\n",
       "      <td>0.70040</td>\n",
       "      <td>232.239</td>\n",
       "      <td>2.0</td>\n",
       "      <td>0.352941</td>\n",
       "    </tr>\n",
       "    <tr>\n",
       "      <th>947</th>\n",
       "      <td>1.39220</td>\n",
       "      <td>94.113</td>\n",
       "      <td>0.0</td>\n",
       "      <td>0.857143</td>\n",
       "    </tr>\n",
       "    <tr>\n",
       "      <th>948</th>\n",
       "      <td>3.56010</td>\n",
       "      <td>318.328</td>\n",
       "      <td>2.0</td>\n",
       "      <td>0.750000</td>\n",
       "    </tr>\n",
       "    <tr>\n",
       "      <th>949</th>\n",
       "      <td>5.76050</td>\n",
       "      <td>350.458</td>\n",
       "      <td>6.0</td>\n",
       "      <td>0.461538</td>\n",
       "    </tr>\n",
       "    <tr>\n",
       "      <th>950</th>\n",
       "      <td>3.78780</td>\n",
       "      <td>308.381</td>\n",
       "      <td>5.0</td>\n",
       "      <td>0.521739</td>\n",
       "    </tr>\n",
       "    <tr>\n",
       "      <th>951</th>\n",
       "      <td>0.97220</td>\n",
       "      <td>108.144</td>\n",
       "      <td>1.0</td>\n",
       "      <td>0.750000</td>\n",
       "    </tr>\n",
       "    <tr>\n",
       "      <th>952</th>\n",
       "      <td>1.17890</td>\n",
       "      <td>108.140</td>\n",
       "      <td>1.0</td>\n",
       "      <td>0.750000</td>\n",
       "    </tr>\n",
       "    <tr>\n",
       "      <th>953</th>\n",
       "      <td>1.34210</td>\n",
       "      <td>152.222</td>\n",
       "      <td>1.0</td>\n",
       "      <td>0.600000</td>\n",
       "    </tr>\n",
       "    <tr>\n",
       "      <th>954</th>\n",
       "      <td>1.76960</td>\n",
       "      <td>252.273</td>\n",
       "      <td>2.0</td>\n",
       "      <td>0.631579</td>\n",
       "    </tr>\n",
       "    <tr>\n",
       "      <th>955</th>\n",
       "      <td>3.72770</td>\n",
       "      <td>260.386</td>\n",
       "      <td>8.0</td>\n",
       "      <td>0.000000</td>\n",
       "    </tr>\n",
       "    <tr>\n",
       "      <th>956</th>\n",
       "      <td>4.23610</td>\n",
       "      <td>367.816</td>\n",
       "      <td>7.0</td>\n",
       "      <td>0.428571</td>\n",
       "    </tr>\n",
       "    <tr>\n",
       "      <th>957</th>\n",
       "      <td>3.22838</td>\n",
       "      <td>298.304</td>\n",
       "      <td>7.0</td>\n",
       "      <td>0.315789</td>\n",
       "    </tr>\n",
       "    <tr>\n",
       "      <th>958</th>\n",
       "      <td>0.00120</td>\n",
       "      <td>149.149</td>\n",
       "      <td>0.0</td>\n",
       "      <td>0.000000</td>\n",
       "    </tr>\n",
       "    <tr>\n",
       "      <th>959</th>\n",
       "      <td>0.57020</td>\n",
       "      <td>147.133</td>\n",
       "      <td>0.0</td>\n",
       "      <td>0.545455</td>\n",
       "    </tr>\n",
       "    <tr>\n",
       "      <th>960</th>\n",
       "      <td>1.42996</td>\n",
       "      <td>128.134</td>\n",
       "      <td>0.0</td>\n",
       "      <td>0.600000</td>\n",
       "    </tr>\n",
       "    <tr>\n",
       "      <th>961</th>\n",
       "      <td>1.35060</td>\n",
       "      <td>151.165</td>\n",
       "      <td>1.0</td>\n",
       "      <td>0.545455</td>\n",
       "    </tr>\n",
       "    <tr>\n",
       "      <th>962</th>\n",
       "      <td>1.20470</td>\n",
       "      <td>122.123</td>\n",
       "      <td>1.0</td>\n",
       "      <td>0.666667</td>\n",
       "    </tr>\n",
       "    <tr>\n",
       "      <th>963</th>\n",
       "      <td>6.29940</td>\n",
       "      <td>278.354</td>\n",
       "      <td>0.0</td>\n",
       "      <td>1.000000</td>\n",
       "    </tr>\n",
       "    <tr>\n",
       "      <th>964</th>\n",
       "      <td>2.99720</td>\n",
       "      <td>285.343</td>\n",
       "      <td>3.0</td>\n",
       "      <td>0.285714</td>\n",
       "    </tr>\n",
       "    <tr>\n",
       "      <th>965</th>\n",
       "      <td>1.22780</td>\n",
       "      <td>150.133</td>\n",
       "      <td>1.0</td>\n",
       "      <td>0.545455</td>\n",
       "    </tr>\n",
       "    <tr>\n",
       "      <th>966</th>\n",
       "      <td>4.19830</td>\n",
       "      <td>353.490</td>\n",
       "      <td>9.0</td>\n",
       "      <td>0.000000</td>\n",
       "    </tr>\n",
       "    <tr>\n",
       "      <th>967</th>\n",
       "      <td>1.21984</td>\n",
       "      <td>238.291</td>\n",
       "      <td>2.0</td>\n",
       "      <td>0.352941</td>\n",
       "    </tr>\n",
       "    <tr>\n",
       "      <th>968</th>\n",
       "      <td>1.58100</td>\n",
       "      <td>331.353</td>\n",
       "      <td>2.0</td>\n",
       "      <td>0.521739</td>\n",
       "    </tr>\n",
       "    <tr>\n",
       "      <th>969</th>\n",
       "      <td>1.50770</td>\n",
       "      <td>136.150</td>\n",
       "      <td>2.0</td>\n",
       "      <td>0.600000</td>\n",
       "    </tr>\n",
       "    <tr>\n",
       "      <th>970</th>\n",
       "      <td>1.57722</td>\n",
       "      <td>107.156</td>\n",
       "      <td>0.0</td>\n",
       "      <td>0.750000</td>\n",
       "    </tr>\n",
       "    <tr>\n",
       "      <th>971</th>\n",
       "      <td>1.17700</td>\n",
       "      <td>138.126</td>\n",
       "      <td>1.0</td>\n",
       "      <td>0.600000</td>\n",
       "    </tr>\n",
       "    <tr>\n",
       "      <th>972</th>\n",
       "      <td>1.60340</td>\n",
       "      <td>153.137</td>\n",
       "      <td>2.0</td>\n",
       "      <td>0.545455</td>\n",
       "    </tr>\n",
       "    <tr>\n",
       "      <th>973</th>\n",
       "      <td>1.30040</td>\n",
       "      <td>139.110</td>\n",
       "      <td>1.0</td>\n",
       "      <td>0.600000</td>\n",
       "    </tr>\n",
       "    <tr>\n",
       "      <th>974</th>\n",
       "      <td>1.90322</td>\n",
       "      <td>137.138</td>\n",
       "      <td>1.0</td>\n",
       "      <td>0.600000</td>\n",
       "    </tr>\n",
       "    <tr>\n",
       "      <th>975</th>\n",
       "      <td>3.05920</td>\n",
       "      <td>170.211</td>\n",
       "      <td>1.0</td>\n",
       "      <td>0.923077</td>\n",
       "    </tr>\n",
       "    <tr>\n",
       "      <th>976</th>\n",
       "      <td>3.87920</td>\n",
       "      <td>288.431</td>\n",
       "      <td>0.0</td>\n",
       "      <td>0.000000</td>\n",
       "    </tr>\n",
       "    <tr>\n",
       "      <th>977</th>\n",
       "      <td>1.55760</td>\n",
       "      <td>360.450</td>\n",
       "      <td>2.0</td>\n",
       "      <td>0.000000</td>\n",
       "    </tr>\n",
       "    <tr>\n",
       "      <th>978</th>\n",
       "      <td>2.12840</td>\n",
       "      <td>402.487</td>\n",
       "      <td>3.0</td>\n",
       "      <td>0.000000</td>\n",
       "    </tr>\n",
       "    <tr>\n",
       "      <th>979</th>\n",
       "      <td>4.51530</td>\n",
       "      <td>316.485</td>\n",
       "      <td>1.0</td>\n",
       "      <td>0.000000</td>\n",
       "    </tr>\n",
       "    <tr>\n",
       "      <th>980</th>\n",
       "      <td>0.53790</td>\n",
       "      <td>218.256</td>\n",
       "      <td>2.0</td>\n",
       "      <td>0.375000</td>\n",
       "    </tr>\n",
       "    <tr>\n",
       "      <th>981</th>\n",
       "      <td>0.40480</td>\n",
       "      <td>198.222</td>\n",
       "      <td>2.0</td>\n",
       "      <td>0.000000</td>\n",
       "    </tr>\n",
       "    <tr>\n",
       "      <th>982</th>\n",
       "      <td>3.28290</td>\n",
       "      <td>284.142</td>\n",
       "      <td>1.0</td>\n",
       "      <td>0.333333</td>\n",
       "    </tr>\n",
       "    <tr>\n",
       "      <th>983</th>\n",
       "      <td>4.72350</td>\n",
       "      <td>314.469</td>\n",
       "      <td>1.0</td>\n",
       "      <td>0.000000</td>\n",
       "    </tr>\n",
       "    <tr>\n",
       "      <th>984</th>\n",
       "      <td>1.52080</td>\n",
       "      <td>225.296</td>\n",
       "      <td>5.0</td>\n",
       "      <td>0.375000</td>\n",
       "    </tr>\n",
       "    <tr>\n",
       "      <th>985</th>\n",
       "      <td>2.23410</td>\n",
       "      <td>241.364</td>\n",
       "      <td>5.0</td>\n",
       "      <td>0.375000</td>\n",
       "    </tr>\n",
       "    <tr>\n",
       "      <th>986</th>\n",
       "      <td>2.66680</td>\n",
       "      <td>211.692</td>\n",
       "      <td>3.0</td>\n",
       "      <td>0.428571</td>\n",
       "    </tr>\n",
       "    <tr>\n",
       "      <th>987</th>\n",
       "      <td>1.41630</td>\n",
       "      <td>44.097</td>\n",
       "      <td>0.0</td>\n",
       "      <td>0.000000</td>\n",
       "    </tr>\n",
       "    <tr>\n",
       "      <th>988</th>\n",
       "      <td>3.34190</td>\n",
       "      <td>218.083</td>\n",
       "      <td>2.0</td>\n",
       "      <td>0.461538</td>\n",
       "    </tr>\n",
       "    <tr>\n",
       "      <th>989</th>\n",
       "      <td>2.16560</td>\n",
       "      <td>229.715</td>\n",
       "      <td>4.0</td>\n",
       "      <td>0.400000</td>\n",
       "    </tr>\n",
       "    <tr>\n",
       "      <th>990</th>\n",
       "      <td>2.33880</td>\n",
       "      <td>281.314</td>\n",
       "      <td>7.0</td>\n",
       "      <td>0.000000</td>\n",
       "    </tr>\n",
       "    <tr>\n",
       "      <th>991</th>\n",
       "      <td>3.65340</td>\n",
       "      <td>342.226</td>\n",
       "      <td>5.0</td>\n",
       "      <td>0.500000</td>\n",
       "    </tr>\n",
       "    <tr>\n",
       "      <th>992</th>\n",
       "      <td>0.59530</td>\n",
       "      <td>58.080</td>\n",
       "      <td>1.0</td>\n",
       "      <td>0.000000</td>\n",
       "    </tr>\n",
       "    <tr>\n",
       "      <th>993</th>\n",
       "      <td>0.91998</td>\n",
       "      <td>55.080</td>\n",
       "      <td>0.0</td>\n",
       "      <td>0.000000</td>\n",
       "    </tr>\n",
       "    <tr>\n",
       "      <th>994</th>\n",
       "      <td>2.19200</td>\n",
       "      <td>209.245</td>\n",
       "      <td>3.0</td>\n",
       "      <td>0.400000</td>\n",
       "    </tr>\n",
       "    <tr>\n",
       "      <th>995</th>\n",
       "      <td>0.95950</td>\n",
       "      <td>102.133</td>\n",
       "      <td>2.0</td>\n",
       "      <td>0.000000</td>\n",
       "    </tr>\n",
       "    <tr>\n",
       "      <th>996</th>\n",
       "      <td>0.95950</td>\n",
       "      <td>102.133</td>\n",
       "      <td>2.0</td>\n",
       "      <td>0.000000</td>\n",
       "    </tr>\n",
       "    <tr>\n",
       "      <th>997</th>\n",
       "      <td>0.56940</td>\n",
       "      <td>88.106</td>\n",
       "      <td>3.0</td>\n",
       "      <td>0.000000</td>\n",
       "    </tr>\n",
       "    <tr>\n",
       "      <th>998</th>\n",
       "      <td>1.34960</td>\n",
       "      <td>116.160</td>\n",
       "      <td>3.0</td>\n",
       "      <td>0.000000</td>\n",
       "    </tr>\n",
       "    <tr>\n",
       "      <th>999</th>\n",
       "      <td>2.63910</td>\n",
       "      <td>120.195</td>\n",
       "      <td>2.0</td>\n",
       "      <td>0.666667</td>\n",
       "    </tr>\n",
       "    <tr>\n",
       "      <th>1000</th>\n",
       "      <td>2.97670</td>\n",
       "      <td>112.216</td>\n",
       "      <td>2.0</td>\n",
       "      <td>0.000000</td>\n",
       "    </tr>\n",
       "    <tr>\n",
       "      <th>1001</th>\n",
       "      <td>1.19230</td>\n",
       "      <td>42.081</td>\n",
       "      <td>0.0</td>\n",
       "      <td>0.000000</td>\n",
       "    </tr>\n",
       "    <tr>\n",
       "      <th>1002</th>\n",
       "      <td>1.82140</td>\n",
       "      <td>102.177</td>\n",
       "      <td>3.0</td>\n",
       "      <td>0.000000</td>\n",
       "    </tr>\n",
       "    <tr>\n",
       "      <th>1003</th>\n",
       "      <td>0.63950</td>\n",
       "      <td>40.065</td>\n",
       "      <td>0.0</td>\n",
       "      <td>0.000000</td>\n",
       "    </tr>\n",
       "    <tr>\n",
       "      <th>1004</th>\n",
       "      <td>2.68970</td>\n",
       "      <td>150.221</td>\n",
       "      <td>0.0</td>\n",
       "      <td>0.545455</td>\n",
       "    </tr>\n",
       "    <tr>\n",
       "      <th>1005</th>\n",
       "      <td>0.41980</td>\n",
       "      <td>132.126</td>\n",
       "      <td>0.0</td>\n",
       "      <td>1.000000</td>\n",
       "    </tr>\n",
       "    <tr>\n",
       "      <th>1006</th>\n",
       "      <td>5.02060</td>\n",
       "      <td>230.310</td>\n",
       "      <td>2.0</td>\n",
       "      <td>1.000000</td>\n",
       "    </tr>\n",
       "    <tr>\n",
       "      <th>1007</th>\n",
       "      <td>0.64242</td>\n",
       "      <td>171.221</td>\n",
       "      <td>1.0</td>\n",
       "      <td>0.545455</td>\n",
       "    </tr>\n",
       "    <tr>\n",
       "      <th>1008</th>\n",
       "      <td>2.30344</td>\n",
       "      <td>106.168</td>\n",
       "      <td>0.0</td>\n",
       "      <td>0.750000</td>\n",
       "    </tr>\n",
       "    <tr>\n",
       "      <th>1009</th>\n",
       "      <td>2.70950</td>\n",
       "      <td>217.268</td>\n",
       "      <td>2.0</td>\n",
       "      <td>0.375000</td>\n",
       "    </tr>\n",
       "    <tr>\n",
       "      <th>1010</th>\n",
       "      <td>-0.42450</td>\n",
       "      <td>123.115</td>\n",
       "      <td>1.0</td>\n",
       "      <td>0.666667</td>\n",
       "    </tr>\n",
       "    <tr>\n",
       "      <th>1011</th>\n",
       "      <td>1.46810</td>\n",
       "      <td>221.647</td>\n",
       "      <td>1.0</td>\n",
       "      <td>0.800000</td>\n",
       "    </tr>\n",
       "    <tr>\n",
       "      <th>1012</th>\n",
       "      <td>4.58400</td>\n",
       "      <td>202.256</td>\n",
       "      <td>0.0</td>\n",
       "      <td>1.000000</td>\n",
       "    </tr>\n",
       "    <tr>\n",
       "      <th>1013</th>\n",
       "      <td>0.47660</td>\n",
       "      <td>80.090</td>\n",
       "      <td>0.0</td>\n",
       "      <td>1.000000</td>\n",
       "    </tr>\n",
       "    <tr>\n",
       "      <th>1014</th>\n",
       "      <td>1.08160</td>\n",
       "      <td>79.102</td>\n",
       "      <td>0.0</td>\n",
       "      <td>1.000000</td>\n",
       "    </tr>\n",
       "    <tr>\n",
       "      <th>1015</th>\n",
       "      <td>0.47660</td>\n",
       "      <td>80.090</td>\n",
       "      <td>0.0</td>\n",
       "      <td>1.000000</td>\n",
       "    </tr>\n",
       "    <tr>\n",
       "      <th>1016</th>\n",
       "      <td>2.24112</td>\n",
       "      <td>245.282</td>\n",
       "      <td>2.0</td>\n",
       "      <td>0.611111</td>\n",
       "    </tr>\n",
       "    <tr>\n",
       "      <th>1017</th>\n",
       "      <td>0.87880</td>\n",
       "      <td>289.744</td>\n",
       "      <td>2.0</td>\n",
       "      <td>0.333333</td>\n",
       "    </tr>\n",
       "    <tr>\n",
       "      <th>1018</th>\n",
       "      <td>2.23480</td>\n",
       "      <td>129.162</td>\n",
       "      <td>0.0</td>\n",
       "      <td>1.000000</td>\n",
       "    </tr>\n",
       "    <tr>\n",
       "      <th>1019</th>\n",
       "      <td>2.82600</td>\n",
       "      <td>332.570</td>\n",
       "      <td>3.0</td>\n",
       "      <td>0.300000</td>\n",
       "    </tr>\n",
       "    <tr>\n",
       "      <th>1020</th>\n",
       "      <td>4.86180</td>\n",
       "      <td>295.336</td>\n",
       "      <td>1.0</td>\n",
       "      <td>0.428571</td>\n",
       "    </tr>\n",
       "    <tr>\n",
       "      <th>1021</th>\n",
       "      <td>-7.57140</td>\n",
       "      <td>504.438</td>\n",
       "      <td>8.0</td>\n",
       "      <td>0.000000</td>\n",
       "    </tr>\n",
       "    <tr>\n",
       "      <th>1022</th>\n",
       "      <td>1.49520</td>\n",
       "      <td>262.309</td>\n",
       "      <td>2.0</td>\n",
       "      <td>0.000000</td>\n",
       "    </tr>\n",
       "    <tr>\n",
       "      <th>1023</th>\n",
       "      <td>2.22460</td>\n",
       "      <td>254.293</td>\n",
       "      <td>1.0</td>\n",
       "      <td>0.631579</td>\n",
       "    </tr>\n",
       "    <tr>\n",
       "      <th>1024</th>\n",
       "      <td>0.13430</td>\n",
       "      <td>133.197</td>\n",
       "      <td>0.0</td>\n",
       "      <td>0.000000</td>\n",
       "    </tr>\n",
       "    <tr>\n",
       "      <th>1025</th>\n",
       "      <td>-1.72356</td>\n",
       "      <td>376.369</td>\n",
       "      <td>5.0</td>\n",
       "      <td>0.518519</td>\n",
       "    </tr>\n",
       "    <tr>\n",
       "      <th>1026</th>\n",
       "      <td>1.83560</td>\n",
       "      <td>179.219</td>\n",
       "      <td>3.0</td>\n",
       "      <td>0.461538</td>\n",
       "    </tr>\n",
       "    <tr>\n",
       "      <th>1027</th>\n",
       "      <td>4.54290</td>\n",
       "      <td>321.549</td>\n",
       "      <td>4.0</td>\n",
       "      <td>0.375000</td>\n",
       "    </tr>\n",
       "    <tr>\n",
       "      <th>1028</th>\n",
       "      <td>3.70330</td>\n",
       "      <td>394.423</td>\n",
       "      <td>3.0</td>\n",
       "      <td>0.413793</td>\n",
       "    </tr>\n",
       "    <tr>\n",
       "      <th>1029</th>\n",
       "      <td>2.88000</td>\n",
       "      <td>330.171</td>\n",
       "      <td>2.0</td>\n",
       "      <td>0.285714</td>\n",
       "    </tr>\n",
       "    <tr>\n",
       "      <th>1030</th>\n",
       "      <td>2.46390</td>\n",
       "      <td>226.235</td>\n",
       "      <td>0.0</td>\n",
       "      <td>0.705882</td>\n",
       "    </tr>\n",
       "    <tr>\n",
       "      <th>1031</th>\n",
       "      <td>2.95952</td>\n",
       "      <td>254.289</td>\n",
       "      <td>0.0</td>\n",
       "      <td>0.631579</td>\n",
       "    </tr>\n",
       "    <tr>\n",
       "      <th>1032</th>\n",
       "      <td>2.87800</td>\n",
       "      <td>288.738</td>\n",
       "      <td>1.0</td>\n",
       "      <td>0.600000</td>\n",
       "    </tr>\n",
       "    <tr>\n",
       "      <th>1033</th>\n",
       "      <td>3.52752</td>\n",
       "      <td>322.290</td>\n",
       "      <td>1.0</td>\n",
       "      <td>0.521739</td>\n",
       "    </tr>\n",
       "    <tr>\n",
       "      <th>1034</th>\n",
       "      <td>2.81714</td>\n",
       "      <td>268.320</td>\n",
       "      <td>1.0</td>\n",
       "      <td>0.600000</td>\n",
       "    </tr>\n",
       "    <tr>\n",
       "      <th>1035</th>\n",
       "      <td>2.75990</td>\n",
       "      <td>270.361</td>\n",
       "      <td>1.0</td>\n",
       "      <td>0.631579</td>\n",
       "    </tr>\n",
       "    <tr>\n",
       "      <th>1036</th>\n",
       "      <td>3.36490</td>\n",
       "      <td>269.373</td>\n",
       "      <td>1.0</td>\n",
       "      <td>0.631579</td>\n",
       "    </tr>\n",
       "    <tr>\n",
       "      <th>1037</th>\n",
       "      <td>3.43460</td>\n",
       "      <td>252.317</td>\n",
       "      <td>1.0</td>\n",
       "      <td>0.631579</td>\n",
       "    </tr>\n",
       "    <tr>\n",
       "      <th>1038</th>\n",
       "      <td>2.61470</td>\n",
       "      <td>268.320</td>\n",
       "      <td>2.0</td>\n",
       "      <td>0.600000</td>\n",
       "    </tr>\n",
       "    <tr>\n",
       "      <th>1039</th>\n",
       "      <td>3.20710</td>\n",
       "      <td>255.292</td>\n",
       "      <td>2.0</td>\n",
       "      <td>0.631579</td>\n",
       "    </tr>\n",
       "    <tr>\n",
       "      <th>1040</th>\n",
       "      <td>3.17972</td>\n",
       "      <td>296.374</td>\n",
       "      <td>2.0</td>\n",
       "      <td>0.545455</td>\n",
       "    </tr>\n",
       "    <tr>\n",
       "      <th>1041</th>\n",
       "      <td>3.12232</td>\n",
       "      <td>283.331</td>\n",
       "      <td>2.0</td>\n",
       "      <td>0.571429</td>\n",
       "    </tr>\n",
       "    <tr>\n",
       "      <th>1042</th>\n",
       "      <td>3.45870</td>\n",
       "      <td>273.723</td>\n",
       "      <td>1.0</td>\n",
       "      <td>0.631579</td>\n",
       "    </tr>\n",
       "    <tr>\n",
       "      <th>1043</th>\n",
       "      <td>2.35452</td>\n",
       "      <td>255.277</td>\n",
       "      <td>0.0</td>\n",
       "      <td>0.631579</td>\n",
       "    </tr>\n",
       "    <tr>\n",
       "      <th>1044</th>\n",
       "      <td>2.82960</td>\n",
       "      <td>253.305</td>\n",
       "      <td>1.0</td>\n",
       "      <td>0.631579</td>\n",
       "    </tr>\n",
       "    <tr>\n",
       "      <th>1045</th>\n",
       "      <td>1.62880</td>\n",
       "      <td>313.361</td>\n",
       "      <td>4.0</td>\n",
       "      <td>0.521739</td>\n",
       "    </tr>\n",
       "    <tr>\n",
       "      <th>1046</th>\n",
       "      <td>3.20710</td>\n",
       "      <td>255.292</td>\n",
       "      <td>2.0</td>\n",
       "      <td>0.631579</td>\n",
       "    </tr>\n",
       "    <tr>\n",
       "      <th>1047</th>\n",
       "      <td>3.45900</td>\n",
       "      <td>239.274</td>\n",
       "      <td>1.0</td>\n",
       "      <td>0.666667</td>\n",
       "    </tr>\n",
       "    <tr>\n",
       "      <th>1048</th>\n",
       "      <td>-1.64240</td>\n",
       "      <td>286.280</td>\n",
       "      <td>4.0</td>\n",
       "      <td>0.300000</td>\n",
       "    </tr>\n",
       "    <tr>\n",
       "      <th>1049</th>\n",
       "      <td>0.49110</td>\n",
       "      <td>137.138</td>\n",
       "      <td>1.0</td>\n",
       "      <td>0.600000</td>\n",
       "    </tr>\n",
       "    <tr>\n",
       "      <th>1050</th>\n",
       "      <td>2.64450</td>\n",
       "      <td>213.236</td>\n",
       "      <td>2.0</td>\n",
       "      <td>0.750000</td>\n",
       "    </tr>\n",
       "    <tr>\n",
       "      <th>1051</th>\n",
       "      <td>2.41960</td>\n",
       "      <td>246.306</td>\n",
       "      <td>0.0</td>\n",
       "      <td>0.000000</td>\n",
       "    </tr>\n",
       "    <tr>\n",
       "      <th>1052</th>\n",
       "      <td>1.35110</td>\n",
       "      <td>238.287</td>\n",
       "      <td>5.0</td>\n",
       "      <td>0.000000</td>\n",
       "    </tr>\n",
       "    <tr>\n",
       "      <th>1053</th>\n",
       "      <td>3.38680</td>\n",
       "      <td>232.327</td>\n",
       "      <td>2.0</td>\n",
       "      <td>0.352941</td>\n",
       "    </tr>\n",
       "    <tr>\n",
       "      <th>1054</th>\n",
       "      <td>1.38860</td>\n",
       "      <td>201.661</td>\n",
       "      <td>4.0</td>\n",
       "      <td>0.461538</td>\n",
       "    </tr>\n",
       "    <tr>\n",
       "      <th>1055</th>\n",
       "      <td>0.72550</td>\n",
       "      <td>213.310</td>\n",
       "      <td>3.0</td>\n",
       "      <td>0.428571</td>\n",
       "    </tr>\n",
       "    <tr>\n",
       "      <th>1056</th>\n",
       "      <td>-3.58540</td>\n",
       "      <td>182.172</td>\n",
       "      <td>5.0</td>\n",
       "      <td>0.000000</td>\n",
       "    </tr>\n",
       "    <tr>\n",
       "      <th>1057</th>\n",
       "      <td>-1.06888</td>\n",
       "      <td>361.445</td>\n",
       "      <td>8.0</td>\n",
       "      <td>0.260870</td>\n",
       "    </tr>\n",
       "    <tr>\n",
       "      <th>1058</th>\n",
       "      <td>4.85230</td>\n",
       "      <td>416.583</td>\n",
       "      <td>1.0</td>\n",
       "      <td>0.000000</td>\n",
       "    </tr>\n",
       "    <tr>\n",
       "      <th>1059</th>\n",
       "      <td>3.88840</td>\n",
       "      <td>293.407</td>\n",
       "      <td>9.0</td>\n",
       "      <td>0.285714</td>\n",
       "    </tr>\n",
       "    <tr>\n",
       "      <th>1060</th>\n",
       "      <td>3.95910</td>\n",
       "      <td>290.447</td>\n",
       "      <td>0.0</td>\n",
       "      <td>0.000000</td>\n",
       "    </tr>\n",
       "    <tr>\n",
       "      <th>1061</th>\n",
       "      <td>5.60150</td>\n",
       "      <td>365.964</td>\n",
       "      <td>5.0</td>\n",
       "      <td>0.315789</td>\n",
       "    </tr>\n",
       "    <tr>\n",
       "      <th>1062</th>\n",
       "      <td>2.32960</td>\n",
       "      <td>104.152</td>\n",
       "      <td>1.0</td>\n",
       "      <td>0.750000</td>\n",
       "    </tr>\n",
       "    <tr>\n",
       "      <th>1063</th>\n",
       "      <td>1.75790</td>\n",
       "      <td>120.151</td>\n",
       "      <td>1.0</td>\n",
       "      <td>0.666667</td>\n",
       "    </tr>\n",
       "    <tr>\n",
       "      <th>1064</th>\n",
       "      <td>-0.57700</td>\n",
       "      <td>99.089</td>\n",
       "      <td>0.0</td>\n",
       "      <td>0.000000</td>\n",
       "    </tr>\n",
       "    <tr>\n",
       "      <th>1065</th>\n",
       "      <td>-5.39560</td>\n",
       "      <td>342.297</td>\n",
       "      <td>5.0</td>\n",
       "      <td>0.000000</td>\n",
       "    </tr>\n",
       "    <tr>\n",
       "      <th>1066</th>\n",
       "      <td>-0.55943</td>\n",
       "      <td>214.250</td>\n",
       "      <td>2.0</td>\n",
       "      <td>0.428571</td>\n",
       "    </tr>\n",
       "    <tr>\n",
       "      <th>1067</th>\n",
       "      <td>3.09880</td>\n",
       "      <td>223.794</td>\n",
       "      <td>4.0</td>\n",
       "      <td>0.000000</td>\n",
       "    </tr>\n",
       "    <tr>\n",
       "      <th>1068</th>\n",
       "      <td>-0.08380</td>\n",
       "      <td>172.209</td>\n",
       "      <td>1.0</td>\n",
       "      <td>0.545455</td>\n",
       "    </tr>\n",
       "    <tr>\n",
       "      <th>1069</th>\n",
       "      <td>0.96100</td>\n",
       "      <td>224.260</td>\n",
       "      <td>4.0</td>\n",
       "      <td>0.000000</td>\n",
       "    </tr>\n",
       "    <tr>\n",
       "      <th>1070</th>\n",
       "      <td>2.98410</td>\n",
       "      <td>134.222</td>\n",
       "      <td>0.0</td>\n",
       "      <td>0.600000</td>\n",
       "    </tr>\n",
       "    <tr>\n",
       "      <th>1071</th>\n",
       "      <td>0.76140</td>\n",
       "      <td>70.091</td>\n",
       "      <td>1.0</td>\n",
       "      <td>0.000000</td>\n",
       "    </tr>\n",
       "    <tr>\n",
       "      <th>1072</th>\n",
       "      <td>4.51170</td>\n",
       "      <td>381.112</td>\n",
       "      <td>2.0</td>\n",
       "      <td>0.500000</td>\n",
       "    </tr>\n",
       "    <tr>\n",
       "      <th>1073</th>\n",
       "      <td>1.25342</td>\n",
       "      <td>216.668</td>\n",
       "      <td>0.0</td>\n",
       "      <td>0.428571</td>\n",
       "    </tr>\n",
       "    <tr>\n",
       "      <th>1074</th>\n",
       "      <td>4.50630</td>\n",
       "      <td>288.440</td>\n",
       "      <td>7.0</td>\n",
       "      <td>0.000000</td>\n",
       "    </tr>\n",
       "    <tr>\n",
       "      <th>1075</th>\n",
       "      <td>1.52240</td>\n",
       "      <td>225.296</td>\n",
       "      <td>4.0</td>\n",
       "      <td>0.375000</td>\n",
       "    </tr>\n",
       "    <tr>\n",
       "      <th>1076</th>\n",
       "      <td>2.23570</td>\n",
       "      <td>241.364</td>\n",
       "      <td>4.0</td>\n",
       "      <td>0.375000</td>\n",
       "    </tr>\n",
       "    <tr>\n",
       "      <th>1077</th>\n",
       "      <td>3.87920</td>\n",
       "      <td>288.431</td>\n",
       "      <td>0.0</td>\n",
       "      <td>0.000000</td>\n",
       "    </tr>\n",
       "    <tr>\n",
       "      <th>1078</th>\n",
       "      <td>4.45000</td>\n",
       "      <td>330.468</td>\n",
       "      <td>1.0</td>\n",
       "      <td>0.000000</td>\n",
       "    </tr>\n",
       "    <tr>\n",
       "      <th>1079</th>\n",
       "      <td>4.84010</td>\n",
       "      <td>344.495</td>\n",
       "      <td>2.0</td>\n",
       "      <td>0.000000</td>\n",
       "    </tr>\n",
       "    <tr>\n",
       "      <th>1080</th>\n",
       "      <td>3.17730</td>\n",
       "      <td>331.627</td>\n",
       "      <td>0.0</td>\n",
       "      <td>0.000000</td>\n",
       "    </tr>\n",
       "    <tr>\n",
       "      <th>1081</th>\n",
       "      <td>3.06820</td>\n",
       "      <td>165.834</td>\n",
       "      <td>0.0</td>\n",
       "      <td>0.000000</td>\n",
       "    </tr>\n",
       "    <tr>\n",
       "      <th>1082</th>\n",
       "      <td>4.01440</td>\n",
       "      <td>261.919</td>\n",
       "      <td>1.0</td>\n",
       "      <td>0.461538</td>\n",
       "    </tr>\n",
       "    <tr>\n",
       "      <th>1083</th>\n",
       "      <td>2.55290</td>\n",
       "      <td>153.823</td>\n",
       "      <td>0.0</td>\n",
       "      <td>0.000000</td>\n",
       "    </tr>\n",
       "    <tr>\n",
       "      <th>1084</th>\n",
       "      <td>5.70740</td>\n",
       "      <td>198.394</td>\n",
       "      <td>11.0</td>\n",
       "      <td>0.000000</td>\n",
       "    </tr>\n",
       "    <tr>\n",
       "      <th>1085</th>\n",
       "      <td>5.55182</td>\n",
       "      <td>418.736</td>\n",
       "      <td>4.0</td>\n",
       "      <td>0.222222</td>\n",
       "    </tr>\n",
       "    <tr>\n",
       "      <th>1086</th>\n",
       "      <td>0.79680</td>\n",
       "      <td>72.107</td>\n",
       "      <td>0.0</td>\n",
       "      <td>0.000000</td>\n",
       "    </tr>\n",
       "    <tr>\n",
       "      <th>1087</th>\n",
       "      <td>1.18690</td>\n",
       "      <td>86.134</td>\n",
       "      <td>0.0</td>\n",
       "      <td>0.000000</td>\n",
       "    </tr>\n",
       "    <tr>\n",
       "      <th>1088</th>\n",
       "      <td>0.22960</td>\n",
       "      <td>116.164</td>\n",
       "      <td>0.0</td>\n",
       "      <td>0.000000</td>\n",
       "    </tr>\n",
       "    <tr>\n",
       "      <th>1089</th>\n",
       "      <td>0.08780</td>\n",
       "      <td>258.233</td>\n",
       "      <td>1.0</td>\n",
       "      <td>0.315789</td>\n",
       "    </tr>\n",
       "    <tr>\n",
       "      <th>1090</th>\n",
       "      <td>-1.03970</td>\n",
       "      <td>180.167</td>\n",
       "      <td>0.0</td>\n",
       "      <td>0.692308</td>\n",
       "    </tr>\n",
       "    <tr>\n",
       "      <th>1091</th>\n",
       "      <td>-1.03970</td>\n",
       "      <td>180.167</td>\n",
       "      <td>0.0</td>\n",
       "      <td>0.692308</td>\n",
       "    </tr>\n",
       "    <tr>\n",
       "      <th>1092</th>\n",
       "      <td>0.40430</td>\n",
       "      <td>356.227</td>\n",
       "      <td>6.0</td>\n",
       "      <td>0.285714</td>\n",
       "    </tr>\n",
       "    <tr>\n",
       "      <th>1093</th>\n",
       "      <td>1.51600</td>\n",
       "      <td>254.355</td>\n",
       "      <td>5.0</td>\n",
       "      <td>0.000000</td>\n",
       "    </tr>\n",
       "    <tr>\n",
       "      <th>1094</th>\n",
       "      <td>2.40850</td>\n",
       "      <td>124.208</td>\n",
       "      <td>1.0</td>\n",
       "      <td>0.750000</td>\n",
       "    </tr>\n",
       "    <tr>\n",
       "      <th>1095</th>\n",
       "      <td>2.10750</td>\n",
       "      <td>218.322</td>\n",
       "      <td>3.0</td>\n",
       "      <td>0.000000</td>\n",
       "    </tr>\n",
       "    <tr>\n",
       "      <th>1096</th>\n",
       "      <td>2.99000</td>\n",
       "      <td>246.359</td>\n",
       "      <td>7.0</td>\n",
       "      <td>0.000000</td>\n",
       "    </tr>\n",
       "    <tr>\n",
       "      <th>1097</th>\n",
       "      <td>1.34990</td>\n",
       "      <td>242.344</td>\n",
       "      <td>4.0</td>\n",
       "      <td>0.000000</td>\n",
       "    </tr>\n",
       "    <tr>\n",
       "      <th>1098</th>\n",
       "      <td>1.74810</td>\n",
       "      <td>84.143</td>\n",
       "      <td>0.0</td>\n",
       "      <td>1.000000</td>\n",
       "    </tr>\n",
       "    <tr>\n",
       "      <th>1099</th>\n",
       "      <td>1.97530</td>\n",
       "      <td>110.181</td>\n",
       "      <td>0.0</td>\n",
       "      <td>0.857143</td>\n",
       "    </tr>\n",
       "    <tr>\n",
       "      <th>1100</th>\n",
       "      <td>0.05860</td>\n",
       "      <td>128.156</td>\n",
       "      <td>0.0</td>\n",
       "      <td>0.750000</td>\n",
       "    </tr>\n",
       "    <tr>\n",
       "      <th>1101</th>\n",
       "      <td>-0.81130</td>\n",
       "      <td>76.124</td>\n",
       "      <td>0.0</td>\n",
       "      <td>0.000000</td>\n",
       "    </tr>\n",
       "    <tr>\n",
       "      <th>1102</th>\n",
       "      <td>2.06080</td>\n",
       "      <td>240.444</td>\n",
       "      <td>0.0</td>\n",
       "      <td>0.000000</td>\n",
       "    </tr>\n",
       "    <tr>\n",
       "      <th>1103</th>\n",
       "      <td>-0.62838</td>\n",
       "      <td>126.115</td>\n",
       "      <td>0.0</td>\n",
       "      <td>0.666667</td>\n",
       "    </tr>\n",
       "    <tr>\n",
       "      <th>1104</th>\n",
       "      <td>2.82402</td>\n",
       "      <td>150.221</td>\n",
       "      <td>1.0</td>\n",
       "      <td>0.545455</td>\n",
       "    </tr>\n",
       "    <tr>\n",
       "      <th>1105</th>\n",
       "      <td>1.99502</td>\n",
       "      <td>92.141</td>\n",
       "      <td>0.0</td>\n",
       "      <td>0.857143</td>\n",
       "    </tr>\n",
       "    <tr>\n",
       "      <th>1106</th>\n",
       "      <td>3.27520</td>\n",
       "      <td>148.249</td>\n",
       "      <td>1.0</td>\n",
       "      <td>0.545455</td>\n",
       "    </tr>\n",
       "    <tr>\n",
       "      <th>1107</th>\n",
       "      <td>2.83260</td>\n",
       "      <td>112.216</td>\n",
       "      <td>0.0</td>\n",
       "      <td>0.000000</td>\n",
       "    </tr>\n",
       "    <tr>\n",
       "      <th>1108</th>\n",
       "      <td>2.75270</td>\n",
       "      <td>98.189</td>\n",
       "      <td>3.0</td>\n",
       "      <td>0.000000</td>\n",
       "    </tr>\n",
       "    <tr>\n",
       "      <th>1109</th>\n",
       "      <td>1.97250</td>\n",
       "      <td>70.135</td>\n",
       "      <td>1.0</td>\n",
       "      <td>0.000000</td>\n",
       "    </tr>\n",
       "    <tr>\n",
       "      <th>1110</th>\n",
       "      <td>3.12430</td>\n",
       "      <td>293.754</td>\n",
       "      <td>4.0</td>\n",
       "      <td>0.550000</td>\n",
       "    </tr>\n",
       "    <tr>\n",
       "      <th>1111</th>\n",
       "      <td>4.84390</td>\n",
       "      <td>304.670</td>\n",
       "      <td>4.0</td>\n",
       "      <td>0.000000</td>\n",
       "    </tr>\n",
       "    <tr>\n",
       "      <th>1112</th>\n",
       "      <td>0.62050</td>\n",
       "      <td>394.439</td>\n",
       "      <td>2.0</td>\n",
       "      <td>0.000000</td>\n",
       "    </tr>\n",
       "    <tr>\n",
       "      <th>1113</th>\n",
       "      <td>2.41880</td>\n",
       "      <td>434.504</td>\n",
       "      <td>2.0</td>\n",
       "      <td>0.000000</td>\n",
       "    </tr>\n",
       "    <tr>\n",
       "      <th>1114</th>\n",
       "      <td>1.76210</td>\n",
       "      <td>478.513</td>\n",
       "      <td>4.0</td>\n",
       "      <td>0.000000</td>\n",
       "    </tr>\n",
       "    <tr>\n",
       "      <th>1115</th>\n",
       "      <td>0.83340</td>\n",
       "      <td>253.269</td>\n",
       "      <td>1.0</td>\n",
       "      <td>0.842105</td>\n",
       "    </tr>\n",
       "    <tr>\n",
       "      <th>1116</th>\n",
       "      <td>4.23352</td>\n",
       "      <td>343.217</td>\n",
       "      <td>1.0</td>\n",
       "      <td>0.739130</td>\n",
       "    </tr>\n",
       "    <tr>\n",
       "      <th>1117</th>\n",
       "      <td>2.45470</td>\n",
       "      <td>252.731</td>\n",
       "      <td>0.0</td>\n",
       "      <td>0.000000</td>\n",
       "    </tr>\n",
       "    <tr>\n",
       "      <th>1118</th>\n",
       "      <td>0.82100</td>\n",
       "      <td>380.662</td>\n",
       "      <td>2.0</td>\n",
       "      <td>0.300000</td>\n",
       "    </tr>\n",
       "    <tr>\n",
       "      <th>1119</th>\n",
       "      <td>2.16090</td>\n",
       "      <td>257.437</td>\n",
       "      <td>3.0</td>\n",
       "      <td>0.000000</td>\n",
       "    </tr>\n",
       "    <tr>\n",
       "      <th>1120</th>\n",
       "      <td>0.82100</td>\n",
       "      <td>380.662</td>\n",
       "      <td>2.0</td>\n",
       "      <td>0.300000</td>\n",
       "    </tr>\n",
       "    <tr>\n",
       "      <th>1121</th>\n",
       "      <td>1.88018</td>\n",
       "      <td>144.388</td>\n",
       "      <td>0.0</td>\n",
       "      <td>0.000000</td>\n",
       "    </tr>\n",
       "    <tr>\n",
       "      <th>1122</th>\n",
       "      <td>2.50170</td>\n",
       "      <td>131.389</td>\n",
       "      <td>0.0</td>\n",
       "      <td>0.000000</td>\n",
       "    </tr>\n",
       "    <tr>\n",
       "      <th>1123</th>\n",
       "      <td>1.98640</td>\n",
       "      <td>119.378</td>\n",
       "      <td>0.0</td>\n",
       "      <td>0.000000</td>\n",
       "    </tr>\n",
       "    <tr>\n",
       "      <th>1124</th>\n",
       "      <td>5.39150</td>\n",
       "      <td>333.604</td>\n",
       "      <td>5.0</td>\n",
       "      <td>0.352941</td>\n",
       "    </tr>\n",
       "    <tr>\n",
       "      <th>1125</th>\n",
       "      <td>5.14470</td>\n",
       "      <td>289.545</td>\n",
       "      <td>2.0</td>\n",
       "      <td>0.705882</td>\n",
       "    </tr>\n",
       "    <tr>\n",
       "      <th>1126</th>\n",
       "      <td>6.25676</td>\n",
       "      <td>368.369</td>\n",
       "      <td>6.0</td>\n",
       "      <td>0.692308</td>\n",
       "    </tr>\n",
       "    <tr>\n",
       "      <th>1127</th>\n",
       "      <td>2.25242</td>\n",
       "      <td>189.243</td>\n",
       "      <td>0.0</td>\n",
       "      <td>0.923077</td>\n",
       "    </tr>\n",
       "    <tr>\n",
       "      <th>1128</th>\n",
       "      <td>1.80300</td>\n",
       "      <td>229.715</td>\n",
       "      <td>5.0</td>\n",
       "      <td>0.400000</td>\n",
       "    </tr>\n",
       "    <tr>\n",
       "      <th>1129</th>\n",
       "      <td>2.20400</td>\n",
       "      <td>182.156</td>\n",
       "      <td>6.0</td>\n",
       "      <td>0.000000</td>\n",
       "    </tr>\n",
       "    <tr>\n",
       "      <th>1130</th>\n",
       "      <td>4.14820</td>\n",
       "      <td>335.282</td>\n",
       "      <td>7.0</td>\n",
       "      <td>0.260870</td>\n",
       "    </tr>\n",
       "    <tr>\n",
       "      <th>1131</th>\n",
       "      <td>2.43100</td>\n",
       "      <td>430.934</td>\n",
       "      <td>6.0</td>\n",
       "      <td>0.000000</td>\n",
       "    </tr>\n",
       "    <tr>\n",
       "      <th>1132</th>\n",
       "      <td>1.26730</td>\n",
       "      <td>435.481</td>\n",
       "      <td>6.0</td>\n",
       "      <td>0.322581</td>\n",
       "    </tr>\n",
       "    <tr>\n",
       "      <th>1133</th>\n",
       "      <td>5.14620</td>\n",
       "      <td>228.294</td>\n",
       "      <td>0.0</td>\n",
       "      <td>1.000000</td>\n",
       "    </tr>\n",
       "    <tr>\n",
       "      <th>1134</th>\n",
       "      <td>-1.37500</td>\n",
       "      <td>266.257</td>\n",
       "      <td>2.0</td>\n",
       "      <td>0.473684</td>\n",
       "    </tr>\n",
       "    <tr>\n",
       "      <th>1135</th>\n",
       "      <td>-0.93680</td>\n",
       "      <td>112.088</td>\n",
       "      <td>0.0</td>\n",
       "      <td>0.750000</td>\n",
       "    </tr>\n",
       "    <tr>\n",
       "      <th>1136</th>\n",
       "      <td>-0.97620</td>\n",
       "      <td>60.056</td>\n",
       "      <td>0.0</td>\n",
       "      <td>0.000000</td>\n",
       "    </tr>\n",
       "    <tr>\n",
       "      <th>1137</th>\n",
       "      <td>-1.76720</td>\n",
       "      <td>168.112</td>\n",
       "      <td>0.0</td>\n",
       "      <td>0.750000</td>\n",
       "    </tr>\n",
       "    <tr>\n",
       "      <th>1138</th>\n",
       "      <td>1.37550</td>\n",
       "      <td>86.134</td>\n",
       "      <td>3.0</td>\n",
       "      <td>0.000000</td>\n",
       "    </tr>\n",
       "    <tr>\n",
       "      <th>1139</th>\n",
       "      <td>1.98820</td>\n",
       "      <td>287.343</td>\n",
       "      <td>8.0</td>\n",
       "      <td>0.000000</td>\n",
       "    </tr>\n",
       "    <tr>\n",
       "      <th>1140</th>\n",
       "      <td>3.42130</td>\n",
       "      <td>286.114</td>\n",
       "      <td>2.0</td>\n",
       "      <td>0.333333</td>\n",
       "    </tr>\n",
       "    <tr>\n",
       "      <th>1141</th>\n",
       "      <td>3.60960</td>\n",
       "      <td>308.333</td>\n",
       "      <td>4.0</td>\n",
       "      <td>0.695652</td>\n",
       "    </tr>\n",
       "    <tr>\n",
       "      <th>1142</th>\n",
       "      <td>2.56214</td>\n",
       "      <td>354.815</td>\n",
       "      <td>3.0</td>\n",
       "      <td>0.521739</td>\n",
       "    </tr>\n",
       "    <tr>\n",
       "      <th>1143</th>\n",
       "      <td>2.02164</td>\n",
       "      <td>179.219</td>\n",
       "      <td>1.0</td>\n",
       "      <td>0.461538</td>\n",
       "    </tr>\n",
       "  </tbody>\n",
       "</table>\n",
       "</div>"
      ],
      "text/plain": [
       "       MolLogP    MolWt  NumRotatableBonds  AromaticProportion\n",
       "0      2.59540  167.850                0.0            0.000000\n",
       "1      2.37650  133.405                0.0            0.000000\n",
       "2      2.59380  167.850                1.0            0.000000\n",
       "3      2.02890  133.405                1.0            0.000000\n",
       "4      2.91890  187.375                1.0            0.000000\n",
       "5      1.81000   98.960                0.0            0.000000\n",
       "6      1.93520   96.944                0.0            0.000000\n",
       "7      1.40540  118.176                4.0            0.000000\n",
       "8      4.30020  215.894                0.0            0.600000\n",
       "9      2.56540  132.206                0.0            0.600000\n",
       "10     4.30020  215.894                0.0            0.600000\n",
       "11     3.64680  181.449                0.0            0.666667\n",
       "12     2.61186  120.195                0.0            0.666667\n",
       "13     4.73660  393.698                0.0            0.600000\n",
       "14     4.30020  215.894                0.0            0.600000\n",
       "15     2.92028  134.222                0.0            0.600000\n",
       "16     3.97410  314.802                0.0            0.666667\n",
       "17     3.64680  181.449                0.0            0.666667\n",
       "18     2.61186  120.195                0.0            0.666667\n",
       "19     1.09780  110.112                0.0            0.750000\n",
       "20     3.21160  235.906                0.0            0.750000\n",
       "21     1.77620  187.862                1.0            0.000000\n",
       "22     2.99340  147.004                0.0            0.750000\n",
       "23     1.46400   98.960                1.0            0.000000\n",
       "24     1.85250  112.987                1.0            0.000000\n",
       "25     2.64960  170.920                1.0            0.000000\n",
       "26     1.05940  118.176                5.0            0.000000\n",
       "27     2.81140  134.222                2.0            0.600000\n",
       "28     1.50300  168.108                2.0            0.500000\n",
       "29     0.40510   58.080                0.0            0.000000\n",
       "30     3.97410  314.802                0.0            0.666667\n",
       "31     3.64680  181.449                0.0            0.666667\n",
       "32     2.61186  120.195                0.0            0.666667\n",
       "33     1.41120  213.105                3.0            0.400000\n",
       "34     1.09780  110.112                0.0            0.750000\n",
       "35     1.35840   54.092                1.0            0.000000\n",
       "36     3.21160  235.906                0.0            0.750000\n",
       "37     2.99340  147.004                0.0            0.750000\n",
       "38     1.85410  112.987                2.0            0.000000\n",
       "39     0.49030  132.232                2.0            0.000000\n",
       "40     1.96480  114.094                0.0            0.750000\n",
       "41     3.45664  156.228                0.0            0.833333\n",
       "42     1.50300  168.108                2.0            0.500000\n",
       "43     1.09780  110.112                0.0            0.750000\n",
       "44     1.89260   80.130                0.0            0.000000\n",
       "45     3.21160  235.906                0.0            0.750000\n",
       "46     2.99340  147.004                0.0            0.750000\n",
       "47     2.81140  134.222                2.0            0.600000\n",
       "48     1.96480  114.094                0.0            0.750000\n",
       "49     3.45664  156.228                0.0            0.833333\n",
       "50     1.50300  168.108                2.0            0.500000\n",
       "51     1.74850   68.119                2.0            0.000000\n",
       "52     3.45664  156.228                0.0            0.833333\n",
       "53     2.13860   82.146                3.0            0.000000\n",
       "54     2.78300  180.210                0.0            1.000000\n",
       "55     2.74410  154.253                0.0            0.000000\n",
       "56     4.26930  302.458                0.0            0.000000\n",
       "57     2.97020  194.237                0.0            0.933333\n",
       "58     2.03730  137.020                1.0            0.000000\n",
       "59     2.18140  137.020                2.0            0.000000\n",
       "60     3.35170  179.101                5.0            0.000000\n",
       "61     2.96160  165.074                4.0            0.000000\n",
       "62     3.60230  207.070                0.0            0.909091\n",
       "63     3.74180  193.128                6.0            0.000000\n",
       "64     2.57150  151.047                3.0            0.000000\n",
       "65     1.79130  122.993                1.0            0.000000\n",
       "66     0.77880   74.123                2.0            0.000000\n",
       "67     1.58240   56.108                1.0            0.000000\n",
       "68     1.02960   54.092                0.0            0.000000\n",
       "69     1.62010  143.411                1.0            0.000000\n",
       "70     1.88120   92.569                1.0            0.000000\n",
       "71     2.02530   92.569                2.0            0.000000\n",
       "72     3.19560  134.650                5.0            0.000000\n",
       "73     2.80550  120.623                4.0            0.000000\n",
       "74     3.49320  162.619                0.0            0.909091\n",
       "75     2.41540  106.596                3.0            0.000000\n",
       "76     1.63520   78.542                1.0            0.000000\n",
       "77     3.11940  158.285                8.0            0.000000\n",
       "78     3.92300  140.270                7.0            0.000000\n",
       "79     3.89960  186.339               10.0            0.000000\n",
       "80     3.40220  156.228                1.0            0.833333\n",
       "81     1.94910  116.204                5.0            0.000000\n",
       "82     2.75270   98.189                4.0            0.000000\n",
       "83     2.19990   96.173                3.0            0.000000\n",
       "84     5.46000  242.447               14.0            0.000000\n",
       "85     1.55900  102.177                4.0            0.000000\n",
       "86     2.36260   84.162                3.0            0.000000\n",
       "87     1.33340  100.161                3.0            0.000000\n",
       "88     1.80980   82.146                2.0            0.000000\n",
       "89     2.22150  184.020                2.0            0.000000\n",
       "90     3.39180  226.101                5.0            0.000000\n",
       "91     3.44440  254.070                0.0            0.909091\n",
       "92     1.83140  169.993                1.0            0.000000\n",
       "93     2.50670   96.173                0.0            0.000000\n",
       "94     3.56622  180.250                0.0            0.857143\n",
       "95     3.14822  142.201                0.0            0.909091\n",
       "96     4.30142  192.261                0.0            0.933333\n",
       "97    -0.92640  126.115                0.0            0.666667\n",
       "98     2.54540  144.173                0.0            0.909091\n",
       "99     2.42200  143.189                0.0            0.909091\n",
       "100    2.74800  173.171                1.0            0.769231\n",
       "101    0.67310   89.094                2.0            0.000000\n",
       "102    2.72930  144.258                7.0            0.000000\n",
       "103    3.53290  126.243                6.0            0.000000\n",
       "104    2.98010  124.227                5.0            0.000000\n",
       "105    6.24020  270.501               16.0            0.000000\n",
       "106    2.33920  130.231                6.0            0.000000\n",
       "107    3.14280  112.216                5.0            0.000000\n",
       "108    2.59000  110.200                4.0            0.000000\n",
       "109    5.06990  228.420               13.0            0.000000\n",
       "110    1.16890   88.150                3.0            0.000000\n",
       "111    1.97250   70.135                2.0            0.000000\n",
       "112    1.41970   68.119                1.0            0.000000\n",
       "113    1.73990  122.167                1.0            0.666667\n",
       "114    0.38870   60.096                1.0            0.000000\n",
       "115    4.67980  214.393               12.0            0.000000\n",
       "116    9.88760  498.662                1.0            0.545455\n",
       "117    8.58080  429.772                1.0            0.600000\n",
       "118    7.27400  360.882                1.0            0.666667\n",
       "119    8.58080  429.772                1.0            0.600000\n",
       "120    7.27400  360.882                1.0            0.666667\n",
       "121    5.96720  291.992                1.0            0.750000\n",
       "122    7.92740  395.327                1.0            0.631579\n",
       "123    7.92740  395.327                1.0            0.631579\n",
       "124    7.27400  360.882                1.0            0.666667\n",
       "125    6.62060  326.437                1.0            0.705882\n",
       "126    6.62060  326.437                1.0            0.705882\n",
       "127    7.27400  360.882                1.0            0.666667\n",
       "128    5.96720  291.992                1.0            0.750000\n",
       "129    2.68850  100.205                0.0            0.000000\n",
       "130    7.27400  360.882                1.0            0.666667\n",
       "131    7.27400  360.882                1.0            0.666667\n",
       "132    5.96720  291.992                1.0            0.750000\n",
       "133    6.62060  326.437                1.0            0.705882\n",
       "134    3.07860  114.232                1.0            0.000000\n",
       "135    3.46870  128.259                2.0            0.000000\n",
       "136    5.96720  291.992                1.0            0.750000\n",
       "137    1.41490  102.177                2.0            0.000000\n",
       "138    2.44250   86.178                0.0            0.000000\n",
       "139    2.83260  100.205                1.0            0.000000\n",
       "140    1.80500  116.204                3.0            0.000000\n",
       "141    1.02480   88.150                0.0            0.000000\n",
       "142    4.66040  223.102                1.0            0.857143\n",
       "143    7.27400  360.882                1.0            0.666667\n",
       "144    7.92740  395.327                1.0            0.631579\n",
       "145    7.27400  360.882                1.0            0.666667\n",
       "146    6.62060  326.437                1.0            0.705882\n",
       "147    6.62060  326.437                1.0            0.705882\n",
       "148    5.96720  291.992                1.0            0.750000\n",
       "149    4.00580  231.893                0.0            0.545455\n",
       "150    4.00580  231.893                0.0            0.545455\n",
       "151    5.31380  257.547                1.0            0.800000\n",
       "152    5.31380  257.547                1.0            0.800000\n",
       "153    3.35240  197.448                0.0            0.600000\n",
       "154    2.93450  114.232                2.0            0.000000\n",
       "155    4.00580  231.893                0.0            0.545455\n",
       "156    5.31380  257.547                1.0            0.800000\n",
       "157    3.35240  197.448                0.0            0.600000\n",
       "158    3.35240  197.448                0.0            0.600000\n",
       "159    2.90160  192.001                1.0            0.545455\n",
       "160    2.69900  163.003                0.0            0.666667\n",
       "161    2.13860   82.146                1.0            0.000000\n",
       "162    2.29840   86.178                1.0            0.000000\n",
       "163    3.45664  156.228                0.0            0.833333\n",
       "164    2.68850  100.205                2.0            0.000000\n",
       "165    1.69844  107.156                0.0            0.750000\n",
       "166    5.31380  257.547                1.0            0.800000\n",
       "167    5.31380  257.547                1.0            0.800000\n",
       "168    3.35240  197.448                0.0            0.600000\n",
       "169    5.31380  257.547                1.0            0.800000\n",
       "170    3.35240  197.448                0.0            0.600000\n",
       "171    2.31746  136.194                0.0            0.600000\n",
       "172    1.71962  227.132                3.0            0.375000\n",
       "173    2.69900  163.003                0.0            0.666667\n",
       "174    1.80340  116.204                2.0            0.000000\n",
       "175    1.65930  116.204                2.0            0.000000\n",
       "176    1.86750  114.188                2.0            0.000000\n",
       "177    2.68850  100.205                2.0            0.000000\n",
       "178    2.00904  122.167                0.0            0.666667\n",
       "179    1.69844  107.156                0.0            0.750000\n",
       "180    1.81142  182.135                2.0            0.461538\n",
       "181    4.66040  223.102                1.0            0.857143\n",
       "182    4.66040  223.102                1.0            0.857143\n",
       "183    2.69900  163.003                0.0            0.666667\n",
       "184    3.45664  156.228                0.0            0.833333\n",
       "185    2.00904  122.167                0.0            0.666667\n",
       "186    1.69844  107.156                0.0            0.750000\n",
       "187    1.81142  182.135                2.0            0.461538\n",
       "188    4.66040  223.102                1.0            0.857143\n",
       "189    2.85164  157.216                0.0            0.833333\n",
       "190    3.57520  193.249                0.0            0.933333\n",
       "191    3.60230  207.070                0.0            0.909091\n",
       "192    3.60230  207.070                0.0            0.909091\n",
       "193    1.78970  122.993                0.0            0.000000\n",
       "194    2.75752  171.037                0.0            0.750000\n",
       "195    0.98540   72.107                1.0            0.000000\n",
       "196    0.76140   70.091                1.0            0.000000\n",
       "197    0.79540  118.176                5.0            0.000000\n",
       "198    2.41380  106.596                1.0            0.000000\n",
       "199    2.34860  142.585                1.0            0.666667\n",
       "200    4.00700  188.657                1.0            0.923077\n",
       "201    2.02370   92.569                1.0            0.000000\n",
       "202    3.49320  162.619                0.0            0.909091\n",
       "203    2.04560  128.558                0.0            0.750000\n",
       "204    1.63360   78.542                0.0            0.000000\n",
       "205    2.64842  126.586                0.0            0.750000\n",
       "206   -1.25912   84.082                0.0            0.000000\n",
       "207    3.32600  156.269                7.0            0.000000\n",
       "208    1.64400  107.156                1.0            0.750000\n",
       "209    1.41490  102.177                3.0            0.000000\n",
       "210    2.19510  130.231                5.0            0.000000\n",
       "211    2.32180  126.199                4.0            0.000000\n",
       "212    1.62150  100.161                3.0            0.000000\n",
       "213    2.40170  128.215                5.0            0.000000\n",
       "214    3.40220  156.228                1.0            0.833333\n",
       "215    2.55742  120.195                1.0            0.666667\n",
       "216    1.94750  116.204                4.0            0.000000\n",
       "217    2.15570  114.188                4.0            0.000000\n",
       "218    1.55740  102.177                3.0            0.000000\n",
       "219    1.76560  100.161                3.0            0.000000\n",
       "220    0.12540  148.125                0.0            0.909091\n",
       "221    0.78720   95.101                0.0            0.857143\n",
       "222    1.82980  169.993                0.0            0.000000\n",
       "223    3.11842  134.222                1.0            0.600000\n",
       "224    0.42840  162.152                1.0            0.833333\n",
       "225    1.97250   70.135                0.0            0.000000\n",
       "226    1.74850   68.119                1.0            0.000000\n",
       "227    1.97250   70.135                1.0            0.000000\n",
       "228    2.36260   84.162                2.0            0.000000\n",
       "229    2.33760  130.231                4.0            0.000000\n",
       "230    1.94750  116.204                3.0            0.000000\n",
       "231    1.55740  102.177                2.0            0.000000\n",
       "232    1.41330  102.177                2.0            0.000000\n",
       "233    4.30142  192.261                0.0            0.933333\n",
       "234    1.16730   88.150                1.0            0.000000\n",
       "235    2.05240   72.151                1.0            0.000000\n",
       "236    1.02480   88.150                2.0            0.000000\n",
       "237    3.22270  114.232                4.0            0.000000\n",
       "238    3.14822  142.201                0.0            0.909091\n",
       "239    2.44250   86.178                2.0            0.000000\n",
       "240    1.41490  102.177                3.0            0.000000\n",
       "241    4.30142  192.261                0.0            0.933333\n",
       "242    1.70062  108.140                0.0            0.750000\n",
       "243    0.63470   74.123                1.0            0.000000\n",
       "244    1.66230   58.124                0.0            0.000000\n",
       "245    1.58240   56.108                0.0            0.000000\n",
       "246    0.72822  146.153                0.0            0.909091\n",
       "247    1.18530   86.134                0.0            0.000000\n",
       "248    2.54540  144.173                0.0            0.909091\n",
       "249    0.67150   89.094                1.0            0.000000\n",
       "250    2.72770  144.258                6.0            0.000000\n",
       "251    2.93590  142.242                6.0            0.000000\n",
       "252    2.33760  130.231                5.0            0.000000\n",
       "253    2.54580  128.215                5.0            0.000000\n",
       "254    1.16730   88.150                2.0            0.000000\n",
       "255    1.37550   86.134                2.0            0.000000\n",
       "256    1.05770  138.166                3.0            0.600000\n",
       "257    0.38710   60.096                0.0            0.000000\n",
       "258   -0.10360   85.106                0.0            0.000000\n",
       "259    3.50790  172.312                8.0            0.000000\n",
       "260    1.41490  102.177                1.0            0.000000\n",
       "261    1.41330  102.177                0.0            0.000000\n",
       "262    1.62150  100.161                0.0            0.000000\n",
       "263    2.83260  100.205                2.0            0.000000\n",
       "264    2.90160  192.001                1.0            0.545455\n",
       "265    2.69900  163.003                0.0            0.666667\n",
       "266    2.00904  122.167                0.0            0.666667\n",
       "267    1.69844  107.156                0.0            0.750000\n",
       "268    4.66040  223.102                1.0            0.857143\n",
       "269    2.69900  163.003                0.0            0.666667\n",
       "270    2.00904  122.167                0.0            0.666667\n",
       "271    1.69844  107.156                0.0            0.750000\n",
       "272    2.78280  352.390                6.0            0.461538\n",
       "273    2.34860  142.585                1.0            0.666667\n",
       "274    4.00700  188.657                1.0            0.923077\n",
       "275    2.04560  128.558                0.0            0.750000\n",
       "276    1.13888   89.525                1.0            0.000000\n",
       "277    2.00260  324.336                4.0            0.500000\n",
       "278    1.94750  116.204                3.0            0.000000\n",
       "279    1.94750  116.204                4.0            0.000000\n",
       "280    3.95310  394.471                9.0            0.413793\n",
       "281    1.55740  102.177                3.0            0.000000\n",
       "282    1.76560  100.161                3.0            0.000000\n",
       "283    3.56300  380.444                8.0            0.428571\n",
       "284    1.80980   82.146                0.0            0.000000\n",
       "285    1.82840   70.135                1.0            0.000000\n",
       "286    1.02320   88.150                1.0            0.000000\n",
       "287    1.23140   86.134                1.0            0.000000\n",
       "288    1.41490  102.177                3.0            0.000000\n",
       "289    1.41490  102.177                3.0            0.000000\n",
       "290    1.62150  100.161                2.0            0.000000\n",
       "291    2.33760  130.231                4.0            0.000000\n",
       "292    1.94750  116.204                3.0            0.000000\n",
       "293    1.55740  102.177                2.0            0.000000\n",
       "294    1.02480   88.150                2.0            0.000000\n",
       "295    5.55322  268.359                0.0            0.857143\n",
       "296    3.22270  114.232                4.0            0.000000\n",
       "297    2.47632  131.178                0.0            0.900000\n",
       "298    2.44250   86.178                2.0            0.000000\n",
       "299    1.70062  108.140                0.0            0.750000\n",
       "300    2.33760  130.231                5.0            0.000000\n",
       "301    4.34320  408.498               10.0            0.400000\n",
       "302    1.16730   88.150                2.0            0.000000\n",
       "303    1.37550   86.134                2.0            0.000000\n",
       "304    3.17290  366.417                7.0            0.444444\n",
       "305    2.39270  338.363                5.0            0.480000\n",
       "306    4.66040  223.102                1.0            0.857143\n",
       "307    2.15470  173.009                0.0            0.750000\n",
       "308    2.75752  171.037                0.0            0.750000\n",
       "309    2.34860  142.585                1.0            0.666667\n",
       "310    2.04560  128.558                0.0            0.750000\n",
       "311    2.64842  126.586                0.0            0.750000\n",
       "312    2.55742  120.195                1.0            0.666667\n",
       "313    1.94750  116.204                4.0            0.000000\n",
       "314    2.15570  114.188                4.0            0.000000\n",
       "315    3.22060  194.274                5.0            0.428571\n",
       "316    0.78720   95.101                0.0            0.857143\n",
       "317    3.11842  134.222                1.0            0.600000\n",
       "318    0.42840  162.152                1.0            0.833333\n",
       "319    1.41330  102.177                2.0            0.000000\n",
       "320    1.62150  100.161                2.0            0.000000\n",
       "321    3.66202  168.239                1.0            0.923077\n",
       "322    1.41490  102.177                3.0            0.000000\n",
       "323    0.72822  146.153                0.0            0.909091\n",
       "324    1.55320  180.163                2.0            0.461538\n",
       "325    0.94490   86.134                3.0            0.000000\n",
       "326    1.10510  224.260                3.0            0.000000\n",
       "327    1.35110  238.287                3.0            0.000000\n",
       "328    0.49100  208.217                4.0            0.000000\n",
       "329    0.65080  212.249                2.0            0.000000\n",
       "330   -0.62140  156.141                0.0            0.000000\n",
       "331    2.27100  148.205                0.0            0.545455\n",
       "332    5.76304  256.348                0.0            0.900000\n",
       "333    0.32490  196.206                3.0            0.000000\n",
       "334    0.57090  210.233                3.0            0.000000\n",
       "335   -0.06520  182.179                2.0            0.000000\n",
       "336    0.86650  244.250                3.0            0.333333\n",
       "337    1.18500  226.276                4.0            0.000000\n",
       "338    0.40480  198.222                2.0            0.000000\n",
       "339    0.70040  232.239                2.0            0.352941\n",
       "340   -0.79770  130.078                0.0            0.666667\n",
       "341    1.94040  145.161                0.0            0.909091\n",
       "342   -0.23130  170.168                1.0            0.000000\n",
       "343    5.45462  242.321                0.0            0.947368\n",
       "344   -0.33948  125.131                0.0            0.666667\n",
       "345    2.93590  142.242                6.0            0.000000\n",
       "346    4.72840  243.309                0.0            0.947368\n",
       "347    1.94040  145.161                0.0            0.909091\n",
       "348    0.42840  162.152                1.0            0.833333\n",
       "349    5.45462  242.321                0.0            0.947368\n",
       "350    5.76304  256.348                0.0            0.900000\n",
       "351    0.42840  162.152                1.0            0.833333\n",
       "352    0.72822  146.153                0.0            0.909091\n",
       "353    1.94040  145.161                0.0            0.909091\n",
       "354    4.60984  206.288                0.0            0.875000\n",
       "355    3.69860  194.233                0.0            0.933333\n",
       "356    4.30142  192.261                0.0            0.933333\n",
       "357    5.63000  466.479               10.0            0.444444\n",
       "358    2.93840  154.212                0.0            0.833333\n",
       "359    3.32360  152.196                0.0            0.833333\n",
       "360    1.24000  183.169                3.0            0.000000\n",
       "361   -0.50840   59.068                0.0            0.000000\n",
       "362    1.64500  135.166                1.0            0.600000\n",
       "363   -0.85610  222.251                2.0            0.384615\n",
       "364    0.52988   41.053                0.0            0.000000\n",
       "365    1.88920  120.151                1.0            0.666667\n",
       "366    1.94934  293.348                3.0            0.550000\n",
       "367    3.38800  179.222                0.0            1.000000\n",
       "368    0.37130   56.064                1.0            0.000000\n",
       "369    0.69598   53.064                0.0            0.000000\n",
       "370   -0.06490  135.130                0.0            0.900000\n",
       "371    3.26640  300.398                0.0            0.000000\n",
       "372    2.98710  269.772                6.0            0.333333\n",
       "373    1.84570  360.450                3.0            0.000000\n",
       "374    5.27020  364.914                0.0            0.000000\n",
       "375   -2.17980  158.117                1.0            0.000000\n",
       "376    1.75530  162.279                5.0            0.000000\n",
       "377   -0.35380  136.114                0.0            0.900000\n",
       "378   -2.07850  142.070                0.0            0.000000\n",
       "379   -4.81940  286.156                1.0            0.000000\n",
       "380    0.06960  210.285                3.0            0.400000\n",
       "381    1.84560  227.337                5.0            0.400000\n",
       "382   -3.10802  457.432                7.0            0.187500\n",
       "383    1.77922  208.261                2.0            0.400000\n",
       "384    1.55042  231.299                2.0            0.647059\n",
       "385    0.72530  100.146                0.0            0.833333\n",
       "386    4.87188  293.414                4.0            0.545455\n",
       "387   -0.61310   84.082                0.0            0.833333\n",
       "388    1.18500  226.276                4.0            0.000000\n",
       "389    1.06662  203.245                1.0            0.733333\n",
       "390    2.13110  256.305                4.0            0.631579\n",
       "391    4.08740  286.415                0.0            0.000000\n",
       "392    3.95910  290.447                0.0            0.000000\n",
       "393    2.72830  148.205                2.0            0.545455\n",
       "394    1.26880   93.129                0.0            0.857143\n",
       "395    4.33190  367.860                7.0            0.285714\n",
       "396    1.69520  108.140                1.0            0.750000\n",
       "397    3.99300  178.234                0.0            1.000000\n",
       "398    2.46200  208.216                0.0            0.750000\n",
       "399    1.48442  188.230                1.0            0.785714\n",
       "400    2.06422  300.362                2.0            0.272727\n",
       "401    5.50510  366.844                2.0            0.461538\n",
       "402    1.13230  211.269                5.0            0.400000\n",
       "403    1.77710  215.688                4.0            0.428571\n",
       "404    2.09050  259.762                5.0            0.375000\n",
       "405    4.10200  182.226                2.0            0.857143\n",
       "406    1.05370  223.165                5.0            0.000000\n",
       "407    3.13070  258.104                2.0            0.375000\n",
       "408    0.15880  184.195                2.0            0.000000\n",
       "409    1.62540  421.422                3.0            0.444444\n",
       "410    4.14820  335.282                7.0            0.260870\n",
       "411    4.05750  410.536                8.0            0.214286\n",
       "412    3.54350  323.133                2.0            0.750000\n",
       "413    2.57240  290.323                4.0            0.428571\n",
       "414    3.77260  397.524               10.0            0.260870\n",
       "415    1.49910  106.124                1.0            0.750000\n",
       "416    0.78550  121.139                1.0            0.666667\n",
       "417    1.68660   78.114                0.0            1.000000\n",
       "418    2.76830  184.238                2.0            0.857143\n",
       "419    1.10770  260.253                5.0            0.578947\n",
       "420    4.41100  216.283                0.0            0.941176\n",
       "421    5.73720  252.316                0.0            1.000000\n",
       "422    5.64040  252.316                0.0            1.000000\n",
       "423    4.41100  216.283                0.0            0.941176\n",
       "424    5.73720  252.316                0.0            1.000000\n",
       "425    5.64040  252.316                0.0            1.000000\n",
       "426    5.64040  252.316                0.0            1.000000\n",
       "427    6.32820  276.338                0.0            1.000000\n",
       "428    1.44550  165.192                2.0            0.500000\n",
       "429    2.60290  212.248                3.0            0.750000\n",
       "430    1.55828  103.124                0.0            0.750000\n",
       "431    2.91760  182.222                2.0            0.857143\n",
       "432    2.29630  135.191                0.0            1.000000\n",
       "433    0.95790  119.127                0.0            1.000000\n",
       "434    1.82780  119.123                0.0            1.000000\n",
       "435    2.42540  126.586                1.0            0.750000\n",
       "436    2.70540  146.111                0.0            0.600000\n",
       "437    0.85490  150.181                2.0            0.545455\n",
       "438    3.63680  476.585                6.0            0.000000\n",
       "439    3.47180  182.266                3.0            0.857143\n",
       "440    3.35360  154.212                1.0            1.000000\n",
       "441    4.45000  256.308                1.0            1.000000\n",
       "442    2.19350  154.253                0.0            0.000000\n",
       "443    1.57852  261.119                2.0            0.428571\n",
       "444    7.18370  527.414                6.0            0.800000\n",
       "445    2.44910  157.010                0.0            0.857143\n",
       "446    1.57760  129.384                0.0            0.000000\n",
       "447    2.14250  163.829                0.0            0.000000\n",
       "448    1.40120  108.966                0.0            0.000000\n",
       "449    1.01110   94.939                0.0            0.000000\n",
       "450    4.65200  366.000                4.0            0.375000\n",
       "451    4.39910  428.120                4.0            0.545455\n",
       "452    2.78888  276.915                0.0            0.545455\n",
       "453    1.57720  266.098                1.0            0.800000\n",
       "454    1.74462  316.427                8.0            0.285714\n",
       "455    0.79490  212.249                3.0            0.000000\n",
       "456    3.99980  263.381                1.0            0.315789\n",
       "457    4.15740  311.853                9.0            0.285714\n",
       "458    1.68360  303.156                4.0            0.000000\n",
       "459    2.22570  193.246                4.0            0.428571\n",
       "460    0.77720   74.123                1.0            0.000000\n",
       "461    1.80640   58.124                1.0            0.000000\n",
       "462    1.71630   90.191                2.0            0.000000\n",
       "463    0.93900  212.249                4.0            0.000000\n",
       "464    1.02580  256.331                1.0            0.294118\n",
       "465    2.82540  236.702                2.0            0.375000\n",
       "466    0.95950  102.133                4.0            0.000000\n",
       "467    3.47350  217.378                5.0            0.000000\n",
       "468    3.02920  134.222                3.0            0.600000\n",
       "469    0.98540   72.107                2.0            0.000000\n",
       "470   -1.02930  194.194                0.0            0.642857\n",
       "471    2.40170  152.237                0.0            0.000000\n",
       "472    1.76560  100.161                4.0            0.000000\n",
       "473    3.52090  349.066                3.0            0.000000\n",
       "474    3.33060  212.252                2.0            0.750000\n",
       "475    2.55800  201.225                1.0            0.666667\n",
       "476    3.32110  167.211                0.0            1.000000\n",
       "477    1.75970  236.271                4.0            0.352941\n",
       "478    2.11830  221.256                1.0            0.375000\n",
       "479    5.42030  342.875                8.0            0.333333\n",
       "480    2.62000  235.308                2.0            0.375000\n",
       "481    1.13500  237.097                3.0            0.000000\n",
       "482    2.82402  150.221                1.0            0.545455\n",
       "483    2.48790  150.221                1.0            0.000000\n",
       "484   -0.46290  309.529                2.0            0.000000\n",
       "485    0.90900  323.132                6.0            0.300000\n",
       "486    2.21740  257.769                6.0            0.352941\n",
       "487    3.12760  293.548                2.0            0.400000\n",
       "488    2.91020  223.659                2.0            0.400000\n",
       "489    5.68280  409.782                0.0            0.000000\n",
       "490    5.02420  338.876                0.0            0.000000\n",
       "491    2.86982  196.681                2.0            0.461538\n",
       "492    1.17160  414.827                8.0            0.444444\n",
       "493   -0.28950   93.513                1.0            0.000000\n",
       "494    0.74878   75.498                0.0            0.000000\n",
       "495    2.34000  112.559                0.0            0.857143\n",
       "496    2.29860  208.280                0.0            0.000000\n",
       "497    1.24510   64.515                0.0            0.000000\n",
       "498    1.36870   62.499                0.0            0.000000\n",
       "499    3.29690  213.664                2.0            0.428571\n",
       "500    1.59080  164.375                0.0            0.000000\n",
       "501    4.18090  339.218                4.0            0.545455\n",
       "502    4.04356  265.914                0.0            0.428571\n",
       "503   -0.06090  295.729                1.0            0.352941\n",
       "504    2.74192  212.680                1.0            0.428571\n",
       "505    4.22580  290.750                3.0            0.600000\n",
       "506    4.71810  350.591                6.0            0.333333\n",
       "507    4.24340  267.930                0.0            0.714286\n",
       "508    0.92420  338.772                2.0            0.545455\n",
       "509    2.74192  212.680                1.0            0.428571\n",
       "510    1.77450  169.567                0.0            0.818182\n",
       "511    5.24480  254.332                0.0            0.900000\n",
       "512    5.14620  228.294                0.0            1.000000\n",
       "513    1.93520   96.944                0.0            0.000000\n",
       "514    2.83260  112.216                0.0            0.000000\n",
       "515    1.97250   70.135                1.0            0.000000\n",
       "516    2.87800  152.237                4.0            0.000000\n",
       "517    2.64000  239.702                2.0            0.375000\n",
       "518    3.03770  315.716                2.0            0.545455\n",
       "519    6.91920  300.360                0.0            1.000000\n",
       "520    2.66670  346.467                2.0            0.000000\n",
       "521    1.98980  360.450                2.0            0.000000\n",
       "522    2.56060  402.487                3.0            0.000000\n",
       "523    4.26300  342.778                4.0            0.666667\n",
       "524    4.43112  362.771                6.0            0.454545\n",
       "525    3.96680  292.334                1.0            0.727273\n",
       "526    1.67088  240.698                4.0            0.375000\n",
       "527    3.51410  215.362                3.0            0.000000\n",
       "528    1.24920  236.271                2.0            0.000000\n",
       "529   -0.47730  168.152                0.0            0.000000\n",
       "530    2.73070   98.189                0.0            0.000000\n",
       "531    1.70150  114.188                0.0            0.000000\n",
       "532    2.50670   96.173                0.0            0.000000\n",
       "533    0.69300  210.233                0.0            0.000000\n",
       "534    2.34060   84.162                0.0            0.000000\n",
       "535    1.31140  100.161                0.0            0.000000\n",
       "536    1.51960   98.145                0.0            0.000000\n",
       "537    2.11660   82.146                0.0            0.000000\n",
       "538    1.04150  281.352                3.0            0.000000\n",
       "539    0.30290  196.206                0.0            0.000000\n",
       "540    3.12080  112.216                0.0            0.000000\n",
       "541    2.09160  128.215                0.0            0.000000\n",
       "542    1.08310  224.260                0.0            0.000000\n",
       "543    1.95050   70.135                0.0            0.000000\n",
       "544    1.72650   68.119                0.0            0.000000\n",
       "545   -0.08720  182.179                0.0            0.000000\n",
       "546   -0.86740  154.125                0.0            0.000000\n",
       "547    2.37050  198.310                1.0            0.000000\n",
       "548    6.31708  434.294                6.0            0.413793\n",
       "549    6.54398  449.856                6.0            0.387097\n",
       "550    6.17798  416.304                6.0            0.428571\n",
       "551   -0.64790  111.104                0.0            0.750000\n",
       "552    4.22100  337.463                0.0            0.200000\n",
       "553    1.68380  248.307                2.0            0.705882\n",
       "554    5.92900  320.046                3.0            0.666667\n",
       "555    6.18790  318.030                2.0            0.666667\n",
       "556    6.49550  354.491                2.0            0.631579\n",
       "557    3.36680  138.254                0.0            0.000000\n",
       "558    6.69440  314.522               12.0            0.000000\n",
       "559    6.49018  505.206                6.0            0.428571\n",
       "560    3.69590  330.468                2.0            0.000000\n",
       "561    4.26670  372.505                3.0            0.000000\n",
       "562    3.86590  300.314                4.0            0.545455\n",
       "563    1.89570  392.467                2.0            0.000000\n",
       "564    2.46650  434.504                3.0            0.000000\n",
       "565    2.40170  152.237                0.0            0.000000\n",
       "566    6.43300  390.564               14.0            0.214286\n",
       "567    3.87820  393.854                8.0            0.260870\n",
       "568    3.87820  393.854                8.0            0.260870\n",
       "569    4.27740  270.225                4.0            0.000000\n",
       "570    3.15380  284.746                1.0            0.600000\n",
       "571    3.58472  304.352                7.0            0.315789\n",
       "572    3.58600  168.195                0.0            1.000000\n",
       "573    4.05450  184.263                0.0            1.000000\n",
       "574    1.73370  173.835                0.0            0.000000\n",
       "575    2.60320  130.231                6.0            0.000000\n",
       "576    4.79380  314.466               15.0            0.000000\n",
       "577    3.60040  278.348                8.0            0.300000\n",
       "578    3.14430  297.656                5.0            0.352941\n",
       "579    1.42150   84.933                0.0            0.000000\n",
       "580    3.99540  269.127                2.0            0.705882\n",
       "581    5.59950  370.490                2.0            0.600000\n",
       "582    4.48140  380.913                0.0            0.000000\n",
       "583    4.60460  266.340                3.0            0.600000\n",
       "584    7.72560  474.640                1.0            0.000000\n",
       "585    1.04280   74.123                2.0            0.000000\n",
       "586    2.04000  222.240                4.0            0.375000\n",
       "587    1.75940   90.191                2.0            0.000000\n",
       "588    2.40760  122.258                3.0            0.000000\n",
       "589    4.82860  268.356                4.0            0.600000\n",
       "590    3.58100  286.331                4.0            0.571429\n",
       "591    3.58010  310.687                2.0            0.571429\n",
       "592    3.24730  764.950                7.0            0.000000\n",
       "593    2.21810  780.949                7.0            0.000000\n",
       "594    5.16080  334.456               12.0            0.250000\n",
       "595    1.81390  267.835                0.0            0.000000\n",
       "596    6.43300  390.564               14.0            0.214286\n",
       "597    1.81980  102.177                2.0            0.000000\n",
       "598    2.53640  118.245                2.0            0.000000\n",
       "599    2.39500  299.691                8.0            0.000000\n",
       "600    2.86990  338.795                2.0            0.478261\n",
       "601    1.95760  211.261                1.0            0.000000\n",
       "602    1.89922  209.293                4.0            0.400000\n",
       "603    0.23670   76.095                2.0            0.000000\n",
       "604    1.25980  194.186                2.0            0.428571\n",
       "605    0.97920   62.137                0.0            0.000000\n",
       "606    1.62740   94.204                1.0            0.000000\n",
       "607    2.95020  322.243                5.0            0.272727\n",
       "608    2.72210  240.215                4.0            0.352941\n",
       "609   -3.83460  180.156                0.0            0.000000\n",
       "610    2.53960  118.245                4.0            0.000000\n",
       "611    6.72120  390.564               16.0            0.214286\n",
       "612    5.50880  414.630                0.0            0.000000\n",
       "613    1.45020  223.228                2.0            0.375000\n",
       "614    2.90670  239.318                3.0            0.666667\n",
       "615    3.47890  170.211                2.0            0.923077\n",
       "616    3.43020  169.227                2.0            0.923077\n",
       "617    3.27740  168.239                2.0            0.923077\n",
       "618    1.82300  102.177                4.0            0.000000\n",
       "619    3.62120  296.552                4.0            0.000000\n",
       "620    3.77020  274.413                9.0            0.000000\n",
       "621    2.58010  299.288                5.0            0.315789\n",
       "622    3.08690  233.098                1.0            0.428571\n",
       "623    3.30890  136.238                1.0            0.000000\n",
       "624    1.51702  198.134                2.0            0.428571\n",
       "625    1.57590  180.207                3.0            0.461538\n",
       "626   -2.21310  254.246                3.0            0.500000\n",
       "627    8.04800  282.556               17.0            0.000000\n",
       "628    4.48140  380.913                0.0            0.000000\n",
       "629    3.95910  290.447                0.0            0.000000\n",
       "630    4.48390  306.515                0.0            0.000000\n",
       "631    3.94440  266.340                0.0            0.500000\n",
       "632    3.73750  268.356                0.0            0.300000\n",
       "633    2.21550  288.255                1.0            0.571429\n",
       "634   -2.30720  122.120                3.0            0.000000\n",
       "635    3.60920  272.388                0.0            0.300000\n",
       "636    2.42370  148.205                3.0            0.545455\n",
       "637    2.58000  288.387                0.0            0.285714\n",
       "638    3.81740  270.372                0.0            0.300000\n",
       "639    3.92420  333.266                6.0            0.260870\n",
       "640    1.02620   30.070                0.0            0.000000\n",
       "641    0.93610   62.137                0.0            0.000000\n",
       "642   -0.00140   46.069                0.0            0.000000\n",
       "643    3.61260  296.410                0.0            0.272727\n",
       "644    2.65790  225.313                4.0            0.400000\n",
       "645    5.00530  384.487               12.0            0.000000\n",
       "646    1.85272  209.293                5.0            0.400000\n",
       "647    3.88260  312.453                0.0            0.000000\n",
       "648    2.05760  286.349                4.0            0.315789\n",
       "649    2.05760  286.349                4.0            0.315789\n",
       "650    1.34240  258.324                3.0            0.562500\n",
       "651    0.56940   88.106                1.0            0.000000\n",
       "652    1.86330  150.177                2.0            0.545455\n",
       "653    2.12980  144.214                5.0            0.000000\n",
       "654    2.26290  176.215                3.0            0.461538\n",
       "655    3.69020  200.322                9.0            0.000000\n",
       "656    0.17930   74.079                2.0            0.000000\n",
       "657    2.51990  158.241                6.0            0.000000\n",
       "658    2.12980  144.214                5.0            0.000000\n",
       "659    3.30010  186.295                8.0            0.000000\n",
       "660    2.91000  172.268                7.0            0.000000\n",
       "661    1.73970  130.187                4.0            0.000000\n",
       "662    0.95950  102.133                2.0            0.000000\n",
       "663    1.43290   88.150                3.0            0.000000\n",
       "664    1.16640   72.107                2.0            0.000000\n",
       "665    2.24900  106.168                1.0            0.750000\n",
       "666    2.97670  112.216                1.0            0.000000\n",
       "667    0.80220   28.054                0.0            0.000000\n",
       "668    1.44550  165.192                2.0            0.500000\n",
       "669    1.56890  166.176                2.0            0.500000\n",
       "670    0.24940   26.038                0.0            0.000000\n",
       "671    6.37200  376.496                9.0            0.642857\n",
       "672    2.66910  244.294                4.0            0.611111\n",
       "673    1.33860  588.562                5.0            0.285714\n",
       "674    2.74410  154.253                0.0            0.000000\n",
       "675    2.12930  164.204                3.0            0.500000\n",
       "676    4.06760  331.202                3.0            0.818182\n",
       "677    2.84032  201.225                2.0            0.733333\n",
       "678    2.79932  277.238                5.0            0.352941\n",
       "679    3.26040  253.367                6.0            0.352941\n",
       "680    3.60380  301.342                7.0            0.545455\n",
       "681    5.26898  349.430                5.0            0.461538\n",
       "682    3.10030  308.361                7.0            0.333333\n",
       "683    3.61302  278.335                5.0            0.375000\n",
       "684    1.78010  164.208                1.0            0.500000\n",
       "685    0.73580  306.276                5.0            0.727273\n",
       "686    6.62798  451.469                9.0            0.545455\n",
       "687   -0.50880  129.094                0.0            0.666667\n",
       "688    1.87370  380.456                2.0            0.000000\n",
       "689    1.84370  410.457                2.0            0.000000\n",
       "690    5.34080  421.734                6.0            0.428571\n",
       "691    2.79890  232.205                1.0            0.375000\n",
       "692    4.48720  202.256                0.0            1.000000\n",
       "693    3.25780  166.223                0.0            0.923077\n",
       "694    1.82570   96.104                0.0            0.857143\n",
       "695    2.92330  376.468                1.0            0.000000\n",
       "696    2.79890  232.205                1.0            0.375000\n",
       "697    4.73810  329.321                2.0            0.750000\n",
       "698    3.51440  312.118                2.0            0.315789\n",
       "699    2.49240  301.296                4.0            0.772727\n",
       "700    7.39568  502.920                8.0            0.514286\n",
       "701    1.62620  221.260                3.0            0.375000\n",
       "702    0.85170  257.273                6.0            0.000000\n",
       "703   -3.21980  180.156                2.0            0.000000\n",
       "704    1.27960   68.075                0.0            1.000000\n",
       "705    1.09210   96.085                1.0            0.714286\n",
       "706    1.55280  262.261                1.0            0.000000\n",
       "707    3.14180  372.808                6.0            0.615385\n",
       "708   -3.22140  180.156                1.0            0.000000\n",
       "709    1.77100  217.268                2.0            0.375000\n",
       "710   -1.66810   92.094                2.0            0.000000\n",
       "711    0.04430  218.205                5.0            0.000000\n",
       "712    2.81030  352.770                3.0            0.250000\n",
       "713    1.40080  124.139                1.0            0.666667\n",
       "714   -0.77160  151.129                0.0            0.818182\n",
       "715    2.50850  197.381                0.0            0.000000\n",
       "716    1.32960  300.266                0.0            0.272727\n",
       "717    5.24150  373.321                0.0            0.000000\n",
       "718    2.97670  100.205                4.0            0.000000\n",
       "719    4.75740  260.762                1.0            0.000000\n",
       "720    3.72680  236.740                0.0            0.000000\n",
       "721   10.38860  366.718               23.0            0.000000\n",
       "722    6.48760  226.448               13.0            0.000000\n",
       "723    3.53712  162.276                0.0            0.500000\n",
       "724    2.58660   86.178                3.0            0.000000\n",
       "725    4.78520  270.372                5.0            0.600000\n",
       "726    3.80940  162.276                5.0            0.500000\n",
       "727   -1.17420  100.077                0.0            0.000000\n",
       "728    3.12560  184.242                3.0            0.857143\n",
       "729    2.45360  214.264                3.0            0.750000\n",
       "730   -0.35130  297.745                1.0            0.352941\n",
       "731    1.78160  362.466                2.0            0.000000\n",
       "732    2.35240  404.503                3.0            0.000000\n",
       "733    3.99500  354.875                0.0            0.000000\n",
       "734    3.83840  330.468                1.0            0.000000\n",
       "735   -0.35380  136.114                0.0            0.900000\n",
       "736    2.17530  118.179                0.0            0.666667\n",
       "737    2.08340  365.842                3.0            0.500000\n",
       "738    1.56290  118.139                0.0            1.000000\n",
       "739    2.16790  117.151                0.0            1.000000\n",
       "740    1.65460  119.167                0.0            0.666667\n",
       "741   -1.85660  268.229                2.0            0.473684\n",
       "742    2.29120  204.010                0.0            0.857143\n",
       "743    1.44130  155.966                0.0            0.000000\n",
       "744    4.49410  413.000                4.0            0.375000\n",
       "745    1.05120  141.939                0.0            0.000000\n",
       "746    2.47308  370.915                0.0            0.545455\n",
       "747    2.19150  243.742                5.0            0.375000\n",
       "748    3.18870  313.747                7.0            0.277778\n",
       "749    1.20550  116.160                2.0            0.000000\n",
       "750    0.81540  102.133                3.0            0.000000\n",
       "751    2.88510  134.222                2.0            0.600000\n",
       "752    0.37720  185.227                2.0            0.000000\n",
       "753    1.41762  231.255                4.0            0.647059\n",
       "754    3.88960  345.401                8.0            0.272727\n",
       "755   -0.35930  151.129                0.0            0.818182\n",
       "756   -0.31490  137.142                1.0            0.600000\n",
       "757    1.59560  130.187                3.0            0.000000\n",
       "758    1.20550  116.160                4.0            0.000000\n",
       "759    2.32180  138.210                0.0            0.000000\n",
       "760    2.52820  193.246                2.0            0.428571\n",
       "761    4.25280  309.366                8.0            0.272727\n",
       "762    0.95790  102.133                1.0            0.000000\n",
       "763    0.56780   88.106                2.0            0.000000\n",
       "764    2.81000  120.195                1.0            0.666667\n",
       "765    2.90350  206.289                2.0            0.400000\n",
       "766    2.23480  129.162                0.0            1.000000\n",
       "767    2.66700  279.340                2.0            0.300000\n",
       "768    2.96680  322.364                5.0            0.500000\n",
       "769    4.61820  490.639                0.0            0.000000\n",
       "770    2.86482  260.245                2.0            0.684211\n",
       "771   -5.39720  342.297                4.0            0.000000\n",
       "772   -2.58230  150.130                0.0            0.000000\n",
       "773    1.53050  234.299                1.0            0.352941\n",
       "774    2.66980  154.253                4.0            0.000000\n",
       "775    3.64440  290.832                0.0            0.000000\n",
       "776    3.01850  249.097                2.0            0.400000\n",
       "777    3.10130  321.163                1.0            0.571429\n",
       "778    4.19550  404.547                6.0            0.000000\n",
       "779    2.12180  330.364                9.0            0.000000\n",
       "780    0.50270  160.169                4.0            0.000000\n",
       "781   -5.39720  342.297                4.0            0.000000\n",
       "782   -3.58540  182.172                5.0            0.000000\n",
       "783    1.92220  127.574                0.0            0.750000\n",
       "784    3.10250  191.455                0.0            0.750000\n",
       "785    2.94460  238.455                0.0            0.750000\n",
       "786    2.24820  157.556                1.0            0.600000\n",
       "787    2.97220  295.298                3.0            0.681818\n",
       "788    2.63200  329.380                8.0            0.000000\n",
       "789    0.84980  196.202                2.0            0.000000\n",
       "790    5.27970  340.507                1.0            0.000000\n",
       "791    3.33810  298.367                4.0            0.714286\n",
       "792    2.52334  310.297                3.0            0.300000\n",
       "793    4.57530  384.516                2.0            0.000000\n",
       "794    2.01190  172.183                0.0            0.461538\n",
       "795    2.43950  156.269                1.0            0.000000\n",
       "796    2.64770  154.253                1.0            0.000000\n",
       "797    0.98340  218.253                6.0            0.000000\n",
       "798    2.58500  167.258                0.0            0.900000\n",
       "799    1.84434  279.336                5.0            0.300000\n",
       "800    0.63610   16.043                0.0            0.000000\n",
       "801   -0.39150   32.042                0.0            0.000000\n",
       "802    3.00254  250.301                1.0            0.842105\n",
       "803    0.50100  198.222                2.0            0.000000\n",
       "804    1.43600  261.064                1.0            0.687500\n",
       "805    0.53020  241.243                6.0            0.352941\n",
       "806    5.06200  310.478               10.0            0.000000\n",
       "807    1.86220  271.390                8.0            0.333333\n",
       "808    2.54780  216.192                1.0            0.812500\n",
       "809    5.20590  345.653                4.0            0.571429\n",
       "810    0.17930   74.079                0.0            0.000000\n",
       "811    0.34540   86.090                1.0            0.000000\n",
       "812    1.47320  136.150                1.0            0.600000\n",
       "813    1.43290   88.150                3.0            0.000000\n",
       "814    1.34960  116.160                3.0            0.000000\n",
       "815    3.30010  186.295                8.0            0.000000\n",
       "816   -0.21080   60.052                1.0            0.000000\n",
       "817    0.59000  184.147                1.0            0.461538\n",
       "818    1.73970  130.187                4.0            0.000000\n",
       "819   -0.92050   46.073                0.0            0.000000\n",
       "820    4.08030  214.349               10.0            0.000000\n",
       "821    0.86820  137.138                1.0            0.600000\n",
       "822    2.91000  172.268                7.0            0.000000\n",
       "823    2.51990  158.241                6.0            0.000000\n",
       "824    1.34960  116.160                3.0            0.000000\n",
       "825    0.56940   88.106                1.0            0.000000\n",
       "826    1.04280   74.123                2.0            0.000000\n",
       "827    1.43130   88.150                0.0            0.000000\n",
       "828    2.58660   98.189                0.0            0.000000\n",
       "829    2.19650   84.162                0.0            0.000000\n",
       "830    3.76770  268.360                3.0            0.600000\n",
       "831    1.17880  152.149                1.0            0.545455\n",
       "832    4.84010  344.495                1.0            0.000000\n",
       "833    0.74091  142.183                0.0            0.666667\n",
       "834    3.16412  283.799                6.0            0.315789\n",
       "835    2.71412  365.842                2.0            0.500000\n",
       "836    1.40480  151.165                1.0            0.545455\n",
       "837    2.44210  228.679                2.0            0.400000\n",
       "838    0.09202  171.156                3.0            0.416667\n",
       "839    0.37150  214.294                1.0            0.428571\n",
       "840    0.09202  171.156                3.0            0.416667\n",
       "841    2.58820  175.000                0.0            0.750000\n",
       "842   -0.13030  209.253                1.0            0.400000\n",
       "843    6.22300  545.546                0.0            0.000000\n",
       "844    1.57722  107.156                0.0            0.750000\n",
       "845    1.17700  138.126                1.0            0.600000\n",
       "846    1.30040  139.110                1.0            0.600000\n",
       "847    1.90322  137.138                1.0            0.600000\n",
       "848    2.36510  214.652                2.0            0.428571\n",
       "849   -2.88480  446.405                6.0            0.193548\n",
       "850    2.43350  198.653                1.0            0.461538\n",
       "851    1.98800  302.238                1.0            0.727273\n",
       "852    2.30344  106.168                0.0            0.750000\n",
       "853    2.53280  149.237                3.0            0.545455\n",
       "854    0.09450   87.122                0.0            0.000000\n",
       "855    1.75260  121.183                1.0            0.666667\n",
       "856    3.65120  380.784                5.0            0.000000\n",
       "857    3.47550  271.360                5.0            0.500000\n",
       "858    5.14620  228.294                0.0            1.000000\n",
       "859    2.83980  128.174                0.0            1.000000\n",
       "860    4.25720  275.179                4.0            0.352941\n",
       "861    2.67140  154.253                4.0            0.000000\n",
       "862    2.11840  121.183                2.0            0.666667\n",
       "863    2.65122  266.304                1.0            0.600000\n",
       "864    3.85950  327.123                3.0            0.571429\n",
       "865    0.18050  122.127                1.0            0.666667\n",
       "866    2.17560  346.339                4.0            0.240000\n",
       "867    0.99590  156.097                2.0            0.454545\n",
       "868    2.40860  295.298                2.0            0.545455\n",
       "869    0.58090  214.206                2.0            0.357143\n",
       "870    2.95020  322.243                5.0            0.272727\n",
       "871    3.56170  230.909                0.0            0.545455\n",
       "872    2.38430  281.271                2.0            0.571429\n",
       "873    1.59480  123.111                1.0            0.666667\n",
       "874    0.28300   75.067                1.0            0.000000\n",
       "875    4.69390  284.098                3.0            0.666667\n",
       "876    0.07350  238.159                3.0            0.294118\n",
       "877   -1.02010  227.085                8.0            0.000000\n",
       "878   -0.10710   61.040                0.0            0.000000\n",
       "879    1.72830  107.156                1.0            0.750000\n",
       "880    3.75690  128.259                6.0            0.000000\n",
       "881    4.28940  511.581                5.0            0.615385\n",
       "882    2.08230  222.332                1.0            0.000000\n",
       "883    4.06330  340.463                1.0            0.000000\n",
       "884    2.60740  314.425                0.0            0.000000\n",
       "885    2.94640  303.671                2.0            0.600000\n",
       "886    5.92900  320.046                3.0            0.666667\n",
       "887    0.97440  109.128                0.0            0.750000\n",
       "888    1.92220  127.574                0.0            0.750000\n",
       "889    3.10250  191.455                0.0            0.750000\n",
       "890    2.94460  238.455                0.0            0.750000\n",
       "891    2.24820  157.556                1.0            0.600000\n",
       "892    3.36680  114.232                5.0            0.000000\n",
       "893    0.10160   89.094                1.0            0.000000\n",
       "894    2.58820  175.000                0.0            0.750000\n",
       "895    0.49110  137.138                1.0            0.600000\n",
       "896    1.40080  124.139                1.0            0.666667\n",
       "897    1.17700  138.126                1.0            0.600000\n",
       "898    1.60340  153.137                2.0            0.545455\n",
       "899    1.30040  139.110                1.0            0.600000\n",
       "900    1.90322  137.138                1.0            0.600000\n",
       "901    1.77680  346.365                8.0            0.260870\n",
       "902    3.31030  244.290                3.0            0.555556\n",
       "903    1.57722  107.156                0.0            0.750000\n",
       "904    4.21700  345.226                3.0            0.500000\n",
       "905    0.10710  219.266                1.0            0.000000\n",
       "906    2.44790  286.718                1.0            0.600000\n",
       "907    1.30160  267.306                2.0            0.333333\n",
       "908    2.30344  106.168                0.0            0.750000\n",
       "909    3.49340  324.380                5.0            0.500000\n",
       "910    2.51800  184.242                1.0            0.857143\n",
       "911    5.92900  320.046                3.0            0.666667\n",
       "912    6.18790  318.030                2.0            0.666667\n",
       "913    0.97440  109.128                0.0            0.750000\n",
       "914   -1.64760  114.060                0.0            0.000000\n",
       "915    3.27110  291.265                7.0            0.333333\n",
       "916    2.51800  184.242                1.0            0.857143\n",
       "917    2.40750  214.062                1.0            0.545455\n",
       "918    3.05370  282.906                0.0            0.750000\n",
       "919    2.29840  169.611                1.0            0.545455\n",
       "920    1.92220  127.574                0.0            0.750000\n",
       "921    3.10250  191.455                0.0            0.750000\n",
       "922    2.94460  238.455                0.0            0.750000\n",
       "923    2.24820  157.556                1.0            0.600000\n",
       "924    1.70062  108.140                0.0            0.750000\n",
       "925    3.37160  203.351                6.0            0.000000\n",
       "926    5.31670  328.843                4.0            0.521739\n",
       "927    4.95360  250.339                0.0            0.545455\n",
       "928    3.16030  202.295                0.0            0.000000\n",
       "929    4.65920  266.338                0.0            0.500000\n",
       "930    3.22870  148.249                0.0            0.545455\n",
       "931    2.19650   72.151                2.0            0.000000\n",
       "932    1.18500  226.276                4.0            0.000000\n",
       "933    1.73970  130.187                4.0            0.000000\n",
       "934    1.73970  130.187                4.0            0.000000\n",
       "935    3.41930  148.249                4.0            0.545455\n",
       "936    3.75690  140.270                4.0            0.000000\n",
       "937    3.08932  379.381                4.0            0.500000\n",
       "938    6.11330  391.294                6.0            0.461538\n",
       "939    5.73720  252.316                0.0            1.000000\n",
       "940    1.78410  153.156                1.0            0.545455\n",
       "941    2.04370  179.219                3.0            0.461538\n",
       "942    3.99300  178.234                0.0            1.000000\n",
       "943    3.38800  179.222                0.0            1.000000\n",
       "944    2.08530  122.167                2.0            0.666667\n",
       "945    3.78422  300.314                3.0            0.545455\n",
       "946    0.70040  232.239                2.0            0.352941\n",
       "947    1.39220   94.113                0.0            0.857143\n",
       "948    3.56010  318.328                2.0            0.750000\n",
       "949    5.76050  350.458                6.0            0.461538\n",
       "950    3.78780  308.381                5.0            0.521739\n",
       "951    0.97220  108.144                1.0            0.750000\n",
       "952    1.17890  108.140                1.0            0.750000\n",
       "953    1.34210  152.222                1.0            0.600000\n",
       "954    1.76960  252.273                2.0            0.631579\n",
       "955    3.72770  260.386                8.0            0.000000\n",
       "956    4.23610  367.816                7.0            0.428571\n",
       "957    3.22838  298.304                7.0            0.315789\n",
       "958    0.00120  149.149                0.0            0.000000\n",
       "959    0.57020  147.133                0.0            0.545455\n",
       "960    1.42996  128.134                0.0            0.600000\n",
       "961    1.35060  151.165                1.0            0.545455\n",
       "962    1.20470  122.123                1.0            0.666667\n",
       "963    6.29940  278.354                0.0            1.000000\n",
       "964    2.99720  285.343                3.0            0.285714\n",
       "965    1.22780  150.133                1.0            0.545455\n",
       "966    4.19830  353.490                9.0            0.000000\n",
       "967    1.21984  238.291                2.0            0.352941\n",
       "968    1.58100  331.353                2.0            0.521739\n",
       "969    1.50770  136.150                2.0            0.600000\n",
       "970    1.57722  107.156                0.0            0.750000\n",
       "971    1.17700  138.126                1.0            0.600000\n",
       "972    1.60340  153.137                2.0            0.545455\n",
       "973    1.30040  139.110                1.0            0.600000\n",
       "974    1.90322  137.138                1.0            0.600000\n",
       "975    3.05920  170.211                1.0            0.923077\n",
       "976    3.87920  288.431                0.0            0.000000\n",
       "977    1.55760  360.450                2.0            0.000000\n",
       "978    2.12840  402.487                3.0            0.000000\n",
       "979    4.51530  316.485                1.0            0.000000\n",
       "980    0.53790  218.256                2.0            0.375000\n",
       "981    0.40480  198.222                2.0            0.000000\n",
       "982    3.28290  284.142                1.0            0.333333\n",
       "983    4.72350  314.469                1.0            0.000000\n",
       "984    1.52080  225.296                5.0            0.375000\n",
       "985    2.23410  241.364                5.0            0.375000\n",
       "986    2.66680  211.692                3.0            0.428571\n",
       "987    1.41630   44.097                0.0            0.000000\n",
       "988    3.34190  218.083                2.0            0.461538\n",
       "989    2.16560  229.715                4.0            0.400000\n",
       "990    2.33880  281.314                7.0            0.000000\n",
       "991    3.65340  342.226                5.0            0.500000\n",
       "992    0.59530   58.080                1.0            0.000000\n",
       "993    0.91998   55.080                0.0            0.000000\n",
       "994    2.19200  209.245                3.0            0.400000\n",
       "995    0.95950  102.133                2.0            0.000000\n",
       "996    0.95950  102.133                2.0            0.000000\n",
       "997    0.56940   88.106                3.0            0.000000\n",
       "998    1.34960  116.160                3.0            0.000000\n",
       "999    2.63910  120.195                2.0            0.666667\n",
       "1000   2.97670  112.216                2.0            0.000000\n",
       "1001   1.19230   42.081                0.0            0.000000\n",
       "1002   1.82140  102.177                3.0            0.000000\n",
       "1003   0.63950   40.065                0.0            0.000000\n",
       "1004   2.68970  150.221                0.0            0.545455\n",
       "1005   0.41980  132.126                0.0            1.000000\n",
       "1006   5.02060  230.310                2.0            1.000000\n",
       "1007   0.64242  171.221                1.0            0.545455\n",
       "1008   2.30344  106.168                0.0            0.750000\n",
       "1009   2.70950  217.268                2.0            0.375000\n",
       "1010  -0.42450  123.115                1.0            0.666667\n",
       "1011   1.46810  221.647                1.0            0.800000\n",
       "1012   4.58400  202.256                0.0            1.000000\n",
       "1013   0.47660   80.090                0.0            1.000000\n",
       "1014   1.08160   79.102                0.0            1.000000\n",
       "1015   0.47660   80.090                0.0            1.000000\n",
       "1016   2.24112  245.282                2.0            0.611111\n",
       "1017   0.87880  289.744                2.0            0.333333\n",
       "1018   2.23480  129.162                0.0            1.000000\n",
       "1019   2.82600  332.570                3.0            0.300000\n",
       "1020   4.86180  295.336                1.0            0.428571\n",
       "1021  -7.57140  504.438                8.0            0.000000\n",
       "1022   1.49520  262.309                2.0            0.000000\n",
       "1023   2.22460  254.293                1.0            0.631579\n",
       "1024   0.13430  133.197                0.0            0.000000\n",
       "1025  -1.72356  376.369                5.0            0.518519\n",
       "1026   1.83560  179.219                3.0            0.461538\n",
       "1027   4.54290  321.549                4.0            0.375000\n",
       "1028   3.70330  394.423                3.0            0.413793\n",
       "1029   2.88000  330.171                2.0            0.285714\n",
       "1030   2.46390  226.235                0.0            0.705882\n",
       "1031   2.95952  254.289                0.0            0.631579\n",
       "1032   2.87800  288.738                1.0            0.600000\n",
       "1033   3.52752  322.290                1.0            0.521739\n",
       "1034   2.81714  268.320                1.0            0.600000\n",
       "1035   2.75990  270.361                1.0            0.631579\n",
       "1036   3.36490  269.373                1.0            0.631579\n",
       "1037   3.43460  252.317                1.0            0.631579\n",
       "1038   2.61470  268.320                2.0            0.600000\n",
       "1039   3.20710  255.292                2.0            0.631579\n",
       "1040   3.17972  296.374                2.0            0.545455\n",
       "1041   3.12232  283.331                2.0            0.571429\n",
       "1042   3.45870  273.723                1.0            0.631579\n",
       "1043   2.35452  255.277                0.0            0.631579\n",
       "1044   2.82960  253.305                1.0            0.631579\n",
       "1045   1.62880  313.361                4.0            0.521739\n",
       "1046   3.20710  255.292                2.0            0.631579\n",
       "1047   3.45900  239.274                1.0            0.666667\n",
       "1048  -1.64240  286.280                4.0            0.300000\n",
       "1049   0.49110  137.138                1.0            0.600000\n",
       "1050   2.64450  213.236                2.0            0.750000\n",
       "1051   2.41960  246.306                0.0            0.000000\n",
       "1052   1.35110  238.287                5.0            0.000000\n",
       "1053   3.38680  232.327                2.0            0.352941\n",
       "1054   1.38860  201.661                4.0            0.461538\n",
       "1055   0.72550  213.310                3.0            0.428571\n",
       "1056  -3.58540  182.172                5.0            0.000000\n",
       "1057  -1.06888  361.445                8.0            0.260870\n",
       "1058   4.85230  416.583                1.0            0.000000\n",
       "1059   3.88840  293.407                9.0            0.285714\n",
       "1060   3.95910  290.447                0.0            0.000000\n",
       "1061   5.60150  365.964                5.0            0.315789\n",
       "1062   2.32960  104.152                1.0            0.750000\n",
       "1063   1.75790  120.151                1.0            0.666667\n",
       "1064  -0.57700   99.089                0.0            0.000000\n",
       "1065  -5.39560  342.297                5.0            0.000000\n",
       "1066  -0.55943  214.250                2.0            0.428571\n",
       "1067   3.09880  223.794                4.0            0.000000\n",
       "1068  -0.08380  172.209                1.0            0.545455\n",
       "1069   0.96100  224.260                4.0            0.000000\n",
       "1070   2.98410  134.222                0.0            0.600000\n",
       "1071   0.76140   70.091                1.0            0.000000\n",
       "1072   4.51170  381.112                2.0            0.500000\n",
       "1073   1.25342  216.668                0.0            0.428571\n",
       "1074   4.50630  288.440                7.0            0.000000\n",
       "1075   1.52240  225.296                4.0            0.375000\n",
       "1076   2.23570  241.364                4.0            0.375000\n",
       "1077   3.87920  288.431                0.0            0.000000\n",
       "1078   4.45000  330.468                1.0            0.000000\n",
       "1079   4.84010  344.495                2.0            0.000000\n",
       "1080   3.17730  331.627                0.0            0.000000\n",
       "1081   3.06820  165.834                0.0            0.000000\n",
       "1082   4.01440  261.919                1.0            0.461538\n",
       "1083   2.55290  153.823                0.0            0.000000\n",
       "1084   5.70740  198.394               11.0            0.000000\n",
       "1085   5.55182  418.736                4.0            0.222222\n",
       "1086   0.79680   72.107                0.0            0.000000\n",
       "1087   1.18690   86.134                0.0            0.000000\n",
       "1088   0.22960  116.164                0.0            0.000000\n",
       "1089   0.08780  258.233                1.0            0.315789\n",
       "1090  -1.03970  180.167                0.0            0.692308\n",
       "1091  -1.03970  180.167                0.0            0.692308\n",
       "1092   0.40430  356.227                6.0            0.285714\n",
       "1093   1.51600  254.355                5.0            0.000000\n",
       "1094   2.40850  124.208                1.0            0.750000\n",
       "1095   2.10750  218.322                3.0            0.000000\n",
       "1096   2.99000  246.359                7.0            0.000000\n",
       "1097   1.34990  242.344                4.0            0.000000\n",
       "1098   1.74810   84.143                0.0            1.000000\n",
       "1099   1.97530  110.181                0.0            0.857143\n",
       "1100   0.05860  128.156                0.0            0.750000\n",
       "1101  -0.81130   76.124                0.0            0.000000\n",
       "1102   2.06080  240.444                0.0            0.000000\n",
       "1103  -0.62838  126.115                0.0            0.666667\n",
       "1104   2.82402  150.221                1.0            0.545455\n",
       "1105   1.99502   92.141                0.0            0.857143\n",
       "1106   3.27520  148.249                1.0            0.545455\n",
       "1107   2.83260  112.216                0.0            0.000000\n",
       "1108   2.75270   98.189                3.0            0.000000\n",
       "1109   1.97250   70.135                1.0            0.000000\n",
       "1110   3.12430  293.754                4.0            0.550000\n",
       "1111   4.84390  304.670                4.0            0.000000\n",
       "1112   0.62050  394.439                2.0            0.000000\n",
       "1113   2.41880  434.504                2.0            0.000000\n",
       "1114   1.76210  478.513                4.0            0.000000\n",
       "1115   0.83340  253.269                1.0            0.842105\n",
       "1116   4.23352  343.217                1.0            0.739130\n",
       "1117   2.45470  252.731                0.0            0.000000\n",
       "1118   0.82100  380.662                2.0            0.300000\n",
       "1119   2.16090  257.437                3.0            0.000000\n",
       "1120   0.82100  380.662                2.0            0.300000\n",
       "1121   1.88018  144.388                0.0            0.000000\n",
       "1122   2.50170  131.389                0.0            0.000000\n",
       "1123   1.98640  119.378                0.0            0.000000\n",
       "1124   5.39150  333.604                5.0            0.352941\n",
       "1125   5.14470  289.545                2.0            0.705882\n",
       "1126   6.25676  368.369                6.0            0.692308\n",
       "1127   2.25242  189.243                0.0            0.923077\n",
       "1128   1.80300  229.715                5.0            0.400000\n",
       "1129   2.20400  182.156                6.0            0.000000\n",
       "1130   4.14820  335.282                7.0            0.260870\n",
       "1131   2.43100  430.934                6.0            0.000000\n",
       "1132   1.26730  435.481                6.0            0.322581\n",
       "1133   5.14620  228.294                0.0            1.000000\n",
       "1134  -1.37500  266.257                2.0            0.473684\n",
       "1135  -0.93680  112.088                0.0            0.750000\n",
       "1136  -0.97620   60.056                0.0            0.000000\n",
       "1137  -1.76720  168.112                0.0            0.750000\n",
       "1138   1.37550   86.134                3.0            0.000000\n",
       "1139   1.98820  287.343                8.0            0.000000\n",
       "1140   3.42130  286.114                2.0            0.333333\n",
       "1141   3.60960  308.333                4.0            0.695652\n",
       "1142   2.56214  354.815                3.0            0.521739\n",
       "1143   2.02164  179.219                1.0            0.461538"
      ]
     },
     "execution_count": 18,
     "metadata": {},
     "output_type": "execute_result"
    }
   ],
   "source": [
    "X = df.drop('logS', axis=1)\n",
    "X"
   ]
  },
  {
   "cell_type": "markdown",
   "id": "075d14ea-3647-413c-9552-a14aa3f740b3",
   "metadata": {},
   "source": [
    "## Data splitting"
   ]
  },
  {
   "cell_type": "code",
   "execution_count": 11,
   "id": "e837e247-8ed7-4e03-9afe-7b8645fd7689",
   "metadata": {},
   "outputs": [],
   "source": [
    "from sklearn.model_selection import train_test_split\n",
    "\n",
    "X_train, X_test, y_train, y_test = train_test_split(X, y, test_size=0.2, random_state=100)"
   ]
  },
  {
   "cell_type": "code",
   "execution_count": 17,
   "id": "be0d1056-8951-487b-8f21-d9426b19a2ef",
   "metadata": {},
   "outputs": [
    {
     "data": {
      "text/plain": [
       "(915, 4)"
      ]
     },
     "execution_count": 17,
     "metadata": {},
     "output_type": "execute_result"
    }
   ],
   "source": [
    "X_train.shape"
   ]
  },
  {
   "cell_type": "code",
   "execution_count": 16,
   "id": "5d1efab2-1310-4062-ba85-efe2a8014bdb",
   "metadata": {},
   "outputs": [
    {
     "data": {
      "text/plain": [
       "(229, 4)"
      ]
     },
     "execution_count": 16,
     "metadata": {},
     "output_type": "execute_result"
    }
   ],
   "source": [
    "X_test.shape"
   ]
  },
  {
   "cell_type": "markdown",
   "id": "4c55bd67-2792-484e-abe2-6274fbe1ba8b",
   "metadata": {},
   "source": [
    "# Model Building"
   ]
  },
  {
   "cell_type": "markdown",
   "id": "45500087-e77e-4622-ba9a-ab88ce71bf82",
   "metadata": {},
   "source": [
    "## Linear Regression"
   ]
  },
  {
   "cell_type": "code",
   "execution_count": 20,
   "id": "d7cfc66d-66f8-4404-9ae5-ec7f871543d3",
   "metadata": {},
   "outputs": [],
   "source": [
    "from sklearn.linear_model import LinearRegression"
   ]
  },
  {
   "cell_type": "code",
   "execution_count": 22,
   "id": "428f440f-bff5-4ab5-a280-a89f2c2e3138",
   "metadata": {},
   "outputs": [
    {
     "data": {
      "text/html": [
       "<style>#sk-container-id-1 {\n",
       "  /* Definition of color scheme common for light and dark mode */\n",
       "  --sklearn-color-text: black;\n",
       "  --sklearn-color-line: gray;\n",
       "  /* Definition of color scheme for unfitted estimators */\n",
       "  --sklearn-color-unfitted-level-0: #fff5e6;\n",
       "  --sklearn-color-unfitted-level-1: #f6e4d2;\n",
       "  --sklearn-color-unfitted-level-2: #ffe0b3;\n",
       "  --sklearn-color-unfitted-level-3: chocolate;\n",
       "  /* Definition of color scheme for fitted estimators */\n",
       "  --sklearn-color-fitted-level-0: #f0f8ff;\n",
       "  --sklearn-color-fitted-level-1: #d4ebff;\n",
       "  --sklearn-color-fitted-level-2: #b3dbfd;\n",
       "  --sklearn-color-fitted-level-3: cornflowerblue;\n",
       "\n",
       "  /* Specific color for light theme */\n",
       "  --sklearn-color-text-on-default-background: var(--sg-text-color, var(--theme-code-foreground, var(--jp-content-font-color1, black)));\n",
       "  --sklearn-color-background: var(--sg-background-color, var(--theme-background, var(--jp-layout-color0, white)));\n",
       "  --sklearn-color-border-box: var(--sg-text-color, var(--theme-code-foreground, var(--jp-content-font-color1, black)));\n",
       "  --sklearn-color-icon: #696969;\n",
       "\n",
       "  @media (prefers-color-scheme: dark) {\n",
       "    /* Redefinition of color scheme for dark theme */\n",
       "    --sklearn-color-text-on-default-background: var(--sg-text-color, var(--theme-code-foreground, var(--jp-content-font-color1, white)));\n",
       "    --sklearn-color-background: var(--sg-background-color, var(--theme-background, var(--jp-layout-color0, #111)));\n",
       "    --sklearn-color-border-box: var(--sg-text-color, var(--theme-code-foreground, var(--jp-content-font-color1, white)));\n",
       "    --sklearn-color-icon: #878787;\n",
       "  }\n",
       "}\n",
       "\n",
       "#sk-container-id-1 {\n",
       "  color: var(--sklearn-color-text);\n",
       "}\n",
       "\n",
       "#sk-container-id-1 pre {\n",
       "  padding: 0;\n",
       "}\n",
       "\n",
       "#sk-container-id-1 input.sk-hidden--visually {\n",
       "  border: 0;\n",
       "  clip: rect(1px 1px 1px 1px);\n",
       "  clip: rect(1px, 1px, 1px, 1px);\n",
       "  height: 1px;\n",
       "  margin: -1px;\n",
       "  overflow: hidden;\n",
       "  padding: 0;\n",
       "  position: absolute;\n",
       "  width: 1px;\n",
       "}\n",
       "\n",
       "#sk-container-id-1 div.sk-dashed-wrapped {\n",
       "  border: 1px dashed var(--sklearn-color-line);\n",
       "  margin: 0 0.4em 0.5em 0.4em;\n",
       "  box-sizing: border-box;\n",
       "  padding-bottom: 0.4em;\n",
       "  background-color: var(--sklearn-color-background);\n",
       "}\n",
       "\n",
       "#sk-container-id-1 div.sk-container {\n",
       "  /* jupyter's `normalize.less` sets `[hidden] { display: none; }`\n",
       "     but bootstrap.min.css set `[hidden] { display: none !important; }`\n",
       "     so we also need the `!important` here to be able to override the\n",
       "     default hidden behavior on the sphinx rendered scikit-learn.org.\n",
       "     See: https://github.com/scikit-learn/scikit-learn/issues/21755 */\n",
       "  display: inline-block !important;\n",
       "  position: relative;\n",
       "}\n",
       "\n",
       "#sk-container-id-1 div.sk-text-repr-fallback {\n",
       "  display: none;\n",
       "}\n",
       "\n",
       "div.sk-parallel-item,\n",
       "div.sk-serial,\n",
       "div.sk-item {\n",
       "  /* draw centered vertical line to link estimators */\n",
       "  background-image: linear-gradient(var(--sklearn-color-text-on-default-background), var(--sklearn-color-text-on-default-background));\n",
       "  background-size: 2px 100%;\n",
       "  background-repeat: no-repeat;\n",
       "  background-position: center center;\n",
       "}\n",
       "\n",
       "/* Parallel-specific style estimator block */\n",
       "\n",
       "#sk-container-id-1 div.sk-parallel-item::after {\n",
       "  content: \"\";\n",
       "  width: 100%;\n",
       "  border-bottom: 2px solid var(--sklearn-color-text-on-default-background);\n",
       "  flex-grow: 1;\n",
       "}\n",
       "\n",
       "#sk-container-id-1 div.sk-parallel {\n",
       "  display: flex;\n",
       "  align-items: stretch;\n",
       "  justify-content: center;\n",
       "  background-color: var(--sklearn-color-background);\n",
       "  position: relative;\n",
       "}\n",
       "\n",
       "#sk-container-id-1 div.sk-parallel-item {\n",
       "  display: flex;\n",
       "  flex-direction: column;\n",
       "}\n",
       "\n",
       "#sk-container-id-1 div.sk-parallel-item:first-child::after {\n",
       "  align-self: flex-end;\n",
       "  width: 50%;\n",
       "}\n",
       "\n",
       "#sk-container-id-1 div.sk-parallel-item:last-child::after {\n",
       "  align-self: flex-start;\n",
       "  width: 50%;\n",
       "}\n",
       "\n",
       "#sk-container-id-1 div.sk-parallel-item:only-child::after {\n",
       "  width: 0;\n",
       "}\n",
       "\n",
       "/* Serial-specific style estimator block */\n",
       "\n",
       "#sk-container-id-1 div.sk-serial {\n",
       "  display: flex;\n",
       "  flex-direction: column;\n",
       "  align-items: center;\n",
       "  background-color: var(--sklearn-color-background);\n",
       "  padding-right: 1em;\n",
       "  padding-left: 1em;\n",
       "}\n",
       "\n",
       "\n",
       "/* Toggleable style: style used for estimator/Pipeline/ColumnTransformer box that is\n",
       "clickable and can be expanded/collapsed.\n",
       "- Pipeline and ColumnTransformer use this feature and define the default style\n",
       "- Estimators will overwrite some part of the style using the `sk-estimator` class\n",
       "*/\n",
       "\n",
       "/* Pipeline and ColumnTransformer style (default) */\n",
       "\n",
       "#sk-container-id-1 div.sk-toggleable {\n",
       "  /* Default theme specific background. It is overwritten whether we have a\n",
       "  specific estimator or a Pipeline/ColumnTransformer */\n",
       "  background-color: var(--sklearn-color-background);\n",
       "}\n",
       "\n",
       "/* Toggleable label */\n",
       "#sk-container-id-1 label.sk-toggleable__label {\n",
       "  cursor: pointer;\n",
       "  display: block;\n",
       "  width: 100%;\n",
       "  margin-bottom: 0;\n",
       "  padding: 0.5em;\n",
       "  box-sizing: border-box;\n",
       "  text-align: center;\n",
       "}\n",
       "\n",
       "#sk-container-id-1 label.sk-toggleable__label-arrow:before {\n",
       "  /* Arrow on the left of the label */\n",
       "  content: \"▸\";\n",
       "  float: left;\n",
       "  margin-right: 0.25em;\n",
       "  color: var(--sklearn-color-icon);\n",
       "}\n",
       "\n",
       "#sk-container-id-1 label.sk-toggleable__label-arrow:hover:before {\n",
       "  color: var(--sklearn-color-text);\n",
       "}\n",
       "\n",
       "/* Toggleable content - dropdown */\n",
       "\n",
       "#sk-container-id-1 div.sk-toggleable__content {\n",
       "  max-height: 0;\n",
       "  max-width: 0;\n",
       "  overflow: hidden;\n",
       "  text-align: left;\n",
       "  /* unfitted */\n",
       "  background-color: var(--sklearn-color-unfitted-level-0);\n",
       "}\n",
       "\n",
       "#sk-container-id-1 div.sk-toggleable__content.fitted {\n",
       "  /* fitted */\n",
       "  background-color: var(--sklearn-color-fitted-level-0);\n",
       "}\n",
       "\n",
       "#sk-container-id-1 div.sk-toggleable__content pre {\n",
       "  margin: 0.2em;\n",
       "  border-radius: 0.25em;\n",
       "  color: var(--sklearn-color-text);\n",
       "  /* unfitted */\n",
       "  background-color: var(--sklearn-color-unfitted-level-0);\n",
       "}\n",
       "\n",
       "#sk-container-id-1 div.sk-toggleable__content.fitted pre {\n",
       "  /* unfitted */\n",
       "  background-color: var(--sklearn-color-fitted-level-0);\n",
       "}\n",
       "\n",
       "#sk-container-id-1 input.sk-toggleable__control:checked~div.sk-toggleable__content {\n",
       "  /* Expand drop-down */\n",
       "  max-height: 200px;\n",
       "  max-width: 100%;\n",
       "  overflow: auto;\n",
       "}\n",
       "\n",
       "#sk-container-id-1 input.sk-toggleable__control:checked~label.sk-toggleable__label-arrow:before {\n",
       "  content: \"▾\";\n",
       "}\n",
       "\n",
       "/* Pipeline/ColumnTransformer-specific style */\n",
       "\n",
       "#sk-container-id-1 div.sk-label input.sk-toggleable__control:checked~label.sk-toggleable__label {\n",
       "  color: var(--sklearn-color-text);\n",
       "  background-color: var(--sklearn-color-unfitted-level-2);\n",
       "}\n",
       "\n",
       "#sk-container-id-1 div.sk-label.fitted input.sk-toggleable__control:checked~label.sk-toggleable__label {\n",
       "  background-color: var(--sklearn-color-fitted-level-2);\n",
       "}\n",
       "\n",
       "/* Estimator-specific style */\n",
       "\n",
       "/* Colorize estimator box */\n",
       "#sk-container-id-1 div.sk-estimator input.sk-toggleable__control:checked~label.sk-toggleable__label {\n",
       "  /* unfitted */\n",
       "  background-color: var(--sklearn-color-unfitted-level-2);\n",
       "}\n",
       "\n",
       "#sk-container-id-1 div.sk-estimator.fitted input.sk-toggleable__control:checked~label.sk-toggleable__label {\n",
       "  /* fitted */\n",
       "  background-color: var(--sklearn-color-fitted-level-2);\n",
       "}\n",
       "\n",
       "#sk-container-id-1 div.sk-label label.sk-toggleable__label,\n",
       "#sk-container-id-1 div.sk-label label {\n",
       "  /* The background is the default theme color */\n",
       "  color: var(--sklearn-color-text-on-default-background);\n",
       "}\n",
       "\n",
       "/* On hover, darken the color of the background */\n",
       "#sk-container-id-1 div.sk-label:hover label.sk-toggleable__label {\n",
       "  color: var(--sklearn-color-text);\n",
       "  background-color: var(--sklearn-color-unfitted-level-2);\n",
       "}\n",
       "\n",
       "/* Label box, darken color on hover, fitted */\n",
       "#sk-container-id-1 div.sk-label.fitted:hover label.sk-toggleable__label.fitted {\n",
       "  color: var(--sklearn-color-text);\n",
       "  background-color: var(--sklearn-color-fitted-level-2);\n",
       "}\n",
       "\n",
       "/* Estimator label */\n",
       "\n",
       "#sk-container-id-1 div.sk-label label {\n",
       "  font-family: monospace;\n",
       "  font-weight: bold;\n",
       "  display: inline-block;\n",
       "  line-height: 1.2em;\n",
       "}\n",
       "\n",
       "#sk-container-id-1 div.sk-label-container {\n",
       "  text-align: center;\n",
       "}\n",
       "\n",
       "/* Estimator-specific */\n",
       "#sk-container-id-1 div.sk-estimator {\n",
       "  font-family: monospace;\n",
       "  border: 1px dotted var(--sklearn-color-border-box);\n",
       "  border-radius: 0.25em;\n",
       "  box-sizing: border-box;\n",
       "  margin-bottom: 0.5em;\n",
       "  /* unfitted */\n",
       "  background-color: var(--sklearn-color-unfitted-level-0);\n",
       "}\n",
       "\n",
       "#sk-container-id-1 div.sk-estimator.fitted {\n",
       "  /* fitted */\n",
       "  background-color: var(--sklearn-color-fitted-level-0);\n",
       "}\n",
       "\n",
       "/* on hover */\n",
       "#sk-container-id-1 div.sk-estimator:hover {\n",
       "  /* unfitted */\n",
       "  background-color: var(--sklearn-color-unfitted-level-2);\n",
       "}\n",
       "\n",
       "#sk-container-id-1 div.sk-estimator.fitted:hover {\n",
       "  /* fitted */\n",
       "  background-color: var(--sklearn-color-fitted-level-2);\n",
       "}\n",
       "\n",
       "/* Specification for estimator info (e.g. \"i\" and \"?\") */\n",
       "\n",
       "/* Common style for \"i\" and \"?\" */\n",
       "\n",
       ".sk-estimator-doc-link,\n",
       "a:link.sk-estimator-doc-link,\n",
       "a:visited.sk-estimator-doc-link {\n",
       "  float: right;\n",
       "  font-size: smaller;\n",
       "  line-height: 1em;\n",
       "  font-family: monospace;\n",
       "  background-color: var(--sklearn-color-background);\n",
       "  border-radius: 1em;\n",
       "  height: 1em;\n",
       "  width: 1em;\n",
       "  text-decoration: none !important;\n",
       "  margin-left: 1ex;\n",
       "  /* unfitted */\n",
       "  border: var(--sklearn-color-unfitted-level-1) 1pt solid;\n",
       "  color: var(--sklearn-color-unfitted-level-1);\n",
       "}\n",
       "\n",
       ".sk-estimator-doc-link.fitted,\n",
       "a:link.sk-estimator-doc-link.fitted,\n",
       "a:visited.sk-estimator-doc-link.fitted {\n",
       "  /* fitted */\n",
       "  border: var(--sklearn-color-fitted-level-1) 1pt solid;\n",
       "  color: var(--sklearn-color-fitted-level-1);\n",
       "}\n",
       "\n",
       "/* On hover */\n",
       "div.sk-estimator:hover .sk-estimator-doc-link:hover,\n",
       ".sk-estimator-doc-link:hover,\n",
       "div.sk-label-container:hover .sk-estimator-doc-link:hover,\n",
       ".sk-estimator-doc-link:hover {\n",
       "  /* unfitted */\n",
       "  background-color: var(--sklearn-color-unfitted-level-3);\n",
       "  color: var(--sklearn-color-background);\n",
       "  text-decoration: none;\n",
       "}\n",
       "\n",
       "div.sk-estimator.fitted:hover .sk-estimator-doc-link.fitted:hover,\n",
       ".sk-estimator-doc-link.fitted:hover,\n",
       "div.sk-label-container:hover .sk-estimator-doc-link.fitted:hover,\n",
       ".sk-estimator-doc-link.fitted:hover {\n",
       "  /* fitted */\n",
       "  background-color: var(--sklearn-color-fitted-level-3);\n",
       "  color: var(--sklearn-color-background);\n",
       "  text-decoration: none;\n",
       "}\n",
       "\n",
       "/* Span, style for the box shown on hovering the info icon */\n",
       ".sk-estimator-doc-link span {\n",
       "  display: none;\n",
       "  z-index: 9999;\n",
       "  position: relative;\n",
       "  font-weight: normal;\n",
       "  right: .2ex;\n",
       "  padding: .5ex;\n",
       "  margin: .5ex;\n",
       "  width: min-content;\n",
       "  min-width: 20ex;\n",
       "  max-width: 50ex;\n",
       "  color: var(--sklearn-color-text);\n",
       "  box-shadow: 2pt 2pt 4pt #999;\n",
       "  /* unfitted */\n",
       "  background: var(--sklearn-color-unfitted-level-0);\n",
       "  border: .5pt solid var(--sklearn-color-unfitted-level-3);\n",
       "}\n",
       "\n",
       ".sk-estimator-doc-link.fitted span {\n",
       "  /* fitted */\n",
       "  background: var(--sklearn-color-fitted-level-0);\n",
       "  border: var(--sklearn-color-fitted-level-3);\n",
       "}\n",
       "\n",
       ".sk-estimator-doc-link:hover span {\n",
       "  display: block;\n",
       "}\n",
       "\n",
       "/* \"?\"-specific style due to the `<a>` HTML tag */\n",
       "\n",
       "#sk-container-id-1 a.estimator_doc_link {\n",
       "  float: right;\n",
       "  font-size: 1rem;\n",
       "  line-height: 1em;\n",
       "  font-family: monospace;\n",
       "  background-color: var(--sklearn-color-background);\n",
       "  border-radius: 1rem;\n",
       "  height: 1rem;\n",
       "  width: 1rem;\n",
       "  text-decoration: none;\n",
       "  /* unfitted */\n",
       "  color: var(--sklearn-color-unfitted-level-1);\n",
       "  border: var(--sklearn-color-unfitted-level-1) 1pt solid;\n",
       "}\n",
       "\n",
       "#sk-container-id-1 a.estimator_doc_link.fitted {\n",
       "  /* fitted */\n",
       "  border: var(--sklearn-color-fitted-level-1) 1pt solid;\n",
       "  color: var(--sklearn-color-fitted-level-1);\n",
       "}\n",
       "\n",
       "/* On hover */\n",
       "#sk-container-id-1 a.estimator_doc_link:hover {\n",
       "  /* unfitted */\n",
       "  background-color: var(--sklearn-color-unfitted-level-3);\n",
       "  color: var(--sklearn-color-background);\n",
       "  text-decoration: none;\n",
       "}\n",
       "\n",
       "#sk-container-id-1 a.estimator_doc_link.fitted:hover {\n",
       "  /* fitted */\n",
       "  background-color: var(--sklearn-color-fitted-level-3);\n",
       "}\n",
       "</style><div id=\"sk-container-id-1\" class=\"sk-top-container\"><div class=\"sk-text-repr-fallback\"><pre>LinearRegression()</pre><b>In a Jupyter environment, please rerun this cell to show the HTML representation or trust the notebook. <br />On GitHub, the HTML representation is unable to render, please try loading this page with nbviewer.org.</b></div><div class=\"sk-container\" hidden><div class=\"sk-item\"><div class=\"sk-estimator fitted sk-toggleable\"><input class=\"sk-toggleable__control sk-hidden--visually\" id=\"sk-estimator-id-1\" type=\"checkbox\" checked><label for=\"sk-estimator-id-1\" class=\"sk-toggleable__label fitted sk-toggleable__label-arrow fitted\">&nbsp;&nbsp;LinearRegression<a class=\"sk-estimator-doc-link fitted\" rel=\"noreferrer\" target=\"_blank\" href=\"https://scikit-learn.org/1.5/modules/generated/sklearn.linear_model.LinearRegression.html\">?<span>Documentation for LinearRegression</span></a><span class=\"sk-estimator-doc-link fitted\">i<span>Fitted</span></span></label><div class=\"sk-toggleable__content fitted\"><pre>LinearRegression()</pre></div> </div></div></div></div>"
      ],
      "text/plain": [
       "LinearRegression()"
      ]
     },
     "execution_count": 22,
     "metadata": {},
     "output_type": "execute_result"
    }
   ],
   "source": [
    "lr = LinearRegression()\n",
    "lr.fit(X_train, y_train)"
   ]
  },
  {
   "cell_type": "code",
   "execution_count": 24,
   "id": "90a9d201-13da-472a-a6a9-885dfb6db1e2",
   "metadata": {},
   "outputs": [],
   "source": [
    "y_train_pred = lr.predict(X_train)\n",
    "y_test_pred = lr.predict(X_test)"
   ]
  },
  {
   "cell_type": "code",
   "execution_count": null,
   "id": "e219adfa-d3a9-4ea2-8c3f-a55956325e8c",
   "metadata": {},
   "outputs": [],
   "source": [
    "print(y_lr_test_pred)"
   ]
  }
 ],
 "metadata": {
  "kernelspec": {
   "display_name": "Python 3 (ipykernel)",
   "language": "python",
   "name": "python3"
  },
  "language_info": {
   "codemirror_mode": {
    "name": "ipython",
    "version": 3
   },
   "file_extension": ".py",
   "mimetype": "text/x-python",
   "name": "python",
   "nbconvert_exporter": "python",
   "pygments_lexer": "ipython3",
   "version": "3.12.7"
  }
 },
 "nbformat": 4,
 "nbformat_minor": 5
}
69194881e+00 -2.14339849e+00\n",
      " -4.35689341e+00 -5.03964756e+00 -3.10383618e+00 -4.40286964e+00\n",
      " -4.21276272e+00  5.56508349e-01 -1.45537678e+00 -4.41027396e+00\n",
      " -2.59668773e+00 -1.53336276e+00 -5.55749874e-01 -1.67111795e+00\n",
      " -2.78163675e+00 -3.15395565e+00 -5.27083361e+00 -1.75321446e+00\n",
      " -1.53350725e+00 -2.01255666e+00 -6.57559167e+00 -7.89433046e+00\n",
      " -5.76437127e+00 -4.16422068e+00 -3.43694663e+00  1.43834212e+00\n",
      " -1.12679105e-02 -2.34521849e+00 -1.86480046e+00 -5.03964756e+00\n",
      "  8.55886378e-01 -3.17679292e+00 -5.06764094e+00 -1.99464442e+00\n",
      " -7.77785827e+00 -1.21764693e+00 -9.09541075e-01 -5.04235077e+00\n",
      " -2.43898748e+00 -2.84034045e+00 -2.53403538e+00 -2.36170311e+00\n",
      " -1.63103729e+00 -1.53182046e+00 -3.23931568e+00 -2.88008616e+00\n",
      " -1.88300518e+00 -3.21582220e+00 -3.40245202e+00 -9.01813905e-01\n",
      " -4.82308940e+00 -7.69116343e-01 -7.12894308e+00 -1.05440427e+01\n",
      " -1.95444152e+00 -3.50194744e+00 -7.18167736e+00 -6.01555673e+00\n",
      " -2.08189806e+00 -2.31652280e+00 -3.44556948e+00 -2.05480142e+00\n",
      " -6.01555673e+00 -2.88308299e+00 -4.84867198e+00 -3.51006495e-01\n",
      " -3.54726250e+00 -1.21057919e+00 -4.36658559e+00 -4.21815903e-01\n",
      " -1.63103729e+00 -2.51604291e+00 -2.16707077e+00 -1.48726025e+00\n",
      " -3.20864450e+00 -1.51411141e+00 -1.65033691e+00 -3.66287663e+00\n",
      " -3.26968347e+00 -3.94492313e+00 -4.22509088e+00 -3.68794650e+00\n",
      " -5.98734972e+00 -1.43710934e+00 -1.97653920e+00 -1.85076729e+00\n",
      " -1.14179382e+00 -3.07730828e+00 -4.84867198e+00 -2.19679345e+00\n",
      " -1.68737438e+00 -2.20390218e+00  1.89408269e+00 -3.61322115e+00\n",
      " -2.79173430e+00 -2.41564138e+00 -7.53910534e-01 -8.54744860e-01\n",
      " -9.20407401e-02 -6.14209981e+00 -3.79386016e+00 -7.77785827e+00\n",
      " -1.79874130e+00 -2.50544035e+00 -3.77102985e+00 -2.25250766e+00\n",
      " -2.57788713e+00 -2.06375990e+00 -3.33843958e+00 -1.03912484e+00\n",
      " -6.68946164e+00 -1.91112045e+00 -2.58735850e+00 -2.19902800e+00\n",
      " -1.90219551e+00 -2.81396751e+00 -4.16972153e+00 -5.72200956e+00\n",
      " -1.60816482e+00 -3.68121117e+00 -4.60929775e+00 -2.45888480e+00\n",
      "  1.13185484e+00 -1.69279625e+00 -7.09025955e+00 -3.79386016e+00\n",
      " -2.99712058e+00 -5.79600137e+00 -2.44845780e+00 -5.29399242e+00\n",
      " -5.29389899e-01 -3.53652118e+00 -3.51200413e+00 -2.02419300e+00\n",
      " -4.47466933e+00 -3.63836536e+00 -4.56596939e+00 -5.57842703e+00\n",
      " -5.30676136e+00 -2.39225449e+00 -4.88290144e+00 -2.61359308e+00\n",
      " -3.11841945e+00 -2.05580278e+00 -1.64987419e+00 -4.91881901e+00\n",
      " -3.93774254e+00 -4.26411548e+00 -3.15082845e+00 -3.49352203e+00\n",
      " -3.81768831e+00 -3.77197350e+00 -2.55016650e+00 -1.97653920e+00\n",
      " -2.59432621e+00 -5.38480406e+00 -5.44932525e+00 -3.04107137e+00\n",
      " -1.87252408e+00 -2.25124657e+00 -2.89215707e+00 -3.46087334e+00\n",
      " -6.06861986e+00 -1.89916369e+00 -1.98035105e+00 -2.45036038e+00\n",
      " -2.79393037e+00 -4.76010415e+00 -1.72379306e+00 -7.09025955e+00\n",
      " -2.86880150e+00 -2.70674744e+00 -4.36825704e+00 -3.11841945e+00\n",
      " -3.85805633e+00  9.78662246e-03 -4.47466933e+00 -6.08708502e+00\n",
      " -5.19970454e+00 -6.40483191e+00 -4.10155218e+00 -1.07044752e+00\n",
      "  1.99249372e+00 -3.63698515e+00 -8.50933009e-01 -3.26770298e+00\n",
      " -4.78343575e+00 -1.48988982e+00 -2.24629276e+00 -4.13247222e+00\n",
      " -4.36873484e+00 -1.89724815e+00 -1.50596465e+00 -1.16713539e-02\n",
      " -1.73602998e+00 -2.34521849e+00 -4.54942814e-01 -4.18812419e+00\n",
      " -1.87770440e+00 -3.70838271e+00 -1.59899899e+00 -3.26143822e+00\n",
      " -4.17623614e+00 -6.67872053e+00 -1.23069039e+00 -3.14545964e+00\n",
      " -4.79863925e+00]\n"
     ]
    }
   ],
   "source": [
    "print(y_lr_test_pred)"
   ]
  },
  {
   "cell_type": "code",
   "execution_count": null,
   "id": "8f3801fc-f4ac-45e7-96d8-c58941e70d77",
   "metadata": {},
   "outputs": [],
   "source": []
  }
 ],
 "metadata": {
  "kernelspec": {
   "display_name": "Python 3 (ipykernel)",
   "language": "python",
   "name": "python3"
  },
  "language_info": {
   "codemirror_mode": {
    "name": "ipython",
    "version": 3
   },
   "file_extension": ".py",
   "mimetype": "text/x-python",
   "name": "python",
   "nbconvert_exporter": "python",
   "pygments_lexer": "ipython3",
   "version": "3.12.7"
  }
 },
 "nbformat": 4,
 "nbformat_minor": 5
}
